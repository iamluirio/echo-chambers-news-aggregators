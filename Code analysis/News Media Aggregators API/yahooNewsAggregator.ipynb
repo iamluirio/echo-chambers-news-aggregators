{
 "cells": [
  {
   "attachments": {},
   "cell_type": "markdown",
   "metadata": {},
   "source": [
    "https://developer.yahoo.com/oauth2/guide/flows_authcode/\n",
    "\n",
    "https://selenium-python.readthedocs.io/navigating.html#interacting-with-the-page"
   ]
  },
  {
   "attachments": {},
   "cell_type": "markdown",
   "metadata": {},
   "source": [
    "# Yahoo News Aggregator"
   ]
  },
  {
   "cell_type": "code",
   "execution_count": null,
   "metadata": {},
   "outputs": [],
   "source": [
    "import selenium\n",
    "\n",
    "from selenium import webdriver\n",
    "from selenium.webdriver.common.keys import Keys\n",
    "from selenium.webdriver.common.by import By"
   ]
  },
  {
   "cell_type": "code",
   "execution_count": null,
   "metadata": {},
   "outputs": [],
   "source": [
    "chrome_options = webdriver.ChromeOptions()\n",
    "chrome_options.binary_location = '/home/pierluigi//.local/share/flatpak/app/com.google.Chrome/x86_64/stable/1fe6a66f58297a21d2aa066000065ac0155a70f2e6a7d5628800432a9ce9f40d/files/extra'\n",
    "driver = webdriver.Chrome('/usr/local/bin/chromedriver', chrome_options=chrome_options)\n"
   ]
  }
 ],
 "metadata": {
  "kernelspec": {
   "display_name": "Python 3",
   "language": "python",
   "name": "python3"
  },
  "language_info": {
   "codemirror_mode": {
    "name": "ipython",
    "version": 3
   },
   "file_extension": ".py",
   "mimetype": "text/x-python",
   "name": "python",
   "nbconvert_exporter": "python",
   "pygments_lexer": "ipython3",
   "version": "3.10.6"
  },
  "orig_nbformat": 4
 },
 "nbformat": 4,
 "nbformat_minor": 2
}
