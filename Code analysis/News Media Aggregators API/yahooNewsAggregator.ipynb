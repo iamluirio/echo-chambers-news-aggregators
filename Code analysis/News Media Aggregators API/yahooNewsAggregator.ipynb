{
 "cells": [
  {
   "attachments": {},
   "cell_type": "markdown",
   "metadata": {},
   "source": [
    "https://developer.yahoo.com/oauth2/guide/flows_authcode/\n",
    "\n",
    "https://selenium-python.readthedocs.io/navigating.html#interacting-with-the-page"
   ]
  },
  {
   "attachments": {},
   "cell_type": "markdown",
   "metadata": {},
   "source": [
    "# Yahoo News Aggregator"
   ]
  },
  {
   "cell_type": "code",
   "execution_count": 32,
   "metadata": {},
   "outputs": [],
   "source": [
    "import selenium\n",
    "\n",
    "from selenium import webdriver\n",
    "from selenium.webdriver.common.keys import Keys\n",
    "from selenium.webdriver.common.by import By\n",
    "from selenium.webdriver.firefox.options import Options\n",
    "from selenium.common.exceptions import NoSuchElementException\n",
    "from selenium.webdriver.support.ui import WebDriverWait\n",
    "from selenium.webdriver.support import expected_conditions as EC\n",
    "from selenium.common.exceptions import TimeoutException\n",
    "from selenium.webdriver.common.by import By"
   ]
  },
  {
   "attachments": {},
   "cell_type": "markdown",
   "metadata": {},
   "source": [
    "- The find_element_by_id function searches for an HTML element that has an **id** attribute with the specified value. In HTML, the id attribute is used to uniquely identify an element within a document.\n",
    "\n",
    "- The find_element_by_name function searches for an HTML element that has a **name** attribute with the specified value."
   ]
  },
  {
   "cell_type": "code",
   "execution_count": 36,
   "metadata": {},
   "outputs": [],
   "source": [
    "# Create a new instance of the Firefox driver\n",
    "custom_options = Options()\n",
    "custom_options.set_preference('intl.accept_languages', 'et,en-US')  # Translating from Estonian to English language\n",
    "\n",
    "driver = webdriver.Firefox(options=custom_options)\n",
    "\n",
    "# navigate to the website\n",
    "driver.get('https://answers.yahoo.com/')\n",
    "\n",
    "# Wait for the consent popup to appear and accept it\n",
    "try:\n",
    "    popup = WebDriverWait(driver, 10).until(EC.presence_of_element_located((By.XPATH, \"//form[@class='consent-form']\")))\n",
    "    driver.execute_script(\"arguments[0].querySelector('button[name=agree]').click();\", popup)\n",
    "except:\n",
    "    print(\"No consent popup found\")\n",
    "\n",
    "\n",
    "\n"
   ]
  }
 ],
 "metadata": {
  "kernelspec": {
   "display_name": "Python 3",
   "language": "python",
   "name": "python3"
  },
  "language_info": {
   "codemirror_mode": {
    "name": "ipython",
    "version": 3
   },
   "file_extension": ".py",
   "mimetype": "text/x-python",
   "name": "python",
   "nbconvert_exporter": "python",
   "pygments_lexer": "ipython3",
   "version": "3.10.6"
  },
  "orig_nbformat": 4
 },
 "nbformat": 4,
 "nbformat_minor": 2
}
