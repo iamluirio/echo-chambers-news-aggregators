{
 "cells": [
  {
   "attachments": {},
   "cell_type": "markdown",
   "metadata": {},
   "source": [
    "1. create a news article.txt\n",
    "2. read this file by python\n",
    "3. paragraph to sentences\n",
    "4.  sentences to words #tokenize\n",
    "\n",
    "for all of the text things (point 3,4) use nltk library. "
   ]
  },
  {
   "cell_type": "code",
   "execution_count": 26,
   "metadata": {},
   "outputs": [
    {
     "name": "stderr",
     "output_type": "stream",
     "text": [
      "[nltk_data] Downloading package punkt to /home/pierluigi/nltk_data...\n",
      "[nltk_data]   Package punkt is already up-to-date!\n",
      "[nltk_data] Downloading package stopwords to\n",
      "[nltk_data]     /home/pierluigi/nltk_data...\n",
      "[nltk_data]   Package stopwords is already up-to-date!\n"
     ]
    }
   ],
   "source": [
    "import nltk\n",
    "nltk.download('punkt')\n",
    "nltk.download('stopwords')\n",
    "\n",
    "from nltk.corpus import stopwords\n",
    "from nltk.tokenize import word_tokenize, sent_tokenize"
   ]
  },
  {
   "attachments": {},
   "cell_type": "markdown",
   "metadata": {},
   "source": [
    "# Reading the .txt file and converting it into text"
   ]
  },
  {
   "cell_type": "code",
   "execution_count": 28,
   "metadata": {},
   "outputs": [
    {
     "name": "stdout",
     "output_type": "stream",
     "text": [
      "Republican presidential candidate Nikki Haley stepped into the hallway after speaking at the Conservative Political Action Conference on Friday to supporters asking for selfies and autographs — and, from others, a less friendly greeting.\n",
      "\n",
      "“We love Trump, we love Trump!” a crowd around her started chanting. Some Haley supporters shouted her name back as the former U.N. ambassador escaped with staff to an elevator.\n",
      "\n",
      "The dust-up showed the risks of taking the primary fight to what has clearly become Trump’s home turf. Though CPAC has long been seen as a big-tent forum for the conservative movement and a mandatory cattle call for presidential hopefuls, the annual conference has increasingly grown into a stomping ground for the 45th president and his “Make America Great Again” wing of the GOP. Trump will speak at the event Saturday.\n",
      "\n",
      "“Remember, you’re not at CPAC, you’re at TPAC,” John Fredericks, a pro-Trump talk radio host broadcasting from the sidelines here, said in an interview Wednesday. He said potential 2024 rivals opted to skip the conference rather than risk getting booed or losing the straw poll. “We own this thing, it’s ours,” he said. “No Trump, no CPAC.”\n",
      "\n",
      "This year’s lineup was heavy with Trump family members and acolytes — such as Lara Trump, Donald Trump Jr., former White House strategist Stephen K. Bannon, losing 2022 Arizona gubernatorial candidate Kari Lake, Sens. J.D. Vance (R-Ohio) and Ted Cruz (R-Tex.), and Reps. Marjorie Taylor Greene (R-Ga.), Lauren Boebert (R-Colo.) and Matt Gaetz (R-Fla.) — to the near-total exclusion of the party’s other voices.\n",
      "\n",
      "Florida Gov. Ron DeSantis, who polls show as Trump’s biggest competitor for the 2024 primary though he has not yet announced whether he is running, opted to spend the week far away at his own events promoting his new book.\n",
      "\n"
     ]
    }
   ],
   "source": [
    "# read input file\n",
    "filepath = input(\"/home/pierluigi/Documents/echo_chambers_intership/newsArticle.txt\")\n",
    "with open(filepath, 'r') as file:\n",
    "    article = file.read()\n",
    "\n",
    "# print the contents of the file\n",
    "print(article)\n"
   ]
  },
  {
   "attachments": {},
   "cell_type": "markdown",
   "metadata": {},
   "source": [
    "# Tokenization of Sentences"
   ]
  },
  {
   "cell_type": "code",
   "execution_count": 34,
   "metadata": {},
   "outputs": [
    {
     "name": "stdout",
     "output_type": "stream",
     "text": [
      "['Republican presidential candidate Nikki Haley stepped into the hallway after speaking at the Conservative Political Action Conference on Friday to supporters asking for selfies and autographs — and, from others, a less friendly greeting.', '“We love Trump, we love Trump!” a crowd around her started chanting.', 'Some Haley supporters shouted her name back as the former U.N. ambassador escaped with staff to an elevator.', 'The dust-up showed the risks of taking the primary fight to what has clearly become Trump’s home turf.', 'Though CPAC has long been seen as a big-tent forum for the conservative movement and a mandatory cattle call for presidential hopefuls, the annual conference has increasingly grown into a stomping ground for the 45th president and his “Make America Great Again” wing of the GOP.', 'Trump will speak at the event Saturday.', '“Remember, you’re not at CPAC, you’re at TPAC,” John Fredericks, a pro-Trump talk radio host broadcasting from the sidelines here, said in an interview Wednesday.', 'He said potential 2024 rivals opted to skip the conference rather than risk getting booed or losing the straw poll.', '“We own this thing, it’s ours,” he said.', '“No Trump, no CPAC.”\\n\\nThis year’s lineup was heavy with Trump family members and acolytes — such as Lara Trump, Donald Trump Jr., former White House strategist Stephen K. Bannon, losing 2022 Arizona gubernatorial candidate Kari Lake, Sens.', 'J.D.', 'Vance (R-Ohio) and Ted Cruz (R-Tex.', '), and Reps. Marjorie Taylor Greene (R-Ga.), Lauren Boebert (R-Colo.) and Matt Gaetz (R-Fla.) — to the near-total exclusion of the party’s other voices.', 'Florida Gov.', 'Ron DeSantis, who polls show as Trump’s biggest competitor for the 2024 primary though he has not yet announced whether he is running, opted to spend the week far away at his own events promoting his new book.']\n"
     ]
    }
   ],
   "source": [
    "# Tokenize the text into sentences\n",
    "sentences = sent_tokenize(text)\n",
    "print(sentences)\n"
   ]
  },
  {
   "attachments": {},
   "cell_type": "markdown",
   "metadata": {},
   "source": [
    "Another way to print sentences"
   ]
  },
  {
   "cell_type": "code",
   "execution_count": 30,
   "metadata": {},
   "outputs": [
    {
     "name": "stdout",
     "output_type": "stream",
     "text": [
      "Republican presidential candidate Nikki Haley stepped into the hallway after speaking at the Conservative Political Action Conference on Friday to supporters asking for selfies and autographs — and, from others, a less friendly greeting.\n",
      "“We love Trump, we love Trump!” a crowd around her started chanting.\n",
      "Some Haley supporters shouted her name back as the former U.N. ambassador escaped with staff to an elevator.\n",
      "The dust-up showed the risks of taking the primary fight to what has clearly become Trump’s home turf.\n",
      "Though CPAC has long been seen as a big-tent forum for the conservative movement and a mandatory cattle call for presidential hopefuls, the annual conference has increasingly grown into a stomping ground for the 45th president and his “Make America Great Again” wing of the GOP.\n",
      "Trump will speak at the event Saturday.\n",
      "“Remember, you’re not at CPAC, you’re at TPAC,” John Fredericks, a pro-Trump talk radio host broadcasting from the sidelines here, said in an interview Wednesday.\n",
      "He said potential 2024 rivals opted to skip the conference rather than risk getting booed or losing the straw poll.\n",
      "“We own this thing, it’s ours,” he said.\n",
      "“No Trump, no CPAC.”\n",
      "\n",
      "This year’s lineup was heavy with Trump family members and acolytes — such as Lara Trump, Donald Trump Jr., former White House strategist Stephen K. Bannon, losing 2022 Arizona gubernatorial candidate Kari Lake, Sens.\n",
      "J.D.\n",
      "Vance (R-Ohio) and Ted Cruz (R-Tex.\n",
      "), and Reps. Marjorie Taylor Greene (R-Ga.), Lauren Boebert (R-Colo.) and Matt Gaetz (R-Fla.) — to the near-total exclusion of the party’s other voices.\n",
      "Florida Gov.\n",
      "Ron DeSantis, who polls show as Trump’s biggest competitor for the 2024 primary though he has not yet announced whether he is running, opted to spend the week far away at his own events promoting his new book.\n"
     ]
    }
   ],
   "source": [
    "# Print out each sentence\n",
    "for sentence in sentences:\n",
    "    print(sentence)"
   ]
  },
  {
   "attachments": {},
   "cell_type": "markdown",
   "metadata": {},
   "source": [
    "# Tokenization of words"
   ]
  },
  {
   "cell_type": "code",
   "execution_count": 32,
   "metadata": {},
   "outputs": [
    {
     "name": "stdout",
     "output_type": "stream",
     "text": [
      "['Republican', 'presidential', 'candidate', 'Nikki', 'Haley', 'stepped', 'into', 'the', 'hallway', 'after', 'speaking', 'at', 'the', 'Conservative', 'Political', 'Action', 'Conference', 'on', 'Friday', 'to', 'supporters', 'asking', 'for', 'selfies', 'and', 'autographs', '—', 'and', ',', 'from', 'others', ',', 'a', 'less', 'friendly', 'greeting', '.']\n",
      "['“', 'We', 'love', 'Trump', ',', 'we', 'love', 'Trump', '!', '”', 'a', 'crowd', 'around', 'her', 'started', 'chanting', '.']\n",
      "['Some', 'Haley', 'supporters', 'shouted', 'her', 'name', 'back', 'as', 'the', 'former', 'U.N.', 'ambassador', 'escaped', 'with', 'staff', 'to', 'an', 'elevator', '.']\n",
      "['The', 'dust-up', 'showed', 'the', 'risks', 'of', 'taking', 'the', 'primary', 'fight', 'to', 'what', 'has', 'clearly', 'become', 'Trump', '’', 's', 'home', 'turf', '.']\n",
      "['Though', 'CPAC', 'has', 'long', 'been', 'seen', 'as', 'a', 'big-tent', 'forum', 'for', 'the', 'conservative', 'movement', 'and', 'a', 'mandatory', 'cattle', 'call', 'for', 'presidential', 'hopefuls', ',', 'the', 'annual', 'conference', 'has', 'increasingly', 'grown', 'into', 'a', 'stomping', 'ground', 'for', 'the', '45th', 'president', 'and', 'his', '“', 'Make', 'America', 'Great', 'Again', '”', 'wing', 'of', 'the', 'GOP', '.']\n",
      "['Trump', 'will', 'speak', 'at', 'the', 'event', 'Saturday', '.']\n",
      "['“', 'Remember', ',', 'you', '’', 're', 'not', 'at', 'CPAC', ',', 'you', '’', 're', 'at', 'TPAC', ',', '”', 'John', 'Fredericks', ',', 'a', 'pro-Trump', 'talk', 'radio', 'host', 'broadcasting', 'from', 'the', 'sidelines', 'here', ',', 'said', 'in', 'an', 'interview', 'Wednesday', '.']\n",
      "['He', 'said', 'potential', '2024', 'rivals', 'opted', 'to', 'skip', 'the', 'conference', 'rather', 'than', 'risk', 'getting', 'booed', 'or', 'losing', 'the', 'straw', 'poll', '.']\n",
      "['“', 'We', 'own', 'this', 'thing', ',', 'it', '’', 's', 'ours', ',', '”', 'he', 'said', '.']\n",
      "['“', 'No', 'Trump', ',', 'no', 'CPAC.', '”', 'This', 'year', '’', 's', 'lineup', 'was', 'heavy', 'with', 'Trump', 'family', 'members', 'and', 'acolytes', '—', 'such', 'as', 'Lara', 'Trump', ',', 'Donald', 'Trump', 'Jr.', ',', 'former', 'White', 'House', 'strategist', 'Stephen', 'K.', 'Bannon', ',', 'losing', '2022', 'Arizona', 'gubernatorial', 'candidate', 'Kari', 'Lake', ',', 'Sens', '.']\n",
      "['J.D', '.']\n",
      "['Vance', '(', 'R-Ohio', ')', 'and', 'Ted', 'Cruz', '(', 'R-Tex', '.']\n",
      "[')', ',', 'and', 'Reps.', 'Marjorie', 'Taylor', 'Greene', '(', 'R-Ga.', ')', ',', 'Lauren', 'Boebert', '(', 'R-Colo.', ')', 'and', 'Matt', 'Gaetz', '(', 'R-Fla.', ')', '—', 'to', 'the', 'near-total', 'exclusion', 'of', 'the', 'party', '’', 's', 'other', 'voices', '.']\n",
      "['Florida', 'Gov', '.']\n",
      "['Ron', 'DeSantis', ',', 'who', 'polls', 'show', 'as', 'Trump', '’', 's', 'biggest', 'competitor', 'for', 'the', '2024', 'primary', 'though', 'he', 'has', 'not', 'yet', 'announced', 'whether', 'he', 'is', 'running', ',', 'opted', 'to', 'spend', 'the', 'week', 'far', 'away', 'at', 'his', 'own', 'events', 'promoting', 'his', 'new', 'book', '.']\n"
     ]
    }
   ],
   "source": [
    "for i, sentence in enumerate(sentences):\n",
    "\n",
    "    # Tokenize the sentence into words\n",
    "    words = word_tokenize(sentence)\n",
    "\n",
    "    print(words)"
   ]
  },
  {
   "attachments": {},
   "cell_type": "markdown",
   "metadata": {},
   "source": [
    "1. Stop word removal\n",
    "2. lemmatization and stemming \n",
    "3. Sentiment analysis a) stanza library, b) vader, c) senti wordnet and d)mpqa"
   ]
  },
  {
   "attachments": {},
   "cell_type": "markdown",
   "metadata": {},
   "source": [
    "# Stop word removal"
   ]
  },
  {
   "cell_type": "code",
   "execution_count": 33,
   "metadata": {},
   "outputs": [
    {
     "name": "stdout",
     "output_type": "stream",
     "text": [
      "Sentence  1\n",
      "Filtered words: ['Republican', 'presidential', 'candidate', 'Nikki', 'Haley', 'stepped', 'hallway', 'speaking', 'Conservative', 'Political', 'Action', 'Conference', 'Friday', 'supporters', 'asking', 'selfies', 'autographs', '—', ',', 'others', ',', 'less', 'friendly', 'greeting', '.']\n",
      "Stop words identified: ['into', 'the', 'after', 'at', 'the', 'on', 'to', 'for', 'and', 'and', 'from', 'a']\n",
      "\n",
      "Sentence  2\n",
      "Filtered words: ['“', 'love', 'Trump', ',', 'love', 'Trump', '!', '”', 'crowd', 'around', 'started', 'chanting', '.']\n",
      "Stop words identified: ['We', 'we', 'a', 'her']\n",
      "\n",
      "Sentence  3\n",
      "Filtered words: ['Haley', 'supporters', 'shouted', 'name', 'back', 'former', 'U.N.', 'ambassador', 'escaped', 'staff', 'elevator', '.']\n",
      "Stop words identified: ['Some', 'her', 'as', 'the', 'with', 'to', 'an']\n",
      "\n",
      "Sentence  4\n",
      "Filtered words: ['dust-up', 'showed', 'risks', 'taking', 'primary', 'fight', 'clearly', 'become', 'Trump', '’', 'home', 'turf', '.']\n",
      "Stop words identified: ['The', 'the', 'of', 'the', 'to', 'what', 'has', 's']\n",
      "\n",
      "Sentence  5\n",
      "Filtered words: ['Though', 'CPAC', 'long', 'seen', 'big-tent', 'forum', 'conservative', 'movement', 'mandatory', 'cattle', 'call', 'presidential', 'hopefuls', ',', 'annual', 'conference', 'increasingly', 'grown', 'stomping', 'ground', '45th', 'president', '“', 'Make', 'America', 'Great', '”', 'wing', 'GOP', '.']\n",
      "Stop words identified: ['has', 'been', 'as', 'a', 'for', 'the', 'and', 'a', 'for', 'the', 'has', 'into', 'a', 'for', 'the', 'and', 'his', 'Again', 'of', 'the']\n",
      "\n",
      "Sentence  6\n",
      "Filtered words: ['Trump', 'speak', 'event', 'Saturday', '.']\n",
      "Stop words identified: ['will', 'at', 'the']\n",
      "\n",
      "Sentence  7\n",
      "Filtered words: ['“', 'Remember', ',', '’', 'CPAC', ',', '’', 'TPAC', ',', '”', 'John', 'Fredericks', ',', 'pro-Trump', 'talk', 'radio', 'host', 'broadcasting', 'sidelines', ',', 'said', 'interview', 'Wednesday', '.']\n",
      "Stop words identified: ['you', 're', 'not', 'at', 'you', 're', 'at', 'a', 'from', 'the', 'here', 'in', 'an']\n",
      "\n",
      "Sentence  8\n",
      "Filtered words: ['said', 'potential', '2024', 'rivals', 'opted', 'skip', 'conference', 'rather', 'risk', 'getting', 'booed', 'losing', 'straw', 'poll', '.']\n",
      "Stop words identified: ['He', 'to', 'the', 'than', 'or', 'the']\n",
      "\n",
      "Sentence  9\n",
      "Filtered words: ['“', 'thing', ',', '’', ',', '”', 'said', '.']\n",
      "Stop words identified: ['We', 'own', 'this', 'it', 's', 'ours', 'he']\n",
      "\n",
      "Sentence  10\n",
      "Filtered words: ['“', 'Trump', ',', 'CPAC.', '”', 'year', '’', 'lineup', 'heavy', 'Trump', 'family', 'members', 'acolytes', '—', 'Lara', 'Trump', ',', 'Donald', 'Trump', 'Jr.', ',', 'former', 'White', 'House', 'strategist', 'Stephen', 'K.', 'Bannon', ',', 'losing', '2022', 'Arizona', 'gubernatorial', 'candidate', 'Kari', 'Lake', ',', 'Sens', '.']\n",
      "Stop words identified: ['No', 'no', 'This', 's', 'was', 'with', 'and', 'such', 'as']\n",
      "\n",
      "Sentence  11\n",
      "Filtered words: ['J.D', '.']\n",
      "Stop words identified: []\n",
      "\n",
      "Sentence  12\n",
      "Filtered words: ['Vance', '(', 'R-Ohio', ')', 'Ted', 'Cruz', '(', 'R-Tex', '.']\n",
      "Stop words identified: ['and']\n",
      "\n",
      "Sentence  13\n",
      "Filtered words: [')', ',', 'Reps.', 'Marjorie', 'Taylor', 'Greene', '(', 'R-Ga.', ')', ',', 'Lauren', 'Boebert', '(', 'R-Colo.', ')', 'Matt', 'Gaetz', '(', 'R-Fla.', ')', '—', 'near-total', 'exclusion', 'party', '’', 'voices', '.']\n",
      "Stop words identified: ['and', 'and', 'to', 'the', 'of', 'the', 's', 'other']\n",
      "\n",
      "Sentence  14\n",
      "Filtered words: ['Florida', 'Gov', '.']\n",
      "Stop words identified: []\n",
      "\n",
      "Sentence  15\n",
      "Filtered words: ['Ron', 'DeSantis', ',', 'polls', 'show', 'Trump', '’', 'biggest', 'competitor', '2024', 'primary', 'though', 'yet', 'announced', 'whether', 'running', ',', 'opted', 'spend', 'week', 'far', 'away', 'events', 'promoting', 'new', 'book', '.']\n",
      "Stop words identified: ['who', 'as', 's', 'for', 'the', 'he', 'has', 'not', 'he', 'is', 'to', 'the', 'at', 'his', 'own', 'his']\n",
      "\n"
     ]
    }
   ],
   "source": [
    "for i, sentence in enumerate(sentences):\n",
    "    # Tokenize the sentence into words\n",
    "    words = word_tokenize(sentence)\n",
    "    \n",
    "    # Identify the stop words in the sentence\n",
    "    stop_words = set(stopwords.words('english'))\n",
    "    filtered_words = [word for word in words if word.lower() not in stop_words]\n",
    "    stop_words_found = [word for word in words if word.lower() in stop_words]\n",
    "    \n",
    "    # Print out the results for each sentence\n",
    "    print(\"Sentence \", i+1)\n",
    "    print(\"Filtered words:\", filtered_words)\n",
    "    print(\"Stop words identified:\", stop_words_found)\n",
    "    print()\n"
   ]
  },
  {
   "attachments": {},
   "cell_type": "markdown",
   "metadata": {},
   "source": [
    "# Pre process text"
   ]
  },
  {
   "cell_type": "code",
   "execution_count": 36,
   "metadata": {},
   "outputs": [],
   "source": [
    "def remove_stop_words(text):\n",
    "    # Tokenize the text into sentences\n",
    "    sentences = sent_tokenize(text)\n",
    "    \n",
    "    # Identify the stop words for each sentence\n",
    "    num_stop_words_per_sentence = []\n",
    "    stop_words_per_sentence = []\n",
    "    filtered_sentences = []\n",
    "    \n",
    "    for sentence in sentences:\n",
    "        # Tokenize the sentence into words\n",
    "        words = word_tokenize(sentence)\n",
    "        \n",
    "        # Identify the stop words in the sentence\n",
    "        stop_words = set(stopwords.words('english'))\n",
    "        filtered_words = [word for word in words if word.lower() not in stop_words]\n",
    "        stop_words_found = [word for word in words if word.lower() in stop_words]\n",
    "        \n",
    "        # Calculate statistics on the stop words for each sentence\n",
    "        num_stop_words_per_sentence.append(len(stop_words_found))\n",
    "        stop_words_per_sentence.append(stop_words_found)\n",
    "        \n",
    "        # Join the filtered words back into a sentence\n",
    "        filtered_sentence = \" \".join(filtered_words)\n",
    "        filtered_sentences.append(filtered_sentence)\n",
    "    \n",
    "    # Calculate statistics on the stop words for the entire text\n",
    "    num_stop_words = sum(num_stop_words_per_sentence)\n",
    "    num_words = sum(len(word_tokenize(sentence)) for sentence in sentences)\n",
    "    avg_stop_words_per_sentence = num_stop_words / len(sentences)\n",
    "    max_stop_words_per_sentence = max(num_stop_words_per_sentence)\n",
    "    min_stop_words_per_sentence = min(num_stop_words_per_sentence)\n",
    "    avg_stop_words_per_article = num_stop_words / num_words\n",
    "    \n",
    "    # Return the filtered sentences and statistics on the stop words\n",
    "    return {\n",
    "        \"filtered_sentences\": filtered_sentences,\n",
    "        \"num_stop_words\": num_stop_words,\n",
    "        \"avg_stop_words_per_sentence\": avg_stop_words_per_sentence,\n",
    "        \"max_stop_words_per_sentence\": max_stop_words_per_sentence,\n",
    "        \"min_stop_words_per_sentence\": min_stop_words_per_sentence,\n",
    "        \"avg_stop_words_per_article\": avg_stop_words_per_article,\n",
    "        \"stop_words_per_sentence\": stop_words_per_sentence\n",
    "    }"
   ]
  },
  {
   "cell_type": "code",
   "execution_count": 39,
   "metadata": {},
   "outputs": [
    {
     "name": "stdout",
     "output_type": "stream",
     "text": [
      "Filtered sentences:\n",
      "Republican presidential candidate Nikki Haley stepped hallway speaking Conservative Political Action Conference Friday supporters asking selfies autographs — , others , less friendly greeting .\n",
      "“ love Trump , love Trump ! ” crowd around started chanting .\n",
      "Haley supporters shouted name back former U.N. ambassador escaped staff elevator .\n",
      "dust-up showed risks taking primary fight clearly become Trump ’ home turf .\n",
      "Though CPAC long seen big-tent forum conservative movement mandatory cattle call presidential hopefuls , annual conference increasingly grown stomping ground 45th president “ Make America Great ” wing GOP .\n",
      "Trump speak event Saturday .\n",
      "“ Remember , ’ CPAC , ’ TPAC , ” John Fredericks , pro-Trump talk radio host broadcasting sidelines , said interview Wednesday .\n",
      "said potential 2024 rivals opted skip conference rather risk getting booed losing straw poll .\n",
      "“ thing , ’ , ” said .\n",
      "“ Trump , CPAC. ” year ’ lineup heavy Trump family members acolytes — Lara Trump , Donald Trump Jr. , former White House strategist Stephen K. Bannon , losing 2022 Arizona gubernatorial candidate Kari Lake , Sens .\n",
      "J.D .\n",
      "Vance ( R-Ohio ) Ted Cruz ( R-Tex .\n",
      ") , Reps. Marjorie Taylor Greene ( R-Ga. ) , Lauren Boebert ( R-Colo. ) Matt Gaetz ( R-Fla. ) — near-total exclusion party ’ voices .\n",
      "Florida Gov .\n",
      "Ron DeSantis , polls show Trump ’ biggest competitor 2024 primary though yet announced whether running , opted spend week far away events promoting new book .\n",
      "\n",
      "Statistics on stop words:\n",
      "Number of stop words: 114\n",
      "Average number of stop words per sentence: 7.6\n",
      "Maximum number of stop words per sentence: 20\n",
      "Minimum number of stop words per sentence: 0\n",
      "Average number of stop words per article: 0.3114754098360656\n"
     ]
    }
   ],
   "source": [
    "# Call the function to remove stop words and calculate statistics\n",
    "results = remove_stop_words(article)\n",
    "\n",
    "# Print out the filtered sentences and statistics\n",
    "print(\"Filtered sentences:\")\n",
    "for sentence in results[\"filtered_sentences\"]:\n",
    "    print(sentence)\n",
    "    \n",
    "print()\n",
    "print(\"Statistics on stop words:\")\n",
    "print(\"Number of stop words:\", results[\"num_stop_words\"])\n",
    "print(\"Average number of stop words per sentence:\", results[\"avg_stop_words_per_sentence\"])\n",
    "print(\"Maximum number of stop words per sentence:\", results[\"max_stop_words_per_sentence\"])\n",
    "print(\"Minimum number of stop words per sentence:\", results[\"min_stop_words_per_sentence\"])\n",
    "print(\"Average number of stop words per article:\", results[\"avg_stop_words_per_article\"])"
   ]
  }
 ],
 "metadata": {
  "kernelspec": {
   "display_name": "Python 3",
   "language": "python",
   "name": "python3"
  },
  "language_info": {
   "codemirror_mode": {
    "name": "ipython",
    "version": 3
   },
   "file_extension": ".py",
   "mimetype": "text/x-python",
   "name": "python",
   "nbconvert_exporter": "python",
   "pygments_lexer": "ipython3",
   "version": "3.10.6"
  },
  "orig_nbformat": 4
 },
 "nbformat": 4,
 "nbformat_minor": 2
}
