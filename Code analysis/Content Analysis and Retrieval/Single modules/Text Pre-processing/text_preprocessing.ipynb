{
 "cells": [
  {
   "cell_type": "markdown",
   "metadata": {},
   "source": [
    "# Text Extraction Approach"
   ]
  },
  {
   "cell_type": "markdown",
   "metadata": {},
   "source": [
    "Before delving into the analyses conducted, we need to focus our attention on a preliminary discussion concerning the panoramic vision of the process we have meticulously followed. This comprehensive task starts with the retrieval of physical links of news articles from the dataset, followed by the extraction of the textual content embedded within these links."
   ]
  },
  {
   "cell_type": "markdown",
   "metadata": {},
   "source": [
    "Central to our methodology is the exploration of different approaches to text preprocessing. Prior to directly examining the textual content, preprocessing serves as a pivotal step. It involves the systematic ”cleaning” of the text article, retaining only the essential components that contribute significantly to a correct analysis of the text. These components primarily include keywords and phrases that bear substantive relevance."
   ]
  },
  {
   "cell_type": "code",
   "execution_count": 30,
   "metadata": {},
   "outputs": [
    {
     "name": "stderr",
     "output_type": "stream",
     "text": [
      "[nltk_data] Downloading package punkt to /home/pierluigi/nltk_data...\n",
      "[nltk_data]   Package punkt is already up-to-date!\n",
      "[nltk_data] Downloading package stopwords to\n",
      "[nltk_data]     /home/pierluigi/nltk_data...\n",
      "[nltk_data]   Package stopwords is already up-to-date!\n",
      "[nltk_data] Downloading package wordnet to\n",
      "[nltk_data]     /home/pierluigi/nltk_data...\n",
      "[nltk_data]   Package wordnet is already up-to-date!\n",
      "[nltk_data] Downloading package vader_lexicon to\n",
      "[nltk_data]     /home/pierluigi/nltk_data...\n",
      "[nltk_data]   Package vader_lexicon is already up-to-date!\n",
      "[nltk_data] Downloading package sentiwordnet to\n",
      "[nltk_data]     /home/pierluigi/nltk_data...\n",
      "[nltk_data]   Package sentiwordnet is already up-to-date!\n"
     ]
    },
    {
     "data": {
      "application/vnd.jupyter.widget-view+json": {
       "model_id": "f77ebc9c6b19475589ee8def478951b6",
       "version_major": 2,
       "version_minor": 0
      },
      "text/plain": [
       "Downloading https://raw.githubusercontent.com/stanfordnlp/stanza-resources/main/resources_1.5.0.json:   0%|   …"
      ]
     },
     "metadata": {},
     "output_type": "display_data"
    },
    {
     "name": "stderr",
     "output_type": "stream",
     "text": [
      "2024-05-20 16:52:03 INFO: Downloading default packages for language: en (English) ...\n",
      "2024-05-20 16:52:05 INFO: File exists: /home/pierluigi/stanza_resources/en/default.zip\n",
      "2024-05-20 16:52:11 INFO: Finished downloading models and saved to /home/pierluigi/stanza_resources.\n"
     ]
    }
   ],
   "source": [
    "import nltk\n",
    "nltk.download('punkt')\n",
    "nltk.download('stopwords')\n",
    "nltk.download('wordnet')\n",
    "nltk.download('vader_lexicon')\n",
    "nltk.download('sentiwordnet')\n",
    "\n",
    "from nltk.corpus import stopwords\n",
    "from nltk.tokenize import word_tokenize, sent_tokenize\n",
    "from nltk.stem import PorterStemmer\n",
    "from nltk.corpus import sentiwordnet as swn\n",
    "from nltk.stem import WordNetLemmatizer\n",
    "\n",
    "from nltk.sentiment.vader import SentimentIntensityAnalyzer\n",
    "\n",
    "import stanza\n",
    "stanza.download('en')  # Download the English model\n",
    "\n",
    "import statistics\n",
    "import numpy as np\n",
    "import pandas as pd\n",
    "\n",
    "import re\n",
    "\n",
    "import requests\n",
    "from bs4 import BeautifulSoup\n",
    "\n",
    "import newspaper"
   ]
  },
  {
   "attachments": {},
   "cell_type": "markdown",
   "metadata": {},
   "source": [
    "## Converting a link into a string"
   ]
  },
  {
   "attachments": {},
   "cell_type": "markdown",
   "metadata": {},
   "source": [
    "We use the following script to convert an article into a string, which we will use for the tokenization of sentences and words, accordingly. \n",
    "This avoids saving the article in a .txt file every time."
   ]
  },
  {
   "cell_type": "code",
   "execution_count": 31,
   "metadata": {},
   "outputs": [],
   "source": [
    "url = \"https://www.foxnews.com/politics/republicans-respond-after-irs-whistleblower-says-hunter-biden-investigation-being-mishandled\""
   ]
  },
  {
   "cell_type": "code",
   "execution_count": 32,
   "metadata": {},
   "outputs": [],
   "source": [
    "def get_article_info(url):\n",
    "    # Create a newspaper Article object\n",
    "    article = newspaper.Article(url)\n",
    "\n",
    "    # Download and parse the article\n",
    "    article.download()\n",
    "    article.parse()\n",
    "\n",
    "    # Extract the title, subtitle, description, and main text\n",
    "    title = article.title.strip()\n",
    "    subtitle = article.meta_data.get(\"description\", \"\").strip()\n",
    "    description = article.meta_description.strip()\n",
    "    text = article.text.strip()\n",
    "\n",
    "    # Set the subtitle to the description if it is empty\n",
    "    if not subtitle:\n",
    "        subtitle = description.strip()\n",
    "\n",
    "    # Concatenate the extracted strings\n",
    "    article_text = f\"{title}\\n\\n{subtitle}\\n\\n{text}\"\n",
    "\n",
    "    # Return the concatenated string\n",
    "    return article_text"
   ]
  },
  {
   "cell_type": "code",
   "execution_count": 33,
   "metadata": {},
   "outputs": [
    {
     "name": "stdout",
     "output_type": "stream",
     "text": [
      "Republicans respond after IRS whistleblower says Hunter Biden investigation is being mishandled\n",
      "\n",
      "Members of Congress are calling for more transparency from the Biden administration after an IRS whistleblower said an investigation into Hunter Biden is being mishandled.\n",
      "\n",
      "Lawmakers on Capitol Hill are calling for the Biden administration to be held accountable for \"blocking\" Congress and the public from learning more about Biden family members’ business deals with China.\n",
      "\n",
      "The congressional outcries come as a whistleblower within the Internal Revenue Service alleges an investigation into Hunter Biden is being mishandled by the Biden administration. The whistleblower also alleges \"clear conflicts of interest\" in the investigation.\n",
      "\n",
      "\"It’s deeply concerning that the Biden Administration may be obstructing justice by blocking efforts to charge Hunter Biden for tax violations,\" House Committee on Oversight and Accountability Chairman James Comer told Fox News on Wednesday.\n",
      "\n",
      "Comer, R-Ky., also said \"deceptive, shady business schemes\" have allowed the Bidens to make \"millions from foreign adversaries like China.\"\n",
      "\n",
      "HUNTER BIDEN INVESTIGATION BEING MISHANDLED, 'CLEAR CONFLICTS OF INTEREST': IRS WHISTLEBLOWER\n",
      "\n",
      "\"The House Committee on Oversight and Accountability has been following the Bidens’ tangled web of complex corporate and financial records. It’s clear from our investigation that Hunter and other members of the Biden family engaged in deceptive, shady business schemes to avoid scrutiny as they made millions from foreign adversaries like China,\" he said. \"We’ve been wondering all along where the heck the DOJ and the IRS have been. Now it appears the Biden Administration may have been working overtime to prevent the Bidens from facing any consequences.\"\n",
      "\n",
      "Comer added, \"The House Oversight Committee will work to hold accountable anyone in the Biden Administration who may be covering up this criminal activity. The Oversight Committee will also continue to pursue our investigation into the Biden family’s business schemes to determine if President Biden and our national security are compromised. Americans demand answers, transparency, and accountability.\"\n",
      "\n",
      "President Biden’s son Hunter has been under federal investigation since 2018. The investigation concerns the presence of suspicious activity reports (SARs) regarding suspicious foreign transactions.\n",
      "\n",
      "It is being led by Delaware U.S. Attorney David Weiss.\n",
      "\n",
      "Across Congress, Sen. Ted Cruz on Wednesday called for Treasury Secretary Janet Yellen to publicly release the SARs found among the Biden family’s tax records.\n",
      "\n",
      "\"There’s no national security reason to keep them private,\" Cruz, R-Texas, said during an episode of his podcast. \"There’s no reason whatsoever other than if you want to be part of a political cover-up.\"\n",
      "\n",
      "SIX ADDITIONAL BIDEN FAMILY MEMBERS ‘MAY HAVE BENEFITED’ FROM HUNTER BUSINESS DEALINGS\n",
      "\n",
      "SARs alone do not indicate wrongdoing or criminal activity but could be an indicator of such behavior.\n",
      "\n",
      "\"The U.S. Department of Treasury needs to release every single suspicious activity report on the Biden family,\" Cruz said on Wednesday. \"Janet Yellen, you have a choice: You are either actively covering up potential evidence of corruption or releasing every one of them to the American people.\"\n",
      "\n",
      "According to Cruz, the American public should be privy to learning whether the presidential family is guilty of fraud or other abuses of office — or if he is innocent.\n",
      "\n",
      "BIDEN FAMILY RECEIVED MORE THAN $1M FROM HUNTER ASSOCIATE AFTER 2017 CHINA WIRE: HOUSE OVERSIGHT\n",
      "\n",
      "The Texas Republican said the Biden administration should \"let the American people decide\" if criminal activity was conducted. He added, \"If this is benign, release the reports.\"\n",
      "\n",
      "\"Secretary Yellen, release every single suspicious activity report on the Biden family,\" Cruz said. He continued. \"If she doesn’t release those reports, she is complicit in the cover-up.\"\n",
      "\n",
      "In a letter dated April 19, 2023, attorney Mark D. Lytle told members of Congress that a client of his has been overseeing the \"ongoing and sensitive investigation of a high-profile, controversial subject since early 2020 and would like to make protected whistleblower disclosures to Congress.\"\n",
      "\n",
      "And that the client is allegedly aware of facts of the case that \"contradict sworn testimony to Congress by a senior political appointee.\"\n",
      "\n",
      "CLICK HERE TO GET THE FOX NEWS APP\n",
      "\n",
      "Lytle works for the Washington, D.C.,-based law firm Nixon Peabody LLP.\n",
      "\n",
      "Neither Hunter Biden nor any member of his family has been charged with a crime relating to the SARs.\n",
      "\n",
      "Fox News' Patrick Ward, Greg Wehner contributed to this report.\n"
     ]
    }
   ],
   "source": [
    "article = get_article_info(url)\n",
    "print(article)"
   ]
  },
  {
   "attachments": {},
   "cell_type": "markdown",
   "metadata": {},
   "source": [
    "## Tokenization of Sentences"
   ]
  },
  {
   "cell_type": "markdown",
   "metadata": {},
   "source": [
    "Tokenization is a fundamental pre-processing step in Natural Language Pro- cessing (NLP) that involves breaking down a text into smaller units, typically words, phrases, or symbols. In the context of sentence tokenization, the process involves segmenting a text document into individual sentences based on certain rules or patterns."
   ]
  },
  {
   "cell_type": "markdown",
   "metadata": {},
   "source": [
    "During tokenization, a text document is scanned, and boundaries between sentences are identified based on punctuation marks like periods, exclamation marks, or question marks. Each identified sentence is then treated as a separate unit or token, enabling subsequent analysis to be performed on a sentence-by-sentence basis."
   ]
  },
  {
   "cell_type": "code",
   "execution_count": 34,
   "metadata": {},
   "outputs": [
    {
     "name": "stdout",
     "output_type": "stream",
     "text": [
      "['Republicans respond after IRS whistleblower says Hunter Biden investigation is being mishandled\\n\\nMembers of Congress are calling for more transparency from the Biden administration after an IRS whistleblower said an investigation into Hunter Biden is being mishandled.', 'Lawmakers on Capitol Hill are calling for the Biden administration to be held accountable for \"blocking\" Congress and the public from learning more about Biden family members’ business deals with China.', 'The congressional outcries come as a whistleblower within the Internal Revenue Service alleges an investigation into Hunter Biden is being mishandled by the Biden administration.', 'The whistleblower also alleges \"clear conflicts of interest\" in the investigation.', '\"It’s deeply concerning that the Biden Administration may be obstructing justice by blocking efforts to charge Hunter Biden for tax violations,\" House Committee on Oversight and Accountability Chairman James Comer told Fox News on Wednesday.', 'Comer, R-Ky., also said \"deceptive, shady business schemes\" have allowed the Bidens to make \"millions from foreign adversaries like China.\"', 'HUNTER BIDEN INVESTIGATION BEING MISHANDLED, \\'CLEAR CONFLICTS OF INTEREST\\': IRS WHISTLEBLOWER\\n\\n\"The House Committee on Oversight and Accountability has been following the Bidens’ tangled web of complex corporate and financial records.', 'It’s clear from our investigation that Hunter and other members of the Biden family engaged in deceptive, shady business schemes to avoid scrutiny as they made millions from foreign adversaries like China,\" he said.', '\"We’ve been wondering all along where the heck the DOJ and the IRS have been.', 'Now it appears the Biden Administration may have been working overtime to prevent the Bidens from facing any consequences.\"', 'Comer added, \"The House Oversight Committee will work to hold accountable anyone in the Biden Administration who may be covering up this criminal activity.', 'The Oversight Committee will also continue to pursue our investigation into the Biden family’s business schemes to determine if President Biden and our national security are compromised.', 'Americans demand answers, transparency, and accountability.\"', 'President Biden’s son Hunter has been under federal investigation since 2018.', 'The investigation concerns the presence of suspicious activity reports (SARs) regarding suspicious foreign transactions.', 'It is being led by Delaware U.S. Attorney David Weiss.', 'Across Congress, Sen. Ted Cruz on Wednesday called for Treasury Secretary Janet Yellen to publicly release the SARs found among the Biden family’s tax records.', '\"There’s no national security reason to keep them private,\" Cruz, R-Texas, said during an episode of his podcast.', '\"There’s no reason whatsoever other than if you want to be part of a political cover-up.\"', 'SIX ADDITIONAL BIDEN FAMILY MEMBERS ‘MAY HAVE BENEFITED’ FROM HUNTER BUSINESS DEALINGS\\n\\nSARs alone do not indicate wrongdoing or criminal activity but could be an indicator of such behavior.', '\"The U.S. Department of Treasury needs to release every single suspicious activity report on the Biden family,\" Cruz said on Wednesday.', '\"Janet Yellen, you have a choice: You are either actively covering up potential evidence of corruption or releasing every one of them to the American people.\"', 'According to Cruz, the American public should be privy to learning whether the presidential family is guilty of fraud or other abuses of office — or if he is innocent.', 'BIDEN FAMILY RECEIVED MORE THAN $1M FROM HUNTER ASSOCIATE AFTER 2017 CHINA WIRE: HOUSE OVERSIGHT\\n\\nThe Texas Republican said the Biden administration should \"let the American people decide\" if criminal activity was conducted.', 'He added, \"If this is benign, release the reports.\"', '\"Secretary Yellen, release every single suspicious activity report on the Biden family,\" Cruz said.', 'He continued.', '\"If she doesn’t release those reports, she is complicit in the cover-up.\"', 'In a letter dated April 19, 2023, attorney Mark D. Lytle told members of Congress that a client of his has been overseeing the \"ongoing and sensitive investigation of a high-profile, controversial subject since early 2020 and would like to make protected whistleblower disclosures to Congress.\"', 'And that the client is allegedly aware of facts of the case that \"contradict sworn testimony to Congress by a senior political appointee.\"', 'CLICK HERE TO GET THE FOX NEWS APP\\n\\nLytle works for the Washington, D.C.,-based law firm Nixon Peabody LLP.', 'Neither Hunter Biden nor any member of his family has been charged with a crime relating to the SARs.', \"Fox News' Patrick Ward, Greg Wehner contributed to this report.\"]\n"
     ]
    }
   ],
   "source": [
    "# Tokenize the text into sentences\n",
    "sentences = sent_tokenize(article)\n",
    "print(sentences)"
   ]
  },
  {
   "attachments": {},
   "cell_type": "markdown",
   "metadata": {},
   "source": [
    "Another way to print sentences:"
   ]
  },
  {
   "cell_type": "code",
   "execution_count": 35,
   "metadata": {},
   "outputs": [
    {
     "name": "stdout",
     "output_type": "stream",
     "text": [
      "Republicans respond after IRS whistleblower says Hunter Biden investigation is being mishandled\n",
      "\n",
      "Members of Congress are calling for more transparency from the Biden administration after an IRS whistleblower said an investigation into Hunter Biden is being mishandled.\n",
      "Lawmakers on Capitol Hill are calling for the Biden administration to be held accountable for \"blocking\" Congress and the public from learning more about Biden family members’ business deals with China.\n",
      "The congressional outcries come as a whistleblower within the Internal Revenue Service alleges an investigation into Hunter Biden is being mishandled by the Biden administration.\n",
      "The whistleblower also alleges \"clear conflicts of interest\" in the investigation.\n",
      "\"It’s deeply concerning that the Biden Administration may be obstructing justice by blocking efforts to charge Hunter Biden for tax violations,\" House Committee on Oversight and Accountability Chairman James Comer told Fox News on Wednesday.\n",
      "Comer, R-Ky., also said \"deceptive, shady business schemes\" have allowed the Bidens to make \"millions from foreign adversaries like China.\"\n",
      "HUNTER BIDEN INVESTIGATION BEING MISHANDLED, 'CLEAR CONFLICTS OF INTEREST': IRS WHISTLEBLOWER\n",
      "\n",
      "\"The House Committee on Oversight and Accountability has been following the Bidens’ tangled web of complex corporate and financial records.\n",
      "It’s clear from our investigation that Hunter and other members of the Biden family engaged in deceptive, shady business schemes to avoid scrutiny as they made millions from foreign adversaries like China,\" he said.\n",
      "\"We’ve been wondering all along where the heck the DOJ and the IRS have been.\n",
      "Now it appears the Biden Administration may have been working overtime to prevent the Bidens from facing any consequences.\"\n",
      "Comer added, \"The House Oversight Committee will work to hold accountable anyone in the Biden Administration who may be covering up this criminal activity.\n",
      "The Oversight Committee will also continue to pursue our investigation into the Biden family’s business schemes to determine if President Biden and our national security are compromised.\n",
      "Americans demand answers, transparency, and accountability.\"\n",
      "President Biden’s son Hunter has been under federal investigation since 2018.\n",
      "The investigation concerns the presence of suspicious activity reports (SARs) regarding suspicious foreign transactions.\n",
      "It is being led by Delaware U.S. Attorney David Weiss.\n",
      "Across Congress, Sen. Ted Cruz on Wednesday called for Treasury Secretary Janet Yellen to publicly release the SARs found among the Biden family’s tax records.\n",
      "\"There’s no national security reason to keep them private,\" Cruz, R-Texas, said during an episode of his podcast.\n",
      "\"There’s no reason whatsoever other than if you want to be part of a political cover-up.\"\n",
      "SIX ADDITIONAL BIDEN FAMILY MEMBERS ‘MAY HAVE BENEFITED’ FROM HUNTER BUSINESS DEALINGS\n",
      "\n",
      "SARs alone do not indicate wrongdoing or criminal activity but could be an indicator of such behavior.\n",
      "\"The U.S. Department of Treasury needs to release every single suspicious activity report on the Biden family,\" Cruz said on Wednesday.\n",
      "\"Janet Yellen, you have a choice: You are either actively covering up potential evidence of corruption or releasing every one of them to the American people.\"\n",
      "According to Cruz, the American public should be privy to learning whether the presidential family is guilty of fraud or other abuses of office — or if he is innocent.\n",
      "BIDEN FAMILY RECEIVED MORE THAN $1M FROM HUNTER ASSOCIATE AFTER 2017 CHINA WIRE: HOUSE OVERSIGHT\n",
      "\n",
      "The Texas Republican said the Biden administration should \"let the American people decide\" if criminal activity was conducted.\n",
      "He added, \"If this is benign, release the reports.\"\n",
      "\"Secretary Yellen, release every single suspicious activity report on the Biden family,\" Cruz said.\n",
      "He continued.\n",
      "\"If she doesn’t release those reports, she is complicit in the cover-up.\"\n",
      "In a letter dated April 19, 2023, attorney Mark D. Lytle told members of Congress that a client of his has been overseeing the \"ongoing and sensitive investigation of a high-profile, controversial subject since early 2020 and would like to make protected whistleblower disclosures to Congress.\"\n",
      "And that the client is allegedly aware of facts of the case that \"contradict sworn testimony to Congress by a senior political appointee.\"\n",
      "CLICK HERE TO GET THE FOX NEWS APP\n",
      "\n",
      "Lytle works for the Washington, D.C.,-based law firm Nixon Peabody LLP.\n",
      "Neither Hunter Biden nor any member of his family has been charged with a crime relating to the SARs.\n",
      "Fox News' Patrick Ward, Greg Wehner contributed to this report.\n"
     ]
    }
   ],
   "source": [
    "# Print out each sentence\n",
    "for sentence in sentences:\n",
    "    print(sentence)"
   ]
  },
  {
   "attachments": {},
   "cell_type": "markdown",
   "metadata": {},
   "source": [
    "## Tokenization of Words and Stop Words Removal"
   ]
  },
  {
   "cell_type": "markdown",
   "metadata": {},
   "source": [
    "Once we split the different sentences, and within the sentences obtained the individual tokens corresponding to each word and punctuation mark, we continue by applying a stop word removal operation. It consists in a crucial\n",
    "step that involves the elimination of common words, known as stop words, from a given text. Stop words, such as ”the,” ”and,” and ”of,” are frequently occurring words in a language that generally do not contribute significant meaning to the context of a document."
   ]
  },
  {
   "cell_type": "markdown",
   "metadata": {},
   "source": [
    "By discarding stop words, the analysis focuses on the more meaningful and content-rich words, allowing for a more accurate understanding of the text’s underlying themes, sentiment, and key topics."
   ]
  },
  {
   "cell_type": "code",
   "execution_count": 36,
   "metadata": {},
   "outputs": [
    {
     "name": "stdout",
     "output_type": "stream",
     "text": [
      "['Republicans', 'respond', 'after', 'IRS', 'whistleblower', 'says', 'Hunter', 'Biden', 'investigation', 'is', 'being', 'mishandled', 'Members', 'of', 'Congress', 'are', 'calling', 'for', 'more', 'transparency', 'from', 'the', 'Biden', 'administration', 'after', 'an', 'IRS', 'whistleblower', 'said', 'an', 'investigation', 'into', 'Hunter', 'Biden', 'is', 'being', 'mishandled', '.']\n",
      "['Lawmakers', 'on', 'Capitol', 'Hill', 'are', 'calling', 'for', 'the', 'Biden', 'administration', 'to', 'be', 'held', 'accountable', 'for', '``', 'blocking', \"''\", 'Congress', 'and', 'the', 'public', 'from', 'learning', 'more', 'about', 'Biden', 'family', 'members', '’', 'business', 'deals', 'with', 'China', '.']\n",
      "['The', 'congressional', 'outcries', 'come', 'as', 'a', 'whistleblower', 'within', 'the', 'Internal', 'Revenue', 'Service', 'alleges', 'an', 'investigation', 'into', 'Hunter', 'Biden', 'is', 'being', 'mishandled', 'by', 'the', 'Biden', 'administration', '.']\n",
      "['The', 'whistleblower', 'also', 'alleges', '``', 'clear', 'conflicts', 'of', 'interest', \"''\", 'in', 'the', 'investigation', '.']\n",
      "['``', 'It', '’', 's', 'deeply', 'concerning', 'that', 'the', 'Biden', 'Administration', 'may', 'be', 'obstructing', 'justice', 'by', 'blocking', 'efforts', 'to', 'charge', 'Hunter', 'Biden', 'for', 'tax', 'violations', ',', \"''\", 'House', 'Committee', 'on', 'Oversight', 'and', 'Accountability', 'Chairman', 'James', 'Comer', 'told', 'Fox', 'News', 'on', 'Wednesday', '.']\n",
      "['Comer', ',', 'R-Ky.', ',', 'also', 'said', '``', 'deceptive', ',', 'shady', 'business', 'schemes', \"''\", 'have', 'allowed', 'the', 'Bidens', 'to', 'make', '``', 'millions', 'from', 'foreign', 'adversaries', 'like', 'China', '.', \"''\"]\n",
      "['HUNTER', 'BIDEN', 'INVESTIGATION', 'BEING', 'MISHANDLED', ',', \"'CLEAR\", 'CONFLICTS', 'OF', 'INTEREST', \"'\", ':', 'IRS', 'WHISTLEBLOWER', \"''\", 'The', 'House', 'Committee', 'on', 'Oversight', 'and', 'Accountability', 'has', 'been', 'following', 'the', 'Bidens', '’', 'tangled', 'web', 'of', 'complex', 'corporate', 'and', 'financial', 'records', '.']\n",
      "['It', '’', 's', 'clear', 'from', 'our', 'investigation', 'that', 'Hunter', 'and', 'other', 'members', 'of', 'the', 'Biden', 'family', 'engaged', 'in', 'deceptive', ',', 'shady', 'business', 'schemes', 'to', 'avoid', 'scrutiny', 'as', 'they', 'made', 'millions', 'from', 'foreign', 'adversaries', 'like', 'China', ',', \"''\", 'he', 'said', '.']\n",
      "['``', 'We', '’', 've', 'been', 'wondering', 'all', 'along', 'where', 'the', 'heck', 'the', 'DOJ', 'and', 'the', 'IRS', 'have', 'been', '.']\n",
      "['Now', 'it', 'appears', 'the', 'Biden', 'Administration', 'may', 'have', 'been', 'working', 'overtime', 'to', 'prevent', 'the', 'Bidens', 'from', 'facing', 'any', 'consequences', '.', \"''\"]\n",
      "['Comer', 'added', ',', '``', 'The', 'House', 'Oversight', 'Committee', 'will', 'work', 'to', 'hold', 'accountable', 'anyone', 'in', 'the', 'Biden', 'Administration', 'who', 'may', 'be', 'covering', 'up', 'this', 'criminal', 'activity', '.']\n",
      "['The', 'Oversight', 'Committee', 'will', 'also', 'continue', 'to', 'pursue', 'our', 'investigation', 'into', 'the', 'Biden', 'family', '’', 's', 'business', 'schemes', 'to', 'determine', 'if', 'President', 'Biden', 'and', 'our', 'national', 'security', 'are', 'compromised', '.']\n",
      "['Americans', 'demand', 'answers', ',', 'transparency', ',', 'and', 'accountability', '.', \"''\"]\n",
      "['President', 'Biden', '’', 's', 'son', 'Hunter', 'has', 'been', 'under', 'federal', 'investigation', 'since', '2018', '.']\n",
      "['The', 'investigation', 'concerns', 'the', 'presence', 'of', 'suspicious', 'activity', 'reports', '(', 'SARs', ')', 'regarding', 'suspicious', 'foreign', 'transactions', '.']\n",
      "['It', 'is', 'being', 'led', 'by', 'Delaware', 'U.S.', 'Attorney', 'David', 'Weiss', '.']\n",
      "['Across', 'Congress', ',', 'Sen.', 'Ted', 'Cruz', 'on', 'Wednesday', 'called', 'for', 'Treasury', 'Secretary', 'Janet', 'Yellen', 'to', 'publicly', 'release', 'the', 'SARs', 'found', 'among', 'the', 'Biden', 'family', '’', 's', 'tax', 'records', '.']\n",
      "['``', 'There', '’', 's', 'no', 'national', 'security', 'reason', 'to', 'keep', 'them', 'private', ',', \"''\", 'Cruz', ',', 'R-Texas', ',', 'said', 'during', 'an', 'episode', 'of', 'his', 'podcast', '.']\n",
      "['``', 'There', '’', 's', 'no', 'reason', 'whatsoever', 'other', 'than', 'if', 'you', 'want', 'to', 'be', 'part', 'of', 'a', 'political', 'cover-up', '.', \"''\"]\n",
      "['SIX', 'ADDITIONAL', 'BIDEN', 'FAMILY', 'MEMBERS', '‘', 'MAY', 'HAVE', 'BENEFITED', '’', 'FROM', 'HUNTER', 'BUSINESS', 'DEALINGS', 'SARs', 'alone', 'do', 'not', 'indicate', 'wrongdoing', 'or', 'criminal', 'activity', 'but', 'could', 'be', 'an', 'indicator', 'of', 'such', 'behavior', '.']\n",
      "['``', 'The', 'U.S.', 'Department', 'of', 'Treasury', 'needs', 'to', 'release', 'every', 'single', 'suspicious', 'activity', 'report', 'on', 'the', 'Biden', 'family', ',', \"''\", 'Cruz', 'said', 'on', 'Wednesday', '.']\n",
      "['``', 'Janet', 'Yellen', ',', 'you', 'have', 'a', 'choice', ':', 'You', 'are', 'either', 'actively', 'covering', 'up', 'potential', 'evidence', 'of', 'corruption', 'or', 'releasing', 'every', 'one', 'of', 'them', 'to', 'the', 'American', 'people', '.', \"''\"]\n",
      "['According', 'to', 'Cruz', ',', 'the', 'American', 'public', 'should', 'be', 'privy', 'to', 'learning', 'whether', 'the', 'presidential', 'family', 'is', 'guilty', 'of', 'fraud', 'or', 'other', 'abuses', 'of', 'office', '—', 'or', 'if', 'he', 'is', 'innocent', '.']\n",
      "['BIDEN', 'FAMILY', 'RECEIVED', 'MORE', 'THAN', '$', '1M', 'FROM', 'HUNTER', 'ASSOCIATE', 'AFTER', '2017', 'CHINA', 'WIRE', ':', 'HOUSE', 'OVERSIGHT', 'The', 'Texas', 'Republican', 'said', 'the', 'Biden', 'administration', 'should', '``', 'let', 'the', 'American', 'people', 'decide', \"''\", 'if', 'criminal', 'activity', 'was', 'conducted', '.']\n",
      "['He', 'added', ',', '``', 'If', 'this', 'is', 'benign', ',', 'release', 'the', 'reports', '.', \"''\"]\n",
      "['``', 'Secretary', 'Yellen', ',', 'release', 'every', 'single', 'suspicious', 'activity', 'report', 'on', 'the', 'Biden', 'family', ',', \"''\", 'Cruz', 'said', '.']\n",
      "['He', 'continued', '.']\n",
      "['``', 'If', 'she', 'doesn', '’', 't', 'release', 'those', 'reports', ',', 'she', 'is', 'complicit', 'in', 'the', 'cover-up', '.', \"''\"]\n",
      "['In', 'a', 'letter', 'dated', 'April', '19', ',', '2023', ',', 'attorney', 'Mark', 'D.', 'Lytle', 'told', 'members', 'of', 'Congress', 'that', 'a', 'client', 'of', 'his', 'has', 'been', 'overseeing', 'the', '``', 'ongoing', 'and', 'sensitive', 'investigation', 'of', 'a', 'high-profile', ',', 'controversial', 'subject', 'since', 'early', '2020', 'and', 'would', 'like', 'to', 'make', 'protected', 'whistleblower', 'disclosures', 'to', 'Congress', '.', \"''\"]\n",
      "['And', 'that', 'the', 'client', 'is', 'allegedly', 'aware', 'of', 'facts', 'of', 'the', 'case', 'that', '``', 'contradict', 'sworn', 'testimony', 'to', 'Congress', 'by', 'a', 'senior', 'political', 'appointee', '.', \"''\"]\n",
      "['CLICK', 'HERE', 'TO', 'GET', 'THE', 'FOX', 'NEWS', 'APP', 'Lytle', 'works', 'for', 'the', 'Washington', ',', 'D.C.', ',', '-based', 'law', 'firm', 'Nixon', 'Peabody', 'LLP', '.']\n",
      "['Neither', 'Hunter', 'Biden', 'nor', 'any', 'member', 'of', 'his', 'family', 'has', 'been', 'charged', 'with', 'a', 'crime', 'relating', 'to', 'the', 'SARs', '.']\n",
      "['Fox', 'News', \"'\", 'Patrick', 'Ward', ',', 'Greg', 'Wehner', 'contributed', 'to', 'this', 'report', '.']\n"
     ]
    }
   ],
   "source": [
    "for i, sentence in enumerate(sentences):\n",
    "\n",
    "    # Tokenize the sentence into words\n",
    "    words = word_tokenize(sentence)\n",
    "\n",
    "    print(words)"
   ]
  },
  {
   "attachments": {},
   "cell_type": "markdown",
   "metadata": {},
   "source": [
    "## Stop Words Removal"
   ]
  },
  {
   "cell_type": "code",
   "execution_count": 37,
   "metadata": {},
   "outputs": [
    {
     "name": "stdout",
     "output_type": "stream",
     "text": [
      "Sentence  1\n",
      "Total words: 38\n",
      "Filtered words: ['Republicans', 'respond', 'IRS', 'whistleblower', 'says', 'Hunter', 'Biden', 'investigation', 'mishandled', 'Members', 'Congress', 'calling', 'transparency', 'Biden', 'administration', 'IRS', 'whistleblower', 'said', 'investigation', 'Hunter', 'Biden', 'mishandled', '.']\n",
      "Number of filtered words: 23\n",
      "Stop words identified: ['after', 'is', 'being', 'of', 'are', 'for', 'more', 'from', 'the', 'after', 'an', 'an', 'into', 'is', 'being']\n",
      "Number of stop words identified: 15\n",
      "\n",
      "Sentence  2\n",
      "Total words: 35\n",
      "Filtered words: ['Lawmakers', 'Capitol', 'Hill', 'calling', 'Biden', 'administration', 'held', 'accountable', '``', 'blocking', \"''\", 'Congress', 'public', 'learning', 'Biden', 'family', 'members', '’', 'business', 'deals', 'China', '.']\n",
      "Number of filtered words: 22\n",
      "Stop words identified: ['on', 'are', 'for', 'the', 'to', 'be', 'for', 'and', 'the', 'from', 'more', 'about', 'with']\n",
      "Number of stop words identified: 13\n",
      "\n",
      "Sentence  3\n",
      "Total words: 26\n",
      "Filtered words: ['congressional', 'outcries', 'come', 'whistleblower', 'within', 'Internal', 'Revenue', 'Service', 'alleges', 'investigation', 'Hunter', 'Biden', 'mishandled', 'Biden', 'administration', '.']\n",
      "Number of filtered words: 16\n",
      "Stop words identified: ['The', 'as', 'a', 'the', 'an', 'into', 'is', 'being', 'by', 'the']\n",
      "Number of stop words identified: 10\n",
      "\n",
      "Sentence  4\n",
      "Total words: 14\n",
      "Filtered words: ['whistleblower', 'also', 'alleges', '``', 'clear', 'conflicts', 'interest', \"''\", 'investigation', '.']\n",
      "Number of filtered words: 10\n",
      "Stop words identified: ['The', 'of', 'in', 'the']\n",
      "Number of stop words identified: 4\n",
      "\n",
      "Sentence  5\n",
      "Total words: 41\n",
      "Filtered words: ['``', '’', 'deeply', 'concerning', 'Biden', 'Administration', 'may', 'obstructing', 'justice', 'blocking', 'efforts', 'charge', 'Hunter', 'Biden', 'tax', 'violations', ',', \"''\", 'House', 'Committee', 'Oversight', 'Accountability', 'Chairman', 'James', 'Comer', 'told', 'Fox', 'News', 'Wednesday', '.']\n",
      "Number of filtered words: 30\n",
      "Stop words identified: ['It', 's', 'that', 'the', 'be', 'by', 'to', 'for', 'on', 'and', 'on']\n",
      "Number of stop words identified: 11\n",
      "\n",
      "Sentence  6\n",
      "Total words: 28\n",
      "Filtered words: ['Comer', ',', 'R-Ky.', ',', 'also', 'said', '``', 'deceptive', ',', 'shady', 'business', 'schemes', \"''\", 'allowed', 'Bidens', 'make', '``', 'millions', 'foreign', 'adversaries', 'like', 'China', '.', \"''\"]\n",
      "Number of filtered words: 24\n",
      "Stop words identified: ['have', 'the', 'to', 'from']\n",
      "Number of stop words identified: 4\n",
      "\n",
      "Sentence  7\n",
      "Total words: 37\n",
      "Filtered words: ['HUNTER', 'BIDEN', 'INVESTIGATION', 'MISHANDLED', ',', \"'CLEAR\", 'CONFLICTS', 'INTEREST', \"'\", ':', 'IRS', 'WHISTLEBLOWER', \"''\", 'House', 'Committee', 'Oversight', 'Accountability', 'following', 'Bidens', '’', 'tangled', 'web', 'complex', 'corporate', 'financial', 'records', '.']\n",
      "Number of filtered words: 27\n",
      "Stop words identified: ['BEING', 'OF', 'The', 'on', 'and', 'has', 'been', 'the', 'of', 'and']\n",
      "Number of stop words identified: 10\n",
      "\n",
      "Sentence  8\n",
      "Total words: 40\n",
      "Filtered words: ['’', 'clear', 'investigation', 'Hunter', 'members', 'Biden', 'family', 'engaged', 'deceptive', ',', 'shady', 'business', 'schemes', 'avoid', 'scrutiny', 'made', 'millions', 'foreign', 'adversaries', 'like', 'China', ',', \"''\", 'said', '.']\n",
      "Number of filtered words: 25\n",
      "Stop words identified: ['It', 's', 'from', 'our', 'that', 'and', 'other', 'of', 'the', 'in', 'to', 'as', 'they', 'from', 'he']\n",
      "Number of stop words identified: 15\n",
      "\n",
      "Sentence  9\n",
      "Total words: 19\n",
      "Filtered words: ['``', '’', 'wondering', 'along', 'heck', 'DOJ', 'IRS', '.']\n",
      "Number of filtered words: 8\n",
      "Stop words identified: ['We', 've', 'been', 'all', 'where', 'the', 'the', 'and', 'the', 'have', 'been']\n",
      "Number of stop words identified: 11\n",
      "\n",
      "Sentence  10\n",
      "Total words: 21\n",
      "Filtered words: ['appears', 'Biden', 'Administration', 'may', 'working', 'overtime', 'prevent', 'Bidens', 'facing', 'consequences', '.', \"''\"]\n",
      "Number of filtered words: 12\n",
      "Stop words identified: ['Now', 'it', 'the', 'have', 'been', 'to', 'the', 'from', 'any']\n",
      "Number of stop words identified: 9\n",
      "\n",
      "Sentence  11\n",
      "Total words: 27\n",
      "Filtered words: ['Comer', 'added', ',', '``', 'House', 'Oversight', 'Committee', 'work', 'hold', 'accountable', 'anyone', 'Biden', 'Administration', 'may', 'covering', 'criminal', 'activity', '.']\n",
      "Number of filtered words: 18\n",
      "Stop words identified: ['The', 'will', 'to', 'in', 'the', 'who', 'be', 'up', 'this']\n",
      "Number of stop words identified: 9\n",
      "\n",
      "Sentence  12\n",
      "Total words: 30\n",
      "Filtered words: ['Oversight', 'Committee', 'also', 'continue', 'pursue', 'investigation', 'Biden', 'family', '’', 'business', 'schemes', 'determine', 'President', 'Biden', 'national', 'security', 'compromised', '.']\n",
      "Number of filtered words: 18\n",
      "Stop words identified: ['The', 'will', 'to', 'our', 'into', 'the', 's', 'to', 'if', 'and', 'our', 'are']\n",
      "Number of stop words identified: 12\n",
      "\n",
      "Sentence  13\n",
      "Total words: 10\n",
      "Filtered words: ['Americans', 'demand', 'answers', ',', 'transparency', ',', 'accountability', '.', \"''\"]\n",
      "Number of filtered words: 9\n",
      "Stop words identified: ['and']\n",
      "Number of stop words identified: 1\n",
      "\n",
      "Sentence  14\n",
      "Total words: 14\n",
      "Filtered words: ['President', 'Biden', '’', 'son', 'Hunter', 'federal', 'investigation', 'since', '2018', '.']\n",
      "Number of filtered words: 10\n",
      "Stop words identified: ['s', 'has', 'been', 'under']\n",
      "Number of stop words identified: 4\n",
      "\n",
      "Sentence  15\n",
      "Total words: 17\n",
      "Filtered words: ['investigation', 'concerns', 'presence', 'suspicious', 'activity', 'reports', '(', 'SARs', ')', 'regarding', 'suspicious', 'foreign', 'transactions', '.']\n",
      "Number of filtered words: 14\n",
      "Stop words identified: ['The', 'the', 'of']\n",
      "Number of stop words identified: 3\n",
      "\n",
      "Sentence  16\n",
      "Total words: 11\n",
      "Filtered words: ['led', 'Delaware', 'U.S.', 'Attorney', 'David', 'Weiss', '.']\n",
      "Number of filtered words: 7\n",
      "Stop words identified: ['It', 'is', 'being', 'by']\n",
      "Number of stop words identified: 4\n",
      "\n",
      "Sentence  17\n",
      "Total words: 29\n",
      "Filtered words: ['Across', 'Congress', ',', 'Sen.', 'Ted', 'Cruz', 'Wednesday', 'called', 'Treasury', 'Secretary', 'Janet', 'Yellen', 'publicly', 'release', 'SARs', 'found', 'among', 'Biden', 'family', '’', 'tax', 'records', '.']\n",
      "Number of filtered words: 23\n",
      "Stop words identified: ['on', 'for', 'to', 'the', 'the', 's']\n",
      "Number of stop words identified: 6\n",
      "\n",
      "Sentence  18\n",
      "Total words: 26\n",
      "Filtered words: ['``', '’', 'national', 'security', 'reason', 'keep', 'private', ',', \"''\", 'Cruz', ',', 'R-Texas', ',', 'said', 'episode', 'podcast', '.']\n",
      "Number of filtered words: 17\n",
      "Stop words identified: ['There', 's', 'no', 'to', 'them', 'during', 'an', 'of', 'his']\n",
      "Number of stop words identified: 9\n",
      "\n",
      "Sentence  19\n",
      "Total words: 21\n",
      "Filtered words: ['``', '’', 'reason', 'whatsoever', 'want', 'part', 'political', 'cover-up', '.', \"''\"]\n",
      "Number of filtered words: 10\n",
      "Stop words identified: ['There', 's', 'no', 'other', 'than', 'if', 'you', 'to', 'be', 'of', 'a']\n",
      "Number of stop words identified: 11\n",
      "\n",
      "Sentence  20\n",
      "Total words: 32\n",
      "Filtered words: ['SIX', 'ADDITIONAL', 'BIDEN', 'FAMILY', 'MEMBERS', '‘', 'MAY', 'BENEFITED', '’', 'HUNTER', 'BUSINESS', 'DEALINGS', 'SARs', 'alone', 'indicate', 'wrongdoing', 'criminal', 'activity', 'could', 'indicator', 'behavior', '.']\n",
      "Number of filtered words: 22\n",
      "Stop words identified: ['HAVE', 'FROM', 'do', 'not', 'or', 'but', 'be', 'an', 'of', 'such']\n",
      "Number of stop words identified: 10\n",
      "\n",
      "Sentence  21\n",
      "Total words: 25\n",
      "Filtered words: ['``', 'U.S.', 'Department', 'Treasury', 'needs', 'release', 'every', 'single', 'suspicious', 'activity', 'report', 'Biden', 'family', ',', \"''\", 'Cruz', 'said', 'Wednesday', '.']\n",
      "Number of filtered words: 19\n",
      "Stop words identified: ['The', 'of', 'to', 'on', 'the', 'on']\n",
      "Number of stop words identified: 6\n",
      "\n",
      "Sentence  22\n",
      "Total words: 31\n",
      "Filtered words: ['``', 'Janet', 'Yellen', ',', 'choice', ':', 'either', 'actively', 'covering', 'potential', 'evidence', 'corruption', 'releasing', 'every', 'one', 'American', 'people', '.', \"''\"]\n",
      "Number of filtered words: 19\n",
      "Stop words identified: ['you', 'have', 'a', 'You', 'are', 'up', 'of', 'or', 'of', 'them', 'to', 'the']\n",
      "Number of stop words identified: 12\n",
      "\n",
      "Sentence  23\n",
      "Total words: 32\n",
      "Filtered words: ['According', 'Cruz', ',', 'American', 'public', 'privy', 'learning', 'whether', 'presidential', 'family', 'guilty', 'fraud', 'abuses', 'office', '—', 'innocent', '.']\n",
      "Number of filtered words: 17\n",
      "Stop words identified: ['to', 'the', 'should', 'be', 'to', 'the', 'is', 'of', 'or', 'other', 'of', 'or', 'if', 'he', 'is']\n",
      "Number of stop words identified: 15\n",
      "\n",
      "Sentence  24\n",
      "Total words: 38\n",
      "Filtered words: ['BIDEN', 'FAMILY', 'RECEIVED', '$', '1M', 'HUNTER', 'ASSOCIATE', '2017', 'CHINA', 'WIRE', ':', 'HOUSE', 'OVERSIGHT', 'Texas', 'Republican', 'said', 'Biden', 'administration', '``', 'let', 'American', 'people', 'decide', \"''\", 'criminal', 'activity', 'conducted', '.']\n",
      "Number of filtered words: 28\n",
      "Stop words identified: ['MORE', 'THAN', 'FROM', 'AFTER', 'The', 'the', 'should', 'the', 'if', 'was']\n",
      "Number of stop words identified: 10\n",
      "\n",
      "Sentence  25\n",
      "Total words: 14\n",
      "Filtered words: ['added', ',', '``', 'benign', ',', 'release', 'reports', '.', \"''\"]\n",
      "Number of filtered words: 9\n",
      "Stop words identified: ['He', 'If', 'this', 'is', 'the']\n",
      "Number of stop words identified: 5\n",
      "\n",
      "Sentence  26\n",
      "Total words: 19\n",
      "Filtered words: ['``', 'Secretary', 'Yellen', ',', 'release', 'every', 'single', 'suspicious', 'activity', 'report', 'Biden', 'family', ',', \"''\", 'Cruz', 'said', '.']\n",
      "Number of filtered words: 17\n",
      "Stop words identified: ['on', 'the']\n",
      "Number of stop words identified: 2\n",
      "\n",
      "Sentence  27\n",
      "Total words: 3\n",
      "Filtered words: ['continued', '.']\n",
      "Number of filtered words: 2\n",
      "Stop words identified: ['He']\n",
      "Number of stop words identified: 1\n",
      "\n",
      "Sentence  28\n",
      "Total words: 18\n",
      "Filtered words: ['``', '’', 'release', 'reports', ',', 'complicit', 'cover-up', '.', \"''\"]\n",
      "Number of filtered words: 9\n",
      "Stop words identified: ['If', 'she', 'doesn', 't', 'those', 'she', 'is', 'in', 'the']\n",
      "Number of stop words identified: 9\n",
      "\n",
      "Sentence  29\n",
      "Total words: 52\n",
      "Filtered words: ['letter', 'dated', 'April', '19', ',', '2023', ',', 'attorney', 'Mark', 'D.', 'Lytle', 'told', 'members', 'Congress', 'client', 'overseeing', '``', 'ongoing', 'sensitive', 'investigation', 'high-profile', ',', 'controversial', 'subject', 'since', 'early', '2020', 'would', 'like', 'make', 'protected', 'whistleblower', 'disclosures', 'Congress', '.', \"''\"]\n",
      "Number of filtered words: 36\n",
      "Stop words identified: ['In', 'a', 'of', 'that', 'a', 'of', 'his', 'has', 'been', 'the', 'and', 'of', 'a', 'and', 'to', 'to']\n",
      "Number of stop words identified: 16\n",
      "\n",
      "Sentence  30\n",
      "Total words: 26\n",
      "Filtered words: ['client', 'allegedly', 'aware', 'facts', 'case', '``', 'contradict', 'sworn', 'testimony', 'Congress', 'senior', 'political', 'appointee', '.', \"''\"]\n",
      "Number of filtered words: 15\n",
      "Stop words identified: ['And', 'that', 'the', 'is', 'of', 'of', 'the', 'that', 'to', 'by', 'a']\n",
      "Number of stop words identified: 11\n",
      "\n",
      "Sentence  31\n",
      "Total words: 23\n",
      "Filtered words: ['CLICK', 'GET', 'FOX', 'NEWS', 'APP', 'Lytle', 'works', 'Washington', ',', 'D.C.', ',', '-based', 'law', 'firm', 'Nixon', 'Peabody', 'LLP', '.']\n",
      "Number of filtered words: 18\n",
      "Stop words identified: ['HERE', 'TO', 'THE', 'for', 'the']\n",
      "Number of stop words identified: 5\n",
      "\n",
      "Sentence  32\n",
      "Total words: 20\n",
      "Filtered words: ['Neither', 'Hunter', 'Biden', 'member', 'family', 'charged', 'crime', 'relating', 'SARs', '.']\n",
      "Number of filtered words: 10\n",
      "Stop words identified: ['nor', 'any', 'of', 'his', 'has', 'been', 'with', 'a', 'to', 'the']\n",
      "Number of stop words identified: 10\n",
      "\n",
      "Sentence  33\n",
      "Total words: 13\n",
      "Filtered words: ['Fox', 'News', \"'\", 'Patrick', 'Ward', ',', 'Greg', 'Wehner', 'contributed', 'report', '.']\n",
      "Number of filtered words: 11\n",
      "Stop words identified: ['to', 'this']\n",
      "Number of stop words identified: 2\n",
      "\n",
      "Total number of words: 830\n"
     ]
    }
   ],
   "source": [
    "total_words = 0\n",
    "\n",
    "for i, sentence in enumerate(sentences):\n",
    "    # Tokenize the sentence into words\n",
    "    words = word_tokenize(sentence)\n",
    "    \n",
    "    # Identify the stop words in the sentence\n",
    "    stop_words = set(nltk.corpus.stopwords.words('english'))\n",
    "    filtered_words = [word for word in words if word.lower() not in stop_words]\n",
    "    stop_words_found = [word for word in words if word.lower() in stop_words]\n",
    "    \n",
    "    # Count all the words in the sentence\n",
    "    all_words = len(words)\n",
    "    total_words += all_words  # add the count of all_words to the total_words variable\n",
    "\n",
    "    # Count all the stop words in the sentence\n",
    "    all_stop_words = len(stop_words_found)\n",
    "\n",
    "    # Print out the results for each sentence\n",
    "    print(\"Sentence \", i+1)\n",
    "    print(\"Total words:\", all_words)\n",
    "    print(\"Filtered words:\", filtered_words)\n",
    "    print(\"Number of filtered words:\", len(filtered_words))\n",
    "    print(\"Stop words identified:\", stop_words_found)\n",
    "    print(\"Number of stop words identified:\", all_stop_words)\n",
    "    print()\n",
    "\n",
    "print(\"Total number of words:\", total_words)  # print the total sum of all words"
   ]
  },
  {
   "attachments": {},
   "cell_type": "markdown",
   "metadata": {},
   "source": [
    "## Text Pre-processing Process"
   ]
  },
  {
   "cell_type": "code",
   "execution_count": 38,
   "metadata": {},
   "outputs": [],
   "source": [
    "def remove_stop_words(text):\n",
    "    # Tokenize the text into sentences\n",
    "    sentences = sent_tokenize(text)\n",
    "    \n",
    "    # Identify the stop words for each sentence\n",
    "    num_stop_words_per_sentence = []\n",
    "    stop_words_per_sentence = []\n",
    "    filtered_sentences = []\n",
    "    num_words_per_sentence = []\n",
    "    avg_stop_words_per_sentence = []\n",
    "    total_words = 0\n",
    "    \n",
    "    for sentence in sentences:\n",
    "        # Tokenize the sentence into words\n",
    "        words = word_tokenize(sentence)\n",
    "        num_words = len(words)\n",
    "        total_words += num_words\n",
    "        \n",
    "        # Identify the stop words in the sentence\n",
    "        stop_words = set(stopwords.words('english'))\n",
    "        filtered_words = [w for w in words if not w.lower() in stop_words]\n",
    "        \n",
    "        # Add the number of stop words and filtered sentence to the output\n",
    "        num_stop_words = num_words - len(filtered_words)\n",
    "        num_stop_words_per_sentence.append(num_stop_words)\n",
    "        stop_words_per_sentence.append(filtered_words)\n",
    "        filtered_sentences.append(\" \".join(filtered_words))\n",
    "        num_words_per_sentence.append(num_words)\n",
    "        \n",
    "        # Calculate the average number of stop words per sentence\n",
    "        avg_stop_words_per_sentence.append(num_stop_words / num_words)\n",
    "    \n",
    "    # Calculate summary statistics\n",
    "    num_stop_words = sum(num_stop_words_per_sentence)\n",
    "    num_sentences = len(sentences)\n",
    "    avg_stop_words_per_sentence_all = num_stop_words / num_sentences\n",
    "    max_stop_words_per_sentence = max(num_stop_words_per_sentence)\n",
    "    min_stop_words_per_sentence = min(num_stop_words_per_sentence)\n",
    "    avg_stop_words_per_word = num_stop_words / sum(num_words_per_sentence)\n",
    "    \n",
    "    # Calculate the average number of stop words per article\n",
    "    avg_stop_words_per_sentence_avg = sum(avg_stop_words_per_sentence) / len(avg_stop_words_per_sentence)\n",
    "    \n",
    "    # Return the output\n",
    "    return {\n",
    "        'num_stop_words': num_stop_words,\n",
    "        \"total_words\": total_words,\n",
    "        'avg_stop_words_per_sentence_all': avg_stop_words_per_sentence_all,\n",
    "        'max_stop_words_per_sentence': max_stop_words_per_sentence,\n",
    "        'min_stop_words_per_sentence': min_stop_words_per_sentence,\n",
    "        'avg_stop_words_per_word': avg_stop_words_per_word,\n",
    "        'avg_stop_words_per_sentence': avg_stop_words_per_sentence,\n",
    "        'avg_stop_words_per_sentence_avg': avg_stop_words_per_sentence_avg,\n",
    "        'filtered_sentences': filtered_sentences,\n",
    "        'stop_words_per_sentence': stop_words_per_sentence,\n",
    "        'num_words_per_sentence': num_words_per_sentence,\n",
    "    }\n"
   ]
  },
  {
   "cell_type": "code",
   "execution_count": 39,
   "metadata": {},
   "outputs": [
    {
     "name": "stdout",
     "output_type": "stream",
     "text": [
      "Filtered sentences:\n",
      "Republicans respond IRS whistleblower says Hunter Biden investigation mishandled Members Congress calling transparency Biden administration IRS whistleblower said investigation Hunter Biden mishandled .\n",
      "Average number of stop words per sentence: 0.39\n",
      "\n",
      "Lawmakers Capitol Hill calling Biden administration held accountable `` blocking '' Congress public learning Biden family members ’ business deals China .\n",
      "Average number of stop words per sentence: 0.37\n",
      "\n",
      "congressional outcries come whistleblower within Internal Revenue Service alleges investigation Hunter Biden mishandled Biden administration .\n",
      "Average number of stop words per sentence: 0.38\n",
      "\n",
      "whistleblower also alleges `` clear conflicts interest '' investigation .\n",
      "Average number of stop words per sentence: 0.29\n",
      "\n",
      "`` ’ deeply concerning Biden Administration may obstructing justice blocking efforts charge Hunter Biden tax violations , '' House Committee Oversight Accountability Chairman James Comer told Fox News Wednesday .\n",
      "Average number of stop words per sentence: 0.27\n",
      "\n",
      "Comer , R-Ky. , also said `` deceptive , shady business schemes '' allowed Bidens make `` millions foreign adversaries like China . ''\n",
      "Average number of stop words per sentence: 0.14\n",
      "\n",
      "HUNTER BIDEN INVESTIGATION MISHANDLED , 'CLEAR CONFLICTS INTEREST ' : IRS WHISTLEBLOWER '' House Committee Oversight Accountability following Bidens ’ tangled web complex corporate financial records .\n",
      "Average number of stop words per sentence: 0.27\n",
      "\n",
      "’ clear investigation Hunter members Biden family engaged deceptive , shady business schemes avoid scrutiny made millions foreign adversaries like China , '' said .\n",
      "Average number of stop words per sentence: 0.38\n",
      "\n",
      "`` ’ wondering along heck DOJ IRS .\n",
      "Average number of stop words per sentence: 0.58\n",
      "\n",
      "appears Biden Administration may working overtime prevent Bidens facing consequences . ''\n",
      "Average number of stop words per sentence: 0.43\n",
      "\n",
      "Comer added , `` House Oversight Committee work hold accountable anyone Biden Administration may covering criminal activity .\n",
      "Average number of stop words per sentence: 0.33\n",
      "\n",
      "Oversight Committee also continue pursue investigation Biden family ’ business schemes determine President Biden national security compromised .\n",
      "Average number of stop words per sentence: 0.4\n",
      "\n",
      "Americans demand answers , transparency , accountability . ''\n",
      "Average number of stop words per sentence: 0.1\n",
      "\n",
      "President Biden ’ son Hunter federal investigation since 2018 .\n",
      "Average number of stop words per sentence: 0.29\n",
      "\n",
      "investigation concerns presence suspicious activity reports ( SARs ) regarding suspicious foreign transactions .\n",
      "Average number of stop words per sentence: 0.18\n",
      "\n",
      "led Delaware U.S. Attorney David Weiss .\n",
      "Average number of stop words per sentence: 0.36\n",
      "\n",
      "Across Congress , Sen. Ted Cruz Wednesday called Treasury Secretary Janet Yellen publicly release SARs found among Biden family ’ tax records .\n",
      "Average number of stop words per sentence: 0.21\n",
      "\n",
      "`` ’ national security reason keep private , '' Cruz , R-Texas , said episode podcast .\n",
      "Average number of stop words per sentence: 0.35\n",
      "\n",
      "`` ’ reason whatsoever want part political cover-up . ''\n",
      "Average number of stop words per sentence: 0.52\n",
      "\n",
      "SIX ADDITIONAL BIDEN FAMILY MEMBERS ‘ MAY BENEFITED ’ HUNTER BUSINESS DEALINGS SARs alone indicate wrongdoing criminal activity could indicator behavior .\n",
      "Average number of stop words per sentence: 0.31\n",
      "\n",
      "`` U.S. Department Treasury needs release every single suspicious activity report Biden family , '' Cruz said Wednesday .\n",
      "Average number of stop words per sentence: 0.24\n",
      "\n",
      "`` Janet Yellen , choice : either actively covering potential evidence corruption releasing every one American people . ''\n",
      "Average number of stop words per sentence: 0.39\n",
      "\n",
      "According Cruz , American public privy learning whether presidential family guilty fraud abuses office — innocent .\n",
      "Average number of stop words per sentence: 0.47\n",
      "\n",
      "BIDEN FAMILY RECEIVED $ 1M HUNTER ASSOCIATE 2017 CHINA WIRE : HOUSE OVERSIGHT Texas Republican said Biden administration `` let American people decide '' criminal activity conducted .\n",
      "Average number of stop words per sentence: 0.26\n",
      "\n",
      "added , `` benign , release reports . ''\n",
      "Average number of stop words per sentence: 0.36\n",
      "\n",
      "`` Secretary Yellen , release every single suspicious activity report Biden family , '' Cruz said .\n",
      "Average number of stop words per sentence: 0.11\n",
      "\n",
      "continued .\n",
      "Average number of stop words per sentence: 0.33\n",
      "\n",
      "`` ’ release reports , complicit cover-up . ''\n",
      "Average number of stop words per sentence: 0.5\n",
      "\n",
      "letter dated April 19 , 2023 , attorney Mark D. Lytle told members Congress client overseeing `` ongoing sensitive investigation high-profile , controversial subject since early 2020 would like make protected whistleblower disclosures Congress . ''\n",
      "Average number of stop words per sentence: 0.31\n",
      "\n",
      "client allegedly aware facts case `` contradict sworn testimony Congress senior political appointee . ''\n",
      "Average number of stop words per sentence: 0.42\n",
      "\n",
      "CLICK GET FOX NEWS APP Lytle works Washington , D.C. , -based law firm Nixon Peabody LLP .\n",
      "Average number of stop words per sentence: 0.22\n",
      "\n",
      "Neither Hunter Biden member family charged crime relating SARs .\n",
      "Average number of stop words per sentence: 0.5\n",
      "\n",
      "Fox News ' Patrick Ward , Greg Wehner contributed report .\n",
      "Average number of stop words per sentence: 0.15\n",
      "\n",
      "Statistics on stop words:\n",
      "Total number of words: 830\n",
      "Number of stop words: 275\n",
      "Maximum number of stop words per sentence: 16\n",
      "Minimum number of stop words per sentence: 1\n",
      "Average number of stop words per article: 0.33\n"
     ]
    }
   ],
   "source": [
    "results = remove_stop_words(article)\n",
    "\n",
    "print(\"Filtered sentences:\")\n",
    "for sentence in results[\"filtered_sentences\"]:\n",
    "    print(sentence)\n",
    "    print(\"Average number of stop words per sentence:\", round(results[\"avg_stop_words_per_sentence\"][results[\"filtered_sentences\"].index(sentence)], 2))\n",
    "    print()\n",
    "\n",
    "print(\"Statistics on stop words:\")\n",
    "print(\"Total number of words:\", results[\"total_words\"])\n",
    "print(\"Number of stop words:\", results[\"num_stop_words\"])\n",
    "print(\"Maximum number of stop words per sentence:\", results[\"max_stop_words_per_sentence\"])\n",
    "print(\"Minimum number of stop words per sentence:\", results[\"min_stop_words_per_sentence\"])\n",
    "print(\"Average number of stop words per article:\", round(results[\"avg_stop_words_per_word\"], 2))\n"
   ]
  },
  {
   "cell_type": "markdown",
   "metadata": {},
   "source": [
    "## Stemming Analysis"
   ]
  },
  {
   "cell_type": "markdown",
   "metadata": {},
   "source": [
    "Stemming helps in standardizing words and reducing them to a common root, making it easier to analyse and process text data."
   ]
  },
  {
   "cell_type": "markdown",
   "metadata": {},
   "source": [
    "Stemming involves removing prefixes or suffixes from words to obtain the root form, even if the resulting stem may not be a valid word. For instance, consider the words ”run,” ”running,” and ”ran.” The stem for all these words after stemming would be ”run.”"
   ]
  },
  {
   "cell_type": "code",
   "execution_count": 40,
   "metadata": {},
   "outputs": [
    {
     "name": "stdout",
     "output_type": "stream",
     "text": [
      "republican respond after ir whistleblow say hunter biden investig is be mishandl member of congress are call for more transpar from the biden administr after an ir whistleblow said an investig into hunter biden is be mishandl . lawmak on capitol hill are call for the biden administr to be held account for `` block '' congress and the public from learn more about biden famili member ’ busi deal with china . the congression outcri come as a whistleblow within the intern revenu servic alleg an investig into hunter biden is be mishandl by the biden administr . the whistleblow also alleg `` clear conflict of interest '' in the investig . `` it ’ s deepli concern that the biden administr may be obstruct justic by block effort to charg hunter biden for tax violat , '' hous committe on oversight and account chairman jame comer told fox new on wednesday . comer , r-ky. , also said `` decept , shadi busi scheme '' have allow the biden to make `` million from foreign adversari like china . '' hunter biden investig be mishandl , 'clear conflict of interest ' : ir whistleblow '' the hous committe on oversight and account ha been follow the biden ’ tangl web of complex corpor and financi record . it ’ s clear from our investig that hunter and other member of the biden famili engag in decept , shadi busi scheme to avoid scrutini as they made million from foreign adversari like china , '' he said . `` we ’ ve been wonder all along where the heck the doj and the ir have been . now it appear the biden administr may have been work overtim to prevent the biden from face ani consequ . '' comer ad , `` the hous oversight committe will work to hold account anyon in the biden administr who may be cover up thi crimin activ . the oversight committe will also continu to pursu our investig into the biden famili ’ s busi scheme to determin if presid biden and our nation secur are compromis . american demand answer , transpar , and account . '' presid biden ’ s son hunter ha been under feder investig sinc 2018 . the investig concern the presenc of suspici activ report ( sar ) regard suspici foreign transact . it is be led by delawar u.s. attorney david weiss . across congress , sen. ted cruz on wednesday call for treasuri secretari janet yellen to publicli releas the sar found among the biden famili ’ s tax record . `` there ’ s no nation secur reason to keep them privat , '' cruz , r-texa , said dure an episod of hi podcast . `` there ’ s no reason whatsoev other than if you want to be part of a polit cover-up . '' six addit biden famili member ‘ may have benefit ’ from hunter busi deal sar alon do not indic wrongdo or crimin activ but could be an indic of such behavior . `` the u.s. depart of treasuri need to releas everi singl suspici activ report on the biden famili , '' cruz said on wednesday . `` janet yellen , you have a choic : you are either activ cover up potenti evid of corrupt or releas everi one of them to the american peopl . '' accord to cruz , the american public should be privi to learn whether the presidenti famili is guilti of fraud or other abus of offic — or if he is innoc . biden famili receiv more than $ 1m from hunter associ after 2017 china wire : hous oversight the texa republican said the biden administr should `` let the american peopl decid '' if crimin activ wa conduct . he ad , `` if thi is benign , releas the report . '' `` secretari yellen , releas everi singl suspici activ report on the biden famili , '' cruz said . he continu . `` if she doesn ’ t releas those report , she is complicit in the cover-up . '' in a letter date april 19 , 2023 , attorney mark d. lytl told member of congress that a client of hi ha been overse the `` ongo and sensit investig of a high-profil , controversi subject sinc earli 2020 and would like to make protect whistleblow disclosur to congress . '' and that the client is allegedli awar of fact of the case that `` contradict sworn testimoni to congress by a senior polit appointe . '' click here to get the fox new app lytl work for the washington , d.c. , -base law firm nixon peabodi llp . neither hunter biden nor ani member of hi famili ha been charg with a crime relat to the sar . fox new ' patrick ward , greg wehner contribut to thi report .\n"
     ]
    }
   ],
   "source": [
    "# Create a Porter stemmer object\n",
    "stemmer = PorterStemmer()\n",
    "\n",
    "words = word_tokenize(article)\n",
    "\n",
    "# Perform stemming on each word using the Porter stemmer\n",
    "stemmed_words = [stemmer.stem(word) for word in words]\n",
    "\n",
    "# Combine the stemmed words back into a single string\n",
    "output_text = ' '.join(stemmed_words)\n",
    "\n",
    "# Write the output text to a new file\n",
    "# with open('output.txt', 'w') as f:\n",
    "#    f.write(output_text)\n",
    "\n",
    "print(output_text)\n"
   ]
  },
  {
   "cell_type": "markdown",
   "metadata": {},
   "source": [
    "## Lemmatization"
   ]
  },
  {
   "cell_type": "markdown",
   "metadata": {},
   "source": [
    "Unlike stemming, which involves removing suffixes from words to obtain a root form (sometimes resulting in non-real words), lemmatization considers the context of the word and aims to transform it into a valid word lemma.\n",
    "\n",
    "Lemmatization is a technique that involves reducing words to their base or root form, known as the lemma."
   ]
  },
  {
   "cell_type": "code",
   "execution_count": 44,
   "metadata": {},
   "outputs": [
    {
     "name": "stdout",
     "output_type": "stream",
     "text": [
      "['republican', 'respond', 'ir', 'whistleblow', 'say', 'hunter', 'biden', 'investig', 'mishandl', 'member', 'congress', 'call', 'transpar', 'biden', 'administr', 'ir', 'whistleblow', 'said', 'investig', 'hunter', 'biden', 'mishandl', '.', 'lawmak', 'capitol', 'hill', 'call', 'biden', 'administr', 'held', 'account', '``', 'block', '``', 'congress', 'public', 'learn', 'biden', 'famili', 'member', '’', 'busi', 'deal', 'china', '.', 'congression', 'outcri', 'come', 'whistleblow', 'within', 'intern', 'revenu', 'servic', 'alleg', 'investig', 'hunter', 'biden', 'mishandl', 'biden', 'administr', '.', 'whistleblow', 'also', 'alleg', '``', 'clear', 'conflict', 'interest', '``', 'investig', '.', '``', '’', 'deepli', 'concern', 'biden', 'administr', 'may', 'obstruct', 'justic', 'block', 'effort', 'charg', 'hunter', 'biden', 'tax', 'violat', ',', '``', 'hous', 'committe', 'oversight', 'account', 'chairman', 'jame', 'comer', 'told', 'fox', 'new', 'wednesday', '.', 'comer', ',', 'r-ky.', ',', 'also', 'said', '``', 'decept', ',', 'shadi', 'busi', 'scheme', '``', 'allow', 'biden', 'make', '``', 'million', 'foreign', 'adversari', 'like', 'china', '.', '``', 'hunter', 'biden', 'investig', 'mishandl', ',', \"'clear\", 'conflict', 'interest', \"'\", ':', 'ir', 'whistleblow', '``', 'hous', 'committe', 'oversight', 'account', 'ha', 'follow', 'biden', '’', 'tangl', 'web', 'complex', 'corpor', 'financi', 'record', '.', '’', 'clear', 'investig', 'hunter', 'member', 'biden', 'famili', 'engag', 'decept', ',', 'shadi', 'busi', 'scheme', 'avoid', 'scrutini', 'made', 'million', 'foreign', 'adversari', 'like', 'china', ',', '``', 'said', '.', '``', '’', 'wonder', 'along', 'heck', 'doj', 'ir', '.', 'appear', 'biden', 'administr', 'may', 'work', 'overtim', 'prevent', 'biden', 'face', 'ani', 'consequ', '.', '``', 'comer', 'ad', ',', '``', 'hous', 'oversight', 'committe', 'work', 'hold', 'account', 'anyon', 'biden', 'administr', 'may', 'cover', 'thi', 'crimin', 'activ', '.', 'oversight', 'committe', 'also', 'continu', 'pursu', 'investig', 'biden', 'famili', '’', 'busi', 'scheme', 'determin', 'presid', 'biden', 'nation', 'secur', 'compromis', '.', 'american', 'demand', 'answer', ',', 'transpar', ',', 'account', '.', '``', 'presid', 'biden', '’', 'son', 'hunter', 'ha', 'feder', 'investig', 'sinc', '2018', '.', 'investig', 'concern', 'presenc', 'suspici', 'activ', 'report', '(', 'sar', ')', 'regard', 'suspici', 'foreign', 'transact', '.', 'led', 'delawar', 'u.s.', 'attorney', 'david', 'weiss', '.', 'across', 'congress', ',', 'sen.', 'ted', 'cruz', 'wednesday', 'call', 'treasuri', 'secretari', 'janet', 'yellen', 'publicli', 'releas', 'sar', 'found', 'among', 'biden', 'famili', '’', 'tax', 'record', '.', '``', '’', 'nation', 'secur', 'reason', 'keep', 'privat', ',', '``', 'cruz', ',', 'r-texa', ',', 'said', 'dure', 'episod', 'hi', 'podcast', '.', '``', '’', 'reason', 'whatsoev', 'want', 'part', 'polit', 'cover-up', '.', '``', 'six', 'addit', 'biden', 'famili', 'member', '‘', 'may', 'benefit', '’', 'hunter', 'busi', 'deal', 'sar', 'alon', 'indic', 'wrongdo', 'crimin', 'activ', 'could', 'indic', 'behavior', '.', '``', 'u.s.', 'depart', 'treasuri', 'need', 'releas', 'everi', 'singl', 'suspici', 'activ', 'report', 'biden', 'famili', ',', '``', 'cruz', 'said', 'wednesday', '.', '``', 'janet', 'yellen', ',', 'choic', ':', 'either', 'activ', 'cover', 'potenti', 'evid', 'corrupt', 'releas', 'everi', 'one', 'american', 'peopl', '.', '``', 'accord', 'cruz', ',', 'american', 'public', 'privi', 'learn', 'whether', 'presidenti', 'famili', 'guilti', 'fraud', 'abus', 'offic', '—', 'innoc', '.', 'biden', 'famili', 'receiv', '$', '1m', 'hunter', 'associ', '2017', 'china', 'wire', ':', 'hous', 'oversight', 'texa', 'republican', 'said', 'biden', 'administr', '``', 'let', 'american', 'peopl', 'decid', '``', 'crimin', 'activ', 'wa', 'conduct', '.', 'ad', ',', '``', 'thi', 'benign', ',', 'releas', 'report', '.', '``', '``', 'secretari', 'yellen', ',', 'releas', 'everi', 'singl', 'suspici', 'activ', 'report', 'biden', 'famili', ',', '``', 'cruz', 'said', '.', 'continu', '.', '``', '’', 'releas', 'report', ',', 'complicit', 'cover-up', '.', '``', 'letter', 'date', 'april', '19', ',', '2023', ',', 'attorney', 'mark', 'd.', 'lytl', 'told', 'member', 'congress', 'client', 'hi', 'ha', 'overse', '``', 'ongo', 'sensit', 'investig', 'high-profil', ',', 'controversi', 'subject', 'sinc', 'earli', '2020', 'would', 'like', 'make', 'protect', 'whistleblow', 'disclosur', 'congress', '.', '``', 'client', 'allegedli', 'awar', 'fact', 'case', '``', 'contradict', 'sworn', 'testimoni', 'congress', 'senior', 'polit', 'appointe', '.', '``', 'click', 'get', 'fox', 'new', 'app', 'lytl', 'work', 'washington', ',', 'd.c.', ',', '-base', 'law', 'firm', 'nixon', 'peabodi', 'llp', '.', 'neither', 'hunter', 'biden', 'ani', 'member', 'hi', 'famili', 'ha', 'charg', 'crime', 'relat', 'sar', '.', 'fox', 'new', \"'\", 'patrick', 'ward', ',', 'greg', 'wehner', 'contribut', 'thi', 'report', '.']\n"
     ]
    }
   ],
   "source": [
    "# Tokenize the input string\n",
    "tokens = nltk.word_tokenize(output_text)\n",
    "\n",
    "# Define the stop words to be removed\n",
    "stop_words = set(stopwords.words('english'))\n",
    "\n",
    "# Remove stop words\n",
    "filtered_tokens = [word for word in tokens if word.lower() not in stop_words]\n",
    "\n",
    "print(filtered_tokens)\n"
   ]
  },
  {
   "cell_type": "code",
   "execution_count": 45,
   "metadata": {},
   "outputs": [
    {
     "name": "stdout",
     "output_type": "stream",
     "text": [
      "Stemmed Text:\n",
      "republican respond after ir whistleblow say hunter biden investig is be mishandl member of congress are call for more transpar from the biden administr after an ir whistleblow said an investig into hunter biden is be mishandl . lawmak on capitol hill are call for the biden administr to be held account for `` block '' congress and the public from learn more about biden famili member ’ busi deal with china . the congression outcri come as a whistleblow within the intern revenu servic alleg an investig into hunter biden is be mishandl by the biden administr . the whistleblow also alleg `` clear conflict of interest '' in the investig . `` it ’ s deepli concern that the biden administr may be obstruct justic by block effort to charg hunter biden for tax violat , '' hous committe on oversight and account chairman jame comer told fox new on wednesday . comer , r-ky. , also said `` decept , shadi busi scheme '' have allow the biden to make `` million from foreign adversari like china . '' hunter biden investig be mishandl , 'clear conflict of interest ' : ir whistleblow '' the hous committe on oversight and account ha been follow the biden ’ tangl web of complex corpor and financi record . it ’ s clear from our investig that hunter and other member of the biden famili engag in decept , shadi busi scheme to avoid scrutini as they made million from foreign adversari like china , '' he said . `` we ’ ve been wonder all along where the heck the doj and the ir have been . now it appear the biden administr may have been work overtim to prevent the biden from face ani consequ . '' comer ad , `` the hous oversight committe will work to hold account anyon in the biden administr who may be cover up thi crimin activ . the oversight committe will also continu to pursu our investig into the biden famili ’ s busi scheme to determin if presid biden and our nation secur are compromis . american demand answer , transpar , and account . '' presid biden ’ s son hunter ha been under feder investig sinc 2018 . the investig concern the presenc of suspici activ report ( sar ) regard suspici foreign transact . it is be led by delawar u.s. attorney david weiss . across congress , sen. ted cruz on wednesday call for treasuri secretari janet yellen to publicli releas the sar found among the biden famili ’ s tax record . `` there ’ s no nation secur reason to keep them privat , '' cruz , r-texa , said dure an episod of hi podcast . `` there ’ s no reason whatsoev other than if you want to be part of a polit cover-up . '' six addit biden famili member ‘ may have benefit ’ from hunter busi deal sar alon do not indic wrongdo or crimin activ but could be an indic of such behavior . `` the u.s. depart of treasuri need to releas everi singl suspici activ report on the biden famili , '' cruz said on wednesday . `` janet yellen , you have a choic : you are either activ cover up potenti evid of corrupt or releas everi one of them to the american peopl . '' accord to cruz , the american public should be privi to learn whether the presidenti famili is guilti of fraud or other abus of offic — or if he is innoc . biden famili receiv more than $ 1m from hunter associ after 2017 china wire : hous oversight the texa republican said the biden administr should `` let the american peopl decid '' if crimin activ wa conduct . he ad , `` if thi is benign , releas the report . '' `` secretari yellen , releas everi singl suspici activ report on the biden famili , '' cruz said . he continu . `` if she doesn ’ t releas those report , she is complicit in the cover-up . '' in a letter date april 19 , 2023 , attorney mark d. lytl told member of congress that a client of hi ha been overse the `` ongo and sensit investig of a high-profil , controversi subject sinc earli 2020 and would like to make protect whistleblow disclosur to congress . '' and that the client is allegedli awar of fact of the case that `` contradict sworn testimoni to congress by a senior polit appointe . '' click here to get the fox new app lytl work for the washington , d.c. , -base law firm nixon peabodi llp . neither hunter biden nor ani member of hi famili ha been charg with a crime relat to the sar . fox new ' patrick ward , greg wehner contribut to thi report .\n",
      "\n",
      "Lemmatized Text:\n",
      "Republicans respond after IRS whistleblower say Hunter Biden investigation be be mishandle Members of Congress be call for more transparency from the Biden administration after an IRS whistleblower say an investigation into Hunter Biden be be mishandle . Lawmakers on Capitol Hill be call for the Biden administration to be hold accountable for `` block '' Congress and the public from learn more about Biden family members ’ business deal with China . The congressional outcry come as a whistleblower within the Internal Revenue Service allege an investigation into Hunter Biden be be mishandle by the Biden administration . The whistleblower also allege `` clear conflict of interest '' in the investigation . `` It ’ s deeply concern that the Biden Administration may be obstruct justice by block efforts to charge Hunter Biden for tax violations , '' House Committee on Oversight and Accountability Chairman James Comer tell Fox News on Wednesday . Comer , R-Ky. , also say `` deceptive , shady business scheme '' have allow the Bidens to make `` millions from foreign adversaries like China . '' HUNTER BIDEN INVESTIGATION BEING MISHANDLED , 'CLEAR CONFLICTS OF INTEREST ' : IRS WHISTLEBLOWER '' The House Committee on Oversight and Accountability have be follow the Bidens ’ tangle web of complex corporate and financial record . It ’ s clear from our investigation that Hunter and other members of the Biden family engage in deceptive , shady business scheme to avoid scrutiny as they make millions from foreign adversaries like China , '' he say . `` We ’ ve be wonder all along where the heck the DOJ and the IRS have be . Now it appear the Biden Administration may have be work overtime to prevent the Bidens from face any consequences . '' Comer add , `` The House Oversight Committee will work to hold accountable anyone in the Biden Administration who may be cover up this criminal activity . The Oversight Committee will also continue to pursue our investigation into the Biden family ’ s business scheme to determine if President Biden and our national security be compromise . Americans demand answer , transparency , and accountability . '' President Biden ’ s son Hunter have be under federal investigation since 2018 . The investigation concern the presence of suspicious activity report ( SARs ) regard suspicious foreign transactions . It be be lead by Delaware U.S. Attorney David Weiss . Across Congress , Sen. Ted Cruz on Wednesday call for Treasury Secretary Janet Yellen to publicly release the SARs find among the Biden family ’ s tax record . `` There ’ s no national security reason to keep them private , '' Cruz , R-Texas , say during an episode of his podcast . `` There ’ s no reason whatsoever other than if you want to be part of a political cover-up . '' SIX ADDITIONAL BIDEN FAMILY MEMBERS ‘ MAY HAVE BENEFITED ’ FROM HUNTER BUSINESS DEALINGS SARs alone do not indicate wrongdoing or criminal activity but could be an indicator of such behavior . `` The U.S. Department of Treasury need to release every single suspicious activity report on the Biden family , '' Cruz say on Wednesday . `` Janet Yellen , you have a choice : You be either actively cover up potential evidence of corruption or release every one of them to the American people . '' According to Cruz , the American public should be privy to learn whether the presidential family be guilty of fraud or other abuse of office — or if he be innocent . BIDEN FAMILY RECEIVED MORE THAN $ 1M FROM HUNTER ASSOCIATE AFTER 2017 CHINA WIRE : HOUSE OVERSIGHT The Texas Republican say the Biden administration should `` let the American people decide '' if criminal activity be conduct . He add , `` If this be benign , release the report . '' `` Secretary Yellen , release every single suspicious activity report on the Biden family , '' Cruz say . He continue . `` If she doesn ’ t release those report , she be complicit in the cover-up . '' In a letter date April 19 , 2023 , attorney Mark D. Lytle tell members of Congress that a client of his have be oversee the `` ongoing and sensitive investigation of a high-profile , controversial subject since early 2020 and would like to make protect whistleblower disclosures to Congress . '' And that the client be allegedly aware of facts of the case that `` contradict swear testimony to Congress by a senior political appointee . '' CLICK HERE TO GET THE FOX NEWS APP Lytle work for the Washington , D.C. , -based law firm Nixon Peabody LLP . Neither Hunter Biden nor any member of his family have be charge with a crime relate to the SARs . Fox News ' Patrick Ward , Greg Wehner contribute to this report .\n"
     ]
    }
   ],
   "source": [
    "# Tokenize the text into words\n",
    "words = word_tokenize(article)\n",
    "\n",
    "# Initialize Porter Stemmer and WordNet Lemmatizer\n",
    "stemmer = PorterStemmer()\n",
    "lemmatizer = WordNetLemmatizer()\n",
    "\n",
    "# Perform stemming and lemmatization\n",
    "stemmed_words = [stemmer.stem(word) for word in words]\n",
    "lemmatized_words = [lemmatizer.lemmatize(word, pos='v') for word in words]  # 'v' for verb lemmatization\n",
    "\n",
    "# Remove stop words\n",
    "stop_words = set(stopwords.words('english'))\n",
    "filtered_words = [word for word in lemmatized_words if word.lower() not in stop_words]\n",
    "\n",
    "# Join the words back into sentences\n",
    "stemmed_text = ' '.join(stemmed_words)\n",
    "lemmatized_text = ' '.join(lemmatized_words)\n",
    "filtered_text = ' '.join(filtered_words)\n",
    "\n",
    "print(\"Stemmed Text:\")\n",
    "print(stemmed_text)\n",
    "\n",
    "print(\"\\nLemmatized Text:\")\n",
    "print(lemmatized_text)"
   ]
  },
  {
   "cell_type": "code",
   "execution_count": 46,
   "metadata": {},
   "outputs": [
    {
     "name": "stdout",
     "output_type": "stream",
     "text": [
      "Bigrams:\n",
      "[('republican', 'respond'), ('respond', 'ir'), ('ir', 'whistleblow'), ('whistleblow', 'say'), ('say', 'hunter'), ('hunter', 'biden'), ('biden', 'investig'), ('investig', 'mishandl'), ('mishandl', 'member'), ('member', 'congress'), ('congress', 'call'), ('call', 'transpar'), ('transpar', 'biden'), ('biden', 'administr'), ('administr', 'ir'), ('ir', 'whistleblow'), ('whistleblow', 'said'), ('said', 'investig'), ('investig', 'hunter'), ('hunter', 'biden'), ('biden', 'mishandl'), ('mishandl', '.'), ('.', 'lawmak'), ('lawmak', 'capitol'), ('capitol', 'hill'), ('hill', 'call'), ('call', 'biden'), ('biden', 'administr'), ('administr', 'held'), ('held', 'account'), ('account', '``'), ('``', 'block'), ('block', '``'), ('``', 'congress'), ('congress', 'public'), ('public', 'learn'), ('learn', 'biden'), ('biden', 'famili'), ('famili', 'member'), ('member', '’'), ('’', 'busi'), ('busi', 'deal'), ('deal', 'china'), ('china', '.'), ('.', 'congression'), ('congression', 'outcri'), ('outcri', 'come'), ('come', 'whistleblow'), ('whistleblow', 'within'), ('within', 'intern'), ('intern', 'revenu'), ('revenu', 'servic'), ('servic', 'alleg'), ('alleg', 'investig'), ('investig', 'hunter'), ('hunter', 'biden'), ('biden', 'mishandl'), ('mishandl', 'biden'), ('biden', 'administr'), ('administr', '.'), ('.', 'whistleblow'), ('whistleblow', 'also'), ('also', 'alleg'), ('alleg', '``'), ('``', 'clear'), ('clear', 'conflict'), ('conflict', 'interest'), ('interest', '``'), ('``', 'investig'), ('investig', '.'), ('.', '``'), ('``', '’'), ('’', 'deepli'), ('deepli', 'concern'), ('concern', 'biden'), ('biden', 'administr'), ('administr', 'may'), ('may', 'obstruct'), ('obstruct', 'justic'), ('justic', 'block'), ('block', 'effort'), ('effort', 'charg'), ('charg', 'hunter'), ('hunter', 'biden'), ('biden', 'tax'), ('tax', 'violat'), ('violat', ','), (',', '``'), ('``', 'hous'), ('hous', 'committe'), ('committe', 'oversight'), ('oversight', 'account'), ('account', 'chairman'), ('chairman', 'jame'), ('jame', 'comer'), ('comer', 'told'), ('told', 'fox'), ('fox', 'new'), ('new', 'wednesday'), ('wednesday', '.'), ('.', 'comer'), ('comer', ','), (',', 'r-ky.'), ('r-ky.', ','), (',', 'also'), ('also', 'said'), ('said', '``'), ('``', 'decept'), ('decept', ','), (',', 'shadi'), ('shadi', 'busi'), ('busi', 'scheme'), ('scheme', '``'), ('``', 'allow'), ('allow', 'biden'), ('biden', 'make'), ('make', '``'), ('``', 'million'), ('million', 'foreign'), ('foreign', 'adversari'), ('adversari', 'like'), ('like', 'china'), ('china', '.'), ('.', '``'), ('``', 'hunter'), ('hunter', 'biden'), ('biden', 'investig'), ('investig', 'mishandl'), ('mishandl', ','), (',', \"'clear\"), (\"'clear\", 'conflict'), ('conflict', 'interest'), ('interest', \"'\"), (\"'\", ':'), (':', 'ir'), ('ir', 'whistleblow'), ('whistleblow', '``'), ('``', 'hous'), ('hous', 'committe'), ('committe', 'oversight'), ('oversight', 'account'), ('account', 'ha'), ('ha', 'follow'), ('follow', 'biden'), ('biden', '’'), ('’', 'tangl'), ('tangl', 'web'), ('web', 'complex'), ('complex', 'corpor'), ('corpor', 'financi'), ('financi', 'record'), ('record', '.'), ('.', '’'), ('’', 'clear'), ('clear', 'investig'), ('investig', 'hunter'), ('hunter', 'member'), ('member', 'biden'), ('biden', 'famili'), ('famili', 'engag'), ('engag', 'decept'), ('decept', ','), (',', 'shadi'), ('shadi', 'busi'), ('busi', 'scheme'), ('scheme', 'avoid'), ('avoid', 'scrutini'), ('scrutini', 'made'), ('made', 'million'), ('million', 'foreign'), ('foreign', 'adversari'), ('adversari', 'like'), ('like', 'china'), ('china', ','), (',', '``'), ('``', 'said'), ('said', '.'), ('.', '``'), ('``', '’'), ('’', 'wonder'), ('wonder', 'along'), ('along', 'heck'), ('heck', 'doj'), ('doj', 'ir'), ('ir', '.'), ('.', 'appear'), ('appear', 'biden'), ('biden', 'administr'), ('administr', 'may'), ('may', 'work'), ('work', 'overtim'), ('overtim', 'prevent'), ('prevent', 'biden'), ('biden', 'face'), ('face', 'ani'), ('ani', 'consequ'), ('consequ', '.'), ('.', '``'), ('``', 'comer'), ('comer', 'ad'), ('ad', ','), (',', '``'), ('``', 'hous'), ('hous', 'oversight'), ('oversight', 'committe'), ('committe', 'work'), ('work', 'hold'), ('hold', 'account'), ('account', 'anyon'), ('anyon', 'biden'), ('biden', 'administr'), ('administr', 'may'), ('may', 'cover'), ('cover', 'thi'), ('thi', 'crimin'), ('crimin', 'activ'), ('activ', '.'), ('.', 'oversight'), ('oversight', 'committe'), ('committe', 'also'), ('also', 'continu'), ('continu', 'pursu'), ('pursu', 'investig'), ('investig', 'biden'), ('biden', 'famili'), ('famili', '’'), ('’', 'busi'), ('busi', 'scheme'), ('scheme', 'determin'), ('determin', 'presid'), ('presid', 'biden'), ('biden', 'nation'), ('nation', 'secur'), ('secur', 'compromis'), ('compromis', '.'), ('.', 'american'), ('american', 'demand'), ('demand', 'answer'), ('answer', ','), (',', 'transpar'), ('transpar', ','), (',', 'account'), ('account', '.'), ('.', '``'), ('``', 'presid'), ('presid', 'biden'), ('biden', '’'), ('’', 'son'), ('son', 'hunter'), ('hunter', 'ha'), ('ha', 'feder'), ('feder', 'investig'), ('investig', 'sinc'), ('sinc', '2018'), ('2018', '.'), ('.', 'investig'), ('investig', 'concern'), ('concern', 'presenc'), ('presenc', 'suspici'), ('suspici', 'activ'), ('activ', 'report'), ('report', '('), ('(', 'sar'), ('sar', ')'), (')', 'regard'), ('regard', 'suspici'), ('suspici', 'foreign'), ('foreign', 'transact'), ('transact', '.'), ('.', 'led'), ('led', 'delawar'), ('delawar', 'u.s.'), ('u.s.', 'attorney'), ('attorney', 'david'), ('david', 'weiss'), ('weiss', '.'), ('.', 'across'), ('across', 'congress'), ('congress', ','), (',', 'sen.'), ('sen.', 'ted'), ('ted', 'cruz'), ('cruz', 'wednesday'), ('wednesday', 'call'), ('call', 'treasuri'), ('treasuri', 'secretari'), ('secretari', 'janet'), ('janet', 'yellen'), ('yellen', 'publicli'), ('publicli', 'releas'), ('releas', 'sar'), ('sar', 'found'), ('found', 'among'), ('among', 'biden'), ('biden', 'famili'), ('famili', '’'), ('’', 'tax'), ('tax', 'record'), ('record', '.'), ('.', '``'), ('``', '’'), ('’', 'nation'), ('nation', 'secur'), ('secur', 'reason'), ('reason', 'keep'), ('keep', 'privat'), ('privat', ','), (',', '``'), ('``', 'cruz'), ('cruz', ','), (',', 'r-texa'), ('r-texa', ','), (',', 'said'), ('said', 'dure'), ('dure', 'episod'), ('episod', 'hi'), ('hi', 'podcast'), ('podcast', '.'), ('.', '``'), ('``', '’'), ('’', 'reason'), ('reason', 'whatsoev'), ('whatsoev', 'want'), ('want', 'part'), ('part', 'polit'), ('polit', 'cover-up'), ('cover-up', '.'), ('.', '``'), ('``', 'six'), ('six', 'addit'), ('addit', 'biden'), ('biden', 'famili'), ('famili', 'member'), ('member', '‘'), ('‘', 'may'), ('may', 'benefit'), ('benefit', '’'), ('’', 'hunter'), ('hunter', 'busi'), ('busi', 'deal'), ('deal', 'sar'), ('sar', 'alon'), ('alon', 'indic'), ('indic', 'wrongdo'), ('wrongdo', 'crimin'), ('crimin', 'activ'), ('activ', 'could'), ('could', 'indic'), ('indic', 'behavior'), ('behavior', '.'), ('.', '``'), ('``', 'u.s.'), ('u.s.', 'depart'), ('depart', 'treasuri'), ('treasuri', 'need'), ('need', 'releas'), ('releas', 'everi'), ('everi', 'singl'), ('singl', 'suspici'), ('suspici', 'activ'), ('activ', 'report'), ('report', 'biden'), ('biden', 'famili'), ('famili', ','), (',', '``'), ('``', 'cruz'), ('cruz', 'said'), ('said', 'wednesday'), ('wednesday', '.'), ('.', '``'), ('``', 'janet'), ('janet', 'yellen'), ('yellen', ','), (',', 'choic'), ('choic', ':'), (':', 'either'), ('either', 'activ'), ('activ', 'cover'), ('cover', 'potenti'), ('potenti', 'evid'), ('evid', 'corrupt'), ('corrupt', 'releas'), ('releas', 'everi'), ('everi', 'one'), ('one', 'american'), ('american', 'peopl'), ('peopl', '.'), ('.', '``'), ('``', 'accord'), ('accord', 'cruz'), ('cruz', ','), (',', 'american'), ('american', 'public'), ('public', 'privi'), ('privi', 'learn'), ('learn', 'whether'), ('whether', 'presidenti'), ('presidenti', 'famili'), ('famili', 'guilti'), ('guilti', 'fraud'), ('fraud', 'abus'), ('abus', 'offic'), ('offic', '—'), ('—', 'innoc'), ('innoc', '.'), ('.', 'biden'), ('biden', 'famili'), ('famili', 'receiv'), ('receiv', '$'), ('$', '1m'), ('1m', 'hunter'), ('hunter', 'associ'), ('associ', '2017'), ('2017', 'china'), ('china', 'wire'), ('wire', ':'), (':', 'hous'), ('hous', 'oversight'), ('oversight', 'texa'), ('texa', 'republican'), ('republican', 'said'), ('said', 'biden'), ('biden', 'administr'), ('administr', '``'), ('``', 'let'), ('let', 'american'), ('american', 'peopl'), ('peopl', 'decid'), ('decid', '``'), ('``', 'crimin'), ('crimin', 'activ'), ('activ', 'wa'), ('wa', 'conduct'), ('conduct', '.'), ('.', 'ad'), ('ad', ','), (',', '``'), ('``', 'thi'), ('thi', 'benign'), ('benign', ','), (',', 'releas'), ('releas', 'report'), ('report', '.'), ('.', '``'), ('``', '``'), ('``', 'secretari'), ('secretari', 'yellen'), ('yellen', ','), (',', 'releas'), ('releas', 'everi'), ('everi', 'singl'), ('singl', 'suspici'), ('suspici', 'activ'), ('activ', 'report'), ('report', 'biden'), ('biden', 'famili'), ('famili', ','), (',', '``'), ('``', 'cruz'), ('cruz', 'said'), ('said', '.'), ('.', 'continu'), ('continu', '.'), ('.', '``'), ('``', '’'), ('’', 'releas'), ('releas', 'report'), ('report', ','), (',', 'complicit'), ('complicit', 'cover-up'), ('cover-up', '.'), ('.', '``'), ('``', 'letter'), ('letter', 'date'), ('date', 'april'), ('april', '19'), ('19', ','), (',', '2023'), ('2023', ','), (',', 'attorney'), ('attorney', 'mark'), ('mark', 'd.'), ('d.', 'lytl'), ('lytl', 'told'), ('told', 'member'), ('member', 'congress'), ('congress', 'client'), ('client', 'hi'), ('hi', 'ha'), ('ha', 'overse'), ('overse', '``'), ('``', 'ongo'), ('ongo', 'sensit'), ('sensit', 'investig'), ('investig', 'high-profil'), ('high-profil', ','), (',', 'controversi'), ('controversi', 'subject'), ('subject', 'sinc'), ('sinc', 'earli'), ('earli', '2020'), ('2020', 'would'), ('would', 'like'), ('like', 'make'), ('make', 'protect'), ('protect', 'whistleblow'), ('whistleblow', 'disclosur'), ('disclosur', 'congress'), ('congress', '.'), ('.', '``'), ('``', 'client'), ('client', 'allegedli'), ('allegedli', 'awar'), ('awar', 'fact'), ('fact', 'case'), ('case', '``'), ('``', 'contradict'), ('contradict', 'sworn'), ('sworn', 'testimoni'), ('testimoni', 'congress'), ('congress', 'senior'), ('senior', 'polit'), ('polit', 'appointe'), ('appointe', '.'), ('.', '``'), ('``', 'click'), ('click', 'get'), ('get', 'fox'), ('fox', 'new'), ('new', 'app'), ('app', 'lytl'), ('lytl', 'work'), ('work', 'washington'), ('washington', ','), (',', 'd.c.'), ('d.c.', ','), (',', '-base'), ('-base', 'law'), ('law', 'firm'), ('firm', 'nixon'), ('nixon', 'peabodi'), ('peabodi', 'llp'), ('llp', '.'), ('.', 'neither'), ('neither', 'hunter'), ('hunter', 'biden'), ('biden', 'ani'), ('ani', 'member'), ('member', 'hi'), ('hi', 'famili'), ('famili', 'ha'), ('ha', 'charg'), ('charg', 'crime'), ('crime', 'relat'), ('relat', 'sar'), ('sar', '.'), ('.', 'fox'), ('fox', 'new'), ('new', \"'\"), (\"'\", 'patrick'), ('patrick', 'ward'), ('ward', ','), (',', 'greg'), ('greg', 'wehner'), ('wehner', 'contribut'), ('contribut', 'thi'), ('thi', 'report'), ('report', '.')]\n",
      "Trigrams:\n",
      "[('republican', 'respond', 'ir'), ('respond', 'ir', 'whistleblow'), ('ir', 'whistleblow', 'say'), ('whistleblow', 'say', 'hunter'), ('say', 'hunter', 'biden'), ('hunter', 'biden', 'investig'), ('biden', 'investig', 'mishandl'), ('investig', 'mishandl', 'member'), ('mishandl', 'member', 'congress'), ('member', 'congress', 'call'), ('congress', 'call', 'transpar'), ('call', 'transpar', 'biden'), ('transpar', 'biden', 'administr'), ('biden', 'administr', 'ir'), ('administr', 'ir', 'whistleblow'), ('ir', 'whistleblow', 'said'), ('whistleblow', 'said', 'investig'), ('said', 'investig', 'hunter'), ('investig', 'hunter', 'biden'), ('hunter', 'biden', 'mishandl'), ('biden', 'mishandl', '.'), ('mishandl', '.', 'lawmak'), ('.', 'lawmak', 'capitol'), ('lawmak', 'capitol', 'hill'), ('capitol', 'hill', 'call'), ('hill', 'call', 'biden'), ('call', 'biden', 'administr'), ('biden', 'administr', 'held'), ('administr', 'held', 'account'), ('held', 'account', '``'), ('account', '``', 'block'), ('``', 'block', '``'), ('block', '``', 'congress'), ('``', 'congress', 'public'), ('congress', 'public', 'learn'), ('public', 'learn', 'biden'), ('learn', 'biden', 'famili'), ('biden', 'famili', 'member'), ('famili', 'member', '’'), ('member', '’', 'busi'), ('’', 'busi', 'deal'), ('busi', 'deal', 'china'), ('deal', 'china', '.'), ('china', '.', 'congression'), ('.', 'congression', 'outcri'), ('congression', 'outcri', 'come'), ('outcri', 'come', 'whistleblow'), ('come', 'whistleblow', 'within'), ('whistleblow', 'within', 'intern'), ('within', 'intern', 'revenu'), ('intern', 'revenu', 'servic'), ('revenu', 'servic', 'alleg'), ('servic', 'alleg', 'investig'), ('alleg', 'investig', 'hunter'), ('investig', 'hunter', 'biden'), ('hunter', 'biden', 'mishandl'), ('biden', 'mishandl', 'biden'), ('mishandl', 'biden', 'administr'), ('biden', 'administr', '.'), ('administr', '.', 'whistleblow'), ('.', 'whistleblow', 'also'), ('whistleblow', 'also', 'alleg'), ('also', 'alleg', '``'), ('alleg', '``', 'clear'), ('``', 'clear', 'conflict'), ('clear', 'conflict', 'interest'), ('conflict', 'interest', '``'), ('interest', '``', 'investig'), ('``', 'investig', '.'), ('investig', '.', '``'), ('.', '``', '’'), ('``', '’', 'deepli'), ('’', 'deepli', 'concern'), ('deepli', 'concern', 'biden'), ('concern', 'biden', 'administr'), ('biden', 'administr', 'may'), ('administr', 'may', 'obstruct'), ('may', 'obstruct', 'justic'), ('obstruct', 'justic', 'block'), ('justic', 'block', 'effort'), ('block', 'effort', 'charg'), ('effort', 'charg', 'hunter'), ('charg', 'hunter', 'biden'), ('hunter', 'biden', 'tax'), ('biden', 'tax', 'violat'), ('tax', 'violat', ','), ('violat', ',', '``'), (',', '``', 'hous'), ('``', 'hous', 'committe'), ('hous', 'committe', 'oversight'), ('committe', 'oversight', 'account'), ('oversight', 'account', 'chairman'), ('account', 'chairman', 'jame'), ('chairman', 'jame', 'comer'), ('jame', 'comer', 'told'), ('comer', 'told', 'fox'), ('told', 'fox', 'new'), ('fox', 'new', 'wednesday'), ('new', 'wednesday', '.'), ('wednesday', '.', 'comer'), ('.', 'comer', ','), ('comer', ',', 'r-ky.'), (',', 'r-ky.', ','), ('r-ky.', ',', 'also'), (',', 'also', 'said'), ('also', 'said', '``'), ('said', '``', 'decept'), ('``', 'decept', ','), ('decept', ',', 'shadi'), (',', 'shadi', 'busi'), ('shadi', 'busi', 'scheme'), ('busi', 'scheme', '``'), ('scheme', '``', 'allow'), ('``', 'allow', 'biden'), ('allow', 'biden', 'make'), ('biden', 'make', '``'), ('make', '``', 'million'), ('``', 'million', 'foreign'), ('million', 'foreign', 'adversari'), ('foreign', 'adversari', 'like'), ('adversari', 'like', 'china'), ('like', 'china', '.'), ('china', '.', '``'), ('.', '``', 'hunter'), ('``', 'hunter', 'biden'), ('hunter', 'biden', 'investig'), ('biden', 'investig', 'mishandl'), ('investig', 'mishandl', ','), ('mishandl', ',', \"'clear\"), (',', \"'clear\", 'conflict'), (\"'clear\", 'conflict', 'interest'), ('conflict', 'interest', \"'\"), ('interest', \"'\", ':'), (\"'\", ':', 'ir'), (':', 'ir', 'whistleblow'), ('ir', 'whistleblow', '``'), ('whistleblow', '``', 'hous'), ('``', 'hous', 'committe'), ('hous', 'committe', 'oversight'), ('committe', 'oversight', 'account'), ('oversight', 'account', 'ha'), ('account', 'ha', 'follow'), ('ha', 'follow', 'biden'), ('follow', 'biden', '’'), ('biden', '’', 'tangl'), ('’', 'tangl', 'web'), ('tangl', 'web', 'complex'), ('web', 'complex', 'corpor'), ('complex', 'corpor', 'financi'), ('corpor', 'financi', 'record'), ('financi', 'record', '.'), ('record', '.', '’'), ('.', '’', 'clear'), ('’', 'clear', 'investig'), ('clear', 'investig', 'hunter'), ('investig', 'hunter', 'member'), ('hunter', 'member', 'biden'), ('member', 'biden', 'famili'), ('biden', 'famili', 'engag'), ('famili', 'engag', 'decept'), ('engag', 'decept', ','), ('decept', ',', 'shadi'), (',', 'shadi', 'busi'), ('shadi', 'busi', 'scheme'), ('busi', 'scheme', 'avoid'), ('scheme', 'avoid', 'scrutini'), ('avoid', 'scrutini', 'made'), ('scrutini', 'made', 'million'), ('made', 'million', 'foreign'), ('million', 'foreign', 'adversari'), ('foreign', 'adversari', 'like'), ('adversari', 'like', 'china'), ('like', 'china', ','), ('china', ',', '``'), (',', '``', 'said'), ('``', 'said', '.'), ('said', '.', '``'), ('.', '``', '’'), ('``', '’', 'wonder'), ('’', 'wonder', 'along'), ('wonder', 'along', 'heck'), ('along', 'heck', 'doj'), ('heck', 'doj', 'ir'), ('doj', 'ir', '.'), ('ir', '.', 'appear'), ('.', 'appear', 'biden'), ('appear', 'biden', 'administr'), ('biden', 'administr', 'may'), ('administr', 'may', 'work'), ('may', 'work', 'overtim'), ('work', 'overtim', 'prevent'), ('overtim', 'prevent', 'biden'), ('prevent', 'biden', 'face'), ('biden', 'face', 'ani'), ('face', 'ani', 'consequ'), ('ani', 'consequ', '.'), ('consequ', '.', '``'), ('.', '``', 'comer'), ('``', 'comer', 'ad'), ('comer', 'ad', ','), ('ad', ',', '``'), (',', '``', 'hous'), ('``', 'hous', 'oversight'), ('hous', 'oversight', 'committe'), ('oversight', 'committe', 'work'), ('committe', 'work', 'hold'), ('work', 'hold', 'account'), ('hold', 'account', 'anyon'), ('account', 'anyon', 'biden'), ('anyon', 'biden', 'administr'), ('biden', 'administr', 'may'), ('administr', 'may', 'cover'), ('may', 'cover', 'thi'), ('cover', 'thi', 'crimin'), ('thi', 'crimin', 'activ'), ('crimin', 'activ', '.'), ('activ', '.', 'oversight'), ('.', 'oversight', 'committe'), ('oversight', 'committe', 'also'), ('committe', 'also', 'continu'), ('also', 'continu', 'pursu'), ('continu', 'pursu', 'investig'), ('pursu', 'investig', 'biden'), ('investig', 'biden', 'famili'), ('biden', 'famili', '’'), ('famili', '’', 'busi'), ('’', 'busi', 'scheme'), ('busi', 'scheme', 'determin'), ('scheme', 'determin', 'presid'), ('determin', 'presid', 'biden'), ('presid', 'biden', 'nation'), ('biden', 'nation', 'secur'), ('nation', 'secur', 'compromis'), ('secur', 'compromis', '.'), ('compromis', '.', 'american'), ('.', 'american', 'demand'), ('american', 'demand', 'answer'), ('demand', 'answer', ','), ('answer', ',', 'transpar'), (',', 'transpar', ','), ('transpar', ',', 'account'), (',', 'account', '.'), ('account', '.', '``'), ('.', '``', 'presid'), ('``', 'presid', 'biden'), ('presid', 'biden', '’'), ('biden', '’', 'son'), ('’', 'son', 'hunter'), ('son', 'hunter', 'ha'), ('hunter', 'ha', 'feder'), ('ha', 'feder', 'investig'), ('feder', 'investig', 'sinc'), ('investig', 'sinc', '2018'), ('sinc', '2018', '.'), ('2018', '.', 'investig'), ('.', 'investig', 'concern'), ('investig', 'concern', 'presenc'), ('concern', 'presenc', 'suspici'), ('presenc', 'suspici', 'activ'), ('suspici', 'activ', 'report'), ('activ', 'report', '('), ('report', '(', 'sar'), ('(', 'sar', ')'), ('sar', ')', 'regard'), (')', 'regard', 'suspici'), ('regard', 'suspici', 'foreign'), ('suspici', 'foreign', 'transact'), ('foreign', 'transact', '.'), ('transact', '.', 'led'), ('.', 'led', 'delawar'), ('led', 'delawar', 'u.s.'), ('delawar', 'u.s.', 'attorney'), ('u.s.', 'attorney', 'david'), ('attorney', 'david', 'weiss'), ('david', 'weiss', '.'), ('weiss', '.', 'across'), ('.', 'across', 'congress'), ('across', 'congress', ','), ('congress', ',', 'sen.'), (',', 'sen.', 'ted'), ('sen.', 'ted', 'cruz'), ('ted', 'cruz', 'wednesday'), ('cruz', 'wednesday', 'call'), ('wednesday', 'call', 'treasuri'), ('call', 'treasuri', 'secretari'), ('treasuri', 'secretari', 'janet'), ('secretari', 'janet', 'yellen'), ('janet', 'yellen', 'publicli'), ('yellen', 'publicli', 'releas'), ('publicli', 'releas', 'sar'), ('releas', 'sar', 'found'), ('sar', 'found', 'among'), ('found', 'among', 'biden'), ('among', 'biden', 'famili'), ('biden', 'famili', '’'), ('famili', '’', 'tax'), ('’', 'tax', 'record'), ('tax', 'record', '.'), ('record', '.', '``'), ('.', '``', '’'), ('``', '’', 'nation'), ('’', 'nation', 'secur'), ('nation', 'secur', 'reason'), ('secur', 'reason', 'keep'), ('reason', 'keep', 'privat'), ('keep', 'privat', ','), ('privat', ',', '``'), (',', '``', 'cruz'), ('``', 'cruz', ','), ('cruz', ',', 'r-texa'), (',', 'r-texa', ','), ('r-texa', ',', 'said'), (',', 'said', 'dure'), ('said', 'dure', 'episod'), ('dure', 'episod', 'hi'), ('episod', 'hi', 'podcast'), ('hi', 'podcast', '.'), ('podcast', '.', '``'), ('.', '``', '’'), ('``', '’', 'reason'), ('’', 'reason', 'whatsoev'), ('reason', 'whatsoev', 'want'), ('whatsoev', 'want', 'part'), ('want', 'part', 'polit'), ('part', 'polit', 'cover-up'), ('polit', 'cover-up', '.'), ('cover-up', '.', '``'), ('.', '``', 'six'), ('``', 'six', 'addit'), ('six', 'addit', 'biden'), ('addit', 'biden', 'famili'), ('biden', 'famili', 'member'), ('famili', 'member', '‘'), ('member', '‘', 'may'), ('‘', 'may', 'benefit'), ('may', 'benefit', '’'), ('benefit', '’', 'hunter'), ('’', 'hunter', 'busi'), ('hunter', 'busi', 'deal'), ('busi', 'deal', 'sar'), ('deal', 'sar', 'alon'), ('sar', 'alon', 'indic'), ('alon', 'indic', 'wrongdo'), ('indic', 'wrongdo', 'crimin'), ('wrongdo', 'crimin', 'activ'), ('crimin', 'activ', 'could'), ('activ', 'could', 'indic'), ('could', 'indic', 'behavior'), ('indic', 'behavior', '.'), ('behavior', '.', '``'), ('.', '``', 'u.s.'), ('``', 'u.s.', 'depart'), ('u.s.', 'depart', 'treasuri'), ('depart', 'treasuri', 'need'), ('treasuri', 'need', 'releas'), ('need', 'releas', 'everi'), ('releas', 'everi', 'singl'), ('everi', 'singl', 'suspici'), ('singl', 'suspici', 'activ'), ('suspici', 'activ', 'report'), ('activ', 'report', 'biden'), ('report', 'biden', 'famili'), ('biden', 'famili', ','), ('famili', ',', '``'), (',', '``', 'cruz'), ('``', 'cruz', 'said'), ('cruz', 'said', 'wednesday'), ('said', 'wednesday', '.'), ('wednesday', '.', '``'), ('.', '``', 'janet'), ('``', 'janet', 'yellen'), ('janet', 'yellen', ','), ('yellen', ',', 'choic'), (',', 'choic', ':'), ('choic', ':', 'either'), (':', 'either', 'activ'), ('either', 'activ', 'cover'), ('activ', 'cover', 'potenti'), ('cover', 'potenti', 'evid'), ('potenti', 'evid', 'corrupt'), ('evid', 'corrupt', 'releas'), ('corrupt', 'releas', 'everi'), ('releas', 'everi', 'one'), ('everi', 'one', 'american'), ('one', 'american', 'peopl'), ('american', 'peopl', '.'), ('peopl', '.', '``'), ('.', '``', 'accord'), ('``', 'accord', 'cruz'), ('accord', 'cruz', ','), ('cruz', ',', 'american'), (',', 'american', 'public'), ('american', 'public', 'privi'), ('public', 'privi', 'learn'), ('privi', 'learn', 'whether'), ('learn', 'whether', 'presidenti'), ('whether', 'presidenti', 'famili'), ('presidenti', 'famili', 'guilti'), ('famili', 'guilti', 'fraud'), ('guilti', 'fraud', 'abus'), ('fraud', 'abus', 'offic'), ('abus', 'offic', '—'), ('offic', '—', 'innoc'), ('—', 'innoc', '.'), ('innoc', '.', 'biden'), ('.', 'biden', 'famili'), ('biden', 'famili', 'receiv'), ('famili', 'receiv', '$'), ('receiv', '$', '1m'), ('$', '1m', 'hunter'), ('1m', 'hunter', 'associ'), ('hunter', 'associ', '2017'), ('associ', '2017', 'china'), ('2017', 'china', 'wire'), ('china', 'wire', ':'), ('wire', ':', 'hous'), (':', 'hous', 'oversight'), ('hous', 'oversight', 'texa'), ('oversight', 'texa', 'republican'), ('texa', 'republican', 'said'), ('republican', 'said', 'biden'), ('said', 'biden', 'administr'), ('biden', 'administr', '``'), ('administr', '``', 'let'), ('``', 'let', 'american'), ('let', 'american', 'peopl'), ('american', 'peopl', 'decid'), ('peopl', 'decid', '``'), ('decid', '``', 'crimin'), ('``', 'crimin', 'activ'), ('crimin', 'activ', 'wa'), ('activ', 'wa', 'conduct'), ('wa', 'conduct', '.'), ('conduct', '.', 'ad'), ('.', 'ad', ','), ('ad', ',', '``'), (',', '``', 'thi'), ('``', 'thi', 'benign'), ('thi', 'benign', ','), ('benign', ',', 'releas'), (',', 'releas', 'report'), ('releas', 'report', '.'), ('report', '.', '``'), ('.', '``', '``'), ('``', '``', 'secretari'), ('``', 'secretari', 'yellen'), ('secretari', 'yellen', ','), ('yellen', ',', 'releas'), (',', 'releas', 'everi'), ('releas', 'everi', 'singl'), ('everi', 'singl', 'suspici'), ('singl', 'suspici', 'activ'), ('suspici', 'activ', 'report'), ('activ', 'report', 'biden'), ('report', 'biden', 'famili'), ('biden', 'famili', ','), ('famili', ',', '``'), (',', '``', 'cruz'), ('``', 'cruz', 'said'), ('cruz', 'said', '.'), ('said', '.', 'continu'), ('.', 'continu', '.'), ('continu', '.', '``'), ('.', '``', '’'), ('``', '’', 'releas'), ('’', 'releas', 'report'), ('releas', 'report', ','), ('report', ',', 'complicit'), (',', 'complicit', 'cover-up'), ('complicit', 'cover-up', '.'), ('cover-up', '.', '``'), ('.', '``', 'letter'), ('``', 'letter', 'date'), ('letter', 'date', 'april'), ('date', 'april', '19'), ('april', '19', ','), ('19', ',', '2023'), (',', '2023', ','), ('2023', ',', 'attorney'), (',', 'attorney', 'mark'), ('attorney', 'mark', 'd.'), ('mark', 'd.', 'lytl'), ('d.', 'lytl', 'told'), ('lytl', 'told', 'member'), ('told', 'member', 'congress'), ('member', 'congress', 'client'), ('congress', 'client', 'hi'), ('client', 'hi', 'ha'), ('hi', 'ha', 'overse'), ('ha', 'overse', '``'), ('overse', '``', 'ongo'), ('``', 'ongo', 'sensit'), ('ongo', 'sensit', 'investig'), ('sensit', 'investig', 'high-profil'), ('investig', 'high-profil', ','), ('high-profil', ',', 'controversi'), (',', 'controversi', 'subject'), ('controversi', 'subject', 'sinc'), ('subject', 'sinc', 'earli'), ('sinc', 'earli', '2020'), ('earli', '2020', 'would'), ('2020', 'would', 'like'), ('would', 'like', 'make'), ('like', 'make', 'protect'), ('make', 'protect', 'whistleblow'), ('protect', 'whistleblow', 'disclosur'), ('whistleblow', 'disclosur', 'congress'), ('disclosur', 'congress', '.'), ('congress', '.', '``'), ('.', '``', 'client'), ('``', 'client', 'allegedli'), ('client', 'allegedli', 'awar'), ('allegedli', 'awar', 'fact'), ('awar', 'fact', 'case'), ('fact', 'case', '``'), ('case', '``', 'contradict'), ('``', 'contradict', 'sworn'), ('contradict', 'sworn', 'testimoni'), ('sworn', 'testimoni', 'congress'), ('testimoni', 'congress', 'senior'), ('congress', 'senior', 'polit'), ('senior', 'polit', 'appointe'), ('polit', 'appointe', '.'), ('appointe', '.', '``'), ('.', '``', 'click'), ('``', 'click', 'get'), ('click', 'get', 'fox'), ('get', 'fox', 'new'), ('fox', 'new', 'app'), ('new', 'app', 'lytl'), ('app', 'lytl', 'work'), ('lytl', 'work', 'washington'), ('work', 'washington', ','), ('washington', ',', 'd.c.'), (',', 'd.c.', ','), ('d.c.', ',', '-base'), (',', '-base', 'law'), ('-base', 'law', 'firm'), ('law', 'firm', 'nixon'), ('firm', 'nixon', 'peabodi'), ('nixon', 'peabodi', 'llp'), ('peabodi', 'llp', '.'), ('llp', '.', 'neither'), ('.', 'neither', 'hunter'), ('neither', 'hunter', 'biden'), ('hunter', 'biden', 'ani'), ('biden', 'ani', 'member'), ('ani', 'member', 'hi'), ('member', 'hi', 'famili'), ('hi', 'famili', 'ha'), ('famili', 'ha', 'charg'), ('ha', 'charg', 'crime'), ('charg', 'crime', 'relat'), ('crime', 'relat', 'sar'), ('relat', 'sar', '.'), ('sar', '.', 'fox'), ('.', 'fox', 'new'), ('fox', 'new', \"'\"), ('new', \"'\", 'patrick'), (\"'\", 'patrick', 'ward'), ('patrick', 'ward', ','), ('ward', ',', 'greg'), (',', 'greg', 'wehner'), ('greg', 'wehner', 'contribut'), ('wehner', 'contribut', 'thi'), ('contribut', 'thi', 'report'), ('thi', 'report', '.')]\n"
     ]
    }
   ],
   "source": [
    "bigrams = list(nltk.bigrams(filtered_tokens))\n",
    "trigrams = list(nltk.trigrams(filtered_tokens))\n",
    "\n",
    "# Print the results\n",
    "print(\"Bigrams:\")\n",
    "print(bigrams)\n",
    "print(\"Trigrams:\")\n",
    "print(trigrams)"
   ]
  },
  {
   "cell_type": "code",
   "execution_count": 47,
   "metadata": {},
   "outputs": [],
   "source": [
    "def lemmatize_bigrams(bigrams):\n",
    "    lemmatizer = WordNetLemmatizer()\n",
    "    \n",
    "    lemmatized_bigrams = []\n",
    "    for bigram in bigrams:\n",
    "        lemma1 = lemmatizer.lemmatize(bigram[0])\n",
    "        lemma2 = lemmatizer.lemmatize(bigram[1])\n",
    "        lemmatized_bigrams.append([lemma1, lemma2])  # Append as a list instead of a tuple, for the dictionary (list of lists)\n",
    "    return lemmatized_bigrams\n"
   ]
  },
  {
   "cell_type": "code",
   "execution_count": 48,
   "metadata": {},
   "outputs": [
    {
     "name": "stdout",
     "output_type": "stream",
     "text": [
      "[['republican', 'respond'], ['respond', 'ir'], ['ir', 'whistleblow'], ['whistleblow', 'say'], ['say', 'hunter'], ['hunter', 'biden'], ['biden', 'investig'], ['investig', 'mishandl'], ['mishandl', 'member'], ['member', 'congress'], ['congress', 'call'], ['call', 'transpar'], ['transpar', 'biden'], ['biden', 'administr'], ['administr', 'ir'], ['ir', 'whistleblow'], ['whistleblow', 'said'], ['said', 'investig'], ['investig', 'hunter'], ['hunter', 'biden'], ['biden', 'mishandl'], ['mishandl', '.'], ['.', 'lawmak'], ['lawmak', 'capitol'], ['capitol', 'hill'], ['hill', 'call'], ['call', 'biden'], ['biden', 'administr'], ['administr', 'held'], ['held', 'account'], ['account', '``'], ['``', 'block'], ['block', '``'], ['``', 'congress'], ['congress', 'public'], ['public', 'learn'], ['learn', 'biden'], ['biden', 'famili'], ['famili', 'member'], ['member', '’'], ['’', 'busi'], ['busi', 'deal'], ['deal', 'china'], ['china', '.'], ['.', 'congression'], ['congression', 'outcri'], ['outcri', 'come'], ['come', 'whistleblow'], ['whistleblow', 'within'], ['within', 'intern'], ['intern', 'revenu'], ['revenu', 'servic'], ['servic', 'alleg'], ['alleg', 'investig'], ['investig', 'hunter'], ['hunter', 'biden'], ['biden', 'mishandl'], ['mishandl', 'biden'], ['biden', 'administr'], ['administr', '.'], ['.', 'whistleblow'], ['whistleblow', 'also'], ['also', 'alleg'], ['alleg', '``'], ['``', 'clear'], ['clear', 'conflict'], ['conflict', 'interest'], ['interest', '``'], ['``', 'investig'], ['investig', '.'], ['.', '``'], ['``', '’'], ['’', 'deepli'], ['deepli', 'concern'], ['concern', 'biden'], ['biden', 'administr'], ['administr', 'may'], ['may', 'obstruct'], ['obstruct', 'justic'], ['justic', 'block'], ['block', 'effort'], ['effort', 'charg'], ['charg', 'hunter'], ['hunter', 'biden'], ['biden', 'tax'], ['tax', 'violat'], ['violat', ','], [',', '``'], ['``', 'hous'], ['hous', 'committe'], ['committe', 'oversight'], ['oversight', 'account'], ['account', 'chairman'], ['chairman', 'jame'], ['jame', 'comer'], ['comer', 'told'], ['told', 'fox'], ['fox', 'new'], ['new', 'wednesday'], ['wednesday', '.'], ['.', 'comer'], ['comer', ','], [',', 'r-ky.'], ['r-ky.', ','], [',', 'also'], ['also', 'said'], ['said', '``'], ['``', 'decept'], ['decept', ','], [',', 'shadi'], ['shadi', 'busi'], ['busi', 'scheme'], ['scheme', '``'], ['``', 'allow'], ['allow', 'biden'], ['biden', 'make'], ['make', '``'], ['``', 'million'], ['million', 'foreign'], ['foreign', 'adversari'], ['adversari', 'like'], ['like', 'china'], ['china', '.'], ['.', '``'], ['``', 'hunter'], ['hunter', 'biden'], ['biden', 'investig'], ['investig', 'mishandl'], ['mishandl', ','], [',', \"'clear\"], [\"'clear\", 'conflict'], ['conflict', 'interest'], ['interest', \"'\"], [\"'\", ':'], [':', 'ir'], ['ir', 'whistleblow'], ['whistleblow', '``'], ['``', 'hous'], ['hous', 'committe'], ['committe', 'oversight'], ['oversight', 'account'], ['account', 'ha'], ['ha', 'follow'], ['follow', 'biden'], ['biden', '’'], ['’', 'tangl'], ['tangl', 'web'], ['web', 'complex'], ['complex', 'corpor'], ['corpor', 'financi'], ['financi', 'record'], ['record', '.'], ['.', '’'], ['’', 'clear'], ['clear', 'investig'], ['investig', 'hunter'], ['hunter', 'member'], ['member', 'biden'], ['biden', 'famili'], ['famili', 'engag'], ['engag', 'decept'], ['decept', ','], [',', 'shadi'], ['shadi', 'busi'], ['busi', 'scheme'], ['scheme', 'avoid'], ['avoid', 'scrutini'], ['scrutini', 'made'], ['made', 'million'], ['million', 'foreign'], ['foreign', 'adversari'], ['adversari', 'like'], ['like', 'china'], ['china', ','], [',', '``'], ['``', 'said'], ['said', '.'], ['.', '``'], ['``', '’'], ['’', 'wonder'], ['wonder', 'along'], ['along', 'heck'], ['heck', 'doj'], ['doj', 'ir'], ['ir', '.'], ['.', 'appear'], ['appear', 'biden'], ['biden', 'administr'], ['administr', 'may'], ['may', 'work'], ['work', 'overtim'], ['overtim', 'prevent'], ['prevent', 'biden'], ['biden', 'face'], ['face', 'ani'], ['ani', 'consequ'], ['consequ', '.'], ['.', '``'], ['``', 'comer'], ['comer', 'ad'], ['ad', ','], [',', '``'], ['``', 'hous'], ['hous', 'oversight'], ['oversight', 'committe'], ['committe', 'work'], ['work', 'hold'], ['hold', 'account'], ['account', 'anyon'], ['anyon', 'biden'], ['biden', 'administr'], ['administr', 'may'], ['may', 'cover'], ['cover', 'thi'], ['thi', 'crimin'], ['crimin', 'activ'], ['activ', '.'], ['.', 'oversight'], ['oversight', 'committe'], ['committe', 'also'], ['also', 'continu'], ['continu', 'pursu'], ['pursu', 'investig'], ['investig', 'biden'], ['biden', 'famili'], ['famili', '’'], ['’', 'busi'], ['busi', 'scheme'], ['scheme', 'determin'], ['determin', 'presid'], ['presid', 'biden'], ['biden', 'nation'], ['nation', 'secur'], ['secur', 'compromis'], ['compromis', '.'], ['.', 'american'], ['american', 'demand'], ['demand', 'answer'], ['answer', ','], [',', 'transpar'], ['transpar', ','], [',', 'account'], ['account', '.'], ['.', '``'], ['``', 'presid'], ['presid', 'biden'], ['biden', '’'], ['’', 'son'], ['son', 'hunter'], ['hunter', 'ha'], ['ha', 'feder'], ['feder', 'investig'], ['investig', 'sinc'], ['sinc', '2018'], ['2018', '.'], ['.', 'investig'], ['investig', 'concern'], ['concern', 'presenc'], ['presenc', 'suspici'], ['suspici', 'activ'], ['activ', 'report'], ['report', '('], ['(', 'sar'], ['sar', ')'], [')', 'regard'], ['regard', 'suspici'], ['suspici', 'foreign'], ['foreign', 'transact'], ['transact', '.'], ['.', 'led'], ['led', 'delawar'], ['delawar', 'u.s.'], ['u.s.', 'attorney'], ['attorney', 'david'], ['david', 'wei'], ['wei', '.'], ['.', 'across'], ['across', 'congress'], ['congress', ','], [',', 'sen.'], ['sen.', 'ted'], ['ted', 'cruz'], ['cruz', 'wednesday'], ['wednesday', 'call'], ['call', 'treasuri'], ['treasuri', 'secretari'], ['secretari', 'janet'], ['janet', 'yellen'], ['yellen', 'publicli'], ['publicli', 'releas'], ['releas', 'sar'], ['sar', 'found'], ['found', 'among'], ['among', 'biden'], ['biden', 'famili'], ['famili', '’'], ['’', 'tax'], ['tax', 'record'], ['record', '.'], ['.', '``'], ['``', '’'], ['’', 'nation'], ['nation', 'secur'], ['secur', 'reason'], ['reason', 'keep'], ['keep', 'privat'], ['privat', ','], [',', '``'], ['``', 'cruz'], ['cruz', ','], [',', 'r-texa'], ['r-texa', ','], [',', 'said'], ['said', 'dure'], ['dure', 'episod'], ['episod', 'hi'], ['hi', 'podcast'], ['podcast', '.'], ['.', '``'], ['``', '’'], ['’', 'reason'], ['reason', 'whatsoev'], ['whatsoev', 'want'], ['want', 'part'], ['part', 'polit'], ['polit', 'cover-up'], ['cover-up', '.'], ['.', '``'], ['``', 'six'], ['six', 'addit'], ['addit', 'biden'], ['biden', 'famili'], ['famili', 'member'], ['member', '‘'], ['‘', 'may'], ['may', 'benefit'], ['benefit', '’'], ['’', 'hunter'], ['hunter', 'busi'], ['busi', 'deal'], ['deal', 'sar'], ['sar', 'alon'], ['alon', 'indic'], ['indic', 'wrongdo'], ['wrongdo', 'crimin'], ['crimin', 'activ'], ['activ', 'could'], ['could', 'indic'], ['indic', 'behavior'], ['behavior', '.'], ['.', '``'], ['``', 'u.s.'], ['u.s.', 'depart'], ['depart', 'treasuri'], ['treasuri', 'need'], ['need', 'releas'], ['releas', 'everi'], ['everi', 'singl'], ['singl', 'suspici'], ['suspici', 'activ'], ['activ', 'report'], ['report', 'biden'], ['biden', 'famili'], ['famili', ','], [',', '``'], ['``', 'cruz'], ['cruz', 'said'], ['said', 'wednesday'], ['wednesday', '.'], ['.', '``'], ['``', 'janet'], ['janet', 'yellen'], ['yellen', ','], [',', 'choic'], ['choic', ':'], [':', 'either'], ['either', 'activ'], ['activ', 'cover'], ['cover', 'potenti'], ['potenti', 'evid'], ['evid', 'corrupt'], ['corrupt', 'releas'], ['releas', 'everi'], ['everi', 'one'], ['one', 'american'], ['american', 'peopl'], ['peopl', '.'], ['.', '``'], ['``', 'accord'], ['accord', 'cruz'], ['cruz', ','], [',', 'american'], ['american', 'public'], ['public', 'privi'], ['privi', 'learn'], ['learn', 'whether'], ['whether', 'presidenti'], ['presidenti', 'famili'], ['famili', 'guilti'], ['guilti', 'fraud'], ['fraud', 'abus'], ['abus', 'offic'], ['offic', '—'], ['—', 'innoc'], ['innoc', '.'], ['.', 'biden'], ['biden', 'famili'], ['famili', 'receiv'], ['receiv', '$'], ['$', '1m'], ['1m', 'hunter'], ['hunter', 'associ'], ['associ', '2017'], ['2017', 'china'], ['china', 'wire'], ['wire', ':'], [':', 'hous'], ['hous', 'oversight'], ['oversight', 'texa'], ['texa', 'republican'], ['republican', 'said'], ['said', 'biden'], ['biden', 'administr'], ['administr', '``'], ['``', 'let'], ['let', 'american'], ['american', 'peopl'], ['peopl', 'decid'], ['decid', '``'], ['``', 'crimin'], ['crimin', 'activ'], ['activ', 'wa'], ['wa', 'conduct'], ['conduct', '.'], ['.', 'ad'], ['ad', ','], [',', '``'], ['``', 'thi'], ['thi', 'benign'], ['benign', ','], [',', 'releas'], ['releas', 'report'], ['report', '.'], ['.', '``'], ['``', '``'], ['``', 'secretari'], ['secretari', 'yellen'], ['yellen', ','], [',', 'releas'], ['releas', 'everi'], ['everi', 'singl'], ['singl', 'suspici'], ['suspici', 'activ'], ['activ', 'report'], ['report', 'biden'], ['biden', 'famili'], ['famili', ','], [',', '``'], ['``', 'cruz'], ['cruz', 'said'], ['said', '.'], ['.', 'continu'], ['continu', '.'], ['.', '``'], ['``', '’'], ['’', 'releas'], ['releas', 'report'], ['report', ','], [',', 'complicit'], ['complicit', 'cover-up'], ['cover-up', '.'], ['.', '``'], ['``', 'letter'], ['letter', 'date'], ['date', 'april'], ['april', '19'], ['19', ','], [',', '2023'], ['2023', ','], [',', 'attorney'], ['attorney', 'mark'], ['mark', 'd.'], ['d.', 'lytl'], ['lytl', 'told'], ['told', 'member'], ['member', 'congress'], ['congress', 'client'], ['client', 'hi'], ['hi', 'ha'], ['ha', 'overse'], ['overse', '``'], ['``', 'ongo'], ['ongo', 'sensit'], ['sensit', 'investig'], ['investig', 'high-profil'], ['high-profil', ','], [',', 'controversi'], ['controversi', 'subject'], ['subject', 'sinc'], ['sinc', 'earli'], ['earli', '2020'], ['2020', 'would'], ['would', 'like'], ['like', 'make'], ['make', 'protect'], ['protect', 'whistleblow'], ['whistleblow', 'disclosur'], ['disclosur', 'congress'], ['congress', '.'], ['.', '``'], ['``', 'client'], ['client', 'allegedli'], ['allegedli', 'awar'], ['awar', 'fact'], ['fact', 'case'], ['case', '``'], ['``', 'contradict'], ['contradict', 'sworn'], ['sworn', 'testimoni'], ['testimoni', 'congress'], ['congress', 'senior'], ['senior', 'polit'], ['polit', 'appointe'], ['appointe', '.'], ['.', '``'], ['``', 'click'], ['click', 'get'], ['get', 'fox'], ['fox', 'new'], ['new', 'app'], ['app', 'lytl'], ['lytl', 'work'], ['work', 'washington'], ['washington', ','], [',', 'd.c.'], ['d.c.', ','], [',', '-base'], ['-base', 'law'], ['law', 'firm'], ['firm', 'nixon'], ['nixon', 'peabodi'], ['peabodi', 'llp'], ['llp', '.'], ['.', 'neither'], ['neither', 'hunter'], ['hunter', 'biden'], ['biden', 'ani'], ['ani', 'member'], ['member', 'hi'], ['hi', 'famili'], ['famili', 'ha'], ['ha', 'charg'], ['charg', 'crime'], ['crime', 'relat'], ['relat', 'sar'], ['sar', '.'], ['.', 'fox'], ['fox', 'new'], ['new', \"'\"], [\"'\", 'patrick'], ['patrick', 'ward'], ['ward', ','], [',', 'greg'], ['greg', 'wehner'], ['wehner', 'contribut'], ['contribut', 'thi'], ['thi', 'report'], ['report', '.']]\n"
     ]
    }
   ],
   "source": [
    "lemmatized_bigrams = lemmatize_bigrams(bigrams)\n",
    "\n",
    "print(lemmatized_bigrams)"
   ]
  }
 ],
 "metadata": {
  "kernelspec": {
   "display_name": "Python 3",
   "language": "python",
   "name": "python3"
  },
  "language_info": {
   "codemirror_mode": {
    "name": "ipython",
    "version": 3
   },
   "file_extension": ".py",
   "mimetype": "text/x-python",
   "name": "python",
   "nbconvert_exporter": "python",
   "pygments_lexer": "ipython3",
   "version": "3.10.12"
  },
  "orig_nbformat": 4
 },
 "nbformat": 4,
 "nbformat_minor": 2
}
