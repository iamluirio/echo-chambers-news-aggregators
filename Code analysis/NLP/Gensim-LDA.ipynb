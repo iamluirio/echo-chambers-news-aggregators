{
 "cells": [
  {
   "attachments": {},
   "cell_type": "markdown",
   "metadata": {},
   "source": [
    "# Topic Modeling using Gensim-LDA in Python"
   ]
  },
  {
   "attachments": {},
   "cell_type": "markdown",
   "metadata": {},
   "source": [
    "Topic modeling is technique to extract the hidden topics from large volumes of text. Topic model is a probabilistic model which contain information about the text.\n",
    "\n",
    "Ex: If it is a news paper corpus it may have topics like economics, sports, politics, weather.\n",
    "\n",
    "Topic models are useful for purpose of document clustering, organizing large blocks of textual data, information retrieval from unstructured text and feature selection. Finding good topics depends on the quality of text processing , the choice of the topic modeling algorithm, the number of topics specified in the algorithm."
   ]
  },
  {
   "attachments": {},
   "cell_type": "markdown",
   "metadata": {},
   "source": [
    "LDA’s approach to topic modeling is, it considers each document as a collection of topics and each topic as collection of keywords. Once you provide the algorithm with number of topics all it does is to rearrange the topic distribution within documents and key word distribution within the topics to obtain good composition of topic-keyword distribution.\n",
    "\n",
    "Topics are nothing but collection of prominent keywords or words with highest probability in topic , which helps to identify what the topics are about."
   ]
  },
  {
   "cell_type": "code",
   "execution_count": 54,
   "metadata": {},
   "outputs": [],
   "source": [
    "import newspaper\n",
    "import re\n",
    "import numpy as np\n",
    "import pandas as  pd\n",
    "from pprint import pprint\n",
    "import gensim\n",
    "import gensim.corpora as corpora\n",
    "from gensim.utils import simple_preprocess\n",
    "from gensim.models import CoherenceModel\n",
    "import spacy\n",
    "import pyLDAvis\n",
    "import pyLDAvis.gensim\n",
    "import matplotlib.pyplot as plt\n",
    "%matplotlib inline\n",
    "from gensim.corpora import Dictionary\n",
    "from gensim.models.ldamodel import LdaModel\n",
    "import pyLDAvis.gensim_models as gensimvis\n",
    "from gensim.models import Phrases\n",
    "from gensim.models.phrases import Phraser\n",
    "\n",
    "from nltk.corpus import stopwords\n",
    "from nltk.stem import WordNetLemmatizer\n",
    "from nltk import pos_tag\n",
    "from nltk.corpus import wordnet\n"
   ]
  },
  {
   "cell_type": "code",
   "execution_count": 55,
   "metadata": {},
   "outputs": [
    {
     "name": "stderr",
     "output_type": "stream",
     "text": [
      "[nltk_data] Downloading package stopwords to\n",
      "[nltk_data]     /home/pierluigi/nltk_data...\n",
      "[nltk_data]   Package stopwords is already up-to-date!\n",
      "[nltk_data] Downloading package punkt to /home/pierluigi/nltk_data...\n",
      "[nltk_data]   Package punkt is already up-to-date!\n",
      "[nltk_data] Downloading package averaged_perceptron_tagger to\n",
      "[nltk_data]     /home/pierluigi/nltk_data...\n",
      "[nltk_data]   Package averaged_perceptron_tagger is already up-to-\n",
      "[nltk_data]       date!\n",
      "[nltk_data] Downloading package wordnet to\n",
      "[nltk_data]     /home/pierluigi/nltk_data...\n",
      "[nltk_data]   Package wordnet is already up-to-date!\n"
     ]
    }
   ],
   "source": [
    "import nltk\n",
    "nltk.download('stopwords')\n",
    "stop_words = set(nltk.corpus.stopwords.words('english'))\n",
    "nltk.download('punkt')\n",
    "nltk.download('averaged_perceptron_tagger')\n",
    "nltk.download('wordnet')\n",
    "\n",
    "nlp = spacy.load(\"en_core_web_sm\")"
   ]
  },
  {
   "attachments": {},
   "cell_type": "markdown",
   "metadata": {},
   "source": [
    "# Getting the article from the url"
   ]
  },
  {
   "cell_type": "code",
   "execution_count": 56,
   "metadata": {},
   "outputs": [],
   "source": [
    "url = \"https://www.foxnews.com/politics/republicans-respond-after-irs-whistleblower-says-hunter-biden-investigation-being-mishandled\""
   ]
  },
  {
   "cell_type": "code",
   "execution_count": 57,
   "metadata": {},
   "outputs": [],
   "source": [
    "def get_article_info(url):\n",
    "    # Create a newspaper Article object\n",
    "    article = newspaper.Article(url)\n",
    "\n",
    "    # Download and parse the article\n",
    "    article.download()\n",
    "    article.parse()\n",
    "\n",
    "    # Extract the title, subtitle, description, and main text\n",
    "    title = article.title.strip()\n",
    "    subtitle = article.meta_data.get(\"description\", \"\").strip()\n",
    "    description = article.meta_description.strip()\n",
    "    text = article.text.strip()\n",
    "\n",
    "    # Set the subtitle to the description if it is empty\n",
    "    if not subtitle:\n",
    "        subtitle = description.strip()\n",
    "\n",
    "    # Concatenate the extracted strings\n",
    "    article_text = f\"{title}\\n\\n{subtitle}\\n\\n{text}\"\n",
    "\n",
    "    # Return the concatenated string\n",
    "    return article_text"
   ]
  },
  {
   "cell_type": "code",
   "execution_count": 58,
   "metadata": {},
   "outputs": [],
   "source": [
    "article = get_article_info(url)"
   ]
  },
  {
   "attachments": {},
   "cell_type": "markdown",
   "metadata": {},
   "source": [
    "# Removing emails, newline characters and punctuations"
   ]
  },
  {
   "cell_type": "code",
   "execution_count": 59,
   "metadata": {},
   "outputs": [
    {
     "name": "stdout",
     "output_type": "stream",
     "text": [
      "Republicans respond after IRS whistleblower says Hunter Biden investigation is being mishandled  Members of Congress are calling for more transparency from the Biden administration after an IRS whistleblower said an investigation into Hunter Biden is being mishandled  Lawmakers on Capitol Hill are calling for the Biden administration to be held accountable for blocking Congress and the public from learning more about Biden family members business deals with China  The congressional outcries come as a whistleblower within the Internal Revenue Service alleges an investigation into Hunter Biden is being mishandled by the Biden administration The whistleblower also alleges clear conflicts of interest in the investigation  Its deeply concerning that the Biden Administration may be obstructing justice by blocking efforts to charge Hunter Biden for tax violations House Committee on Oversight and Accountability Chairman James Comer told Fox News on Wednesday  Comer RKy also said deceptive shady business schemes have allowed the Bidens to make millions from foreign adversaries like China  HUNTER BIDEN INVESTIGATION BEING MISHANDLED CLEAR CONFLICTS OF INTEREST IRS WHISTLEBLOWER  The House Committee on Oversight and Accountability has been following the Bidens tangled web of complex corporate and financial records Its clear from our investigation that Hunter and other members of the Biden family engaged in deceptive shady business schemes to avoid scrutiny as they made millions from foreign adversaries like China he said Weve been wondering all along where the heck the DOJ and the IRS have been Now it appears the Biden Administration may have been working overtime to prevent the Bidens from facing any consequences  Comer added The House Oversight Committee will work to hold accountable anyone in the Biden Administration who may be covering up this criminal activity The Oversight Committee will also continue to pursue our investigation into the Biden familys business schemes to determine if President Biden and our national security are compromised Americans demand answers transparency and accountability  President Bidens son Hunter has been under federal investigation since 2018 The investigation concerns the presence of suspicious activity reports SARs regarding suspicious foreign transactions  It is being led by Delaware US Attorney David Weiss  Across Congress Sen Ted Cruz on Wednesday called for Treasury Secretary Janet Yellen to publicly release the SARs found among the Biden familys tax records  Theres no national security reason to keep them private Cruz RTexas said during an episode of his podcast Theres no reason whatsoever other than if you want to be part of a political coverup  SIX ADDITIONAL BIDEN FAMILY MEMBERS MAY HAVE BENEFITED FROM HUNTER BUSINESS DEALINGS  SARs alone do not indicate wrongdoing or criminal activity but could be an indicator of such behavior  The US Department of Treasury needs to release every single suspicious activity report on the Biden family Cruz said on Wednesday Janet Yellen you have a choice You are either actively covering up potential evidence of corruption or releasing every one of them to the American people  According to Cruz the American public should be privy to learning whether the presidential family is guilty of fraud or other abuses of office  or if he is innocent  BIDEN FAMILY RECEIVED MORE THAN 1M FROM HUNTER ASSOCIATE AFTER 2017 CHINA WIRE HOUSE OVERSIGHT  The Texas Republican said the Biden administration should let the American people decide if criminal activity was conducted He added If this is benign release the reports  Secretary Yellen release every single suspicious activity report on the Biden family Cruz said He continued If she doesnt release those reports she is complicit in the coverup  In a letter dated April 19 2023 attorney Mark D Lytle told members of Congress that a client of his has been overseeing the ongoing and sensitive investigation of a highprofile controversial subject since early 2020 and would like to make protected whistleblower disclosures to Congress  And that the client is allegedly aware of facts of the case that contradict sworn testimony to Congress by a senior political appointee  CLICK HERE TO GET THE FOX NEWS APP  Lytle works for the Washington DCbased law firm Nixon Peabody LLP  Neither Hunter Biden nor any member of his family has been charged with a crime relating to the SARs  Fox News Patrick Ward Greg Wehner contributed to this report\n"
     ]
    }
   ],
   "source": [
    "# Remove emails\n",
    "text_data = re.sub(r'\\S+@\\S+', '', article)\n",
    "\n",
    "# Remove newline characters\n",
    "text_data = re.sub(r'\\n', ' ', text_data)\n",
    "\n",
    "# Remove punctuations\n",
    "text_data = re.sub(r'[^\\w\\s]', '', text_data)\n",
    "\n",
    "print(text_data)"
   ]
  },
  {
   "attachments": {},
   "cell_type": "markdown",
   "metadata": {},
   "source": [
    "# Tokenize words and cleanup the text, removing stop words"
   ]
  },
  {
   "cell_type": "code",
   "execution_count": 60,
   "metadata": {},
   "outputs": [
    {
     "name": "stdout",
     "output_type": "stream",
     "text": [
      "['Republicans', 'respond', 'IRS', 'whistleblower', 'says', 'Hunter', 'Biden', 'investigation', 'mishandled', 'Members', 'Congress', 'calling', 'transparency', 'Biden', 'administration', 'IRS', 'whistleblower', 'said', 'investigation', 'Hunter', 'Biden', 'mishandled', 'Lawmakers', 'Capitol', 'Hill', 'calling', 'Biden', 'administration', 'held', 'accountable', 'blocking', 'Congress', 'public', 'learning', 'Biden', 'family', 'members', 'business', 'deals', 'China', 'congressional', 'outcries', 'come', 'whistleblower', 'within', 'Internal', 'Revenue', 'Service', 'alleges', 'investigation', 'Hunter', 'Biden', 'mishandled', 'Biden', 'administration', 'whistleblower', 'also', 'alleges', 'clear', 'conflicts', 'interest', 'investigation', 'deeply', 'concerning', 'Biden', 'Administration', 'may', 'obstructing', 'justice', 'blocking', 'efforts', 'charge', 'Hunter', 'Biden', 'tax', 'violations', 'House', 'Committee', 'Oversight', 'Accountability', 'Chairman', 'James', 'Comer', 'told', 'Fox', 'News', 'Wednesday', 'Comer', 'RKy', 'also', 'said', 'deceptive', 'shady', 'business', 'schemes', 'allowed', 'Bidens', 'make', 'millions', 'foreign', 'adversaries', 'like', 'China', 'HUNTER', 'BIDEN', 'INVESTIGATION', 'MISHANDLED', 'CLEAR', 'CONFLICTS', 'INTEREST', 'IRS', 'WHISTLEBLOWER', 'House', 'Committee', 'Oversight', 'Accountability', 'following', 'Bidens', 'tangled', 'web', 'complex', 'corporate', 'financial', 'records', 'clear', 'investigation', 'Hunter', 'members', 'Biden', 'family', 'engaged', 'deceptive', 'shady', 'business', 'schemes', 'avoid', 'scrutiny', 'made', 'millions', 'foreign', 'adversaries', 'like', 'China', 'said', 'Weve', 'wondering', 'along', 'heck', 'DOJ', 'IRS', 'appears', 'Biden', 'Administration', 'may', 'working', 'overtime', 'prevent', 'Bidens', 'facing', 'consequences', 'Comer', 'added', 'House', 'Oversight', 'Committee', 'work', 'hold', 'accountable', 'anyone', 'Biden', 'Administration', 'may', 'covering', 'criminal', 'activity', 'Oversight', 'Committee', 'also', 'continue', 'pursue', 'investigation', 'Biden', 'familys', 'business', 'schemes', 'determine', 'President', 'Biden', 'national', 'security', 'compromised', 'Americans', 'demand', 'answers', 'transparency', 'accountability', 'President', 'Bidens', 'son', 'Hunter', 'federal', 'investigation', 'since', '2018', 'investigation', 'concerns', 'presence', 'suspicious', 'activity', 'reports', 'SARs', 'regarding', 'suspicious', 'foreign', 'transactions', 'led', 'Delaware', 'US', 'Attorney', 'David', 'Weiss', 'Across', 'Congress', 'Sen', 'Ted', 'Cruz', 'Wednesday', 'called', 'Treasury', 'Secretary', 'Janet', 'Yellen', 'publicly', 'release', 'SARs', 'found', 'among', 'Biden', 'familys', 'tax', 'records', 'Theres', 'national', 'security', 'reason', 'keep', 'private', 'Cruz', 'RTexas', 'said', 'episode', 'podcast', 'Theres', 'reason', 'whatsoever', 'want', 'part', 'political', 'coverup', 'SIX', 'ADDITIONAL', 'BIDEN', 'FAMILY', 'MEMBERS', 'MAY', 'BENEFITED', 'HUNTER', 'BUSINESS', 'DEALINGS', 'SARs', 'alone', 'indicate', 'wrongdoing', 'criminal', 'activity', 'could', 'indicator', 'behavior', 'US', 'Department', 'Treasury', 'needs', 'release', 'every', 'single', 'suspicious', 'activity', 'report', 'Biden', 'family', 'Cruz', 'said', 'Wednesday', 'Janet', 'Yellen', 'choice', 'either', 'actively', 'covering', 'potential', 'evidence', 'corruption', 'releasing', 'every', 'one', 'American', 'people', 'According', 'Cruz', 'American', 'public', 'privy', 'learning', 'whether', 'presidential', 'family', 'guilty', 'fraud', 'abuses', 'office', 'innocent', 'BIDEN', 'FAMILY', 'RECEIVED', '1M', 'HUNTER', 'ASSOCIATE', '2017', 'CHINA', 'WIRE', 'HOUSE', 'OVERSIGHT', 'Texas', 'Republican', 'said', 'Biden', 'administration', 'let', 'American', 'people', 'decide', 'criminal', 'activity', 'conducted', 'added', 'benign', 'release', 'reports', 'Secretary', 'Yellen', 'release', 'every', 'single', 'suspicious', 'activity', 'report', 'Biden', 'family', 'Cruz', 'said', 'continued', 'doesnt', 'release', 'reports', 'complicit', 'coverup', 'letter', 'dated', 'April', '19', '2023', 'attorney', 'Mark', 'Lytle', 'told', 'members', 'Congress', 'client', 'overseeing', 'ongoing', 'sensitive', 'investigation', 'highprofile', 'controversial', 'subject', 'since', 'early', '2020', 'would', 'like', 'make', 'protected', 'whistleblower', 'disclosures', 'Congress', 'client', 'allegedly', 'aware', 'facts', 'case', 'contradict', 'sworn', 'testimony', 'Congress', 'senior', 'political', 'appointee', 'CLICK', 'GET', 'FOX', 'NEWS', 'APP', 'Lytle', 'works', 'Washington', 'DCbased', 'law', 'firm', 'Nixon', 'Peabody', 'LLP', 'Neither', 'Hunter', 'Biden', 'member', 'family', 'charged', 'crime', 'relating', 'SARs', 'Fox', 'News', 'Patrick', 'Ward', 'Greg', 'Wehner', 'contributed', 'report']\n"
     ]
    }
   ],
   "source": [
    "# Tokenize the input string\n",
    "tokens = nltk.word_tokenize(text_data)\n",
    "\n",
    "# Define the stop words to be removed\n",
    "stop_words = set(stopwords.words('english'))\n",
    "\n",
    "# Remove stop words\n",
    "filtered_tokens = [word for word in tokens if word.lower() not in stop_words]\n",
    "\n",
    "print(filtered_tokens)\n"
   ]
  },
  {
   "attachments": {},
   "cell_type": "markdown",
   "metadata": {},
   "source": [
    "# Bigram and Trigram models"
   ]
  },
  {
   "attachments": {},
   "cell_type": "markdown",
   "metadata": {},
   "source": [
    "A bigram model is a language model that uses a history of one preceding word to predict the next word. It is a type of n-gram model, where n is the number of words in the history. For example, a bigram model would predict the word \"dog\" given the preceding word \"the\" as \"the dog\".\n",
    "\n",
    "A trigram model, on the other hand, uses a history of two preceding words to predict the next word. For example, a trigram model would predict the word \"jumps\" given the preceding two words \"the quick\" as \"the quick jumps\".\n",
    "\n",
    "Both bigram and trigram models are used to improve the accuracy of natural language processing tasks such as text classification, sentiment analysis, and machine translation. By incorporating more context into the model, they are able to better capture the meaning of the text and make more accurate predictions."
   ]
  },
  {
   "cell_type": "code",
   "execution_count": 61,
   "metadata": {},
   "outputs": [
    {
     "name": "stdout",
     "output_type": "stream",
     "text": [
      "Bigrams:\n",
      "[('Republicans', 'respond'), ('respond', 'IRS'), ('IRS', 'whistleblower'), ('whistleblower', 'says'), ('says', 'Hunter'), ('Hunter', 'Biden'), ('Biden', 'investigation'), ('investigation', 'mishandled'), ('mishandled', 'Members'), ('Members', 'Congress'), ('Congress', 'calling'), ('calling', 'transparency'), ('transparency', 'Biden'), ('Biden', 'administration'), ('administration', 'IRS'), ('IRS', 'whistleblower'), ('whistleblower', 'said'), ('said', 'investigation'), ('investigation', 'Hunter'), ('Hunter', 'Biden'), ('Biden', 'mishandled'), ('mishandled', 'Lawmakers'), ('Lawmakers', 'Capitol'), ('Capitol', 'Hill'), ('Hill', 'calling'), ('calling', 'Biden'), ('Biden', 'administration'), ('administration', 'held'), ('held', 'accountable'), ('accountable', 'blocking'), ('blocking', 'Congress'), ('Congress', 'public'), ('public', 'learning'), ('learning', 'Biden'), ('Biden', 'family'), ('family', 'members'), ('members', 'business'), ('business', 'deals'), ('deals', 'China'), ('China', 'congressional'), ('congressional', 'outcries'), ('outcries', 'come'), ('come', 'whistleblower'), ('whistleblower', 'within'), ('within', 'Internal'), ('Internal', 'Revenue'), ('Revenue', 'Service'), ('Service', 'alleges'), ('alleges', 'investigation'), ('investigation', 'Hunter'), ('Hunter', 'Biden'), ('Biden', 'mishandled'), ('mishandled', 'Biden'), ('Biden', 'administration'), ('administration', 'whistleblower'), ('whistleblower', 'also'), ('also', 'alleges'), ('alleges', 'clear'), ('clear', 'conflicts'), ('conflicts', 'interest'), ('interest', 'investigation'), ('investigation', 'deeply'), ('deeply', 'concerning'), ('concerning', 'Biden'), ('Biden', 'Administration'), ('Administration', 'may'), ('may', 'obstructing'), ('obstructing', 'justice'), ('justice', 'blocking'), ('blocking', 'efforts'), ('efforts', 'charge'), ('charge', 'Hunter'), ('Hunter', 'Biden'), ('Biden', 'tax'), ('tax', 'violations'), ('violations', 'House'), ('House', 'Committee'), ('Committee', 'Oversight'), ('Oversight', 'Accountability'), ('Accountability', 'Chairman'), ('Chairman', 'James'), ('James', 'Comer'), ('Comer', 'told'), ('told', 'Fox'), ('Fox', 'News'), ('News', 'Wednesday'), ('Wednesday', 'Comer'), ('Comer', 'RKy'), ('RKy', 'also'), ('also', 'said'), ('said', 'deceptive'), ('deceptive', 'shady'), ('shady', 'business'), ('business', 'schemes'), ('schemes', 'allowed'), ('allowed', 'Bidens'), ('Bidens', 'make'), ('make', 'millions'), ('millions', 'foreign'), ('foreign', 'adversaries'), ('adversaries', 'like'), ('like', 'China'), ('China', 'HUNTER'), ('HUNTER', 'BIDEN'), ('BIDEN', 'INVESTIGATION'), ('INVESTIGATION', 'MISHANDLED'), ('MISHANDLED', 'CLEAR'), ('CLEAR', 'CONFLICTS'), ('CONFLICTS', 'INTEREST'), ('INTEREST', 'IRS'), ('IRS', 'WHISTLEBLOWER'), ('WHISTLEBLOWER', 'House'), ('House', 'Committee'), ('Committee', 'Oversight'), ('Oversight', 'Accountability'), ('Accountability', 'following'), ('following', 'Bidens'), ('Bidens', 'tangled'), ('tangled', 'web'), ('web', 'complex'), ('complex', 'corporate'), ('corporate', 'financial'), ('financial', 'records'), ('records', 'clear'), ('clear', 'investigation'), ('investigation', 'Hunter'), ('Hunter', 'members'), ('members', 'Biden'), ('Biden', 'family'), ('family', 'engaged'), ('engaged', 'deceptive'), ('deceptive', 'shady'), ('shady', 'business'), ('business', 'schemes'), ('schemes', 'avoid'), ('avoid', 'scrutiny'), ('scrutiny', 'made'), ('made', 'millions'), ('millions', 'foreign'), ('foreign', 'adversaries'), ('adversaries', 'like'), ('like', 'China'), ('China', 'said'), ('said', 'Weve'), ('Weve', 'wondering'), ('wondering', 'along'), ('along', 'heck'), ('heck', 'DOJ'), ('DOJ', 'IRS'), ('IRS', 'appears'), ('appears', 'Biden'), ('Biden', 'Administration'), ('Administration', 'may'), ('may', 'working'), ('working', 'overtime'), ('overtime', 'prevent'), ('prevent', 'Bidens'), ('Bidens', 'facing'), ('facing', 'consequences'), ('consequences', 'Comer'), ('Comer', 'added'), ('added', 'House'), ('House', 'Oversight'), ('Oversight', 'Committee'), ('Committee', 'work'), ('work', 'hold'), ('hold', 'accountable'), ('accountable', 'anyone'), ('anyone', 'Biden'), ('Biden', 'Administration'), ('Administration', 'may'), ('may', 'covering'), ('covering', 'criminal'), ('criminal', 'activity'), ('activity', 'Oversight'), ('Oversight', 'Committee'), ('Committee', 'also'), ('also', 'continue'), ('continue', 'pursue'), ('pursue', 'investigation'), ('investigation', 'Biden'), ('Biden', 'familys'), ('familys', 'business'), ('business', 'schemes'), ('schemes', 'determine'), ('determine', 'President'), ('President', 'Biden'), ('Biden', 'national'), ('national', 'security'), ('security', 'compromised'), ('compromised', 'Americans'), ('Americans', 'demand'), ('demand', 'answers'), ('answers', 'transparency'), ('transparency', 'accountability'), ('accountability', 'President'), ('President', 'Bidens'), ('Bidens', 'son'), ('son', 'Hunter'), ('Hunter', 'federal'), ('federal', 'investigation'), ('investigation', 'since'), ('since', '2018'), ('2018', 'investigation'), ('investigation', 'concerns'), ('concerns', 'presence'), ('presence', 'suspicious'), ('suspicious', 'activity'), ('activity', 'reports'), ('reports', 'SARs'), ('SARs', 'regarding'), ('regarding', 'suspicious'), ('suspicious', 'foreign'), ('foreign', 'transactions'), ('transactions', 'led'), ('led', 'Delaware'), ('Delaware', 'US'), ('US', 'Attorney'), ('Attorney', 'David'), ('David', 'Weiss'), ('Weiss', 'Across'), ('Across', 'Congress'), ('Congress', 'Sen'), ('Sen', 'Ted'), ('Ted', 'Cruz'), ('Cruz', 'Wednesday'), ('Wednesday', 'called'), ('called', 'Treasury'), ('Treasury', 'Secretary'), ('Secretary', 'Janet'), ('Janet', 'Yellen'), ('Yellen', 'publicly'), ('publicly', 'release'), ('release', 'SARs'), ('SARs', 'found'), ('found', 'among'), ('among', 'Biden'), ('Biden', 'familys'), ('familys', 'tax'), ('tax', 'records'), ('records', 'Theres'), ('Theres', 'national'), ('national', 'security'), ('security', 'reason'), ('reason', 'keep'), ('keep', 'private'), ('private', 'Cruz'), ('Cruz', 'RTexas'), ('RTexas', 'said'), ('said', 'episode'), ('episode', 'podcast'), ('podcast', 'Theres'), ('Theres', 'reason'), ('reason', 'whatsoever'), ('whatsoever', 'want'), ('want', 'part'), ('part', 'political'), ('political', 'coverup'), ('coverup', 'SIX'), ('SIX', 'ADDITIONAL'), ('ADDITIONAL', 'BIDEN'), ('BIDEN', 'FAMILY'), ('FAMILY', 'MEMBERS'), ('MEMBERS', 'MAY'), ('MAY', 'BENEFITED'), ('BENEFITED', 'HUNTER'), ('HUNTER', 'BUSINESS'), ('BUSINESS', 'DEALINGS'), ('DEALINGS', 'SARs'), ('SARs', 'alone'), ('alone', 'indicate'), ('indicate', 'wrongdoing'), ('wrongdoing', 'criminal'), ('criminal', 'activity'), ('activity', 'could'), ('could', 'indicator'), ('indicator', 'behavior'), ('behavior', 'US'), ('US', 'Department'), ('Department', 'Treasury'), ('Treasury', 'needs'), ('needs', 'release'), ('release', 'every'), ('every', 'single'), ('single', 'suspicious'), ('suspicious', 'activity'), ('activity', 'report'), ('report', 'Biden'), ('Biden', 'family'), ('family', 'Cruz'), ('Cruz', 'said'), ('said', 'Wednesday'), ('Wednesday', 'Janet'), ('Janet', 'Yellen'), ('Yellen', 'choice'), ('choice', 'either'), ('either', 'actively'), ('actively', 'covering'), ('covering', 'potential'), ('potential', 'evidence'), ('evidence', 'corruption'), ('corruption', 'releasing'), ('releasing', 'every'), ('every', 'one'), ('one', 'American'), ('American', 'people'), ('people', 'According'), ('According', 'Cruz'), ('Cruz', 'American'), ('American', 'public'), ('public', 'privy'), ('privy', 'learning'), ('learning', 'whether'), ('whether', 'presidential'), ('presidential', 'family'), ('family', 'guilty'), ('guilty', 'fraud'), ('fraud', 'abuses'), ('abuses', 'office'), ('office', 'innocent'), ('innocent', 'BIDEN'), ('BIDEN', 'FAMILY'), ('FAMILY', 'RECEIVED'), ('RECEIVED', '1M'), ('1M', 'HUNTER'), ('HUNTER', 'ASSOCIATE'), ('ASSOCIATE', '2017'), ('2017', 'CHINA'), ('CHINA', 'WIRE'), ('WIRE', 'HOUSE'), ('HOUSE', 'OVERSIGHT'), ('OVERSIGHT', 'Texas'), ('Texas', 'Republican'), ('Republican', 'said'), ('said', 'Biden'), ('Biden', 'administration'), ('administration', 'let'), ('let', 'American'), ('American', 'people'), ('people', 'decide'), ('decide', 'criminal'), ('criminal', 'activity'), ('activity', 'conducted'), ('conducted', 'added'), ('added', 'benign'), ('benign', 'release'), ('release', 'reports'), ('reports', 'Secretary'), ('Secretary', 'Yellen'), ('Yellen', 'release'), ('release', 'every'), ('every', 'single'), ('single', 'suspicious'), ('suspicious', 'activity'), ('activity', 'report'), ('report', 'Biden'), ('Biden', 'family'), ('family', 'Cruz'), ('Cruz', 'said'), ('said', 'continued'), ('continued', 'doesnt'), ('doesnt', 'release'), ('release', 'reports'), ('reports', 'complicit'), ('complicit', 'coverup'), ('coverup', 'letter'), ('letter', 'dated'), ('dated', 'April'), ('April', '19'), ('19', '2023'), ('2023', 'attorney'), ('attorney', 'Mark'), ('Mark', 'Lytle'), ('Lytle', 'told'), ('told', 'members'), ('members', 'Congress'), ('Congress', 'client'), ('client', 'overseeing'), ('overseeing', 'ongoing'), ('ongoing', 'sensitive'), ('sensitive', 'investigation'), ('investigation', 'highprofile'), ('highprofile', 'controversial'), ('controversial', 'subject'), ('subject', 'since'), ('since', 'early'), ('early', '2020'), ('2020', 'would'), ('would', 'like'), ('like', 'make'), ('make', 'protected'), ('protected', 'whistleblower'), ('whistleblower', 'disclosures'), ('disclosures', 'Congress'), ('Congress', 'client'), ('client', 'allegedly'), ('allegedly', 'aware'), ('aware', 'facts'), ('facts', 'case'), ('case', 'contradict'), ('contradict', 'sworn'), ('sworn', 'testimony'), ('testimony', 'Congress'), ('Congress', 'senior'), ('senior', 'political'), ('political', 'appointee'), ('appointee', 'CLICK'), ('CLICK', 'GET'), ('GET', 'FOX'), ('FOX', 'NEWS'), ('NEWS', 'APP'), ('APP', 'Lytle'), ('Lytle', 'works'), ('works', 'Washington'), ('Washington', 'DCbased'), ('DCbased', 'law'), ('law', 'firm'), ('firm', 'Nixon'), ('Nixon', 'Peabody'), ('Peabody', 'LLP'), ('LLP', 'Neither'), ('Neither', 'Hunter'), ('Hunter', 'Biden'), ('Biden', 'member'), ('member', 'family'), ('family', 'charged'), ('charged', 'crime'), ('crime', 'relating'), ('relating', 'SARs'), ('SARs', 'Fox'), ('Fox', 'News'), ('News', 'Patrick'), ('Patrick', 'Ward'), ('Ward', 'Greg'), ('Greg', 'Wehner'), ('Wehner', 'contributed'), ('contributed', 'report')]\n",
      "Trigrams:\n",
      "[('Republicans', 'respond', 'IRS'), ('respond', 'IRS', 'whistleblower'), ('IRS', 'whistleblower', 'says'), ('whistleblower', 'says', 'Hunter'), ('says', 'Hunter', 'Biden'), ('Hunter', 'Biden', 'investigation'), ('Biden', 'investigation', 'mishandled'), ('investigation', 'mishandled', 'Members'), ('mishandled', 'Members', 'Congress'), ('Members', 'Congress', 'calling'), ('Congress', 'calling', 'transparency'), ('calling', 'transparency', 'Biden'), ('transparency', 'Biden', 'administration'), ('Biden', 'administration', 'IRS'), ('administration', 'IRS', 'whistleblower'), ('IRS', 'whistleblower', 'said'), ('whistleblower', 'said', 'investigation'), ('said', 'investigation', 'Hunter'), ('investigation', 'Hunter', 'Biden'), ('Hunter', 'Biden', 'mishandled'), ('Biden', 'mishandled', 'Lawmakers'), ('mishandled', 'Lawmakers', 'Capitol'), ('Lawmakers', 'Capitol', 'Hill'), ('Capitol', 'Hill', 'calling'), ('Hill', 'calling', 'Biden'), ('calling', 'Biden', 'administration'), ('Biden', 'administration', 'held'), ('administration', 'held', 'accountable'), ('held', 'accountable', 'blocking'), ('accountable', 'blocking', 'Congress'), ('blocking', 'Congress', 'public'), ('Congress', 'public', 'learning'), ('public', 'learning', 'Biden'), ('learning', 'Biden', 'family'), ('Biden', 'family', 'members'), ('family', 'members', 'business'), ('members', 'business', 'deals'), ('business', 'deals', 'China'), ('deals', 'China', 'congressional'), ('China', 'congressional', 'outcries'), ('congressional', 'outcries', 'come'), ('outcries', 'come', 'whistleblower'), ('come', 'whistleblower', 'within'), ('whistleblower', 'within', 'Internal'), ('within', 'Internal', 'Revenue'), ('Internal', 'Revenue', 'Service'), ('Revenue', 'Service', 'alleges'), ('Service', 'alleges', 'investigation'), ('alleges', 'investigation', 'Hunter'), ('investigation', 'Hunter', 'Biden'), ('Hunter', 'Biden', 'mishandled'), ('Biden', 'mishandled', 'Biden'), ('mishandled', 'Biden', 'administration'), ('Biden', 'administration', 'whistleblower'), ('administration', 'whistleblower', 'also'), ('whistleblower', 'also', 'alleges'), ('also', 'alleges', 'clear'), ('alleges', 'clear', 'conflicts'), ('clear', 'conflicts', 'interest'), ('conflicts', 'interest', 'investigation'), ('interest', 'investigation', 'deeply'), ('investigation', 'deeply', 'concerning'), ('deeply', 'concerning', 'Biden'), ('concerning', 'Biden', 'Administration'), ('Biden', 'Administration', 'may'), ('Administration', 'may', 'obstructing'), ('may', 'obstructing', 'justice'), ('obstructing', 'justice', 'blocking'), ('justice', 'blocking', 'efforts'), ('blocking', 'efforts', 'charge'), ('efforts', 'charge', 'Hunter'), ('charge', 'Hunter', 'Biden'), ('Hunter', 'Biden', 'tax'), ('Biden', 'tax', 'violations'), ('tax', 'violations', 'House'), ('violations', 'House', 'Committee'), ('House', 'Committee', 'Oversight'), ('Committee', 'Oversight', 'Accountability'), ('Oversight', 'Accountability', 'Chairman'), ('Accountability', 'Chairman', 'James'), ('Chairman', 'James', 'Comer'), ('James', 'Comer', 'told'), ('Comer', 'told', 'Fox'), ('told', 'Fox', 'News'), ('Fox', 'News', 'Wednesday'), ('News', 'Wednesday', 'Comer'), ('Wednesday', 'Comer', 'RKy'), ('Comer', 'RKy', 'also'), ('RKy', 'also', 'said'), ('also', 'said', 'deceptive'), ('said', 'deceptive', 'shady'), ('deceptive', 'shady', 'business'), ('shady', 'business', 'schemes'), ('business', 'schemes', 'allowed'), ('schemes', 'allowed', 'Bidens'), ('allowed', 'Bidens', 'make'), ('Bidens', 'make', 'millions'), ('make', 'millions', 'foreign'), ('millions', 'foreign', 'adversaries'), ('foreign', 'adversaries', 'like'), ('adversaries', 'like', 'China'), ('like', 'China', 'HUNTER'), ('China', 'HUNTER', 'BIDEN'), ('HUNTER', 'BIDEN', 'INVESTIGATION'), ('BIDEN', 'INVESTIGATION', 'MISHANDLED'), ('INVESTIGATION', 'MISHANDLED', 'CLEAR'), ('MISHANDLED', 'CLEAR', 'CONFLICTS'), ('CLEAR', 'CONFLICTS', 'INTEREST'), ('CONFLICTS', 'INTEREST', 'IRS'), ('INTEREST', 'IRS', 'WHISTLEBLOWER'), ('IRS', 'WHISTLEBLOWER', 'House'), ('WHISTLEBLOWER', 'House', 'Committee'), ('House', 'Committee', 'Oversight'), ('Committee', 'Oversight', 'Accountability'), ('Oversight', 'Accountability', 'following'), ('Accountability', 'following', 'Bidens'), ('following', 'Bidens', 'tangled'), ('Bidens', 'tangled', 'web'), ('tangled', 'web', 'complex'), ('web', 'complex', 'corporate'), ('complex', 'corporate', 'financial'), ('corporate', 'financial', 'records'), ('financial', 'records', 'clear'), ('records', 'clear', 'investigation'), ('clear', 'investigation', 'Hunter'), ('investigation', 'Hunter', 'members'), ('Hunter', 'members', 'Biden'), ('members', 'Biden', 'family'), ('Biden', 'family', 'engaged'), ('family', 'engaged', 'deceptive'), ('engaged', 'deceptive', 'shady'), ('deceptive', 'shady', 'business'), ('shady', 'business', 'schemes'), ('business', 'schemes', 'avoid'), ('schemes', 'avoid', 'scrutiny'), ('avoid', 'scrutiny', 'made'), ('scrutiny', 'made', 'millions'), ('made', 'millions', 'foreign'), ('millions', 'foreign', 'adversaries'), ('foreign', 'adversaries', 'like'), ('adversaries', 'like', 'China'), ('like', 'China', 'said'), ('China', 'said', 'Weve'), ('said', 'Weve', 'wondering'), ('Weve', 'wondering', 'along'), ('wondering', 'along', 'heck'), ('along', 'heck', 'DOJ'), ('heck', 'DOJ', 'IRS'), ('DOJ', 'IRS', 'appears'), ('IRS', 'appears', 'Biden'), ('appears', 'Biden', 'Administration'), ('Biden', 'Administration', 'may'), ('Administration', 'may', 'working'), ('may', 'working', 'overtime'), ('working', 'overtime', 'prevent'), ('overtime', 'prevent', 'Bidens'), ('prevent', 'Bidens', 'facing'), ('Bidens', 'facing', 'consequences'), ('facing', 'consequences', 'Comer'), ('consequences', 'Comer', 'added'), ('Comer', 'added', 'House'), ('added', 'House', 'Oversight'), ('House', 'Oversight', 'Committee'), ('Oversight', 'Committee', 'work'), ('Committee', 'work', 'hold'), ('work', 'hold', 'accountable'), ('hold', 'accountable', 'anyone'), ('accountable', 'anyone', 'Biden'), ('anyone', 'Biden', 'Administration'), ('Biden', 'Administration', 'may'), ('Administration', 'may', 'covering'), ('may', 'covering', 'criminal'), ('covering', 'criminal', 'activity'), ('criminal', 'activity', 'Oversight'), ('activity', 'Oversight', 'Committee'), ('Oversight', 'Committee', 'also'), ('Committee', 'also', 'continue'), ('also', 'continue', 'pursue'), ('continue', 'pursue', 'investigation'), ('pursue', 'investigation', 'Biden'), ('investigation', 'Biden', 'familys'), ('Biden', 'familys', 'business'), ('familys', 'business', 'schemes'), ('business', 'schemes', 'determine'), ('schemes', 'determine', 'President'), ('determine', 'President', 'Biden'), ('President', 'Biden', 'national'), ('Biden', 'national', 'security'), ('national', 'security', 'compromised'), ('security', 'compromised', 'Americans'), ('compromised', 'Americans', 'demand'), ('Americans', 'demand', 'answers'), ('demand', 'answers', 'transparency'), ('answers', 'transparency', 'accountability'), ('transparency', 'accountability', 'President'), ('accountability', 'President', 'Bidens'), ('President', 'Bidens', 'son'), ('Bidens', 'son', 'Hunter'), ('son', 'Hunter', 'federal'), ('Hunter', 'federal', 'investigation'), ('federal', 'investigation', 'since'), ('investigation', 'since', '2018'), ('since', '2018', 'investigation'), ('2018', 'investigation', 'concerns'), ('investigation', 'concerns', 'presence'), ('concerns', 'presence', 'suspicious'), ('presence', 'suspicious', 'activity'), ('suspicious', 'activity', 'reports'), ('activity', 'reports', 'SARs'), ('reports', 'SARs', 'regarding'), ('SARs', 'regarding', 'suspicious'), ('regarding', 'suspicious', 'foreign'), ('suspicious', 'foreign', 'transactions'), ('foreign', 'transactions', 'led'), ('transactions', 'led', 'Delaware'), ('led', 'Delaware', 'US'), ('Delaware', 'US', 'Attorney'), ('US', 'Attorney', 'David'), ('Attorney', 'David', 'Weiss'), ('David', 'Weiss', 'Across'), ('Weiss', 'Across', 'Congress'), ('Across', 'Congress', 'Sen'), ('Congress', 'Sen', 'Ted'), ('Sen', 'Ted', 'Cruz'), ('Ted', 'Cruz', 'Wednesday'), ('Cruz', 'Wednesday', 'called'), ('Wednesday', 'called', 'Treasury'), ('called', 'Treasury', 'Secretary'), ('Treasury', 'Secretary', 'Janet'), ('Secretary', 'Janet', 'Yellen'), ('Janet', 'Yellen', 'publicly'), ('Yellen', 'publicly', 'release'), ('publicly', 'release', 'SARs'), ('release', 'SARs', 'found'), ('SARs', 'found', 'among'), ('found', 'among', 'Biden'), ('among', 'Biden', 'familys'), ('Biden', 'familys', 'tax'), ('familys', 'tax', 'records'), ('tax', 'records', 'Theres'), ('records', 'Theres', 'national'), ('Theres', 'national', 'security'), ('national', 'security', 'reason'), ('security', 'reason', 'keep'), ('reason', 'keep', 'private'), ('keep', 'private', 'Cruz'), ('private', 'Cruz', 'RTexas'), ('Cruz', 'RTexas', 'said'), ('RTexas', 'said', 'episode'), ('said', 'episode', 'podcast'), ('episode', 'podcast', 'Theres'), ('podcast', 'Theres', 'reason'), ('Theres', 'reason', 'whatsoever'), ('reason', 'whatsoever', 'want'), ('whatsoever', 'want', 'part'), ('want', 'part', 'political'), ('part', 'political', 'coverup'), ('political', 'coverup', 'SIX'), ('coverup', 'SIX', 'ADDITIONAL'), ('SIX', 'ADDITIONAL', 'BIDEN'), ('ADDITIONAL', 'BIDEN', 'FAMILY'), ('BIDEN', 'FAMILY', 'MEMBERS'), ('FAMILY', 'MEMBERS', 'MAY'), ('MEMBERS', 'MAY', 'BENEFITED'), ('MAY', 'BENEFITED', 'HUNTER'), ('BENEFITED', 'HUNTER', 'BUSINESS'), ('HUNTER', 'BUSINESS', 'DEALINGS'), ('BUSINESS', 'DEALINGS', 'SARs'), ('DEALINGS', 'SARs', 'alone'), ('SARs', 'alone', 'indicate'), ('alone', 'indicate', 'wrongdoing'), ('indicate', 'wrongdoing', 'criminal'), ('wrongdoing', 'criminal', 'activity'), ('criminal', 'activity', 'could'), ('activity', 'could', 'indicator'), ('could', 'indicator', 'behavior'), ('indicator', 'behavior', 'US'), ('behavior', 'US', 'Department'), ('US', 'Department', 'Treasury'), ('Department', 'Treasury', 'needs'), ('Treasury', 'needs', 'release'), ('needs', 'release', 'every'), ('release', 'every', 'single'), ('every', 'single', 'suspicious'), ('single', 'suspicious', 'activity'), ('suspicious', 'activity', 'report'), ('activity', 'report', 'Biden'), ('report', 'Biden', 'family'), ('Biden', 'family', 'Cruz'), ('family', 'Cruz', 'said'), ('Cruz', 'said', 'Wednesday'), ('said', 'Wednesday', 'Janet'), ('Wednesday', 'Janet', 'Yellen'), ('Janet', 'Yellen', 'choice'), ('Yellen', 'choice', 'either'), ('choice', 'either', 'actively'), ('either', 'actively', 'covering'), ('actively', 'covering', 'potential'), ('covering', 'potential', 'evidence'), ('potential', 'evidence', 'corruption'), ('evidence', 'corruption', 'releasing'), ('corruption', 'releasing', 'every'), ('releasing', 'every', 'one'), ('every', 'one', 'American'), ('one', 'American', 'people'), ('American', 'people', 'According'), ('people', 'According', 'Cruz'), ('According', 'Cruz', 'American'), ('Cruz', 'American', 'public'), ('American', 'public', 'privy'), ('public', 'privy', 'learning'), ('privy', 'learning', 'whether'), ('learning', 'whether', 'presidential'), ('whether', 'presidential', 'family'), ('presidential', 'family', 'guilty'), ('family', 'guilty', 'fraud'), ('guilty', 'fraud', 'abuses'), ('fraud', 'abuses', 'office'), ('abuses', 'office', 'innocent'), ('office', 'innocent', 'BIDEN'), ('innocent', 'BIDEN', 'FAMILY'), ('BIDEN', 'FAMILY', 'RECEIVED'), ('FAMILY', 'RECEIVED', '1M'), ('RECEIVED', '1M', 'HUNTER'), ('1M', 'HUNTER', 'ASSOCIATE'), ('HUNTER', 'ASSOCIATE', '2017'), ('ASSOCIATE', '2017', 'CHINA'), ('2017', 'CHINA', 'WIRE'), ('CHINA', 'WIRE', 'HOUSE'), ('WIRE', 'HOUSE', 'OVERSIGHT'), ('HOUSE', 'OVERSIGHT', 'Texas'), ('OVERSIGHT', 'Texas', 'Republican'), ('Texas', 'Republican', 'said'), ('Republican', 'said', 'Biden'), ('said', 'Biden', 'administration'), ('Biden', 'administration', 'let'), ('administration', 'let', 'American'), ('let', 'American', 'people'), ('American', 'people', 'decide'), ('people', 'decide', 'criminal'), ('decide', 'criminal', 'activity'), ('criminal', 'activity', 'conducted'), ('activity', 'conducted', 'added'), ('conducted', 'added', 'benign'), ('added', 'benign', 'release'), ('benign', 'release', 'reports'), ('release', 'reports', 'Secretary'), ('reports', 'Secretary', 'Yellen'), ('Secretary', 'Yellen', 'release'), ('Yellen', 'release', 'every'), ('release', 'every', 'single'), ('every', 'single', 'suspicious'), ('single', 'suspicious', 'activity'), ('suspicious', 'activity', 'report'), ('activity', 'report', 'Biden'), ('report', 'Biden', 'family'), ('Biden', 'family', 'Cruz'), ('family', 'Cruz', 'said'), ('Cruz', 'said', 'continued'), ('said', 'continued', 'doesnt'), ('continued', 'doesnt', 'release'), ('doesnt', 'release', 'reports'), ('release', 'reports', 'complicit'), ('reports', 'complicit', 'coverup'), ('complicit', 'coverup', 'letter'), ('coverup', 'letter', 'dated'), ('letter', 'dated', 'April'), ('dated', 'April', '19'), ('April', '19', '2023'), ('19', '2023', 'attorney'), ('2023', 'attorney', 'Mark'), ('attorney', 'Mark', 'Lytle'), ('Mark', 'Lytle', 'told'), ('Lytle', 'told', 'members'), ('told', 'members', 'Congress'), ('members', 'Congress', 'client'), ('Congress', 'client', 'overseeing'), ('client', 'overseeing', 'ongoing'), ('overseeing', 'ongoing', 'sensitive'), ('ongoing', 'sensitive', 'investigation'), ('sensitive', 'investigation', 'highprofile'), ('investigation', 'highprofile', 'controversial'), ('highprofile', 'controversial', 'subject'), ('controversial', 'subject', 'since'), ('subject', 'since', 'early'), ('since', 'early', '2020'), ('early', '2020', 'would'), ('2020', 'would', 'like'), ('would', 'like', 'make'), ('like', 'make', 'protected'), ('make', 'protected', 'whistleblower'), ('protected', 'whistleblower', 'disclosures'), ('whistleblower', 'disclosures', 'Congress'), ('disclosures', 'Congress', 'client'), ('Congress', 'client', 'allegedly'), ('client', 'allegedly', 'aware'), ('allegedly', 'aware', 'facts'), ('aware', 'facts', 'case'), ('facts', 'case', 'contradict'), ('case', 'contradict', 'sworn'), ('contradict', 'sworn', 'testimony'), ('sworn', 'testimony', 'Congress'), ('testimony', 'Congress', 'senior'), ('Congress', 'senior', 'political'), ('senior', 'political', 'appointee'), ('political', 'appointee', 'CLICK'), ('appointee', 'CLICK', 'GET'), ('CLICK', 'GET', 'FOX'), ('GET', 'FOX', 'NEWS'), ('FOX', 'NEWS', 'APP'), ('NEWS', 'APP', 'Lytle'), ('APP', 'Lytle', 'works'), ('Lytle', 'works', 'Washington'), ('works', 'Washington', 'DCbased'), ('Washington', 'DCbased', 'law'), ('DCbased', 'law', 'firm'), ('law', 'firm', 'Nixon'), ('firm', 'Nixon', 'Peabody'), ('Nixon', 'Peabody', 'LLP'), ('Peabody', 'LLP', 'Neither'), ('LLP', 'Neither', 'Hunter'), ('Neither', 'Hunter', 'Biden'), ('Hunter', 'Biden', 'member'), ('Biden', 'member', 'family'), ('member', 'family', 'charged'), ('family', 'charged', 'crime'), ('charged', 'crime', 'relating'), ('crime', 'relating', 'SARs'), ('relating', 'SARs', 'Fox'), ('SARs', 'Fox', 'News'), ('Fox', 'News', 'Patrick'), ('News', 'Patrick', 'Ward'), ('Patrick', 'Ward', 'Greg'), ('Ward', 'Greg', 'Wehner'), ('Greg', 'Wehner', 'contributed'), ('Wehner', 'contributed', 'report')]\n"
     ]
    }
   ],
   "source": [
    "bigrams = list(nltk.bigrams(filtered_tokens))\n",
    "trigrams = list(nltk.trigrams(filtered_tokens))\n",
    "\n",
    "# Print the results\n",
    "print(\"Bigrams:\")\n",
    "print(bigrams)\n",
    "print(\"Trigrams:\")\n",
    "print(trigrams)"
   ]
  },
  {
   "attachments": {},
   "cell_type": "markdown",
   "metadata": {},
   "source": [
    "# Lemmatization"
   ]
  },
  {
   "attachments": {},
   "cell_type": "markdown",
   "metadata": {},
   "source": [
    "Lemmatization is a text preprocessing technique that involves reducing words to their base or dictionary form, which is known as a lemma. In contrast to stemming, which just chops off the ends of words to create a root form, lemmatization uses a vocabulary and morphological analysis to determine the lemma of each word based on its context. For example, the lemma of \"am\", \"are\", and \"is\" is \"be\". "
   ]
  },
  {
   "attachments": {},
   "cell_type": "markdown",
   "metadata": {},
   "source": [
    "The lemmatization process reduces inflected words to their base form, which helps to group together related words and reduce the dimensionality of the feature space in natural language processing tasks."
   ]
  },
  {
   "cell_type": "code",
   "execution_count": 62,
   "metadata": {},
   "outputs": [],
   "source": [
    "def lemmatize_bigrams(bigrams):\n",
    "    lemmatizer = WordNetLemmatizer()\n",
    "    \n",
    "    lemmatized_bigrams = []\n",
    "    for bigram in bigrams:\n",
    "        lemma1 = lemmatizer.lemmatize(bigram[0])\n",
    "        lemma2 = lemmatizer.lemmatize(bigram[1])\n",
    "        lemmatized_bigrams.append([lemma1, lemma2])  # Append as a list instead of a tuple, for the dictionary (list of lists)\n",
    "    return lemmatized_bigrams\n"
   ]
  },
  {
   "cell_type": "code",
   "execution_count": 63,
   "metadata": {},
   "outputs": [
    {
     "name": "stdout",
     "output_type": "stream",
     "text": [
      "[['Republicans', 'respond'], ['respond', 'IRS'], ['IRS', 'whistleblower'], ['whistleblower', 'say'], ['say', 'Hunter'], ['Hunter', 'Biden'], ['Biden', 'investigation'], ['investigation', 'mishandled'], ['mishandled', 'Members'], ['Members', 'Congress'], ['Congress', 'calling'], ['calling', 'transparency'], ['transparency', 'Biden'], ['Biden', 'administration'], ['administration', 'IRS'], ['IRS', 'whistleblower'], ['whistleblower', 'said'], ['said', 'investigation'], ['investigation', 'Hunter'], ['Hunter', 'Biden'], ['Biden', 'mishandled'], ['mishandled', 'Lawmakers'], ['Lawmakers', 'Capitol'], ['Capitol', 'Hill'], ['Hill', 'calling'], ['calling', 'Biden'], ['Biden', 'administration'], ['administration', 'held'], ['held', 'accountable'], ['accountable', 'blocking'], ['blocking', 'Congress'], ['Congress', 'public'], ['public', 'learning'], ['learning', 'Biden'], ['Biden', 'family'], ['family', 'member'], ['member', 'business'], ['business', 'deal'], ['deal', 'China'], ['China', 'congressional'], ['congressional', 'outcry'], ['outcry', 'come'], ['come', 'whistleblower'], ['whistleblower', 'within'], ['within', 'Internal'], ['Internal', 'Revenue'], ['Revenue', 'Service'], ['Service', 'alleges'], ['alleges', 'investigation'], ['investigation', 'Hunter'], ['Hunter', 'Biden'], ['Biden', 'mishandled'], ['mishandled', 'Biden'], ['Biden', 'administration'], ['administration', 'whistleblower'], ['whistleblower', 'also'], ['also', 'alleges'], ['alleges', 'clear'], ['clear', 'conflict'], ['conflict', 'interest'], ['interest', 'investigation'], ['investigation', 'deeply'], ['deeply', 'concerning'], ['concerning', 'Biden'], ['Biden', 'Administration'], ['Administration', 'may'], ['may', 'obstructing'], ['obstructing', 'justice'], ['justice', 'blocking'], ['blocking', 'effort'], ['effort', 'charge'], ['charge', 'Hunter'], ['Hunter', 'Biden'], ['Biden', 'tax'], ['tax', 'violation'], ['violation', 'House'], ['House', 'Committee'], ['Committee', 'Oversight'], ['Oversight', 'Accountability'], ['Accountability', 'Chairman'], ['Chairman', 'James'], ['James', 'Comer'], ['Comer', 'told'], ['told', 'Fox'], ['Fox', 'News'], ['News', 'Wednesday'], ['Wednesday', 'Comer'], ['Comer', 'RKy'], ['RKy', 'also'], ['also', 'said'], ['said', 'deceptive'], ['deceptive', 'shady'], ['shady', 'business'], ['business', 'scheme'], ['scheme', 'allowed'], ['allowed', 'Bidens'], ['Bidens', 'make'], ['make', 'million'], ['million', 'foreign'], ['foreign', 'adversary'], ['adversary', 'like'], ['like', 'China'], ['China', 'HUNTER'], ['HUNTER', 'BIDEN'], ['BIDEN', 'INVESTIGATION'], ['INVESTIGATION', 'MISHANDLED'], ['MISHANDLED', 'CLEAR'], ['CLEAR', 'CONFLICTS'], ['CONFLICTS', 'INTEREST'], ['INTEREST', 'IRS'], ['IRS', 'WHISTLEBLOWER'], ['WHISTLEBLOWER', 'House'], ['House', 'Committee'], ['Committee', 'Oversight'], ['Oversight', 'Accountability'], ['Accountability', 'following'], ['following', 'Bidens'], ['Bidens', 'tangled'], ['tangled', 'web'], ['web', 'complex'], ['complex', 'corporate'], ['corporate', 'financial'], ['financial', 'record'], ['record', 'clear'], ['clear', 'investigation'], ['investigation', 'Hunter'], ['Hunter', 'member'], ['member', 'Biden'], ['Biden', 'family'], ['family', 'engaged'], ['engaged', 'deceptive'], ['deceptive', 'shady'], ['shady', 'business'], ['business', 'scheme'], ['scheme', 'avoid'], ['avoid', 'scrutiny'], ['scrutiny', 'made'], ['made', 'million'], ['million', 'foreign'], ['foreign', 'adversary'], ['adversary', 'like'], ['like', 'China'], ['China', 'said'], ['said', 'Weve'], ['Weve', 'wondering'], ['wondering', 'along'], ['along', 'heck'], ['heck', 'DOJ'], ['DOJ', 'IRS'], ['IRS', 'appears'], ['appears', 'Biden'], ['Biden', 'Administration'], ['Administration', 'may'], ['may', 'working'], ['working', 'overtime'], ['overtime', 'prevent'], ['prevent', 'Bidens'], ['Bidens', 'facing'], ['facing', 'consequence'], ['consequence', 'Comer'], ['Comer', 'added'], ['added', 'House'], ['House', 'Oversight'], ['Oversight', 'Committee'], ['Committee', 'work'], ['work', 'hold'], ['hold', 'accountable'], ['accountable', 'anyone'], ['anyone', 'Biden'], ['Biden', 'Administration'], ['Administration', 'may'], ['may', 'covering'], ['covering', 'criminal'], ['criminal', 'activity'], ['activity', 'Oversight'], ['Oversight', 'Committee'], ['Committee', 'also'], ['also', 'continue'], ['continue', 'pursue'], ['pursue', 'investigation'], ['investigation', 'Biden'], ['Biden', 'family'], ['family', 'business'], ['business', 'scheme'], ['scheme', 'determine'], ['determine', 'President'], ['President', 'Biden'], ['Biden', 'national'], ['national', 'security'], ['security', 'compromised'], ['compromised', 'Americans'], ['Americans', 'demand'], ['demand', 'answer'], ['answer', 'transparency'], ['transparency', 'accountability'], ['accountability', 'President'], ['President', 'Bidens'], ['Bidens', 'son'], ['son', 'Hunter'], ['Hunter', 'federal'], ['federal', 'investigation'], ['investigation', 'since'], ['since', '2018'], ['2018', 'investigation'], ['investigation', 'concern'], ['concern', 'presence'], ['presence', 'suspicious'], ['suspicious', 'activity'], ['activity', 'report'], ['report', 'SARs'], ['SARs', 'regarding'], ['regarding', 'suspicious'], ['suspicious', 'foreign'], ['foreign', 'transaction'], ['transaction', 'led'], ['led', 'Delaware'], ['Delaware', 'US'], ['US', 'Attorney'], ['Attorney', 'David'], ['David', 'Weiss'], ['Weiss', 'Across'], ['Across', 'Congress'], ['Congress', 'Sen'], ['Sen', 'Ted'], ['Ted', 'Cruz'], ['Cruz', 'Wednesday'], ['Wednesday', 'called'], ['called', 'Treasury'], ['Treasury', 'Secretary'], ['Secretary', 'Janet'], ['Janet', 'Yellen'], ['Yellen', 'publicly'], ['publicly', 'release'], ['release', 'SARs'], ['SARs', 'found'], ['found', 'among'], ['among', 'Biden'], ['Biden', 'family'], ['family', 'tax'], ['tax', 'record'], ['record', 'Theres'], ['Theres', 'national'], ['national', 'security'], ['security', 'reason'], ['reason', 'keep'], ['keep', 'private'], ['private', 'Cruz'], ['Cruz', 'RTexas'], ['RTexas', 'said'], ['said', 'episode'], ['episode', 'podcast'], ['podcast', 'Theres'], ['Theres', 'reason'], ['reason', 'whatsoever'], ['whatsoever', 'want'], ['want', 'part'], ['part', 'political'], ['political', 'coverup'], ['coverup', 'SIX'], ['SIX', 'ADDITIONAL'], ['ADDITIONAL', 'BIDEN'], ['BIDEN', 'FAMILY'], ['FAMILY', 'MEMBERS'], ['MEMBERS', 'MAY'], ['MAY', 'BENEFITED'], ['BENEFITED', 'HUNTER'], ['HUNTER', 'BUSINESS'], ['BUSINESS', 'DEALINGS'], ['DEALINGS', 'SARs'], ['SARs', 'alone'], ['alone', 'indicate'], ['indicate', 'wrongdoing'], ['wrongdoing', 'criminal'], ['criminal', 'activity'], ['activity', 'could'], ['could', 'indicator'], ['indicator', 'behavior'], ['behavior', 'US'], ['US', 'Department'], ['Department', 'Treasury'], ['Treasury', 'need'], ['need', 'release'], ['release', 'every'], ['every', 'single'], ['single', 'suspicious'], ['suspicious', 'activity'], ['activity', 'report'], ['report', 'Biden'], ['Biden', 'family'], ['family', 'Cruz'], ['Cruz', 'said'], ['said', 'Wednesday'], ['Wednesday', 'Janet'], ['Janet', 'Yellen'], ['Yellen', 'choice'], ['choice', 'either'], ['either', 'actively'], ['actively', 'covering'], ['covering', 'potential'], ['potential', 'evidence'], ['evidence', 'corruption'], ['corruption', 'releasing'], ['releasing', 'every'], ['every', 'one'], ['one', 'American'], ['American', 'people'], ['people', 'According'], ['According', 'Cruz'], ['Cruz', 'American'], ['American', 'public'], ['public', 'privy'], ['privy', 'learning'], ['learning', 'whether'], ['whether', 'presidential'], ['presidential', 'family'], ['family', 'guilty'], ['guilty', 'fraud'], ['fraud', 'abuse'], ['abuse', 'office'], ['office', 'innocent'], ['innocent', 'BIDEN'], ['BIDEN', 'FAMILY'], ['FAMILY', 'RECEIVED'], ['RECEIVED', '1M'], ['1M', 'HUNTER'], ['HUNTER', 'ASSOCIATE'], ['ASSOCIATE', '2017'], ['2017', 'CHINA'], ['CHINA', 'WIRE'], ['WIRE', 'HOUSE'], ['HOUSE', 'OVERSIGHT'], ['OVERSIGHT', 'Texas'], ['Texas', 'Republican'], ['Republican', 'said'], ['said', 'Biden'], ['Biden', 'administration'], ['administration', 'let'], ['let', 'American'], ['American', 'people'], ['people', 'decide'], ['decide', 'criminal'], ['criminal', 'activity'], ['activity', 'conducted'], ['conducted', 'added'], ['added', 'benign'], ['benign', 'release'], ['release', 'report'], ['report', 'Secretary'], ['Secretary', 'Yellen'], ['Yellen', 'release'], ['release', 'every'], ['every', 'single'], ['single', 'suspicious'], ['suspicious', 'activity'], ['activity', 'report'], ['report', 'Biden'], ['Biden', 'family'], ['family', 'Cruz'], ['Cruz', 'said'], ['said', 'continued'], ['continued', 'doesnt'], ['doesnt', 'release'], ['release', 'report'], ['report', 'complicit'], ['complicit', 'coverup'], ['coverup', 'letter'], ['letter', 'dated'], ['dated', 'April'], ['April', '19'], ['19', '2023'], ['2023', 'attorney'], ['attorney', 'Mark'], ['Mark', 'Lytle'], ['Lytle', 'told'], ['told', 'member'], ['member', 'Congress'], ['Congress', 'client'], ['client', 'overseeing'], ['overseeing', 'ongoing'], ['ongoing', 'sensitive'], ['sensitive', 'investigation'], ['investigation', 'highprofile'], ['highprofile', 'controversial'], ['controversial', 'subject'], ['subject', 'since'], ['since', 'early'], ['early', '2020'], ['2020', 'would'], ['would', 'like'], ['like', 'make'], ['make', 'protected'], ['protected', 'whistleblower'], ['whistleblower', 'disclosure'], ['disclosure', 'Congress'], ['Congress', 'client'], ['client', 'allegedly'], ['allegedly', 'aware'], ['aware', 'fact'], ['fact', 'case'], ['case', 'contradict'], ['contradict', 'sworn'], ['sworn', 'testimony'], ['testimony', 'Congress'], ['Congress', 'senior'], ['senior', 'political'], ['political', 'appointee'], ['appointee', 'CLICK'], ['CLICK', 'GET'], ['GET', 'FOX'], ['FOX', 'NEWS'], ['NEWS', 'APP'], ['APP', 'Lytle'], ['Lytle', 'work'], ['work', 'Washington'], ['Washington', 'DCbased'], ['DCbased', 'law'], ['law', 'firm'], ['firm', 'Nixon'], ['Nixon', 'Peabody'], ['Peabody', 'LLP'], ['LLP', 'Neither'], ['Neither', 'Hunter'], ['Hunter', 'Biden'], ['Biden', 'member'], ['member', 'family'], ['family', 'charged'], ['charged', 'crime'], ['crime', 'relating'], ['relating', 'SARs'], ['SARs', 'Fox'], ['Fox', 'News'], ['News', 'Patrick'], ['Patrick', 'Ward'], ['Ward', 'Greg'], ['Greg', 'Wehner'], ['Wehner', 'contributed'], ['contributed', 'report']]\n"
     ]
    }
   ],
   "source": [
    "lemmatized_bigrams = lemmatize_bigrams(bigrams)\n",
    "\n",
    "print(lemmatized_bigrams)"
   ]
  },
  {
   "attachments": {},
   "cell_type": "markdown",
   "metadata": {},
   "source": [
    "# Create Dictionary and Corpus needed for Topic Modeling"
   ]
  },
  {
   "attachments": {},
   "cell_type": "markdown",
   "metadata": {},
   "source": [
    "- Creates a Gensim dictionary object id2word from the list of preprocessed and lemmatized texts data_lemmatized. The dictionary assigns a unique id to each word in the corpus.\n",
    "\n",
    "- Assigns the preprocessed and lemmatized texts to texts.\n",
    "\n",
    "- Creates a Gensim corpus object corpus from the dictionary and the list of preprocessed and lemmatized texts. The corpus is a list of bags-of-words, where each bag-of-words is a list of tuples. Each tuple represents a term and its frequency in the corresponding document.\n",
    "\n",
    "- Prints the first bag-of-words in the corpus.\n",
    "\n",
    "This code prepares the data for topic modeling with LDA by creating a dictionary of all unique words in the corpus and a corpus object with bag-of-words representations of the documents."
   ]
  },
  {
   "attachments": {},
   "cell_type": "markdown",
   "metadata": {},
   "source": [
    "Each tuple in the output represents a bigram that has been transformed into a two-element tuple. The first element of each tuple is the ID of the corresponding bigram in the dictionary (id2word) and the second element is the count of how many times that bigram appears in the input text.\n",
    "\n",
    "For example, the first tuple (0, 1) represents the bigram ('Republicans', 'respond'), where Republicans has ID 0 in the dictionary, and respond has ID 1. The number 1 indicates that this bigram appears once in your text corpus."
   ]
  },
  {
   "cell_type": "code",
   "execution_count": 64,
   "metadata": {},
   "outputs": [
    {
     "name": "stdout",
     "output_type": "stream",
     "text": [
      "[[(0, 1), (1, 1)], [(1, 1), (2, 1)], [(2, 1), (3, 1)], [(3, 1), (4, 1)], [(4, 1), (5, 1)], [(5, 1), (6, 1)], [(6, 1), (7, 1)], [(7, 1), (8, 1)], [(8, 1), (9, 1)], [(9, 1), (10, 1)], [(10, 1), (11, 1)], [(11, 1), (12, 1)], [(6, 1), (12, 1)], [(6, 1), (13, 1)], [(2, 1), (13, 1)], [(2, 1), (3, 1)], [(3, 1), (14, 1)], [(7, 1), (14, 1)], [(5, 1), (7, 1)], [(5, 1), (6, 1)], [(6, 1), (8, 1)], [(8, 1), (15, 1)], [(15, 1), (16, 1)], [(16, 1), (17, 1)], [(11, 1), (17, 1)], [(6, 1), (11, 1)], [(6, 1), (13, 1)], [(13, 1), (18, 1)], [(18, 1), (19, 1)], [(19, 1), (20, 1)], [(10, 1), (20, 1)], [(10, 1), (21, 1)], [(21, 1), (22, 1)], [(6, 1), (22, 1)], [(6, 1), (23, 1)], [(23, 1), (24, 1)], [(24, 1), (25, 1)], [(25, 1), (26, 1)], [(26, 1), (27, 1)], [(27, 1), (28, 1)], [(28, 1), (29, 1)], [(29, 1), (30, 1)], [(3, 1), (30, 1)], [(3, 1), (31, 1)], [(31, 1), (32, 1)], [(32, 1), (33, 1)], [(33, 1), (34, 1)], [(34, 1), (35, 1)], [(7, 1), (35, 1)], [(5, 1), (7, 1)], [(5, 1), (6, 1)], [(6, 1), (8, 1)], [(6, 1), (8, 1)], [(6, 1), (13, 1)], [(3, 1), (13, 1)], [(3, 1), (36, 1)], [(35, 1), (36, 1)], [(35, 1), (37, 1)], [(37, 1), (38, 1)], [(38, 1), (39, 1)], [(7, 1), (39, 1)], [(7, 1), (40, 1)], [(40, 1), (41, 1)], [(6, 1), (41, 1)], [(6, 1), (42, 1)], [(42, 1), (43, 1)], [(43, 1), (44, 1)], [(44, 1), (45, 1)], [(20, 1), (45, 1)], [(20, 1), (46, 1)], [(46, 1), (47, 1)], [(5, 1), (47, 1)], [(5, 1), (6, 1)], [(6, 1), (48, 1)], [(48, 1), (49, 1)], [(49, 1), (50, 1)], [(50, 1), (51, 1)], [(51, 1), (52, 1)], [(52, 1), (53, 1)], [(53, 1), (54, 1)], [(54, 1), (55, 1)], [(55, 1), (56, 1)], [(56, 1), (57, 1)], [(57, 1), (58, 1)], [(58, 1), (59, 1)], [(59, 1), (60, 1)], [(56, 1), (60, 1)], [(56, 1), (61, 1)], [(36, 1), (61, 1)], [(14, 1), (36, 1)], [(14, 1), (62, 1)], [(62, 1), (63, 1)], [(25, 1), (63, 1)], [(25, 1), (64, 1)], [(64, 1), (65, 1)], [(65, 1), (66, 1)], [(66, 1), (67, 1)], [(67, 1), (68, 1)], [(68, 1), (69, 1)], [(69, 1), (70, 1)], [(70, 1), (71, 1)], [(27, 1), (71, 1)], [(27, 1), (72, 1)], [(72, 1), (73, 1)], [(73, 1), (74, 1)], [(74, 1), (75, 1)], [(75, 1), (76, 1)], [(76, 1), (77, 1)], [(77, 1), (78, 1)], [(2, 1), (78, 1)], [(2, 1), (79, 1)], [(50, 1), (79, 1)], [(50, 1), (51, 1)], [(51, 1), (52, 1)], [(52, 1), (53, 1)], [(53, 1), (80, 1)], [(66, 1), (80, 1)], [(66, 1), (81, 1)], [(81, 1), (82, 1)], [(82, 1), (83, 1)], [(83, 1), (84, 1)], [(84, 1), (85, 1)], [(85, 1), (86, 1)], [(37, 1), (86, 1)], [(7, 1), (37, 1)], [(5, 1), (7, 1)], [(5, 1), (24, 1)], [(6, 1), (24, 1)], [(6, 1), (23, 1)], [(23, 1), (87, 1)], [(62, 1), (87, 1)], [(62, 1), (63, 1)], [(25, 1), (63, 1)], [(25, 1), (64, 1)], [(64, 1), (88, 1)], [(88, 1), (89, 1)], [(89, 1), (90, 1)], [(68, 1), (90, 1)], [(68, 1), (69, 1)], [(69, 1), (70, 1)], [(70, 1), (71, 1)], [(27, 1), (71, 1)], [(14, 1), (27, 1)], [(14, 1), (91, 1)], [(91, 1), (92, 1)], [(92, 1), (93, 1)], [(93, 1), (94, 1)], [(94, 1), (95, 1)], [(2, 1), (95, 1)], [(2, 1), (96, 1)], [(6, 1), (96, 1)], [(6, 1), (42, 1)], [(42, 1), (43, 1)], [(43, 1), (97, 1)], [(97, 1), (98, 1)], [(98, 1), (99, 1)], [(66, 1), (99, 1)], [(66, 1), (100, 1)], [(100, 1), (101, 1)], [(56, 1), (101, 1)], [(56, 1), (102, 1)], [(50, 1), (102, 1)], [(50, 1), (52, 1)], [(51, 1), (52, 1)], [(51, 1), (103, 1)], [(103, 1), (104, 1)], [(19, 1), (104, 1)], [(19, 1), (105, 1)], [(6, 1), (105, 1)], [(6, 1), (42, 1)], [(42, 1), (43, 1)], [(43, 1), (106, 1)], [(106, 1), (107, 1)], [(107, 1), (108, 1)], [(52, 1), (108, 1)], [(51, 1), (52, 1)], [(36, 1), (51, 1)], [(36, 1), (109, 1)], [(109, 1), (110, 1)], [(7, 1), (110, 1)], [(6, 1), (7, 1)], [(6, 1), (23, 1)], [(23, 1), (25, 1)], [(25, 1), (64, 1)], [(64, 1), (111, 1)], [(111, 1), (112, 1)], [(6, 1), (112, 1)], [(6, 1), (113, 1)], [(113, 1), (114, 1)], [(114, 1), (115, 1)], [(115, 1), (116, 1)], [(116, 1), (117, 1)], [(117, 1), (118, 1)], [(12, 1), (118, 1)], [(12, 1), (119, 1)], [(112, 1), (119, 1)], [(66, 1), (112, 1)], [(66, 1), (120, 1)], [(5, 1), (120, 1)], [(5, 1), (121, 1)], [(7, 1), (121, 1)], [(7, 1), (122, 1)], [(122, 1), (123, 1)], [(7, 1), (123, 1)], [(7, 1), (124, 1)], [(124, 1), (125, 1)], [(125, 1), (126, 1)], [(108, 1), (126, 1)], [(108, 1), (127, 1)], [(127, 1), (128, 1)], [(128, 1), (129, 1)], [(126, 1), (129, 1)], [(69, 1), (126, 1)], [(69, 1), (130, 1)], [(130, 1), (131, 1)], [(131, 1), (132, 1)], [(132, 1), (133, 1)], [(133, 1), (134, 1)], [(134, 1), (135, 1)], [(135, 1), (136, 1)], [(136, 1), (137, 1)], [(10, 1), (137, 1)], [(10, 1), (138, 1)], [(138, 1), (139, 1)], [(139, 1), (140, 1)], [(60, 1), (140, 1)], [(60, 1), (141, 1)], [(141, 1), (142, 1)], [(142, 1), (143, 1)], [(143, 1), (144, 1)], [(144, 1), (145, 1)], [(145, 1), (146, 1)], [(146, 1), (147, 1)], [(128, 1), (147, 1)], [(128, 1), (148, 1)], [(148, 1), (149, 1)], [(6, 1), (149, 1)], [(6, 1), (23, 1)], [(23, 1), (48, 1)], [(48, 1), (86, 1)], [(86, 1), (150, 1)], [(113, 1), (150, 1)], [(113, 1), (114, 1)], [(114, 1), (151, 1)], [(151, 1), (152, 1)], [(152, 1), (153, 1)], [(140, 1), (153, 1)], [(140, 1), (154, 1)], [(14, 1), (154, 1)], [(14, 1), (155, 1)], [(155, 1), (156, 1)], [(150, 1), (156, 1)], [(150, 1), (151, 1)], [(151, 1), (157, 1)], [(157, 1), (158, 1)], [(158, 1), (159, 1)], [(159, 1), (160, 1)], [(160, 1), (161, 1)], [(161, 1), (162, 1)], [(162, 1), (163, 1)], [(73, 1), (163, 1)], [(73, 1), (164, 1)], [(164, 1), (165, 1)], [(165, 1), (166, 1)], [(166, 1), (167, 1)], [(72, 1), (167, 1)], [(72, 1), (168, 1)], [(168, 1), (169, 1)], [(128, 1), (169, 1)], [(128, 1), (170, 1)], [(170, 1), (171, 1)], [(171, 1), (172, 1)], [(107, 1), (172, 1)], [(107, 1), (108, 1)], [(108, 1), (173, 1)], [(173, 1), (174, 1)], [(174, 1), (175, 1)], [(133, 1), (175, 1)], [(133, 1), (176, 1)], [(142, 1), (176, 1)], [(142, 1), (177, 1)], [(147, 1), (177, 1)], [(147, 1), (178, 1)], [(178, 1), (179, 1)], [(126, 1), (179, 1)], [(108, 1), (126, 1)], [(108, 1), (127, 1)], [(6, 1), (127, 1)], [(6, 1), (23, 1)], [(23, 1), (140, 1)], [(14, 1), (140, 1)], [(14, 1), (60, 1)], [(60, 1), (144, 1)], [(144, 1), (145, 1)], [(145, 1), (180, 1)], [(180, 1), (181, 1)], [(181, 1), (182, 1)], [(106, 1), (182, 1)], [(106, 1), (183, 1)], [(183, 1), (184, 1)], [(184, 1), (185, 1)], [(185, 1), (186, 1)], [(178, 1), (186, 1)], [(178, 1), (187, 1)], [(187, 1), (188, 1)], [(188, 1), (189, 1)], [(189, 1), (190, 1)], [(140, 1), (190, 1)], [(140, 1), (188, 1)], [(21, 1), (188, 1)], [(21, 1), (191, 1)], [(22, 1), (191, 1)], [(22, 1), (192, 1)], [(192, 1), (193, 1)], [(23, 1), (193, 1)], [(23, 1), (194, 1)], [(194, 1), (195, 1)], [(195, 1), (196, 1)], [(196, 1), (197, 1)], [(197, 1), (198, 1)], [(73, 1), (198, 1)], [(73, 1), (164, 1)], [(164, 1), (199, 1)], [(199, 1), (200, 1)], [(72, 1), (200, 1)], [(72, 1), (201, 1)], [(201, 1), (202, 1)], [(202, 1), (203, 1)], [(203, 1), (204, 1)], [(204, 1), (205, 1)], [(205, 1), (206, 1)], [(206, 1), (207, 1)], [(207, 1), (208, 1)], [(14, 1), (208, 1)], [(6, 1), (14, 1)], [(6, 1), (13, 1)], [(13, 1), (209, 1)], [(188, 1), (209, 1)], [(188, 1), (189, 1)], [(189, 1), (210, 1)], [(107, 1), (210, 1)], [(107, 1), (108, 1)], [(108, 1), (211, 1)], [(102, 1), (211, 1)], [(102, 1), (212, 1)], [(147, 1), (212, 1)], [(127, 1), (147, 1)], [(127, 1), (143, 1)], [(143, 1), (145, 1)], [(145, 1), (147, 1)], [(147, 1), (178, 1)], [(178, 1), (179, 1)], [(126, 1), (179, 1)], [(108, 1), (126, 1)], [(108, 1), (127, 1)], [(6, 1), (127, 1)], [(6, 1), (23, 1)], [(23, 1), (140, 1)], [(14, 1), (140, 1)], [(14, 1), (213, 1)], [(213, 1), (214, 1)], [(147, 1), (214, 1)], [(127, 1), (147, 1)], [(127, 1), (215, 1)], [(161, 1), (215, 1)], [(161, 1), (216, 1)], [(216, 1), (217, 1)], [(217, 1), (218, 1)], [(218, 1), (219, 1)], [(219, 1), (220, 1)], [(220, 1), (221, 1)], [(221, 1), (222, 1)], [(222, 1), (223, 1)], [(57, 1), (223, 1)], [(24, 1), (57, 1)], [(10, 1), (24, 1)], [(10, 1), (224, 1)], [(224, 1), (225, 1)], [(225, 1), (226, 1)], [(226, 1), (227, 1)], [(7, 1), (227, 1)], [(7, 1), (228, 1)], [(228, 1), (229, 1)], [(229, 1), (230, 1)], [(122, 1), (230, 1)], [(122, 1), (231, 1)], [(231, 1), (232, 1)], [(232, 1), (233, 1)], [(71, 1), (233, 1)], [(67, 1), (71, 1)], [(67, 1), (234, 1)], [(3, 1), (234, 1)], [(3, 1), (235, 1)], [(10, 1), (235, 1)], [(10, 1), (224, 1)], [(224, 1), (236, 1)], [(236, 1), (237, 1)], [(237, 1), (238, 1)], [(238, 1), (239, 1)], [(239, 1), (240, 1)], [(240, 1), (241, 1)], [(241, 1), (242, 1)], [(10, 1), (242, 1)], [(10, 1), (243, 1)], [(160, 1), (243, 1)], [(160, 1), (244, 1)], [(244, 1), (245, 1)], [(245, 1), (246, 1)], [(246, 1), (247, 1)], [(247, 1), (248, 1)], [(248, 1), (249, 1)], [(223, 1), (249, 1)], [(103, 1), (223, 1)], [(103, 1), (250, 1)], [(250, 1), (251, 1)], [(251, 1), (252, 1)], [(252, 1), (253, 1)], [(253, 1), (254, 1)], [(254, 1), (255, 1)], [(255, 1), (256, 1)], [(256, 1), (257, 1)], [(5, 1), (257, 1)], [(5, 1), (6, 1)], [(6, 1), (24, 1)], [(23, 1), (24, 1)], [(23, 1), (258, 1)], [(258, 1), (259, 1)], [(259, 1), (260, 1)], [(128, 1), (260, 1)], [(58, 1), (128, 1)], [(58, 1), (59, 1)], [(59, 1), (261, 1)], [(261, 1), (262, 1)], [(262, 1), (263, 1)], [(263, 1), (264, 1)], [(264, 1), (265, 1)], [(127, 1), (265, 1)]]\n"
     ]
    }
   ],
   "source": [
    "# Create Dictionary \n",
    "id2word = corpora.Dictionary(lemmatized_bigrams)  \n",
    "\n",
    "# Create Corpus \n",
    "texts = lemmatized_bigrams\n",
    "\n",
    "corpus = [id2word.doc2bow(text) for text in texts]\n",
    "\n",
    "print(corpus)\n"
   ]
  },
  {
   "attachments": {},
   "cell_type": "markdown",
   "metadata": {},
   "source": [
    "Gensim creates unique id for each word in the document. \n",
    "Its mapping of word_id and word_frequency. Example: (8,2) above indicates, word_id 8 occurs twice in the document and so on."
   ]
  },
  {
   "attachments": {},
   "cell_type": "markdown",
   "metadata": {},
   "source": [
    "- corpus is the document-term matrix we created earlier, where each document is represented as a list of tuples with (term_id, frequency).\n",
    "\n",
    "- id2word is the dictionary created earlier, which maps each term to a unique integer ID.\n",
    "- num_topics specifies the number of topics to be generated by the LDA model.\n",
    "- random_state sets the random seed for reproducibility of the results.\n",
    "- update_every specifies how often the model parameters should be updated.\n",
    "- chunksize is the number of documents to be used in each training chunk.\n",
    "- passes specifies the total number of passes through the corpus during training.\n",
    "- alpha is the prior belief over topic distributions. 'auto' sets this to 1/num_topics.\n",
    "- per_word_topics enables the model to return a list of topics with their corresponding word weights for each word in the corpus.\n",
    "\n"
   ]
  },
  {
   "attachments": {},
   "cell_type": "markdown",
   "metadata": {},
   "source": [
    "After initializing the model, we can further train it by calling the lda_model.train() method or by using the update() method with additional text data."
   ]
  },
  {
   "cell_type": "code",
   "execution_count": 65,
   "metadata": {},
   "outputs": [],
   "source": [
    "lda_model = gensim.models.ldamodel.LdaModel(corpus=corpus,\n",
    "                                           id2word=id2word,\n",
    "                                           num_topics=20, \n",
    "                                           random_state=100,\n",
    "                                           update_every=1,\n",
    "                                           chunksize=100,\n",
    "                                           passes=10,\n",
    "                                           alpha='auto',\n",
    "                                           per_word_topics=True)"
   ]
  },
  {
   "attachments": {},
   "cell_type": "markdown",
   "metadata": {},
   "source": [
    "Each topic is combination of keywords and each keyword contributes a certain weightage to the topic.\n",
    "\n",
    "Keywords for each topic and weightage of each keyword using lda_model.print_topics()."
   ]
  },
  {
   "attachments": {},
   "cell_type": "markdown",
   "metadata": {},
   "source": [
    "The top keywords and weights associated with keywords contributing to topic.\n",
    "Topics are words with highest probability in topic and the numbers are the probabilities of words appearing in topic distribution."
   ]
  },
  {
   "cell_type": "code",
   "execution_count": 66,
   "metadata": {},
   "outputs": [
    {
     "name": "stdout",
     "output_type": "stream",
     "text": [
      "[(0,\n",
      "  '0.004*\"Biden\" + 0.004*\"mishandled\" + 0.004*\"Department\" + 0.004*\"either\" + '\n",
      "  '0.004*\"choice\" + 0.004*\"single\" + 0.004*\"every\" + 0.004*\"need\" + '\n",
      "  '0.004*\"potential\" + 0.004*\"behavior\"'),\n",
      " (1,\n",
      "  '0.239*\"whistleblower\" + 0.130*\"learning\" + 0.038*\"held\" + 0.020*\"come\" + '\n",
      "  '0.020*\"Hill\" + 0.002*\"whether\" + 0.002*\"privy\" + 0.002*\"protected\" + '\n",
      "  '0.002*\"disclosure\" + 0.002*\"scheme\"'),\n",
      " (2,\n",
      "  '0.510*\"Hunter\" + 0.002*\"Neither\" + 0.002*\"federal\" + 0.002*\"son\" + '\n",
      "  '0.002*\"Biden\" + 0.002*\"say\" + 0.002*\"within\" + 0.002*\"whistleblower\" + '\n",
      "  '0.002*\"single\" + 0.002*\"either\"'),\n",
      " (3,\n",
      "  '0.125*\"Committee\" + 0.099*\"Oversight\" + 0.040*\"Revenue\" + 0.040*\"Service\" + '\n",
      "  '0.040*\"Chairman\" + 0.040*\"James\" + 0.021*\"Internal\" + 0.021*\"deal\" + '\n",
      "  '0.002*\"work\" + 0.002*\"investigation\"'),\n",
      " (4,\n",
      "  '0.141*\"Fox\" + 0.102*\"scheme\" + 0.097*\"public\" + 0.097*\"told\" + '\n",
      "  '0.065*\"deceptive\" + 0.033*\"shady\" + 0.028*\"respond\" + 0.015*\"allowed\" + '\n",
      "  '0.015*\"Republicans\" + 0.002*\"SARs\"'),\n",
      " (5,\n",
      "  '0.004*\"behavior\" + 0.004*\"indicator\" + 0.004*\"choice\" + 0.004*\"single\" + '\n",
      "  '0.004*\"every\" + 0.004*\"need\" + 0.004*\"Department\" + 0.004*\"actively\" + '\n",
      "  '0.004*\"indicate\" + 0.004*\"alone\"'),\n",
      " (6,\n",
      "  '0.598*\"Biden\" + 0.054*\"mishandled\" + 0.034*\"Administration\" + 0.019*\"say\" + '\n",
      "  '0.010*\"Members\" + 0.010*\"Lawmakers\" + 0.010*\"concerning\" + 0.001*\"report\" + '\n",
      "  '0.001*\"among\" + 0.001*\"national\"'),\n",
      " (7,\n",
      "  '0.196*\"business\" + 0.051*\"shady\" + 0.043*\"within\" + 0.043*\"charge\" + '\n",
      "  '0.023*\"effort\" + 0.023*\"Internal\" + 0.002*\"Hunter\" + 0.002*\"investigation\" '\n",
      "  '+ 0.002*\"make\" + 0.002*\"calling\"'),\n",
      " (8,\n",
      "  '0.168*\"IRS\" + 0.133*\"House\" + 0.067*\"Committee\" + 0.043*\"also\" + '\n",
      "  '0.037*\"violation\" + 0.020*\"RKy\" + 0.002*\"WHISTLEBLOWER\" + 0.002*\"appears\" + '\n",
      "  '0.002*\"DOJ\" + 0.002*\"INTEREST\"'),\n",
      " (9,\n",
      "  '0.106*\"clear\" + 0.090*\"blocking\" + 0.046*\"conflict\" + 0.046*\"interest\" + '\n",
      "  '0.024*\"effort\" + 0.024*\"Members\" + 0.003*\"record\" + 0.003*\"also\" + '\n",
      "  '0.003*\"whistleblower\" + 0.003*\"mishandled\"'),\n",
      " (10,\n",
      "  '0.109*\"transparency\" + 0.109*\"accountable\" + 0.092*\"calling\" + '\n",
      "  '0.003*\"anyone\" + 0.003*\"answer\" + 0.003*\"accountability\" + 0.003*\"hold\" + '\n",
      "  '0.003*\"blocking\" + 0.003*\"Hill\" + 0.003*\"need\"'),\n",
      " (11,\n",
      "  '0.119*\"Oversight\" + 0.110*\"Accountability\" + 0.048*\"justice\" + '\n",
      "  '0.025*\"obstructing\" + 0.003*\"following\" + 0.003*\"activity\" + '\n",
      "  '0.003*\"potential\" + 0.003*\"actively\" + 0.003*\"either\" + 0.003*\"choice\"'),\n",
      " (12,\n",
      "  '0.329*\"said\" + 0.102*\"China\" + 0.052*\"may\" + 0.052*\"Administration\" + '\n",
      "  '0.015*\"Capitol\" + 0.015*\"Hill\" + 0.015*\"deal\" + 0.015*\"congressional\" + '\n",
      "  '0.002*\"respond\" + 0.002*\"Cruz\"'),\n",
      " (13,\n",
      "  '0.119*\"tax\" + 0.106*\"adversary\" + 0.078*\"may\" + 0.051*\"foreign\" + '\n",
      "  '0.023*\"obstructing\" + 0.002*\"like\" + 0.002*\"record\" + 0.002*\"covering\" + '\n",
      "  '0.002*\"working\" + 0.002*\"Biden\"'),\n",
      " (14,\n",
      "  '0.424*\"family\" + 0.277*\"member\" + 0.001*\"charged\" + 0.001*\"Cruz\" + '\n",
      "  '0.001*\"guilty\" + 0.001*\"presidential\" + 0.001*\"engaged\" + 0.001*\"House\" + '\n",
      "  '0.001*\"violation\" + 0.001*\"could\"'),\n",
      " (15,\n",
      "  '0.466*\"Congress\" + 0.091*\"make\" + 0.014*\"Capitol\" + 0.014*\"deeply\" + '\n",
      "  '0.014*\"Lawmakers\" + 0.014*\"concerning\" + 0.002*\"testimony\" + 0.002*\"senior\" '\n",
      "  '+ 0.001*\"client\" + 0.001*\"protected\"'),\n",
      " (16,\n",
      "  '0.135*\"foreign\" + 0.106*\"million\" + 0.046*\"outcry\" + 0.024*\"congressional\" '\n",
      "  '+ 0.024*\"come\" + 0.003*\"transaction\" + 0.003*\"suspicious\" + 0.003*\"made\" + '\n",
      "  '0.003*\"family\" + 0.003*\"Biden\"'),\n",
      " (17,\n",
      "  '0.203*\"Bidens\" + 0.089*\"also\" + 0.081*\"alleges\" + 0.022*\"allowed\" + '\n",
      "  '0.002*\"following\" + 0.002*\"continue\" + 0.002*\"tangled\" + 0.002*\"President\" '\n",
      "  '+ 0.002*\"facing\" + 0.002*\"son\"'),\n",
      " (18,\n",
      "  '0.178*\"News\" + 0.163*\"Wednesday\" + 0.117*\"Comer\" + 0.019*\"RKy\" + '\n",
      "  '0.002*\"Patrick\" + 0.002*\"Janet\" + 0.002*\"Cruz\" + 0.002*\"called\" + '\n",
      "  '0.002*\"consequence\" + 0.002*\"added\"'),\n",
      " (19,\n",
      "  '0.290*\"investigation\" + 0.125*\"administration\" + 0.116*\"Fox\" + 0.116*\"News\" '\n",
      "  '+ 0.012*\"deeply\" + 0.001*\"sensitive\" + 0.001*\"let\" + 0.001*\"highprofile\" + '\n",
      "  '0.001*\"concern\" + 0.001*\"since\"')]\n"
     ]
    }
   ],
   "source": [
    "pprint(lda_model.print_topics())\n",
    "doc_lda = lda_model[corpus]"
   ]
  },
  {
   "attachments": {},
   "cell_type": "markdown",
   "metadata": {},
   "source": [
    "# Explanation: example of the first topic id of the output"
   ]
  },
  {
   "attachments": {},
   "cell_type": "markdown",
   "metadata": {},
   "source": [
    "The format of the output is (topic_id, word_distribution). In this case, the topic_id is 0.\n",
    "\n",
    "The word_distribution is a list of tuples, where each tuple represents a word in the topic and its associated weight. The weight represents the importance of the word in the topic, with higher weights indicating more significant words.\n",
    "\n",
    "So for the first topic, the top 10 words and their weights are:\n",
    "\n",
    "\"Biden\": 0.004 \n",
    "\n",
    "\"mishandled\": 0.004\n",
    "\n",
    "\"Department\": 0.004\n",
    "\n",
    "\"either\": 0.004\n",
    "\n",
    "\"choice\": 0.004\n",
    "\n",
    "\"single\": 0.004\n",
    "\n",
    "\"every\": 0.004\n",
    "\n",
    "\"need\": 0.004\n",
    "\n",
    "\"potential\": 0.004\n",
    "\n",
    "\"behavior\": 0.004\n",
    "\n",
    "This suggests that the documents in the corpus that are associated with this topic may contain discussions about Biden, the Department, mishandled situations, choices, and behavior, among other things. However, it's important to note that without more context about the corpus and the LDA model itself, it's difficult to interpret these results in a meaningful way."
   ]
  },
  {
   "attachments": {},
   "cell_type": "markdown",
   "metadata": {},
   "source": [
    "# Compute model Perplexity and Coherence score"
   ]
  },
  {
   "attachments": {},
   "cell_type": "markdown",
   "metadata": {},
   "source": [
    "- Coherence is a measure of how coherent the topics are. Higher coherence scores indicate more coherent topics. CoherenceModel is a class in Gensim that computes the coherence of a topic model."
   ]
  },
  {
   "attachments": {},
   "cell_type": "markdown",
   "metadata": {},
   "source": [
    "- Perplexity is a measure of how well the LDA model predicts the corpus. Lower perplexity scores indicate better predictions. log_perplexity is a method of the LdaModel class in Gensim that computes the log perplexity of the model given a corpus. "
   ]
  },
  {
   "cell_type": "code",
   "execution_count": 67,
   "metadata": {},
   "outputs": [
    {
     "name": "stdout",
     "output_type": "stream",
     "text": [
      "\n",
      "Perplexity:  -21.178629464587097\n",
      "\n",
      "Coherence Score:  0.739709594537693\n"
     ]
    }
   ],
   "source": [
    "# Compute Perplexity\n",
    "print('\\nPerplexity: ', lda_model.log_perplexity(corpus))  \n",
    "# a measure of how good the model is. lower the better.\n",
    "\n",
    "# Compute Coherence Score\n",
    "coherence_model_lda = CoherenceModel(model=lda_model, texts = lemmatized_bigrams, dictionary=id2word, coherence='c_v')\n",
    "coherence_lda = coherence_model_lda.get_coherence()\n",
    "print('\\nCoherence Score: ', coherence_lda)"
   ]
  },
  {
   "attachments": {},
   "cell_type": "markdown",
   "metadata": {},
   "source": [
    "# LDA model"
   ]
  },
  {
   "attachments": {},
   "cell_type": "markdown",
   "metadata": {},
   "source": [
    "The visualization shows the topics generated by the LDA model as circles, where the size of the circle represents the prevalence of the topic in the corpus. Each topic is represented by a list of words associated with that topic, and the strength of the association is represented by the distance between the words and the center of the circle.\n",
    "\n",
    "The visualization also shows the distribution of documents across topics, where each document is represented by a horizontal bar chart. The length of the bar represents the prevalence of the document in the corpus, and the color of the bar represents the topics that the document is associated with.\n",
    "\n",
    "You can interact with the visualization by hovering over the circles or the bars to see more information about the topics or the documents, respectively. You can also click on a topic to see the words associated with that topic, and adjust the relevance metric to explore the topics further."
   ]
  },
  {
   "cell_type": "code",
   "execution_count": 68,
   "metadata": {},
   "outputs": [],
   "source": [
    "# Visualize the topics\n",
    "pyLDAvis.enable_notebook(local=True)\n",
    "vis = pyLDAvis.gensim.prepare(lda_model, corpus, id2word)\n",
    "# pyLDAvis.display(vis)\n",
    "pyLDAvis.save_html(vis, 'lda_plot.html')"
   ]
  },
  {
   "attachments": {},
   "cell_type": "markdown",
   "metadata": {},
   "source": [
    "Each bubble on the left-hand side represents topic. The larger the bubble, the more prevalent or dominant the topic is. Good topic model will be fairly big topics scattered in different quadrants rather than being clustered on one quadrant.\n",
    "\n",
    "The model with too many topics will have many overlaps, small sized bubbles clustered in one region of chart.\n",
    "If you move the cursor the different bubbles you can see different keywords associated with topics.\n"
   ]
  }
 ],
 "metadata": {
  "kernelspec": {
   "display_name": "Python 3",
   "language": "python",
   "name": "python3"
  },
  "language_info": {
   "codemirror_mode": {
    "name": "ipython",
    "version": 3
   },
   "file_extension": ".py",
   "mimetype": "text/x-python",
   "name": "python",
   "nbconvert_exporter": "python",
   "pygments_lexer": "ipython3",
   "version": "3.10.6"
  },
  "orig_nbformat": 4
 },
 "nbformat": 4,
 "nbformat_minor": 2
}
