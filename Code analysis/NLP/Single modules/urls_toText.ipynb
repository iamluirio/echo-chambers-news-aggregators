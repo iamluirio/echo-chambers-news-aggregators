{
 "cells": [
  {
   "cell_type": "code",
   "execution_count": 6,
   "metadata": {},
   "outputs": [],
   "source": [
    "import os\n",
    "import requests\n",
    "from bs4 import BeautifulSoup\n",
    "import re\n",
    "import csv"
   ]
  },
  {
   "cell_type": "code",
   "execution_count": 9,
   "metadata": {},
   "outputs": [
    {
     "name": "stdout",
     "output_type": "stream",
     "text": [
      "['https://news.google.com/articles/CBMiTGh0dHBzOi8vd3d3Lm55dGltZXMuY29tLzIwMjMvMDUvMDIvb3Bpbmlvbi9yb24tZGVzYW50aXMtd29rZS1taW5kLXZpcnVzLmh0bWzSAQA?hl=en-US&gl=US&ceid=US%3Aen', 'https://news.google.com/articles/CBMieGh0dHBzOi8vd3d3LmJpbGxib2FyZC5jb20vY3VsdHVyZS90di1maWxtL2FkYW0tbGFtYmVydC1wZXJmb3JtYW5jZS1hbWVyaWNhbi1pZG9sLWNvdmVyLWktY2FudC1zdGFuZC10aGUtcmFpbi0xMjM1MzE4ODc2L9IBfGh0dHBzOi8vd3d3LmJpbGxib2FyZC5jb20vY3VsdHVyZS90di1maWxtL2FkYW0tbGFtYmVydC1wZXJmb3JtYW5jZS1hbWVyaWNhbi1pZG9sLWNvdmVyLWktY2FudC1zdGFuZC10aGUtcmFpbi0xMjM1MzE4ODc2L2FtcC8?hl=en-US&gl=US&ceid=US%3Aen', 'https://news.google.com/articles/CBMiYWh0dHBzOi8vd3d3LnRoZS1zdW4uY29tL2VudGVydGFpbm1lbnQvODAwNzY3Mi9hbWVyaWNhbi1pZG9sLWZhbnMtYmVnLXNob3ctaGlyZS1hbHVtLWFkYW0tbGFtYmVydC_SAWVodHRwczovL3d3dy50aGUtc3VuLmNvbS9lbnRlcnRhaW5tZW50LzgwMDc2NzIvYW1lcmljYW4taWRvbC1mYW5zLWJlZy1zaG93LWhpcmUtYWx1bS1hZGFtLWxhbWJlcnQvYW1wLw?hl=en-US&gl=US&ceid=US%3Aen', 'https://news.google.com/articles/CBMiVWh0dHBzOi8vd3d3Lm1qc2JpZ2Jsb2cuY29tL3dhdGNoLWthdHktcGVycnlzLWFkYW0tbGFtYmVydC1hbWVyaWNhbi1pZG9sLXRocm93YmFjay5odG3SAQA?hl=en-US&gl=US&ceid=US%3Aen', 'https://news.google.com/articles/CBMiVmh0dHBzOi8vd3d3LmV0b25saW5lLmNvbS9pY2Utc3BpY2UtbWFrZXMtbWV0LWdhbGEtZGVidXQtaW4tc3BhcmtsaW5nLXdoaXRlLWdvd24tMjAzNjc40gFaaHR0cHM6Ly93d3cuZXRvbmxpbmUuY29tL2ljZS1zcGljZS1tYWtlcy1tZXQtZ2FsYS1kZWJ1dC1pbi1zcGFya2xpbmctd2hpdGUtZ293bi0yMDM2Nzg_YW1w?hl=en-US&gl=US&ceid=US%3Aen', 'https://news.google.com/articles/CBMidmh0dHBzOi8vd3d3LnJvbGxpbmdzdG9uZS5jb20vbXVzaWMvbXVzaWMtbmV3cy9raXNzLXBhdWwtc3RhbmxleS10cmFuc3Bob2JpYy1zdGF0ZW1lbnQta2lkcy1nZW5kZXItaWRlbnRpdHktMTIzNDcyNjQ1MC_SAXpodHRwczovL3d3dy5yb2xsaW5nc3RvbmUuY29tL211c2ljL211c2ljLW5ld3Mva2lzcy1wYXVsLXN0YW5sZXktdHJhbnNwaG9iaWMtc3RhdGVtZW50LWtpZHMtZ2VuZGVyLWlkZW50aXR5LTEyMzQ3MjY0NTAvYW1wLw?hl=en-US&gl=US&ceid=US%3Aen', 'https://news.google.com/articles/CBMibGh0dHBzOi8vd3d3LmZveG5ld3MuY29tL21lZGlhL2tpc3MtY28tZm91bmRlci1ibGFzdHMtbm9ybWFsaXppbmctc2V4dWFsLXN0cnVnZ2xlcy1jaGlsZHJlbi1zYWQtZGFuZ2Vyb3VzLWZhZNIBcGh0dHBzOi8vd3d3LmZveG5ld3MuY29tL21lZGlhL2tpc3MtY28tZm91bmRlci1ibGFzdHMtbm9ybWFsaXppbmctc2V4dWFsLXN0cnVnZ2xlcy1jaGlsZHJlbi1zYWQtZGFuZ2Vyb3VzLWZhZC5hbXA?hl=en-US&gl=US&ceid=US%3Aen', 'https://news.google.com/articles/CBMiYWh0dHBzOi8vd3d3Lmh1ZmZwb3N0LmNvbS9lbnRyeS9raXNzLXBhdWwtc3RhbmxleS1nZW5kZXItYWZmaXJtaW5nLWNhcmVfbl82NDRmNDhlZGU0YjAzYzFiODhjZTBlOTPSAWVodHRwczovL3d3dy5odWZmcG9zdC5jb20vZW50cnkva2lzcy1wYXVsLXN0YW5sZXktZ2VuZGVyLWFmZmlybWluZy1jYXJlX25fNjQ0ZjQ4ZWRlNGIwM2MxYjg4Y2UwZTkzL2FtcA?hl=en-US&gl=US&ceid=US%3Aen', 'https://news.google.com/articles/CBMijwFodHRwczovL3d3dy5tc24uY29tL2VuLXVzL2VudGVydGFpbm1lbnQvbmV3cy9hLWtpc3MtbWVtYmVyLWp1c3Qtd2VudC1vbi1hbi1hbnRpLXRyYW5zLXJhbnQtYW5kLXRoZS1oeXBvY3Jpc3ktaXMtc3R1bm5pbmcvYXItQUExYUFUNlI_bGk9QkJuYjJnaNIBAA?hl=en-US&gl=US&ceid=US%3Aen', 'https://news.google.com/articles/CBMifWh0dHBzOi8vd3d3LmJpbGxib2FyZC5jb20vbXVzaWMvY2hhcnQtYmVhdC9tb3JnYW4td2FsbGVuLW9uZS10aGluZy1hdC1hLXRpbWUtZWlnaHRoLXdlZWstbnVtYmVyLW9uZS1iaWxsYm9hcmQtMjAwLTEyMzUzMTkyNzAv0gGBAWh0dHBzOi8vd3d3LmJpbGxib2FyZC5jb20vbXVzaWMvY2hhcnQtYmVhdC9tb3JnYW4td2FsbGVuLW9uZS10aGluZy1hdC1hLXRpbWUtZWlnaHRoLXdlZWstbnVtYmVyLW9uZS1iaWxsYm9hcmQtMjAwLTEyMzUzMTkyNzAvYW1wLw?hl=en-US&gl=US&ceid=US%3Aen']\n",
      "['https://news.google.com/articles/CBMiYGh0dHBzOi8vdGhlaGlsbC5jb20vaG9tZW5ld3MvaG91c2UvMzk4MjM0Mi1nb3AtbWNjYXJ0aHktbm93LWZhY2UtZXZlbi1oZWF2aWVyLWRlYnQtY2VpbGluZy1saWZ0L9IBZGh0dHBzOi8vdGhlaGlsbC5jb20vaG9tZW5ld3MvaG91c2UvMzk4MjM0Mi1nb3AtbWNjYXJ0aHktbm93LWZhY2UtZXZlbi1oZWF2aWVyLWRlYnQtY2VpbGluZy1saWZ0L2FtcC8?hl=en-US&gl=US&ceid=US%3Aen', 'https://news.google.com/articles/CBMiXmh0dHBzOi8vd3d3LnRoZWJ1bHdhcmsuY29tL3N0YXlpbmctY2xlYXItZXllZC1hYm91dC1yZXB1YmxpY2FuLXJhZGljYWxpc20tb24tdGhlLWRlYnQtY2VpbGluZy_SAQA?hl=en-US&gl=US&ceid=US%3Aen', 'https://news.google.com/articles/CBMiaWh0dHBzOi8vbnltYWcuY29tL2ludGVsbGlnZW5jZXIvMjAyMy8wNS9yZWJlbC1kZW1vY3JhdHMtcmlzay1lbXBvd2VyaW5nLWdvcC1leHRyZW1pc3RzLW9uLWRlYnQtbGltaXQuaHRtbNIBAA?hl=en-US&gl=US&ceid=US%3Aen', 'https://news.google.com/articles/CBMibmh0dHBzOi8vd3d3LndoYXRzLW9uLW5ldGZsaXguY29tL3doYXRzLW5ldy9uZXRmbGl4LWFkZGVkLTU3LW5ldy1tb3ZpZXMtYW5kLXNlcmllcy1vbi1uZXRmbGl4LWZvci1tYXktMXN0LTIwMjMv0gEA?hl=en-US&gl=US&ceid=US%3Aen', 'https://news.google.com/articles/CBMiVWh0dHBzOi8vc2xhdGUuY29tL2N1bHR1cmUvMjAyMy8wNS9uZXctc3RyZWFtaW5nLW1heS0yMDIzLWhiby1uZXRmbGl4LWFtYXpvbi1odWx1Lmh0bWzSAQA?hl=en-US&gl=US&ceid=US%3Aen', 'https://news.google.com/articles/CBMiVGh0dHBzOi8vd3d3LnBvbHlnb24uY29tLzIwMjMvNS8xLzIzNjk5MDA2L25ldy1uZXRmbGl4LW1vdmllcy10di1zaG93cy13YXRjaC1tYXktMjAyM9IBYWh0dHBzOi8vd3d3LnBvbHlnb24uY29tL3BsYXRmb3JtL2FtcC8yMDIzLzUvMS8yMzY5OTAwNi9uZXctbmV0ZmxpeC1tb3ZpZXMtdHYtc2hvd3Mtd2F0Y2gtbWF5LTIwMjM?hl=en-US&gl=US&ceid=US%3Aen', 'https://news.google.com/articles/CBMiSWh0dHBzOi8vd3d3LmRleGVydG8uY29tL3R2LW1vdmllcy9uZXctb24tbmV0ZmxpeC1tb3ZpZXMtdHYtc2hvd3MtMjEzMTQ1MS_SAQA?hl=en-US&gl=US&ceid=US%3Aen', 'https://news.google.com/articles/CBMib2h0dHBzOi8vd3d3Lm1zbi5jb20vZW4teGwvc3BvcnRzL25mbC9uZmwtcXVhcnRlcmJhY2std2FzLXJlcG9ydGVkbHktZnVyaW91cy13aXRoLWRvbmFsZC10cnVtcC1waG90by9hci1BQTFhQkZUTtIBAA?hl=en-US&gl=US&ceid=US%3Aen', 'https://news.google.com/articles/CBMiY2h0dHBzOi8vc2xhdGUuY29tL25ld3MtYW5kLXBvbGl0aWNzLzIwMjMvMDUvZGlzbmV5LWRlc2FudGlzLXJlZWR5LWNyZWVrLWxhd3N1aXQtc2VjcmV0LWhpc3RvcnkuaHRtbNIBAA?hl=en-US&gl=US&ceid=US%3Aen', 'https://news.google.com/articles/CBMiY2h0dHBzOi8vc2xhdGUuY29tL25ld3MtYW5kLXBvbGl0aWNzLzIwMjMvMDUvZGlzbmV5LWRlc2FudGlzLXJlZWR5LWNyZWVrLWxhd3N1aXQtc2VjcmV0LWhpc3RvcnkuaHRtbNIBAA?hl=en-US&gl=US&ceid=US%3Aen']\n",
      "['https://news.google.com/articles/CBMiemh0dHBzOi8vd3d3LmJpbGxib2FyZC5jb20vYnVzaW5lc3MvbGVnYWwvZWQtc2hlZXJhbi1jb3B5cmlnaHQtdHJpYWwtdGhpbmtpbmctb3V0LWxvdWQtbGV0cy1nZXQtaXQtb24tdGVzdGltb255LTEyMzUzMTkzMDgv0gF-aHR0cHM6Ly93d3cuYmlsbGJvYXJkLmNvbS9idXNpbmVzcy9sZWdhbC9lZC1zaGVlcmFuLWNvcHlyaWdodC10cmlhbC10aGlua2luZy1vdXQtbG91ZC1sZXRzLWdldC1pdC1vbi10ZXN0aW1vbnktMTIzNTMxOTMwOC9hbXAv?hl=en-US&gl=US&ceid=US%3Aen', 'https://news.google.com/articles/CBMicWh0dHBzOi8vbnlwb3N0LmNvbS8yMDIzLzA1LzAxL2VkLXNoZWVyYW4taW0tZG9uZS1pZi1mb3VuZC1saWFibGUtaW4tbWFydmluLWdheWUtbGV0cy1nZXQtaXQtb24tY29weXJpZ2h0LWxhd3N1aXQv0gF1aHR0cHM6Ly9ueXBvc3QuY29tLzIwMjMvMDUvMDEvZWQtc2hlZXJhbi1pbS1kb25lLWlmLWZvdW5kLWxpYWJsZS1pbi1tYXJ2aW4tZ2F5ZS1sZXRzLWdldC1pdC1vbi1jb3B5cmlnaHQtbGF3c3VpdC9hbXAv?hl=en-US&gl=US&ceid=US%3Aen', 'https://news.google.com/articles/CBMibmh0dHBzOi8vd3d3Lndhc2hpbmd0b25wb3N0LmNvbS9vcGluaW9ucy8yMDIzLzA1LzAyL2VkLXNoZWVyYW4tbWFydmluLWdheWUtbGF3c3VpdC1jaG9yZC1wcm9ncmVzc2lvbi1jb3B5cmlnaHQv0gEA?hl=en-US&gl=US&ceid=US%3Aen', 'https://news.google.com/articles/CBMiYGh0dHBzOi8vdGhlaGlsbC5jb20vaG9tZW5ld3MvaG91c2UvMzk4MjM0Mi1nb3AtbWNjYXJ0aHktbm93LWZhY2UtZXZlbi1oZWF2aWVyLWRlYnQtY2VpbGluZy1saWZ0L9IBZGh0dHBzOi8vdGhlaGlsbC5jb20vaG9tZW5ld3MvaG91c2UvMzk4MjM0Mi1nb3AtbWNjYXJ0aHktbm93LWZhY2UtZXZlbi1oZWF2aWVyLWRlYnQtY2VpbGluZy1saWZ0L2FtcC8?hl=en-US&gl=US&ceid=US%3Aen', 'https://news.google.com/articles/CBMiXmh0dHBzOi8vd3d3LnRoZWJ1bHdhcmsuY29tL3N0YXlpbmctY2xlYXItZXllZC1hYm91dC1yZXB1YmxpY2FuLXJhZGljYWxpc20tb24tdGhlLWRlYnQtY2VpbGluZy_SAQA?hl=en-US&gl=US&ceid=US%3Aen', 'https://news.google.com/articles/CBMiaWh0dHBzOi8vbnltYWcuY29tL2ludGVsbGlnZW5jZXIvMjAyMy8wNS9yZWJlbC1kZW1vY3JhdHMtcmlzay1lbXBvd2VyaW5nLWdvcC1leHRyZW1pc3RzLW9uLWRlYnQtbGltaXQuaHRtbNIBAA?hl=en-US&gl=US&ceid=US%3Aen', 'https://news.google.com/articles/CBMicmh0dHBzOi8vd3d3LnRoZWF0ZXJtYW5pYS5jb20vbmV3cy9pbnNpZGUtcGhhbnRvbS1vZi10aGUtb3BlcmEtbG9hZC1vdXQtdGhlLWNoYW5kZWxpZXItbGVhdmVzLXRoZS1tYWplc3RpY18xNzAwNTMxL9IBAA?hl=en-US&gl=US&ceid=US%3Aen', 'https://news.google.com/articles/CBMifWh0dHBzOi8vd3d3LmZveG5ld3MuY29tL3VzL3Nhbi1mcmFuY2lzY28tcHVibGljLXNjaG9vbHMtZHJpdmVzLXBhcmVudHMtZmluZC1hbHRlcm5hdGUtb3B0aW9ucy1raWRzLWJ5cGFzcy1zY2hvb2xzLW1hdGgtcG9saWN50gGBAWh0dHBzOi8vd3d3LmZveG5ld3MuY29tL3VzL3Nhbi1mcmFuY2lzY28tcHVibGljLXNjaG9vbHMtZHJpdmVzLXBhcmVudHMtZmluZC1hbHRlcm5hdGUtb3B0aW9ucy1raWRzLWJ5cGFzcy1zY2hvb2xzLW1hdGgtcG9saWN5LmFtcA?hl=en-US&gl=US&ceid=US%3Aen', 'https://news.google.com/articles/CBMiVWh0dHBzOi8vd3d3Lm55dGltZXMuY29tLzIwMjMvMDQvMjcvdC1tYWdhemluZS9zYWxvbmUtZGVsLW1vYmlsZS1taWxhbi1oaWdobGlnaHRzLmh0bWzSAQA?hl=en-US&gl=US&ceid=US%3Aen', 'https://news.google.com/articles/CBMiXWh0dHBzOi8vd3d3LmZveG5ld3MuY29tL2VudGVydGFpbm1lbnQvd29vZHktaGFycmVsc29uLWRpc2N1c3Nlcy1zbmwtYmFja2xhc2gtZG9udC1sb29rLXRoYXQtc9IBYWh0dHBzOi8vd3d3LmZveG5ld3MuY29tL2VudGVydGFpbm1lbnQvd29vZHktaGFycmVsc29uLWRpc2N1c3Nlcy1zbmwtYmFja2xhc2gtZG9udC1sb29rLXRoYXQtcy5hbXA?hl=en-US&gl=US&ceid=US%3Aen']\n",
      "['https://news.google.com/articles/CBMiYmh0dHBzOi8vbGFzdHdvcmRvbnNwb3J0cy5jb20vdGVubmlzLzIwMjMvMDUvMDEvd3RhLW1hZHJpZC1xdWFydGVyZmluYWwtcHJlZGljdGlvbnMtc3dpYXRlay1tYXJ0aWMv0gFmaHR0cHM6Ly9sYXN0d29yZG9uc3BvcnRzLmNvbS90ZW5uaXMvMjAyMy8wNS8wMS93dGEtbWFkcmlkLXF1YXJ0ZXJmaW5hbC1wcmVkaWN0aW9ucy1zd2lhdGVrLW1hcnRpYy9hbXAv?hl=en-US&gl=US&ceid=US%3Aen', 'https://news.google.com/articles/CBMijwFodHRwczovL3d3dy50ZW5uaXN3b3JsZHVzYS5vcmcvdGVubmlzL25ld3MvVGVubmlzX0ludGVydmlld3MvMTMxOTc5L2RhcmlhLWthc2F0a2luYS11a3JhaW5pYW4tcGxheWVycy1oYXZlLW1hbnktcmVhc29ucy1ub3QtdG8tc2hha2UtaGFuZHMtdXMtL9IBAA?hl=en-US&gl=US&ceid=US%3Aen', 'https://news.google.com/articles/CBMijQFodHRwczovL3d3dy5zcG9ydHNrZWVkYS5jb20vdGVubmlzL21hZHJpZC0yMDIzLWJhcmJvcmEta3JlamNpa292YS12cy1wZXRyYS1tYXJ0aWMtcHJldmlldy1oZWFkLXRvLWhlYWQtcHJlZGljdGlvbi1vZGRzLXBpY2stbXV0dWEtbWFkcmlkLW9wZW7SAZEBaHR0cHM6Ly93d3cuc3BvcnRza2VlZGEuY29tL2FtcC90ZW5uaXMvbWFkcmlkLTIwMjMtYmFyYm9yYS1rcmVqY2lrb3ZhLXZzLXBldHJhLW1hcnRpYy1wcmV2aWV3LWhlYWQtdG8taGVhZC1wcmVkaWN0aW9uLW9kZHMtcGljay1tdXR1YS1tYWRyaWQtb3Blbg?hl=en-US&gl=US&ceid=US%3Aen', 'https://news.google.com/articles/CBMiZGh0dHBzOi8vbGFzdHdvcmRvbnNwb3J0cy5jb20vdGVubmlzLzIwMjMvMDUvMDEvd3RhLW1hZHJpZC1xdWFydGVyZmluYWwtcHJlZGljdGlvbnMtc2FiYWxlbmthLXNoZXJpZi_SAWhodHRwczovL2xhc3R3b3Jkb25zcG9ydHMuY29tL3Rlbm5pcy8yMDIzLzA1LzAxL3d0YS1tYWRyaWQtcXVhcnRlcmZpbmFsLXByZWRpY3Rpb25zLXNhYmFsZW5rYS1zaGVyaWYvYW1wLw?hl=en-US&gl=US&ceid=US%3Aen', 'https://news.google.com/articles/CBMiYGh0dHBzOi8vdGhlaGlsbC5jb20vaG9tZW5ld3MvaG91c2UvMzk4MjM0Mi1nb3AtbWNjYXJ0aHktbm93LWZhY2UtZXZlbi1oZWF2aWVyLWRlYnQtY2VpbGluZy1saWZ0L9IBZGh0dHBzOi8vdGhlaGlsbC5jb20vaG9tZW5ld3MvaG91c2UvMzk4MjM0Mi1nb3AtbWNjYXJ0aHktbm93LWZhY2UtZXZlbi1oZWF2aWVyLWRlYnQtY2VpbGluZy1saWZ0L2FtcC8?hl=en-US&gl=US&ceid=US%3Aen', 'https://news.google.com/articles/CBMiXmh0dHBzOi8vd3d3LnRoZWJ1bHdhcmsuY29tL3N0YXlpbmctY2xlYXItZXllZC1hYm91dC1yZXB1YmxpY2FuLXJhZGljYWxpc20tb24tdGhlLWRlYnQtY2VpbGluZy_SAQA?hl=en-US&gl=US&ceid=US%3Aen', 'https://news.google.com/articles/CBMiaWh0dHBzOi8vbnltYWcuY29tL2ludGVsbGlnZW5jZXIvMjAyMy8wNS9yZWJlbC1kZW1vY3JhdHMtcmlzay1lbXBvd2VyaW5nLWdvcC1leHRyZW1pc3RzLW9uLWRlYnQtbGltaXQuaHRtbNIBAA?hl=en-US&gl=US&ceid=US%3Aen', 'https://news.google.com/articles/CBMiOGh0dHBzOi8vd3d3Lm55dGltZXMuY29tLzIwMjMvMDQvMjYvbnlyZWdpb24vZXhwZXJ0cy5odG1s0gEA?hl=en-US&gl=US&ceid=US%3Aen', 'https://news.google.com/articles/CBMiWGh0dHBzOi8vd3d3LmNubi5jb20vMjAyMy8wNS8wMS9wb2xpdGljcy90cnVtcC1lLWplYW4tY2Fycm9sbC1kZWZhbWF0aW9uLXRyaWFsL2luZGV4Lmh0bWzSAVxodHRwczovL2FtcC5jbm4uY29tL2Nubi8yMDIzLzA1LzAxL3BvbGl0aWNzL3RydW1wLWUtamVhbi1jYXJyb2xsLWRlZmFtYXRpb24tdHJpYWwvaW5kZXguaHRtbA?hl=en-US&gl=US&ceid=US%3Aen', 'https://news.google.com/articles/CBMiWmh0dHBzOi8vd3d3LmNubi5jb20vMjAyMy8wNS8wMi9idXNpbmVzcy93cml0ZXJzLWd1aWxkLXN0cmlrZS1ob2xseXdvb2QtaG5rLWludGwvaW5kZXguaHRtbNIBXmh0dHBzOi8vYW1wLmNubi5jb20vY25uLzIwMjMvMDUvMDIvYnVzaW5lc3Mvd3JpdGVycy1ndWlsZC1zdHJpa2UtaG9sbHl3b29kLWhuay1pbnRsL2luZGV4Lmh0bWw?hl=en-US&gl=US&ceid=US%3Aen']\n"
     ]
    }
   ],
   "source": [
    "def retrieve_cells(csv_file):\n",
    "    with open(csv_file, 'r') as file:\n",
    "        reader = csv.reader(file)\n",
    "        data = list(reader)[1:]  # Skip the first row\n",
    "\n",
    "        cells = []\n",
    "        for row in data[:4]:  # Retrieve 4 rows\n",
    "            row_cells = row[2:12]  # Retrieve 10 cells, skipping first two columns\n",
    "            cells.append(row_cells)\n",
    "\n",
    "        return cells\n",
    "\n",
    "# Example usage:\n",
    "csv_file = '/home/pierluigi/Downloads/Text Analytics - 02_05_2023.csv'  # Replace with the path to your CSV file\n",
    "retrieved_cells = retrieve_cells(csv_file)\n",
    "\n",
    "# Print the retrieved cells\n",
    "for row in retrieved_cells:\n",
    "    print(row)\n"
   ]
  },
  {
   "cell_type": "code",
   "execution_count": null,
   "metadata": {},
   "outputs": [],
   "source": [
    "def save_article_text(url):\n",
    "    # Set headers to mimic a web browser\n",
    "    headers = {\n",
    "        'User-Agent': 'Mozilla/5.0 (Windows NT 10.0; Win64; x64) AppleWebKit/537.36 (KHTML, like Gecko) Chrome/58.0.3029.110 Safari/537.3'\n",
    "    }\n",
    "\n",
    "    # Send a GET request to the URL with headers\n",
    "    response = requests.get(url, headers=headers)\n",
    "    response.raise_for_status()\n",
    "\n",
    "    # Parse the HTML content using BeautifulSoup\n",
    "    soup = BeautifulSoup(response.content, 'html.parser')\n",
    "\n",
    "    # Extract the title, subtitle, description, and main text\n",
    "    title_element = soup.find('title')\n",
    "    title = title_element.text.strip() if title_element else \"\"\n",
    "\n",
    "    subtitle_element = soup.find('meta', attrs={'name': 'description'})\n",
    "    subtitle = subtitle_element['content'].strip() if subtitle_element and 'content' in subtitle_element.attrs else \"\"\n",
    "\n",
    "    description_element = soup.find('meta', attrs={'name': 'og:description'})\n",
    "    description = description_element['content'].strip() if description_element and 'content' in description_element.attrs else \"\"\n",
    "\n",
    "    # Find and exclude unwanted elements by class names or content patterns\n",
    "    unwanted_elements = soup.find_all(['script', 'style', 'a', 'div', 'span'], class_=['follow-us', 'newsletter', 'advertisement'])\n",
    "    patterns_to_exclude = ['next article', 'read next', 'correlated']\n",
    "    for element in unwanted_elements:\n",
    "        if any(pattern in str(element).lower() for pattern in patterns_to_exclude):\n",
    "            element.extract()\n",
    "\n",
    "    # Find and exclude footer container and \"All rights reserved\" text\n",
    "    footer_elements = soup.find_all(['footer', 'div'], class_=['footer', 'bottom-footer'])\n",
    "    for element in footer_elements:\n",
    "        element.extract()\n",
    "    all_rights_reserved_elements = soup.find_all(text=re.compile(r'\\bAll rights reserved\\b', re.IGNORECASE))\n",
    "    for element in all_rights_reserved_elements:\n",
    "        element.extract()\n",
    "\n",
    "    # Find the main text element(s) based on the HTML structure of the page\n",
    "    main_text_elements = soup.find_all('p')\n",
    "    main_text = \"\\n\\n\".join([element.text.strip() for element in main_text_elements if element.text.strip()])\n",
    "\n",
    "    # Set the subtitle to the description if it is empty\n",
    "    if not subtitle:\n",
    "        subtitle = description.strip()\n",
    "\n",
    "    # Concatenate the extracted strings\n",
    "    article_text = f\"{title}\\n\\n{subtitle}\\n\\n{main_text}\"\n",
    "\n",
    "    return article_text\n"
   ]
  },
  {
   "cell_type": "code",
   "execution_count": null,
   "metadata": {},
   "outputs": [],
   "source": [
    "def create_csv_file(urls):\n",
    "    # Create a CSV file named \"articles.csv\"\n",
    "    filename = \"articles.csv\"\n",
    "\n",
    "    with open(filename, \"w\", newline=\"\", encoding=\"utf-8\") as file:\n",
    "        writer = csv.writer(file)\n",
    "\n",
    "        # Iterate over the URLs\n",
    "        for i, url in enumerate(urls, start=1):\n",
    "            try:\n",
    "                # Call save_article_text to get the article text\n",
    "                article_text = save_article_text(url)\n",
    "\n",
    "                # Write the article text to the CSV file\n",
    "                writer.writerow([article_text])\n",
    "\n",
    "                # Start a new row after every 10 URLs\n",
    "                if i % 10 == 0:\n",
    "                    writer.writerow([])  # Add an empty row\n",
    "\n",
    "                print(f\"Article processed: {url}\")\n",
    "            except (requests.exceptions.RequestException, requests.exceptions.HTTPError) as e:\n",
    "                # Handle the exception and continue with the next URL\n",
    "                print(f\"Error processing URL: {url}\")\n",
    "                print(f\"Error message: {str(e)}\")\n",
    "                continue\n",
    "\n",
    "    print(f\"CSV file created: {filename}\")"
   ]
  },
  {
   "cell_type": "code",
   "execution_count": null,
   "metadata": {},
   "outputs": [],
   "source": []
  }
 ],
 "metadata": {
  "kernelspec": {
   "display_name": "Python 3",
   "language": "python",
   "name": "python3"
  },
  "language_info": {
   "codemirror_mode": {
    "name": "ipython",
    "version": 3
   },
   "file_extension": ".py",
   "mimetype": "text/x-python",
   "name": "python",
   "nbconvert_exporter": "python",
   "pygments_lexer": "ipython3",
   "version": "3.10.6"
  },
  "orig_nbformat": 4
 },
 "nbformat": 4,
 "nbformat_minor": 2
}
