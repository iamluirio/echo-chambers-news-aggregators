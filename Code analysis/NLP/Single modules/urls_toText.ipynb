{
 "cells": [
  {
   "cell_type": "code",
   "execution_count": 26,
   "metadata": {},
   "outputs": [],
   "source": [
    "import os\n",
    "import requests\n",
    "from bs4 import BeautifulSoup\n",
    "\n",
    "\n",
    "def save_article_text(url):\n",
    "    # Set headers to mimic a web browser\n",
    "    headers = {\n",
    "        'User-Agent': 'Mozilla/5.0 (Windows NT 10.0; Win64; x64) AppleWebKit/537.36 (KHTML, like Gecko) Chrome/58.0.3029.110 Safari/537.3'\n",
    "    }\n",
    "\n",
    "    # Send a GET request to the URL with headers\n",
    "    response = requests.get(url, headers=headers)\n",
    "    response.raise_for_status()\n",
    "\n",
    "    # Parse the HTML content using BeautifulSoup\n",
    "    soup = BeautifulSoup(response.content, 'html.parser')\n",
    "\n",
    "    # Extract the title, subtitle, description, and main text\n",
    "    title_element = soup.find('title')\n",
    "    title = title_element.text.strip() if title_element else \"\"\n",
    "    \n",
    "    subtitle_element = soup.find('meta', attrs={'name': 'description'})\n",
    "    subtitle = subtitle_element['content'].strip() if subtitle_element and 'content' in subtitle_element.attrs else \"\"\n",
    "\n",
    "    description_element = soup.find('meta', attrs={'name': 'og:description'})\n",
    "    description = description_element['content'].strip() if description_element and 'content' in description_element.attrs else \"\"\n",
    "\n",
    "    # Find and exclude unwanted elements by class names or content patterns\n",
    "    unwanted_elements = soup.find_all(['script', 'style', 'a', 'div', 'span'], class_=['follow-us', 'newsletter', 'advertisement'])\n",
    "    for element in unwanted_elements:\n",
    "        element.extract()\n",
    "\n",
    "    article_element = soup.find('article')\n",
    "    text = article_element.text.strip() if article_element else \"\"\n",
    "\n",
    "    # Set the subtitle to the description if it is empty\n",
    "    if not subtitle:\n",
    "        subtitle = description.strip()\n",
    "\n",
    "    # Concatenate the extracted strings\n",
    "    article_text = f\"{title}\\n\\n{subtitle}\\n\\n{text}\"\n",
    "\n",
    "    # Create \"text_articles\" directory if it doesn't exist\n",
    "    directory = \"text_articles\"\n",
    "    if not os.path.exists(directory):\n",
    "        os.makedirs(directory)\n",
    "\n",
    "    # Save article text to a file within the \"text_articles\" directory\n",
    "    filename = f\"{directory}/{title}.txt\"\n",
    "    with open(filename, \"w\", encoding=\"utf-8\") as file:\n",
    "        file.write(article_text)\n",
    "\n",
    "    print(f\"Article saved: {filename}\")"
   ]
  },
  {
   "cell_type": "code",
   "execution_count": 27,
   "metadata": {},
   "outputs": [
    {
     "name": "stdout",
     "output_type": "stream",
     "text": [
      "Article saved: text_articles/Trump Ally Could Face Perjury Charge if He Doesn’t Cooperate With D.A. - The New York Times.txt\n",
      "Article saved: text_articles/Opinion | The Four Freedoms, According to Republicans - The New York Times.txt\n",
      "Article saved: text_articles/Andrew Yang Advises Vivek Ramaswamy to ‘Lean Into Memes’.txt\n"
     ]
    }
   ],
   "source": [
    "# List of URLs\n",
    "urls = [\n",
    "    \"https://www.nytimes.com/2023/05/19/nyregion/weisselberg-trump-bragg-perjury.html\",\n",
    "    \"https://www.nytimes.com/2023/05/19/opinion/republican-legislatures-abortion-trangender-education.html\",\n",
    "    \"https://nymag.com/intelligencer/2023/05/andrew-yang-advises-vivek-ramaswamy-to-lean-into-memes.html\"\n",
    "]\n",
    "\n",
    "# Save articles from the list of URLs\n",
    "for url in urls:\n",
    "    save_article_text(url)"
   ]
  }
 ],
 "metadata": {
  "kernelspec": {
   "display_name": "Python 3",
   "language": "python",
   "name": "python3"
  },
  "language_info": {
   "codemirror_mode": {
    "name": "ipython",
    "version": 3
   },
   "file_extension": ".py",
   "mimetype": "text/x-python",
   "name": "python",
   "nbconvert_exporter": "python",
   "pygments_lexer": "ipython3",
   "version": "3.10.6"
  },
  "orig_nbformat": 4
 },
 "nbformat": 4,
 "nbformat_minor": 2
}
