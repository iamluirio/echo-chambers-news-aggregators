{
 "cells": [
  {
   "cell_type": "code",
   "execution_count": 1,
   "metadata": {},
   "outputs": [],
   "source": [
    "import numpy as np"
   ]
  },
  {
   "cell_type": "code",
   "execution_count": 12,
   "metadata": {},
   "outputs": [],
   "source": [
    "# Esempio di matrice di visualizzazione (sostituiscila con la tua matrice effettiva)\n",
    "matrix = np.array([[1, 2, 1, 0, 0, 0, 0, 0, 0],\n",
    "                   [2, 1, 3, 1, 0, 0, 0, 0, 4],\n",
    "                   [0, 0, 2, 3, 0, 0, 0, 0, 2],\n",
    "                   [0, 0, 0, 0, 6, 0, 0, 0, 0],\n",
    "                   [0, 0, 0, 0, 0, 8, 0, 0, 0],\n",
    "                   [0, 0, 0, 0, 0, 1, 8, 0, 0],\n",
    "                   [0, 0, 0, 0, 0, 0, 0, 3, 0],\n",
    "                   [0, 0, 0, 0, 0, 0, 0, 5, 0],\n",
    "                   [7, 0, 0, 0, 0, 0, 0, 0, 0],\n",
    "                   [0, 7, 0, 0, 0, 0, 0, 0, 0],\n",
    "                   [0, 0, 4, 2, 0, 1, 0, 2, 0],\n",
    "                   [0, 0, 0, 4, 0, 0, 0, 0, 0],\n",
    "                   [0, 0, 0, 0, 4, 0, 0, 0, 0],\n",
    "                   [0, 0, 0, 0, 0, 0, 2, 0, 0],\n",
    "                   [0, 0, 0, 0, 0, 0, 0, 0, 2]])"
   ]
  },
  {
   "cell_type": "markdown",
   "metadata": {},
   "source": [
    "### Click-through rate (CTR)"
   ]
  },
  {
   "cell_type": "markdown",
   "metadata": {},
   "source": [
    "The function takes an input matrix and calculates the CTR based on the total number of views in the matrix versus the total number of non-blank cells in the matrix."
   ]
  },
  {
   "cell_type": "code",
   "execution_count": 6,
   "metadata": {},
   "outputs": [
    {
     "name": "stdout",
     "output_type": "stream",
     "text": [
      "Click-Through Rate (CTR): 0.6518518518518519\n"
     ]
    }
   ],
   "source": [
    "# Definisci una funzione per calcolare il CTR\n",
    "def calculate_CTR(matrix):\n",
    "    # Inizializza una variabile per la somma delle visualizzazioni\n",
    "    total_views = np.sum(matrix)\n",
    "    \n",
    "    # Calcola la percentuale di visualizzazioni\n",
    "    CTR = total_views / np.size(matrix)\n",
    "    \n",
    "    return CTR\n",
    "\n",
    "# Calcola il CTR\n",
    "ctr = calculate_CTR(matrix)\n",
    "print(\"Click-Through Rate (CTR):\", ctr)"
   ]
  },
  {
   "cell_type": "markdown",
   "metadata": {},
   "source": [
    "### Average document stance"
   ]
  },
  {
   "cell_type": "code",
   "execution_count": 8,
   "metadata": {},
   "outputs": [
    {
     "name": "stdout",
     "output_type": "stream",
     "text": [
      "Document Average Score per il topic Repubblicano: 1.3333333333333333\n",
      "Document Average Score per il topic Democratico: 2.2\n",
      "Document Average Score per il topic Neutrale: 2.3333333333333335\n"
     ]
    }
   ],
   "source": [
    "# Definisci una funzione per calcolare il document average score per un determinato topic\n",
    "def calculate_document_average_score(matrix, topic_index):\n",
    "    # Estrai la riga corrispondente al topic\n",
    "    topic_row = matrix[topic_index - 1]  # Sottrai 1 perché gli indici partono da 0\n",
    "    \n",
    "    # Calcola la somma dei punteggi partigiani per il topic\n",
    "    total_score = np.sum(topic_row)\n",
    "    \n",
    "    # Calcola il document average score\n",
    "    avg_score = total_score / np.sum(topic_row != 0)  # Calcola la media solo sui valori non zero\n",
    "    \n",
    "    return avg_score\n",
    "\n",
    "# Calcola i document average scores per i tre topic\n",
    "avg_score_repubblicano = calculate_document_average_score(matrix, 1)  # Topic repubblicano\n",
    "avg_score_democratico = calculate_document_average_score(matrix, 2)   # Topic democratico\n",
    "avg_score_neutrale = calculate_document_average_score(matrix, 3)      # Topic neutrale\n",
    "\n",
    "print(\"Document Average Score per il topic Repubblicano:\", avg_score_repubblicano)\n",
    "print(\"Document Average Score per il topic Democratico:\", avg_score_democratico)\n",
    "print(\"Document Average Score per il topic Neutrale:\", avg_score_neutrale)"
   ]
  },
  {
   "cell_type": "markdown",
   "metadata": {},
   "source": [
    "### Normalized document stance"
   ]
  },
  {
   "cell_type": "code",
   "execution_count": 9,
   "metadata": {},
   "outputs": [
    {
     "name": "stdout",
     "output_type": "stream",
     "text": [
      "Normalized Stance Entropy: 2.369491306537947\n"
     ]
    }
   ],
   "source": [
    "# Definisci una funzione per calcolare l'entropia di posizione normalizzata\n",
    "def calculate_normalized_stance_entropy(matrix, m):\n",
    "    # Calcola le frazioni di articoli mostrati agli utenti per ciascuna posizione\n",
    "    position_fractions = np.sum(matrix, axis=1) / np.sum(matrix)\n",
    "    \n",
    "    # Calcola l'entropia della distribuzione\n",
    "    entropy = -np.sum(position_fractions * np.log(position_fractions)) / np.log(m)\n",
    "    \n",
    "    return entropy\n",
    "\n",
    "# Calcola l'entropia di posizione normalizzata con m = 3\n",
    "m = 3\n",
    "normalized_entropy = calculate_normalized_stance_entropy(matrix, m)\n",
    "print(\"Normalized Stance Entropy:\", normalized_entropy)"
   ]
  },
  {
   "cell_type": "markdown",
   "metadata": {},
   "source": [
    "### Normalized topic stance"
   ]
  },
  {
   "cell_type": "code",
   "execution_count": 11,
   "metadata": {},
   "outputs": [
    {
     "name": "stdout",
     "output_type": "stream",
     "text": [
      "Normalized Topic Entropy: 0.8105601210727017\n"
     ]
    }
   ],
   "source": [
    "# Definisci una funzione per calcolare l'entropia dell'argomento normalizzata\n",
    "def calculate_normalized_topic_entropy(matrix, m):\n",
    "    # Calcola le frazioni di articoli che hanno ciascun argomento in una sequenza di raccomandazioni\n",
    "    topic_fractions = np.sum(matrix, axis=0) / np.sum(matrix)\n",
    "    \n",
    "    # Calcola l'entropia della distribuzione\n",
    "    entropy = -np.sum(topic_fractions * np.log(topic_fractions)) / np.log(m)\n",
    "    \n",
    "    return entropy\n",
    "\n",
    "# Calcola l'entropia dell'argomento normalizzata con m = 15\n",
    "m = 15\n",
    "normalized_topic_entropy = calculate_normalized_topic_entropy(matrix, m)\n",
    "print(\"Normalized Topic Entropy:\", normalized_topic_entropy)"
   ]
  }
 ],
 "metadata": {
  "kernelspec": {
   "display_name": "Python 3",
   "language": "python",
   "name": "python3"
  },
  "language_info": {
   "codemirror_mode": {
    "name": "ipython",
    "version": 3
   },
   "file_extension": ".py",
   "mimetype": "text/x-python",
   "name": "python",
   "nbconvert_exporter": "python",
   "pygments_lexer": "ipython3",
   "version": "3.10.6"
  },
  "orig_nbformat": 4
 },
 "nbformat": 4,
 "nbformat_minor": 2
}
