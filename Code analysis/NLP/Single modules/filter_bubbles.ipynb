{
 "cells": [
  {
   "cell_type": "code",
   "execution_count": 1,
   "metadata": {},
   "outputs": [],
   "source": [
    "import numpy as np"
   ]
  },
  {
   "cell_type": "markdown",
   "metadata": {},
   "source": [
    "The matrix reflects: in the rows, the topics. in the columns, the users (+ the last column, which is the Home column). The numbers in the matrix are the number of news of topic i that user j has encountered on the homepage."
   ]
  },
  {
   "cell_type": "code",
   "execution_count": 2,
   "metadata": {},
   "outputs": [],
   "source": [
    "matrix = np.array([[1, 2, 1, 0, 0, 0, 0, 0, 0],\n",
    "                   [2, 1, 3, 1, 0, 0, 0, 0, 4],\n",
    "                   [0, 0, 2, 3, 0, 0, 0, 0, 2],\n",
    "                   [0, 0, 0, 0, 6, 0, 0, 0, 0],\n",
    "                   [0, 0, 0, 0, 0, 8, 0, 0, 0],\n",
    "                   [0, 0, 0, 0, 0, 1, 8, 0, 0],\n",
    "                   [0, 0, 0, 0, 0, 0, 0, 3, 0],\n",
    "                   [0, 0, 0, 0, 0, 0, 0, 5, 0],\n",
    "                   [7, 0, 0, 0, 0, 0, 0, 0, 0],\n",
    "                   [0, 7, 0, 0, 0, 0, 0, 0, 0],\n",
    "                   [0, 0, 4, 2, 0, 1, 0, 2, 0],\n",
    "                   [0, 0, 0, 4, 0, 0, 0, 0, 0],\n",
    "                   [0, 0, 0, 0, 4, 0, 0, 0, 0],\n",
    "                   [0, 0, 0, 0, 0, 0, 2, 0, 0],\n",
    "                   [0, 0, 0, 0, 0, 0, 0, 0, 2]])"
   ]
  },
  {
   "cell_type": "markdown",
   "metadata": {},
   "source": [
    "### Click-through rate (CTR)"
   ]
  },
  {
   "cell_type": "markdown",
   "metadata": {},
   "source": [
    "CTR (Click-Through Rate) is a metric that measures **the percentage of clicks on recommended articles compared to the total number of recommended articles**."
   ]
  },
  {
   "cell_type": "markdown",
   "metadata": {},
   "source": [
    "- Original CTR: In the original paper, the CTR (Click-Through Rate) is calculated as **the fraction of recommended articles (N) that the user clicks on (ri = 1)**. **The sum of clicks on recommended items is divided by the total number of recommended items (N items)**."
   ]
  },
  {
   "cell_type": "markdown",
   "metadata": {},
   "source": [
    "- Our CTR: *calculate_custom_CTR* calculates a CTR-like metric based on the matrix. The metric represents **the fraction of views in the \"Home\" column compared to total views**. This metric takes into account article views on the homepage."
   ]
  },
  {
   "cell_type": "markdown",
   "metadata": {},
   "source": [
    "In the original paper, CTR is defined as the fraction of recommended articles that the user clicks on, which represents specific user behavior towards recommended content.\n",
    "\n",
    "In our case, we are trying to similarly evaluate how much users view content from a certain topic on the homepage, but without considering actual clicks. So, while the approach is similar in that they both seek to measure user interaction with recommended content, there are key differences in defining the metrics."
   ]
  },
  {
   "cell_type": "code",
   "execution_count": 4,
   "metadata": {},
   "outputs": [
    {
     "name": "stdout",
     "output_type": "stream",
     "text": [
      "Click-Through Rate (CTR): 0.09090909090909091\n"
     ]
    }
   ],
   "source": [
    "# Definisci una funzione per calcolare il CTR\n",
    "def calculate_CTR(matrix):\n",
    "    # Calcola la somma delle visualizzazioni nella matrice\n",
    "    total_views = np.sum(matrix)\n",
    "    \n",
    "    # Calcola la somma delle visualizzazioni nella colonna \"Home\" (ultima colonna)\n",
    "    home_views = np.sum(matrix[:, -1])\n",
    "    \n",
    "    # Calcola la metrica come la frazione di visualizzazioni nella colonna \"Home\"\n",
    "    CTR = home_views / total_views\n",
    "    \n",
    "    return CTR\n",
    "\n",
    "# Calcola il CTR\n",
    "ctr = calculate_CTR(matrix)\n",
    "print(\"Click-Through Rate (CTR):\", ctr)"
   ]
  },
  {
   "cell_type": "markdown",
   "metadata": {},
   "source": [
    "Our Click-Through Rate (CTR) result is 0.09090909090909091, which represents the percentage of homepage article views compared to total views. In other words, approximately 8.33% of homepage views had a click or similar interaction."
   ]
  },
  {
   "cell_type": "markdown",
   "metadata": {},
   "source": [
    "### Average document stance"
   ]
  },
  {
   "cell_type": "markdown",
   "metadata": {},
   "source": [
    "- Original Average document stance is the **average partisan score of the articles that are shown to the users**."
   ]
  },
  {
   "cell_type": "markdown",
   "metadata": {},
   "source": [
    "- Our Average document stance: *calculate_average_document_stance* takes **the topic array and index as input and calculates the average document stance for that specific topic**. This function calculates the average of the partisan scores for the topic, excluding zero values in the average."
   ]
  },
  {
   "cell_type": "code",
   "execution_count": 6,
   "metadata": {},
   "outputs": [
    {
     "name": "stdout",
     "output_type": "stream",
     "text": [
      "Average Document Stance per il topic Repubblicano: 1.3333333333333333\n",
      "Average Document Stance per il topic Democratico: 2.2\n",
      "Average Document Stance per il topic Neutrale: 2.3333333333333335\n"
     ]
    }
   ],
   "source": [
    "def calculate_average_document_stance(matrix, topic_index):\n",
    "    # Estrai la riga corrispondente al topic\n",
    "    topic_row = matrix[topic_index - 1]  # Sottrai 1 perché gli indici partono da 0\n",
    "    \n",
    "    # Calcola la somma dei punteggi per il topic\n",
    "    total_score = np.sum(topic_row)\n",
    "    \n",
    "    # Calcola l'average document stance\n",
    "    avg_stance = total_score / np.sum(topic_row != 0)  # Calcola la media solo sui valori non zero\n",
    "    \n",
    "    return avg_stance\n",
    "\n",
    "# Calcola l'average document stance per i tre topic: repubblicano, democratico, neutrale\n",
    "avg_stance_repubblicano = calculate_average_document_stance(matrix, 1)  # Topic repubblicano\n",
    "avg_stance_democratico = calculate_average_document_stance(matrix, 2)   # Topic democratico\n",
    "avg_stance_neutrale = calculate_average_document_stance(matrix, 3)      # Topic neutrale\n",
    "\n",
    "print(\"Average Document Stance per il topic Repubblicano:\", avg_stance_repubblicano)\n",
    "print(\"Average Document Stance per il topic Democratico:\", avg_stance_democratico)\n",
    "print(\"Average Document Stance per il topic Neutrale:\", avg_stance_neutrale)"
   ]
  },
  {
   "cell_type": "markdown",
   "metadata": {},
   "source": [
    "These results represent the average position of articles shown to users for each topic. For example, for the Republican topic, the average document stance is approximately 1.33, while for the Democratic topic it is approximately 2.2, and for the neutral topic it is approximately 2.33. These scores indicate the average positions of recommended articles in each topic, but remember that these values are specific to your display matrix and may vary based on actual data and user preferences."
   ]
  },
  {
   "cell_type": "markdown",
   "metadata": {},
   "source": [
    "### Average news document stance "
   ]
  },
  {
   "cell_type": "markdown",
   "metadata": {},
   "source": [
    "Average News Document Stance\n",
    "\n",
    "U1 can have 3 stances\n",
    "Republic -  normalize (U1(repub) 3, summation (all users republican)) \n",
    "Output u1 stance wrt republic\n",
    "Democratic normalize (U1(demo) , summation (all users demo))\n",
    "U1 stance wrt demo\n",
    "Neutral normalize (U1(neu) , summation (all users neu))\n",
    "U1 stance wrt republic\n",
    "\n",
    "Repeat for all users"
   ]
  },
  {
   "cell_type": "code",
   "execution_count": 8,
   "metadata": {},
   "outputs": [
    {
     "name": "stdout",
     "output_type": "stream",
     "text": [
      "User 1:\n",
      "republican score: 0.25\n",
      "democratic score: 0.18\n",
      "neutral score: 0.00\n",
      "User 2:\n",
      "republican score: 0.50\n",
      "democratic score: 0.09\n",
      "neutral score: 0.00\n",
      "User 3:\n",
      "republican score: 0.25\n",
      "democratic score: 0.27\n",
      "neutral score: 0.29\n",
      "User 4:\n",
      "republican score: 0.00\n",
      "democratic score: 0.09\n",
      "neutral score: 0.43\n",
      "User 5:\n",
      "republican score: 0.00\n",
      "democratic score: 0.00\n",
      "neutral score: 0.00\n",
      "User 6:\n",
      "republican score: 0.00\n",
      "democratic score: 0.00\n",
      "neutral score: 0.00\n",
      "User 7:\n",
      "republican score: 0.00\n",
      "democratic score: 0.00\n",
      "neutral score: 0.00\n",
      "User 8:\n",
      "republican score: 0.00\n",
      "democratic score: 0.00\n",
      "neutral score: 0.00\n",
      "User 9:\n",
      "republican score: 0.00\n",
      "democratic score: 0.36\n",
      "neutral score: 0.29\n"
     ]
    }
   ],
   "source": [
    "def calculate_scores(matrix):\n",
    "    # Estrai le prime tre righe (republican, democratic, neutral)\n",
    "    topics = matrix[:3]\n",
    "\n",
    "    # Inizializza una lista per gli utenti\n",
    "    users = []\n",
    "\n",
    "    # Calcola i punteggi per ciascun utente\n",
    "    for user_index in range(matrix.shape[1]):\n",
    "        user = {}\n",
    "        user['User'] = user_index + 1  # Per l'utente n, inizia da 1\n",
    "        for topic_index, topic in enumerate(topics):\n",
    "            topic_name = ''\n",
    "            if topic_index == 0:\n",
    "                topic_name = 'republican'\n",
    "            elif topic_index == 1:\n",
    "                topic_name = 'democratic'\n",
    "            else:\n",
    "                topic_name = 'neutral'\n",
    "            \n",
    "            user[f'{topic_name} score'] = topic[user_index] / sum(topic)\n",
    "        \n",
    "        users.append(user)\n",
    "\n",
    "    return users\n",
    "\n",
    "user_scores = calculate_scores(matrix)\n",
    "\n",
    "# Stampa i risultati\n",
    "for user in user_scores:\n",
    "    print(f\"User {user['User']}:\")\n",
    "    for topic in ['republican', 'democratic', 'neutral']:\n",
    "        print(f\"{topic} score: {user[f'{topic} score']:.2f}\")"
   ]
  },
  {
   "cell_type": "markdown",
   "metadata": {},
   "source": [
    "### Normalized document stance"
   ]
  },
  {
   "cell_type": "markdown",
   "metadata": {},
   "source": [
    "- Original Normalized document stance: they represent the fraction of articles that are shown to the users who have stance i. Normalized stance entropy is the entropy of this distribution,\n",
    "normalized by log m so that its maximum is 1, where m = 5 in their case (representing the five political stances)."
   ]
  },
  {
   "cell_type": "markdown",
   "metadata": {},
   "source": [
    "- Our Normalized document stance: *calculate_normalized_stance_entropy* takes the matrix and the value of m (in our case, 3) as input and **calculates the normalized position entropy based on the fractions of articles shown to users for each of the three positions**."
   ]
  },
  {
   "cell_type": "code",
   "execution_count": 6,
   "metadata": {},
   "outputs": [
    {
     "name": "stdout",
     "output_type": "stream",
     "text": [
      "Normalized Stance Entropy: 2.369491306537947\n"
     ]
    }
   ],
   "source": [
    "# Definisci una funzione per calcolare l'entropia di posizione normalizzata\n",
    "def calculate_normalized_stance_entropy(matrix, m):\n",
    "    # Calcola le frazioni di articoli mostrati agli utenti per ciascuna posizione\n",
    "    position_fractions = np.sum(matrix, axis=1) / np.sum(matrix)\n",
    "    \n",
    "    # Calcola l'entropia della distribuzione\n",
    "    entropy = -np.sum(position_fractions * np.log(position_fractions)) / np.log(m)\n",
    "    \n",
    "    return entropy\n",
    "\n",
    "# Valore di m (numero di posizioni)\n",
    "m = 3\n",
    "\n",
    "# Calcola l'entropia di posizione normalizzata con m = 3\n",
    "normalized_stance_entropy = calculate_normalized_stance_entropy(matrix, m)\n",
    "print(\"Normalized Stance Entropy:\", normalized_stance_entropy)"
   ]
  },
  {
   "cell_type": "markdown",
   "metadata": {},
   "source": [
    "This metric represents the diversity of item locations recommended to users. A higher entropy value indicates greater diversity in the positions of recommended items. In this case, a value of 2.369491306537947 suggests some diversity in item positions."
   ]
  },
  {
   "cell_type": "markdown",
   "metadata": {},
   "source": [
    "### Entropy (new)"
   ]
  },
  {
   "cell_type": "markdown",
   "metadata": {},
   "source": [
    "for the entropy based 3 features, just generate for every user."
   ]
  },
  {
   "cell_type": "code",
   "execution_count": 10,
   "metadata": {},
   "outputs": [
    {
     "name": "stdout",
     "output_type": "stream",
     "text": [
      "Entropy for User U1: nan\n",
      "Entropy for User U2: nan\n",
      "Entropy for User U3: 1.01\n",
      "Entropy for User U4: nan\n",
      "Entropy for User U5: 0.00\n",
      "Entropy for User U6: 0.00\n",
      "Entropy for User U7: 0.00\n",
      "Entropy for User U8: 0.00\n",
      "Entropy for User U9: nan\n"
     ]
    },
    {
     "name": "stderr",
     "output_type": "stream",
     "text": [
      "/tmp/ipykernel_6009/241434987.py:23: RuntimeWarning: divide by zero encountered in log\n",
      "  entropy = -rep_frac * np.log(rep_frac) - dem_frac * np.log(dem_frac) - neu_frac * np.log(neu_frac)\n",
      "/tmp/ipykernel_6009/241434987.py:23: RuntimeWarning: invalid value encountered in double_scalars\n",
      "  entropy = -rep_frac * np.log(rep_frac) - dem_frac * np.log(dem_frac) - neu_frac * np.log(neu_frac)\n"
     ]
    }
   ],
   "source": [
    "def calculate_user_entropy(matrix):\n",
    "    users = []\n",
    "\n",
    "    # iterate through columns\n",
    "    for user_index in range(matrix.shape[1]):\n",
    "        user = {}\n",
    "        user['User'] = user_index + 1  \n",
    "\n",
    "        # extracts value in row 0, 1 and 2 of user_index column\n",
    "        rep = matrix[0, user_index]\n",
    "        dem = matrix[1, user_index]\n",
    "        neu = matrix[2, user_index]\n",
    "\n",
    "        total = rep + dem + neu\n",
    "        if total == 0:\n",
    "            entropy = 0  # avoid division by zero\n",
    "        else:\n",
    "            rep_frac = rep / total\n",
    "            dem_frac = dem / total\n",
    "            neu_frac = neu / total\n",
    "            entropy = -rep_frac * np.log(rep_frac) - dem_frac * np.log(dem_frac) - neu_frac * np.log(neu_frac)\n",
    "\n",
    "        user['Entropy'] = entropy\n",
    "        users.append(user)\n",
    "\n",
    "    return users\n",
    "\n",
    "user_entropies = calculate_user_entropy(matrix)\n",
    "\n",
    "for user in user_entropies:\n",
    "    print(f\"Entropy for User U{user['User']}: {user['Entropy']:.2f}\")"
   ]
  },
  {
   "cell_type": "markdown",
   "metadata": {},
   "source": [
    "### Normalized topic entropy"
   ]
  },
  {
   "cell_type": "markdown",
   "metadata": {},
   "source": [
    "- Original Normalized topic entropy: similar to normalized stance entropy, they measure the\n",
    "diversity of topics. This provides a measure of topical diversity, in addition to stance diversity above. The metric is the same as Equation 3, where pi is instead the probability of articles having topic i in a sequence of recommendations, and m = 14 since there are 14 topics."
   ]
  },
  {
   "cell_type": "markdown",
   "metadata": {},
   "source": [
    "- Our Normalized topic entropy: c*alculate_normalized_topic_entropy* takes the matrix and the value of m (in your case, 15, as 15 total topics) as input and **calculates the normalized topic entropy based on the fractions of articles that have each topic in a recommendation sequence**."
   ]
  },
  {
   "cell_type": "code",
   "execution_count": 11,
   "metadata": {},
   "outputs": [
    {
     "name": "stdout",
     "output_type": "stream",
     "text": [
      "Normalized Topic Entropy: 0.8105601210727017\n"
     ]
    }
   ],
   "source": [
    "# Definisci una funzione per calcolare l'entropia dell'argomento normalizzata\n",
    "def calculate_normalized_topic_entropy(matrix, m):\n",
    "    # Calcola le frazioni di articoli che hanno ciascun argomento in una sequenza di raccomandazioni\n",
    "    topic_fractions = np.sum(matrix, axis=0) / np.sum(matrix)\n",
    "    \n",
    "    # Calcola l'entropia della distribuzione\n",
    "    entropy = -np.sum(topic_fractions * np.log(topic_fractions)) / np.log(m)\n",
    "    \n",
    "    return entropy\n",
    "\n",
    "# Calcola l'entropia dell'argomento normalizzata con m = 15\n",
    "m = 15\n",
    "normalized_topic_entropy = calculate_normalized_topic_entropy(matrix, m)\n",
    "print(\"Normalized Topic Entropy:\", normalized_topic_entropy)"
   ]
  },
  {
   "cell_type": "markdown",
   "metadata": {},
   "source": [
    "This metric represents the diversity of article topics recommended to users. A higher entropy value indicates a greater diversity of recommended content topics. In this case, a value of 0.8105601210727017 suggests some diversity in recommended article topics."
   ]
  }
 ],
 "metadata": {
  "kernelspec": {
   "display_name": "Python 3",
   "language": "python",
   "name": "python3"
  },
  "language_info": {
   "codemirror_mode": {
    "name": "ipython",
    "version": 3
   },
   "file_extension": ".py",
   "mimetype": "text/x-python",
   "name": "python",
   "nbconvert_exporter": "python",
   "pygments_lexer": "ipython3",
   "version": "3.10.6"
  },
  "orig_nbformat": 4
 },
 "nbformat": 4,
 "nbformat_minor": 2
}
