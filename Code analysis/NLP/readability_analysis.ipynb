{
 "cells": [
  {
   "attachments": {},
   "cell_type": "markdown",
   "metadata": {},
   "source": [
    "# Determine the “Readability” of a text"
   ]
  },
  {
   "attachments": {},
   "cell_type": "markdown",
   "metadata": {},
   "source": [
    "Readability metrics have numerous uses. A writer might use the metrics to objectively assess the complexity of his work to determine whether it’s written at a level appropriate for his intended audience. An educational software firm might use readability metrics to recommend level-appropriate content for its students."
   ]
  },
  {
   "attachments": {},
   "cell_type": "markdown",
   "metadata": {},
   "source": [
    "Currently, I work on the latter. As a result, I’ve written a Python package, py-readability-metrics that assesses the readability of a given text, using a variety of today’s most popular readability metrics. These include:\n",
    "\n",
    "- Flesch Kincaid Grade Level\n",
    "\n",
    "- Flesch Reading Ease\n",
    "\n",
    "- Dale Chall Readability\n",
    "\n",
    "- Automated Readability Index (ARI)\n",
    "\n",
    "- Coleman Liau Index\n",
    "\n",
    "- Gunning Fog\n",
    "\n",
    "- SMOG\n",
    "\n",
    "- Linear Write\n",
    "\n",
    "Given a text, each of the above metrics calculate a score indicating the difficulty of the text."
   ]
  },
  {
   "cell_type": "code",
   "execution_count": 28,
   "metadata": {},
   "outputs": [
    {
     "name": "stderr",
     "output_type": "stream",
     "text": [
      "[nltk_data] Downloading package stopwords to\n",
      "[nltk_data]     /home/pierluigi/nltk_data...\n",
      "[nltk_data]   Package stopwords is already up-to-date!\n",
      "[nltk_data] Downloading package punkt to /home/pierluigi/nltk_data...\n",
      "[nltk_data]   Package punkt is already up-to-date!\n",
      "[nltk_data] Downloading package averaged_perceptron_tagger to\n",
      "[nltk_data]     /home/pierluigi/nltk_data...\n",
      "[nltk_data]   Package averaged_perceptron_tagger is already up-to-\n",
      "[nltk_data]       date!\n",
      "[nltk_data] Downloading package wordnet to\n",
      "[nltk_data]     /home/pierluigi/nltk_data...\n",
      "[nltk_data]   Package wordnet is already up-to-date!\n"
     ]
    }
   ],
   "source": [
    "from readability import Readability\n",
    "import spacy\n",
    "import newspaper\n",
    "\n",
    "import nltk\n",
    "nltk.download('stopwords')\n",
    "stop_words = set(nltk.corpus.stopwords.words('english'))\n",
    "nltk.download('punkt')\n",
    "nltk.download('averaged_perceptron_tagger')\n",
    "nltk.download('wordnet')\n",
    "\n",
    "nlp = spacy.load(\"en_core_web_sm\")"
   ]
  },
  {
   "cell_type": "code",
   "execution_count": 29,
   "metadata": {},
   "outputs": [],
   "source": [
    "url = \"https://www.foxnews.com/politics/republicans-respond-after-irs-whistleblower-says-hunter-biden-investigation-being-mishandled\""
   ]
  },
  {
   "cell_type": "code",
   "execution_count": 30,
   "metadata": {},
   "outputs": [],
   "source": [
    "def get_article_info(url):\n",
    "    # Create a newspaper Article object\n",
    "    article = newspaper.Article(url)\n",
    "\n",
    "    # Download and parse the article\n",
    "    article.download()\n",
    "    article.parse()\n",
    "\n",
    "    # Extract the title, subtitle, description, and main text\n",
    "    title = article.title.strip()\n",
    "    subtitle = article.meta_data.get(\"description\", \"\").strip()\n",
    "    description = article.meta_description.strip()\n",
    "    text = article.text.strip()\n",
    "\n",
    "    # Set the subtitle to the description if it is empty\n",
    "    if not subtitle:\n",
    "        subtitle = description.strip()\n",
    "\n",
    "    # Concatenate the extracted strings\n",
    "    article_text = f\"{title}\\n\\n{subtitle}\\n\\n{text}\"\n",
    "\n",
    "    # Return the concatenated string\n",
    "    return article_text"
   ]
  },
  {
   "cell_type": "code",
   "execution_count": 31,
   "metadata": {},
   "outputs": [],
   "source": [
    "article = get_article_info(url)\n",
    "\n",
    "r = Readability(article)"
   ]
  },
  {
   "attachments": {},
   "cell_type": "markdown",
   "metadata": {},
   "source": [
    "# Flesch Kincaid Grade Level"
   ]
  },
  {
   "attachments": {},
   "cell_type": "markdown",
   "metadata": {},
   "source": [
    "Output values:\n",
    "\n",
    "1. **'fk.score'** : This is a numerical value that represents the Flesch-Kincaid score. It is calculated by taking into account the average number of words per sentence and the average number of syllables per word. The score is typically between 0 and 100, with higher scores indicating easier to read text.\n",
    "\n",
    "2. **'fk.grade_level'** : This is an estimate of the reading level required to understand the text. It is expressed as a grade level (e.g. 4th grade, 8th grade, etc.) and is based on the Flesch-Kincaid score. A lower grade level indicates that the text is easier to read, while a higher grade level indicates that the text is more difficult to read."
   ]
  },
  {
   "attachments": {},
   "cell_type": "markdown",
   "metadata": {},
   "source": [
    "It can be useful in determining the target audience or level of comprehension required for the text."
   ]
  },
  {
   "cell_type": "code",
   "execution_count": 60,
   "metadata": {},
   "outputs": [
    {
     "name": "stdout",
     "output_type": "stream",
     "text": [
      "Flesch-Kincaid Reading Levels:\n",
      "\n",
      "Grade Level\tEstimated Reading Level\tGrade Level Explaining\n",
      "1\t\tKindergarten\t\tSimple sentences with basic vocabulary and familiar concepts. Picture books and easy readers are typically at this level.\n",
      "2\t\tFirst Grade\t\tShort sentences with simple vocabulary and straightforward ideas. Beginning readers and early chapter books are typically at this level.\n",
      "3\t\tSecond Grade\t\tLonger sentences with more complex vocabulary and more detailed ideas. Early chapter books and some middle grade books are typically at this level.\n",
      "4\t\tThird Grade\t\tLonger paragraphs with more sophisticated vocabulary and more complex ideas. Middle grade books and some young adult books are typically at this level.\n",
      "5\t\tFourth Grade\t\tMore challenging vocabulary and ideas, with longer paragraphs and more complex sentence structures. Middle grade and young adult books are typically at this level.\n",
      "6\t\tFifth Grade\t\tEven more complex vocabulary and ideas, with longer and more complex sentence structures. Middle grade and young adult books are typically at this level.\n",
      "7\t\tSixth Grade\t\tSimilar to fifth grade, but with more complex vocabulary and sentence structures. Middle grade and young adult books are typically at this level.\n",
      "8\t\tSeventh Grade\t\tMore sophisticated vocabulary and ideas, with longer and more complex sentence structures. Young adult books and some adult literature are typically at this level.\n",
      "9\t\tEighth Grade\t\tSimilar to seventh grade, but with even more complex vocabulary and sentence structures. Young adult books and some adult literature are typically at this level.\n",
      "10\t\tNinth Grade\t\tHigh school level reading, with sophisticated vocabulary and complex sentence structures. Some young adult and adult literature is typically at this level.\n",
      "11\t\tTenth Grade\t\tSimilar to ninth grade, but with even more challenging vocabulary and sentence structures. Some young adult and adult literature is typically at this level.\n",
      "12\t\tEleventh Grade\t\tCollege preparatory level reading, with advanced vocabulary and complex sentence structures. Some young adult and adult literature is typically at this level.\n",
      "13\t\tTwelfth Grade\t\tCollege level reading, with very advanced vocabulary and complex sentence structures. Some adult literature and academic texts are typically at this level.\n",
      "14\t\tCollege\t\tPost-secondary reading, with highly specialized vocabulary and complex sentence structures. Academic and technical texts are typically at this level.\n",
      "\n",
      "The Flesch-Kincaid score of the article is: 14.15103125495796\n",
      "The estimated reading level of the article is: 14\n"
     ]
    }
   ],
   "source": [
    "fk = r.flesch_kincaid()\n",
    "\n",
    "# Define a dictionary of Flesch-Kincaid reading levels\n",
    "reading_levels = {\n",
    "    1: \"Kindergarten\",\n",
    "    2: \"First Grade\",\n",
    "    3: \"Second Grade\",\n",
    "    4: \"Third Grade\",\n",
    "    5: \"Fourth Grade\",\n",
    "    6: \"Fifth Grade\",\n",
    "    7: \"Sixth Grade\",\n",
    "    8: \"Seventh Grade\",\n",
    "    9: \"Eighth Grade\",\n",
    "    10: \"Ninth Grade\",\n",
    "    11: \"Tenth Grade\",\n",
    "    12: \"Eleventh Grade\",\n",
    "    13: \"Twelfth Grade\",\n",
    "    14: \"College\"\n",
    "}\n",
    "\n",
    "reading_levels_informations = {\n",
    "    1: \"Simple sentences with basic vocabulary and familiar concepts. Picture books and easy readers are typically at this level.\",\n",
    "    2: \"Short sentences with simple vocabulary and straightforward ideas. Beginning readers and early chapter books are typically at this level.\",\n",
    "    3: \"Longer sentences with more complex vocabulary and more detailed ideas. Early chapter books and some middle grade books are typically at this level.\",\n",
    "    4: \"Longer paragraphs with more sophisticated vocabulary and more complex ideas. Middle grade books and some young adult books are typically at this level.\",\n",
    "    5: \"More challenging vocabulary and ideas, with longer paragraphs and more complex sentence structures. Middle grade and young adult books are typically at this level.\",\n",
    "    6: \"Even more complex vocabulary and ideas, with longer and more complex sentence structures. Middle grade and young adult books are typically at this level.\",\n",
    "    7: \"Similar to fifth grade, but with more complex vocabulary and sentence structures. Middle grade and young adult books are typically at this level.\",\n",
    "    8: \"More sophisticated vocabulary and ideas, with longer and more complex sentence structures. Young adult books and some adult literature are typically at this level.\",\n",
    "    9: \"Similar to seventh grade, but with even more complex vocabulary and sentence structures. Young adult books and some adult literature are typically at this level.\",\n",
    "    10: \"High school level reading, with sophisticated vocabulary and complex sentence structures. Some young adult and adult literature is typically at this level.\",\n",
    "    11: \"Similar to ninth grade, but with even more challenging vocabulary and sentence structures. Some young adult and adult literature is typically at this level.\",\n",
    "    12: \"College preparatory level reading, with advanced vocabulary and complex sentence structures. Some young adult and adult literature is typically at this level.\",\n",
    "    13: \"College level reading, with very advanced vocabulary and complex sentence structures. Some adult literature and academic texts are typically at this level.\",\n",
    "    14: \"Post-secondary reading, with highly specialized vocabulary and complex sentence structures. Academic and technical texts are typically at this level.\"\n",
    "}\n",
    "\n",
    "# Print a table of estimated reading levels for different grades\n",
    "print(\"Flesch-Kincaid Reading Levels:\\n\")\n",
    "print(\"Grade Level\\tEstimated Reading Level\\tGrade Level Explaining\")\n",
    "for grade_level in range(1, 15):\n",
    "    estimated_level = reading_levels.get(grade_level, \"College\")\n",
    "    estimated_level_information = reading_levels_informations.get(grade_level, \"Post-secondary reading, with highly specialized vocabulary and complex sentence structures. Academic and technical texts are typically at this level.\")\n",
    "    print(f\"{grade_level}\\t\\t{estimated_level}\\t\\t{estimated_level_information}\")\n",
    "print()\n",
    "# Print the readability score and estimated reading level\n",
    "print(\"The Flesch-Kincaid score of the article is:\", fk.score)\n",
    "print(\"The estimated reading level of the article is:\", fk.grade_level)"
   ]
  },
  {
   "attachments": {},
   "cell_type": "markdown",
   "metadata": {},
   "source": [
    "# Flesch Reading Ease"
   ]
  },
  {
   "attachments": {},
   "cell_type": "markdown",
   "metadata": {},
   "source": [
    "Output values:\n",
    "\n",
    "1. **'f.score:** This is a numerical value that represents the Flesch Reading Ease score. The score is typically between 0 and 100, with higher scores indicating easier to read text. The formula for calculating the Flesch Reading Ease score takes into account the average sentence length and the average number of syllables per word.\n",
    "\n",
    "2. **f.ease:** This is a qualitative measure of how easy the text is to read. The value is expressed as a text string, with possible values ranging from \"Very Confusing\" to \"Very Easy\". A higher ease value indicates that the text is easier to read.\n",
    "\n",
    "3. **'f.grade_levels'**: This is a dictionary that provides an estimate of the grade level required to understand the text. The keys of the dictionary are grade levels (e.g. 4th grade, 8th grade, etc.) and the values are scores that represent the estimated ease of reading for that grade level. A lower score indicates that the text is easier to read for that grade level."
   ]
  },
  {
   "cell_type": "code",
   "execution_count": 46,
   "metadata": {},
   "outputs": [
    {
     "name": "stdout",
     "output_type": "stream",
     "text": [
      "The Flesch Reading Ease score of the article is: 33.18228541964146\n",
      "The article is classified as: difficult\n",
      "The estimated ease of reading for different grade levels is:\n"
     ]
    },
    {
     "ename": "AttributeError",
     "evalue": "'list' object has no attribute 'items'",
     "output_type": "error",
     "traceback": [
      "\u001b[0;31m---------------------------------------------------------------------------\u001b[0m",
      "\u001b[0;31mAttributeError\u001b[0m                            Traceback (most recent call last)",
      "Cell \u001b[0;32mIn[46], line 7\u001b[0m\n\u001b[1;32m      5\u001b[0m \u001b[39mprint\u001b[39m(\u001b[39m\"\u001b[39m\u001b[39mThe article is classified as:\u001b[39m\u001b[39m\"\u001b[39m, f\u001b[39m.\u001b[39mease)\n\u001b[1;32m      6\u001b[0m \u001b[39mprint\u001b[39m(\u001b[39m\"\u001b[39m\u001b[39mThe estimated ease of reading for different grade levels is:\u001b[39m\u001b[39m\"\u001b[39m)\n\u001b[0;32m----> 7\u001b[0m \u001b[39mfor\u001b[39;00m grade_level, ease_score \u001b[39min\u001b[39;00m f\u001b[39m.\u001b[39;49mgrade_levels\u001b[39m.\u001b[39;49mitems():\n\u001b[1;32m      8\u001b[0m     \u001b[39mprint\u001b[39m(\u001b[39mf\u001b[39m\u001b[39m\"\u001b[39m\u001b[39m- \u001b[39m\u001b[39m{\u001b[39;00mgrade_level\u001b[39m}\u001b[39;00m\u001b[39m grade: \u001b[39m\u001b[39m{\u001b[39;00mease_score\u001b[39m}\u001b[39;00m\u001b[39m\"\u001b[39m)\n",
      "\u001b[0;31mAttributeError\u001b[0m: 'list' object has no attribute 'items'"
     ]
    }
   ],
   "source": [
    "f = r.flesch()\n",
    "\n",
    "# Print the readability score, ease value, and estimated reading levels\n",
    "print(\"The Flesch Reading Ease score of the article is:\", f.score)\n",
    "print(\"The article is classified as:\", f.ease)\n",
    "print(\"The estimated ease of reading for different grade levels is:\")\n",
    "for grade_level, ease_score in f.grade_levels.items():\n",
    "    print(f\"- {grade_level} grade: {ease_score}\")"
   ]
  },
  {
   "attachments": {},
   "cell_type": "markdown",
   "metadata": {},
   "source": [
    "# Dale Chall Readability"
   ]
  },
  {
   "attachments": {},
   "cell_type": "markdown",
   "metadata": {},
   "source": [
    "The Dale-Chall Formula is an accurate readability formula for the simple reason that it is based on the use of familiar words, rather than syllable or letter counts. Reading tests show that readers usually find it easier to read, process and recall a passage if they find the words familiar."
   ]
  },
  {
   "cell_type": "code",
   "execution_count": 34,
   "metadata": {},
   "outputs": [
    {
     "name": "stdout",
     "output_type": "stream",
     "text": [
      "11.398427716960178\n",
      "['college_graduate']\n"
     ]
    }
   ],
   "source": [
    "dc = r.dale_chall()\n",
    "print(dc.score)\n",
    "print(dc.grade_levels)"
   ]
  },
  {
   "attachments": {},
   "cell_type": "markdown",
   "metadata": {},
   "source": [
    "# Automated Readability Index (ARI)"
   ]
  },
  {
   "attachments": {},
   "cell_type": "markdown",
   "metadata": {},
   "source": [
    "Unlike the other indices, the ARI, along with the Coleman-Liau, relies on a factor of characters per word, instead of the usual syllables per word. ARI is widely used on all types of texts."
   ]
  },
  {
   "cell_type": "code",
   "execution_count": 35,
   "metadata": {},
   "outputs": [
    {
     "name": "stdout",
     "output_type": "stream",
     "text": [
      "13.76357171188323\n",
      "['college_graduate']\n",
      "[24, 100]\n"
     ]
    }
   ],
   "source": [
    "ari = r.ari()\n",
    "print(ari.score)\n",
    "print(ari.grade_levels)\n",
    "print(ari.ages)"
   ]
  },
  {
   "attachments": {},
   "cell_type": "markdown",
   "metadata": {},
   "source": [
    "# Coleman Liau Index"
   ]
  },
  {
   "attachments": {},
   "cell_type": "markdown",
   "metadata": {},
   "source": [
    "The Coleman-Liau Formula usually gives a lower grade value than any of the Kincaid, ARI and Flesch values when applied to technical documents."
   ]
  },
  {
   "cell_type": "code",
   "execution_count": 36,
   "metadata": {},
   "outputs": [
    {
     "name": "stdout",
     "output_type": "stream",
     "text": [
      "12.40612565445026\n",
      "12\n"
     ]
    }
   ],
   "source": [
    "cl = r.coleman_liau()\n",
    "print(cl.score)\n",
    "print(cl.grade_level)"
   ]
  },
  {
   "attachments": {},
   "cell_type": "markdown",
   "metadata": {},
   "source": [
    "# Gunning Fog"
   ]
  },
  {
   "attachments": {},
   "cell_type": "markdown",
   "metadata": {},
   "source": [
    "The Gunning fog index measures the readability of English writing. The index estimates the years of formal education needed to understand the text on a first reading. A fog index of 12 requires the reading level of a U.S. high school senior (around 18 years old)."
   ]
  },
  {
   "cell_type": "code",
   "execution_count": 37,
   "metadata": {},
   "outputs": [
    {
     "name": "stdout",
     "output_type": "stream",
     "text": [
      "15.229192448040616\n",
      "college\n"
     ]
    }
   ],
   "source": [
    "gf = r.gunning_fog()\n",
    "print(gf.score)\n",
    "print(gf.grade_level)"
   ]
  },
  {
   "attachments": {},
   "cell_type": "markdown",
   "metadata": {},
   "source": [
    "# SMOG"
   ]
  },
  {
   "attachments": {},
   "cell_type": "markdown",
   "metadata": {},
   "source": [
    "The SMOG Readability Formula (Simple Measure of Gobbledygook) is a popular method to use on health literacy materials."
   ]
  },
  {
   "cell_type": "code",
   "execution_count": 38,
   "metadata": {},
   "outputs": [
    {
     "name": "stdout",
     "output_type": "stream",
     "text": [
      "15.774802946060372\n",
      "16\n"
     ]
    }
   ],
   "source": [
    "s = r.smog()\n",
    "print(s.score)\n",
    "print(s.grade_level)"
   ]
  },
  {
   "attachments": {},
   "cell_type": "markdown",
   "metadata": {},
   "source": [
    "# SPACHE"
   ]
  },
  {
   "attachments": {},
   "cell_type": "markdown",
   "metadata": {},
   "source": [
    "The Spache Readability Formula is used for Primary-Grade Reading Materials, published in 1953 in The Elementary School Journal. The Spache Formula is best used to calculate the difficulty of text that falls at the 3rd grade level or below."
   ]
  },
  {
   "cell_type": "code",
   "execution_count": 39,
   "metadata": {},
   "outputs": [
    {
     "name": "stdout",
     "output_type": "stream",
     "text": [
      "8.425876725368871\n",
      "8\n"
     ]
    }
   ],
   "source": [
    "s = r.spache()\n",
    "print(s.score)\n",
    "print(s.grade_level)"
   ]
  },
  {
   "attachments": {},
   "cell_type": "markdown",
   "metadata": {},
   "source": [
    "# Linsear Write"
   ]
  },
  {
   "attachments": {},
   "cell_type": "markdown",
   "metadata": {},
   "source": [
    "Linsear Write is a readability metric for English text, purportedly developed for the United States Air Force to help them calculate the readability of their technical manuals."
   ]
  },
  {
   "cell_type": "code",
   "execution_count": 40,
   "metadata": {},
   "outputs": [
    {
     "name": "stdout",
     "output_type": "stream",
     "text": [
      "16.636363636363637\n",
      "17\n"
     ]
    }
   ],
   "source": [
    "lw = r.linsear_write()\n",
    "print(lw.score)\n",
    "print(lw.grade_level)"
   ]
  }
 ],
 "metadata": {
  "kernelspec": {
   "display_name": "Python 3",
   "language": "python",
   "name": "python3"
  },
  "language_info": {
   "codemirror_mode": {
    "name": "ipython",
    "version": 3
   },
   "file_extension": ".py",
   "mimetype": "text/x-python",
   "name": "python",
   "nbconvert_exporter": "python",
   "pygments_lexer": "ipython3",
   "version": "3.10.6"
  },
  "orig_nbformat": 4
 },
 "nbformat": 4,
 "nbformat_minor": 2
}
