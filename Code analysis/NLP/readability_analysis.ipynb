{
 "cells": [
  {
   "attachments": {},
   "cell_type": "markdown",
   "metadata": {},
   "source": [
    "# Determine the “Readability” of a text"
   ]
  },
  {
   "attachments": {},
   "cell_type": "markdown",
   "metadata": {},
   "source": [
    "Readability metrics have numerous uses. A writer might use the metrics to objectively assess the complexity of his work to determine whether it’s written at a level appropriate for his intended audience. An educational software firm might use readability metrics to recommend level-appropriate content for its students."
   ]
  },
  {
   "attachments": {},
   "cell_type": "markdown",
   "metadata": {},
   "source": [
    "Currently, I work on the latter. As a result, I’ve written a Python package, py-readability-metrics that assesses the readability of a given text, using a variety of today’s most popular readability metrics. These include:\n",
    "\n",
    "- Flesch Kincaid Grade Level\n",
    "\n",
    "- Flesch Reading Ease\n",
    "\n",
    "- Dale Chall Readability\n",
    "\n",
    "- Automated Readability Index (ARI)\n",
    "\n",
    "- Coleman Liau Index\n",
    "\n",
    "- Gunning Fog\n",
    "\n",
    "- SMOG\n",
    "\n",
    "- Linear Write\n",
    "\n",
    "Given a text, each of the above metrics calculate a score indicating the difficulty of the text."
   ]
  },
  {
   "cell_type": "code",
   "execution_count": 2,
   "metadata": {},
   "outputs": [
    {
     "name": "stderr",
     "output_type": "stream",
     "text": [
      "[nltk_data] Downloading package stopwords to\n",
      "[nltk_data]     /home/pierluigi/nltk_data...\n",
      "[nltk_data]   Package stopwords is already up-to-date!\n",
      "[nltk_data] Downloading package punkt to /home/pierluigi/nltk_data...\n",
      "[nltk_data]   Package punkt is already up-to-date!\n",
      "[nltk_data] Downloading package averaged_perceptron_tagger to\n",
      "[nltk_data]     /home/pierluigi/nltk_data...\n",
      "[nltk_data]   Package averaged_perceptron_tagger is already up-to-\n",
      "[nltk_data]       date!\n",
      "[nltk_data] Downloading package wordnet to\n",
      "[nltk_data]     /home/pierluigi/nltk_data...\n",
      "[nltk_data]   Package wordnet is already up-to-date!\n"
     ]
    }
   ],
   "source": [
    "from readability import Readability\n",
    "import spacy\n",
    "import newspaper\n",
    "\n",
    "import nltk\n",
    "nltk.download('stopwords')\n",
    "stop_words = set(nltk.corpus.stopwords.words('english'))\n",
    "nltk.download('punkt')\n",
    "nltk.download('averaged_perceptron_tagger')\n",
    "nltk.download('wordnet')\n",
    "\n",
    "nlp = spacy.load(\"en_core_web_sm\")"
   ]
  },
  {
   "cell_type": "code",
   "execution_count": 3,
   "metadata": {},
   "outputs": [],
   "source": [
    "url = \"https://www.foxnews.com/politics/republicans-respond-after-irs-whistleblower-says-hunter-biden-investigation-being-mishandled\""
   ]
  },
  {
   "cell_type": "code",
   "execution_count": 4,
   "metadata": {},
   "outputs": [],
   "source": [
    "def get_article_info(url):\n",
    "    # Create a newspaper Article object\n",
    "    article = newspaper.Article(url)\n",
    "\n",
    "    # Download and parse the article\n",
    "    article.download()\n",
    "    article.parse()\n",
    "\n",
    "    # Extract the title, subtitle, description, and main text\n",
    "    title = article.title.strip()\n",
    "    subtitle = article.meta_data.get(\"description\", \"\").strip()\n",
    "    description = article.meta_description.strip()\n",
    "    text = article.text.strip()\n",
    "\n",
    "    # Set the subtitle to the description if it is empty\n",
    "    if not subtitle:\n",
    "        subtitle = description.strip()\n",
    "\n",
    "    # Concatenate the extracted strings\n",
    "    article_text = f\"{title}\\n\\n{subtitle}\\n\\n{text}\"\n",
    "\n",
    "    # Return the concatenated string\n",
    "    return article_text"
   ]
  },
  {
   "cell_type": "code",
   "execution_count": 5,
   "metadata": {},
   "outputs": [],
   "source": [
    "article = get_article_info(url)\n",
    "\n",
    "r = Readability(article)"
   ]
  },
  {
   "attachments": {},
   "cell_type": "markdown",
   "metadata": {},
   "source": [
    "# Flesch Kincaid Grade Level"
   ]
  },
  {
   "attachments": {},
   "cell_type": "markdown",
   "metadata": {},
   "source": [
    "Output values:\n",
    "\n",
    "1. **'fk.score'** : This is a numerical value that represents the Flesch-Kincaid score. It is calculated by taking into account the average number of words per sentence and the average number of syllables per word. The score is typically between 0 and 100, with higher scores indicating easier to read text.\n",
    "\n",
    "2. **'fk.grade_level'** : This is an estimate of the reading level required to understand the text. It is expressed as a grade level (e.g. 4th grade, 8th grade, etc.) and is based on the Flesch-Kincaid score. A lower grade level indicates that the text is easier to read, while a higher grade level indicates that the text is more difficult to read."
   ]
  },
  {
   "attachments": {},
   "cell_type": "markdown",
   "metadata": {},
   "source": [
    "It can be useful in determining the target audience or level of comprehension required for the text."
   ]
  },
  {
   "cell_type": "code",
   "execution_count": 6,
   "metadata": {},
   "outputs": [
    {
     "name": "stdout",
     "output_type": "stream",
     "text": [
      "Flesch-Kincaid Reading Levels:\n",
      "\n",
      "Grade Level\tEstimated Reading Level\tGrade Level Explaining\n",
      "1\t\tKindergarten\t\tSimple sentences with basic vocabulary and familiar concepts. Picture books and easy readers are typically at this level.\n",
      "2\t\tFirst Grade\t\tShort sentences with simple vocabulary and straightforward ideas. Beginning readers and early chapter books are typically at this level.\n",
      "3\t\tSecond Grade\t\tLonger sentences with more complex vocabulary and more detailed ideas. Early chapter books and some middle grade books are typically at this level.\n",
      "4\t\tThird Grade\t\tLonger paragraphs with more sophisticated vocabulary and more complex ideas. Middle grade books and some young adult books are typically at this level.\n",
      "5\t\tFourth Grade\t\tMore challenging vocabulary and ideas, with longer paragraphs and more complex sentence structures. Middle grade and young adult books are typically at this level.\n",
      "6\t\tFifth Grade\t\tEven more complex vocabulary and ideas, with longer and more complex sentence structures. Middle grade and young adult books are typically at this level.\n",
      "7\t\tSixth Grade\t\tSimilar to fifth grade, but with more complex vocabulary and sentence structures. Middle grade and young adult books are typically at this level.\n",
      "8\t\tSeventh Grade\t\tMore sophisticated vocabulary and ideas, with longer and more complex sentence structures. Young adult books and some adult literature are typically at this level.\n",
      "9\t\tEighth Grade\t\tSimilar to seventh grade, but with even more complex vocabulary and sentence structures. Young adult books and some adult literature are typically at this level.\n",
      "10\t\tNinth Grade\t\tHigh school level reading, with sophisticated vocabulary and complex sentence structures. Some young adult and adult literature is typically at this level.\n",
      "11\t\tTenth Grade\t\tSimilar to ninth grade, but with even more challenging vocabulary and sentence structures. Some young adult and adult literature is typically at this level.\n",
      "12\t\tEleventh Grade\t\tCollege preparatory level reading, with advanced vocabulary and complex sentence structures. Some young adult and adult literature is typically at this level.\n",
      "13\t\tTwelfth Grade\t\tCollege level reading, with very advanced vocabulary and complex sentence structures. Some adult literature and academic texts are typically at this level.\n",
      "14\t\tCollege\t\tPost-secondary reading, with highly specialized vocabulary and complex sentence structures. Academic and technical texts are typically at this level.\n",
      "\n",
      "The Flesch-Kincaid score of the article is: 14.15103125495796\n",
      "The estimated reading level of the article is: 14\n"
     ]
    }
   ],
   "source": [
    "fk = r.flesch_kincaid()\n",
    "\n",
    "# Define a dictionary of Flesch-Kincaid reading levels\n",
    "reading_levels = {\n",
    "    1: \"Kindergarten\",\n",
    "    2: \"First Grade\",\n",
    "    3: \"Second Grade\",\n",
    "    4: \"Third Grade\",\n",
    "    5: \"Fourth Grade\",\n",
    "    6: \"Fifth Grade\",\n",
    "    7: \"Sixth Grade\",\n",
    "    8: \"Seventh Grade\",\n",
    "    9: \"Eighth Grade\",\n",
    "    10: \"Ninth Grade\",\n",
    "    11: \"Tenth Grade\",\n",
    "    12: \"Eleventh Grade\",\n",
    "    13: \"Twelfth Grade\",\n",
    "    14: \"College\"\n",
    "}\n",
    "\n",
    "reading_levels_informations = {\n",
    "    1: \"Simple sentences with basic vocabulary and familiar concepts. Picture books and easy readers are typically at this level.\",\n",
    "    2: \"Short sentences with simple vocabulary and straightforward ideas. Beginning readers and early chapter books are typically at this level.\",\n",
    "    3: \"Longer sentences with more complex vocabulary and more detailed ideas. Early chapter books and some middle grade books are typically at this level.\",\n",
    "    4: \"Longer paragraphs with more sophisticated vocabulary and more complex ideas. Middle grade books and some young adult books are typically at this level.\",\n",
    "    5: \"More challenging vocabulary and ideas, with longer paragraphs and more complex sentence structures. Middle grade and young adult books are typically at this level.\",\n",
    "    6: \"Even more complex vocabulary and ideas, with longer and more complex sentence structures. Middle grade and young adult books are typically at this level.\",\n",
    "    7: \"Similar to fifth grade, but with more complex vocabulary and sentence structures. Middle grade and young adult books are typically at this level.\",\n",
    "    8: \"More sophisticated vocabulary and ideas, with longer and more complex sentence structures. Young adult books and some adult literature are typically at this level.\",\n",
    "    9: \"Similar to seventh grade, but with even more complex vocabulary and sentence structures. Young adult books and some adult literature are typically at this level.\",\n",
    "    10: \"High school level reading, with sophisticated vocabulary and complex sentence structures. Some young adult and adult literature is typically at this level.\",\n",
    "    11: \"Similar to ninth grade, but with even more challenging vocabulary and sentence structures. Some young adult and adult literature is typically at this level.\",\n",
    "    12: \"College preparatory level reading, with advanced vocabulary and complex sentence structures. Some young adult and adult literature is typically at this level.\",\n",
    "    13: \"College level reading, with very advanced vocabulary and complex sentence structures. Some adult literature and academic texts are typically at this level.\",\n",
    "    14: \"Post-secondary reading, with highly specialized vocabulary and complex sentence structures. Academic and technical texts are typically at this level.\"\n",
    "}\n",
    "\n",
    "# Print a table of estimated reading levels for different grades\n",
    "print(\"Flesch-Kincaid Reading Levels:\\n\")\n",
    "print(\"Grade Level\\tEstimated Reading Level\\tGrade Level Explaining\")\n",
    "for grade_level in range(1, 15):\n",
    "    estimated_level = reading_levels.get(grade_level, \"College\")\n",
    "    estimated_level_information = reading_levels_informations.get(grade_level, \"Post-secondary reading, with highly specialized vocabulary and complex sentence structures. Academic and technical texts are typically at this level.\")\n",
    "    print(f\"{grade_level}\\t\\t{estimated_level}\\t\\t{estimated_level_information}\")\n",
    "print()\n",
    "# Print the readability score and estimated reading level\n",
    "print(\"The Flesch-Kincaid score of the article is:\", fk.score)\n",
    "print(\"The estimated reading level of the article is:\", fk.grade_level)"
   ]
  },
  {
   "attachments": {},
   "cell_type": "markdown",
   "metadata": {},
   "source": [
    "# Flesch Reading Ease"
   ]
  },
  {
   "attachments": {},
   "cell_type": "markdown",
   "metadata": {},
   "source": [
    "The Flesch Reading Ease score is a measure of how easy a text is to read. It is calculated based on the average number of syllables per word and the average number of words per sentence. The higher the score, the easier the text is to read. The score ranges from 0 to 100, with higher scores indicating easier text."
   ]
  },
  {
   "attachments": {},
   "cell_type": "markdown",
   "metadata": {},
   "source": [
    "Output values:\n",
    "\n",
    "1. **'f.score':** This is a numerical value that represents the Flesch Reading Ease score. The score is typically between 0 and 100, with higher scores indicating easier to read text. The formula for calculating the Flesch Reading Ease score takes into account the average sentence length and the average number of syllables per word.\n",
    "\n",
    "2. **'f.ease':** This is a qualitative measure of how easy the text is to read. The value is expressed as a text string, with possible values ranging from \"Very Confusing\" to \"Very Easy\". A higher ease value indicates that the text is easier to read.\n",
    "\n",
    "3. **'f.grade_levels'**: This is a dictionary that provides an estimate of the grade level required to understand the text. The keys of the dictionary are grade levels (e.g. 4th grade, 8th grade, etc.) and the values are scores that represent the estimated ease of reading for that grade level. A lower score indicates that the text is easier to read for that grade level."
   ]
  },
  {
   "cell_type": "code",
   "execution_count": 7,
   "metadata": {},
   "outputs": [
    {
     "name": "stdout",
     "output_type": "stream",
     "text": [
      "Flesch Reading Ease Score |     Classification     \n",
      "-------------------------|------------------------\n",
      "         0-29             | Very Difficult          \n",
      "         30-49            | Difficult               \n",
      "         50-59            | Fairly Difficult        \n",
      "         60-69            | Standard                \n",
      "         70-79            | Fairly Easy             \n",
      "         80-89            | Easy                    \n",
      "         90-100           | Very Easy               \n",
      "\n",
      "\n",
      "The Flesch Reading Ease score of the article is: 33.18228541964146\n",
      "The article is classified as: difficult\n"
     ]
    }
   ],
   "source": [
    "f = r.flesch()\n",
    "\n",
    "print(\"Flesch Reading Ease Score |     Classification     \")\n",
    "print(\"-------------------------|------------------------\")\n",
    "print(\"         0-29             | Very Difficult          \")\n",
    "print(\"         30-49            | Difficult               \")\n",
    "print(\"         50-59            | Fairly Difficult        \")\n",
    "print(\"         60-69            | Standard                \")\n",
    "print(\"         70-79            | Fairly Easy             \")\n",
    "print(\"         80-89            | Easy                    \")\n",
    "print(\"         90-100           | Very Easy               \")\n",
    "\n",
    "print()\n",
    "print()\n",
    "# Print the readability score, ease value, and estimated reading levels\n",
    "print(\"The Flesch Reading Ease score of the article is:\", f.score)\n",
    "print(\"The article is classified as:\", f.ease)"
   ]
  },
  {
   "attachments": {},
   "cell_type": "markdown",
   "metadata": {},
   "source": [
    "# Dale Chall Readability"
   ]
  },
  {
   "attachments": {},
   "cell_type": "markdown",
   "metadata": {},
   "source": [
    "The Dale-Chall formula uses a combination of two factors to determine the readability score: the average sentence length and the percentage of difficult words in a text. Difficult words are words that are not among a list of 3,000 familiar words that are likely to be known by a fourth-grade student.\n",
    "\n",
    "The resulting score is on a scale from 0 to 10, with a higher score indicating an easier text to read. A score of 9 or higher is considered easy to read, while a score of 5 or lower is considered difficult to read."
   ]
  },
  {
   "attachments": {},
   "cell_type": "markdown",
   "metadata": {},
   "source": [
    "Output:\n",
    "\n",
    "1. **'dc.score'**: is a numerical score that represents the readability of the text according to the Dale-Chall formula. It is the percentage of difficult words in the text.\n",
    "\n",
    "2. **'dc.grade_levels'**: is a dictionary that maps grade levels to their corresponding percentage of difficult words. The keys of the dictionary represent the grade levels, and the values represent the percentage of difficult words that students at that grade level are likely to know. For example, a value of 5.5 for the key \"8th and 9th grade\" means that students in 8th and 9th grade are expected to know 86-92% of the words in the text."
   ]
  },
  {
   "cell_type": "code",
   "execution_count": 15,
   "metadata": {},
   "outputs": [
    {
     "name": "stdout",
     "output_type": "stream",
     "text": [
      "Dale-Chall Readability Score |     Grade Levels      \n",
      "------------------------------|------------------------\n",
      "          0-4.9              |  4th grade and below    \n",
      "          5.0-5.9            |  5th or 6th grade       \n",
      "          6.0-6.9            |  7th or 8th grade       \n",
      "          7.0-7.9            |  High school            \n",
      "          8.0-8.9            |  Some college           \n",
      "          9.0-9.9            |  College graduate       \n",
      "          10.0-10.9          |  Very difficult         \n",
      "\n",
      "The Dale-Chall Readability score of the article is: 11.398427716960178\n",
      "The estimated comprehension level for different grade levels is: ['college_graduate']\n"
     ]
    }
   ],
   "source": [
    "dc = r.dale_chall()\n",
    "\n",
    "print(\"Dale-Chall Readability Score |     Grade Levels      \")\n",
    "print(\"------------------------------|------------------------\")\n",
    "print(\"          0-4.9              |  4th grade and below    \")\n",
    "print(\"          5.0-5.9            |  5th or 6th grade       \")\n",
    "print(\"          6.0-6.9            |  7th or 8th grade       \")\n",
    "print(\"          7.0-7.9            |  High school            \")\n",
    "print(\"          8.0-8.9            |  Some college           \")\n",
    "print(\"          9.0-9.9            |  College graduate       \")\n",
    "print(\"          10.0-10.9          |  Very difficult         \")\n",
    "print()\n",
    "# Print the Dale-Chall Readability score\n",
    "print(\"The Dale-Chall Readability score of the article is:\", dc.score)\n",
    "# Print the estimated grade levels for comprehension\n",
    "print(\"The estimated comprehension level for different grade levels is:\", dc.grade_levels)\n"
   ]
  },
  {
   "attachments": {},
   "cell_type": "markdown",
   "metadata": {},
   "source": [
    "# Automated Readability Index (ARI)"
   ]
  },
  {
   "attachments": {},
   "cell_type": "markdown",
   "metadata": {},
   "source": [
    "The Automated Readability Index (ARI) is a readability formula that uses sentence length and word length to estimate the grade level required to read a particular text. The formula is:\n",
    "\n",
    "ARI = 4.71(characters/words) + 0.5(words/sentences) - 21.43\n",
    "\n",
    "The ARI score corresponds to a U.S. grade level, indicating the minimum education level needed to read and comprehend a text. A higher score means that the text is more difficult to read."
   ]
  },
  {
   "attachments": {},
   "cell_type": "markdown",
   "metadata": {},
   "source": [
    "Output:\n",
    "\n",
    "1. **'ari.score'**: This is the Automated Readability Index score of the text. The score indicates the approximate grade level required to understand the text. The higher the score, the more difficult the text is to read.\n",
    "\n",
    "2. **'ari.grade_levels'**: This is a dictionary containing the estimated years of education required to understand the text at different levels. The keys are the grade levels, and the values are the corresponding years of education required.\n",
    "\n",
    "3. **'ari.ages'**: This is another dictionary containing the estimated age required to understand the text at different levels. The keys are the age ranges, and the values are the corresponding grade levels."
   ]
  },
  {
   "cell_type": "code",
   "execution_count": 17,
   "metadata": {},
   "outputs": [
    {
     "name": "stdout",
     "output_type": "stream",
     "text": [
      "Automated Readability Index Score |     Grade Levels     |     Ages      \n",
      "----------------------------------|----------------------|---------------\n",
      "         0-1.9                   |  Kindergarten        |  5-6 years old \n",
      "         2.0-2.9                 |  First/Second Grade  |  7-8 years old \n",
      "         3.0-3.9                 |  Third Grade         |  9-10 years old\n",
      "         4.0-4.9                 |  Fourth Grade        |  11-12 years old\n",
      "         5.0-5.9                 |  Fifth Grade         |  13-14 years old\n",
      "         6.0-6.9                 |  Sixth Grade         |  15-16 years old\n",
      "         7.0-7.9                 |  Seventh Grade       |  17-18 years old\n",
      "         8.0-8.9                 |  Eighth Grade        |  18-19 years old\n",
      "         9.0-9.9                 |  High School         |  19-22 years old\n",
      "        10.0-10.9                |  College             |  22-23 years old\n",
      "        11.0-11.9                |  College Graduate    |  23-24 years old\n",
      "        12.0-12.9                |  Professional        |  24-25 years old\n",
      "        13.0 and above           |  Advanced            |  25+ years old  \n",
      "\n",
      "The Automated Readability Index (ARI) score is 13.76357171188323, which corresponds to a grade level of ['college_graduate'].\n",
      "This means that the text can be read by someone who is around [24, 100] years old.\n"
     ]
    }
   ],
   "source": [
    "ari = r.ari()\n",
    "\n",
    "print(\"Automated Readability Index Score |     Grade Levels     |     Ages      \")\n",
    "print(\"----------------------------------|----------------------|---------------\")\n",
    "print(\"         0-1.9                   |  Kindergarten        |  5-6 years old \")\n",
    "print(\"         2.0-2.9                 |  First/Second Grade  |  7-8 years old \")\n",
    "print(\"         3.0-3.9                 |  Third Grade         |  9-10 years old\")\n",
    "print(\"         4.0-4.9                 |  Fourth Grade        |  11-12 years old\")\n",
    "print(\"         5.0-5.9                 |  Fifth Grade         |  13-14 years old\")\n",
    "print(\"         6.0-6.9                 |  Sixth Grade         |  15-16 years old\")\n",
    "print(\"         7.0-7.9                 |  Seventh Grade       |  17-18 years old\")\n",
    "print(\"         8.0-8.9                 |  Eighth Grade        |  18-19 years old\")\n",
    "print(\"         9.0-9.9                 |  High School         |  19-22 years old\")\n",
    "print(\"        10.0-10.9                |  College             |  22-23 years old\")\n",
    "print(\"        11.0-11.9                |  College Graduate    |  23-24 years old\")\n",
    "print(\"        12.0-12.9                |  Professional        |  24-25 years old\")\n",
    "print(\"        13.0 and above           |  Advanced            |  25+ years old  \")\n",
    "print()\n",
    "\n",
    "score = ari.score\n",
    "grade_levels = ari.grade_levels\n",
    "ages = ari.ages\n",
    "\n",
    "# Print the output in a readable format\n",
    "print(f\"The Automated Readability Index (ARI) score is {score}, which corresponds to a grade level of {grade_levels}.\")\n",
    "print(f\"This means that the text can be read by someone who is around {ages} years old.\")"
   ]
  },
  {
   "attachments": {},
   "cell_type": "markdown",
   "metadata": {},
   "source": [
    "# Coleman Liau Index"
   ]
  },
  {
   "attachments": {},
   "cell_type": "markdown",
   "metadata": {},
   "source": [
    "The Coleman-Liau Index is a readability test that uses a mathematical formula to calculate the approximate reading level needed to understand a given text. The formula takes into account the average number of words per sentence and the average number of characters per word to determine the text's reading level.\n",
    "\n",
    "The Coleman-Liau Index produces a score that corresponds to a grade level, which indicates the minimum education level needed to understand the text. The score is based on a scale of 0 to 12, with 12 being the highest score and indicating that the text can be easily read and understood by a person with a 12th-grade education or higher. The score is calculated using the following formula:\n",
    "\n",
    "CLI = 0.0588 * L - 0.296 * S - 15.8\n",
    "\n",
    "where L is the average number of letters per 100 words in the text, and S is the average number of sentences per 100 words in the text.\n",
    "\n",
    "Like other readability tests, the Coleman-Liau Index is not perfect and may not accurately reflect the actual difficulty of a text. However, it can be useful as a general guide for determining the approximate reading level needed to understand a text."
   ]
  },
  {
   "attachments": {},
   "cell_type": "markdown",
   "metadata": {},
   "source": [
    "Output:\n",
    "\n",
    "1. **'cl.score'**: The Coleman-Liau Index score, which is a numerical representation of the readability of the text. It is calculated based on the average number of characters per sentence and the average number of letters per 100 words. The score is a decimal number, usually between 0 and 20. The higher the score, the more difficult the text is to read.\n",
    "\n",
    "2. **'cl.grade_level'**: The grade level of education required to understand the text according to the Coleman-Liau Index. The grade level is based on the average sentence length and the average number of letters per 100 words. For example, if the score is 9.0, the text is considered to be at a 9th-grade reading level."
   ]
  },
  {
   "cell_type": "code",
   "execution_count": 21,
   "metadata": {},
   "outputs": [
    {
     "name": "stdout",
     "output_type": "stream",
     "text": [
      "Coleman-Liau Index Score |     Grade Levels     \n",
      "-------------------------|----------------------\n",
      "         0-4.9           |  Below 4th Grade      \n",
      "         5.0-5.9         |  4th or 5th Grade     \n",
      "         6.0-6.9         |  6th or 7th Grade     \n",
      "         7.0-7.9         |  8th or 9th Grade     \n",
      "         8.0-8.9         |  10th or 11th Grade   \n",
      "         9.0-Above       |  12th Grade or Above  \n",
      "\n",
      "Coleman-Liau Index Score:  12.40612565445026\n",
      "Estimated Grade Level:  12\n"
     ]
    }
   ],
   "source": [
    "cl = r.coleman_liau()\n",
    "print(\"Coleman-Liau Index Score |     Grade Levels     \")\n",
    "print(\"-------------------------|----------------------\")\n",
    "print(\"         0-4.9           |  Below 4th Grade      \")\n",
    "print(\"         5.0-5.9         |  4th or 5th Grade     \")\n",
    "print(\"         6.0-6.9         |  6th or 7th Grade     \")\n",
    "print(\"         7.0-7.9         |  8th or 9th Grade     \")\n",
    "print(\"         8.0-8.9         |  10th or 11th Grade   \")\n",
    "print(\"         9.0-Above       |  12th Grade or Above  \")\n",
    "print()\n",
    "print(\"Coleman-Liau Index Score: \", cl.score)\n",
    "print(\"Estimated Grade Level: \", cl.grade_level)"
   ]
  },
  {
   "attachments": {},
   "cell_type": "markdown",
   "metadata": {},
   "source": [
    "# Gunning Fog"
   ]
  },
  {
   "attachments": {},
   "cell_type": "markdown",
   "metadata": {},
   "source": [
    "The Gunning fog index is a readability formula used to measure the readability of a text. Like other readability formulas, it considers factors such as sentence length and word difficulty to estimate the years of education required to understand a text.\n",
    "\n",
    "The Gunning fog index assigns a grade level to a text based on the number of complex words it contains. Complex words are those with three or more syllables, excluding proper nouns, compound words, and familiar jargon. The higher the number of complex words in a text, the more difficult it is to read, and the higher the grade level assigned.\n",
    "\n",
    "The Gunning fog index formula is:\n",
    "\n",
    "Gunning fog index = 0.4 * ((total words / total sentences) + 100 * (complex words / total words))\n",
    "\n",
    "The Gunning fog index typically produces a grade level between 0 and 20, with 20 indicating the most difficult text."
   ]
  },
  {
   "attachments": {},
   "cell_type": "markdown",
   "metadata": {},
   "source": [
    "Output:\n",
    "\n",
    "1. **'gf.score'**: The score is a decimal number representing the estimated number of years of education required to understand the text.\n",
    "\n",
    "2. **'gf.grade_level'**: It describes the corresponding grade level of education that is typically required to understand the text based on the score."
   ]
  },
  {
   "cell_type": "code",
   "execution_count": 23,
   "metadata": {},
   "outputs": [
    {
     "name": "stdout",
     "output_type": "stream",
     "text": [
      "Gunning Fog Index Score |     Grade Levels      \n",
      "-------------------------|------------------------\n",
      "         0-5.9           |  6th grade and below    \n",
      "         6.0-6.9         |  7th or 8th grade       \n",
      "         7.0-7.9         |  9th or 10th grade      \n",
      "         8.0-8.9         |  11th or 12th grade     \n",
      "        9.0 and above    |  College or higher      \n",
      "\n",
      "The Gunning Fog score is: 15.229192448040616\n",
      "The estimated grade level for comprehension is: college\n"
     ]
    }
   ],
   "source": [
    "gf = r.gunning_fog()\n",
    "print(\"Gunning Fog Index Score |     Grade Levels      \")\n",
    "print(\"-------------------------|------------------------\")\n",
    "print(\"         0-5.9           |  6th grade and below    \")\n",
    "print(\"         6.0-6.9         |  7th or 8th grade       \")\n",
    "print(\"         7.0-7.9         |  9th or 10th grade      \")\n",
    "print(\"         8.0-8.9         |  11th or 12th grade     \")\n",
    "print(\"        9.0 and above    |  College or higher      \")\n",
    "print()\n",
    "print(\"The Gunning Fog score is:\", gf.score)\n",
    "print(\"The estimated grade level for comprehension is:\", gf.grade_level)"
   ]
  },
  {
   "attachments": {},
   "cell_type": "markdown",
   "metadata": {},
   "source": [
    "# SMOG"
   ]
  },
  {
   "attachments": {},
   "cell_type": "markdown",
   "metadata": {},
   "source": [
    "SMOG is a readability formula designed to measure the readability of written English based on the number of syllables per sentence. The acronym SMOG stands for Simple Measure of Gobbledygook. The SMOG formula estimates the years of education a person needs to understand a particular piece of text. It is particularly useful for technical writing, where the use of complex words can make text difficult to understand.\n",
    "\n",
    "The SMOG formula is calculated by counting the number of polysyllabic (three or more syllables) words in a sample of 30 sentences, and then applying a formula to estimate the years of education needed to understand the text. The formula has been shown to correlate well with other measures of readability, and is widely used in academic and professional writing."
   ]
  },
  {
   "attachments": {},
   "cell_type": "markdown",
   "metadata": {},
   "source": [
    "Output:\n",
    "\n",
    "1. **'s.score'**: SMOG score, which is a measure of the readability of the text. It represents the estimated number of years of education needed to understand the text. For example, if the score is 9.5, it means that a person who has completed 9.5 years of education (typically halfway through their 10th year of education) should be able to understand the text.\n",
    "\n",
    "2. **'s.grade_level'**: grade level equivalent of the SMOG score. It represents the highest level of education that the reader is assumed to have completed in order to understand the text. For example, if the grade level equivalent is 8, it means that the text should be understandable to someone who has completed the 8th grade (typically around 13-14 years old in the US education system)."
   ]
  },
  {
   "cell_type": "code",
   "execution_count": 25,
   "metadata": {},
   "outputs": [
    {
     "name": "stdout",
     "output_type": "stream",
     "text": [
      "SMOG Index Score |     Grade Levels     \n",
      "------------------|----------------------\n",
      "     0-6.9        |  6th grade and below  \n",
      "     7.0-8.9      |  7th - 8th grade      \n",
      "     9.0-10.9     |  9th - 10th grade     \n",
      "    11.0-12.9     |  11th - 12th grade    \n",
      "    13.0 and above|  College or higher    \n",
      "\n",
      "The SMOG score is 15.77. This corresponds to a grade level of 16.\n"
     ]
    }
   ],
   "source": [
    "s = r.smog()\n",
    "print(\"SMOG Index Score |     Grade Levels     \")\n",
    "print(\"------------------|----------------------\")\n",
    "print(\"     0-6.9        |  6th grade and below  \")\n",
    "print(\"     7.0-8.9      |  7th - 8th grade      \")\n",
    "print(\"     9.0-10.9     |  9th - 10th grade     \")\n",
    "print(\"    11.0-12.9     |  11th - 12th grade    \")\n",
    "print(\"    13.0 and above|  College or higher    \")\n",
    "print()\n",
    "\n",
    "smog_score = s.score\n",
    "smog_grade_level = s.grade_level\n",
    "\n",
    "print(f\"The SMOG score is {smog_score:.2f}. This corresponds to a grade level of {smog_grade_level}.\")\n"
   ]
  },
  {
   "attachments": {},
   "cell_type": "markdown",
   "metadata": {},
   "source": [
    "# SPACHE"
   ]
  },
  {
   "attachments": {},
   "cell_type": "markdown",
   "metadata": {},
   "source": [
    "SPACHE is a readability formula designed to measure the readability level of texts for young children. It was created by Dr. G. Harry McLaughlin in the 1960s and is named after the initials of the five factors he used to develop it: spelling, pronunciation, age, cultural experience, and habitat.\n",
    "\n",
    "The formula estimates the number of years of education required for a reader to understand a particular text. The SPACHE formula takes into account the total number of sentences and the number of difficult words (words with three or more syllables) in a text. The formula uses the following equation to calculate the readability level:\n",
    "\n",
    "SPACHE score = 0.659 + (total number of difficult words ÷ total number of sentences)\n",
    "\n",
    "The SPACHE formula is primarily used to assess the readability of texts for children in grades K-3. It is widely used by publishers of children's books, as well as by educators and researchers in the field of literacy."
   ]
  },
  {
   "attachments": {},
   "cell_type": "markdown",
   "metadata": {},
   "source": [
    "Output:\n",
    "\n",
    "1. **'s.score'**: SPACHE readability score, which represents the grade level at which the text can be easily understood by children. The lower the score, the easier the text is to read.\n",
    "\n",
    "2. **'s.grade_level'**: is a string representation of the recommended age range for readers of the text. For example, if s.grade_level is \"Grade 1-2\", it means that the text is suitable for children in the first and second grades of primary school."
   ]
  },
  {
   "cell_type": "code",
   "execution_count": 27,
   "metadata": {},
   "outputs": [
    {
     "name": "stdout",
     "output_type": "stream",
     "text": [
      "SPACHE Index Score |     Grade Levels     \n",
      "--------------------|----------------------\n",
      "     0-4.9          |  4th grade and below  \n",
      "     5.0-5.9        |  5th grade            \n",
      "     6.0-6.9        |  6th grade            \n",
      "     7.0-7.9        |  7th grade            \n",
      "     8.0-8.9        |  8th grade            \n",
      "     9.0-9.9        |  9th grade            \n",
      "    10.0-10.9       |  10th grade           \n",
      "    11.0-11.9       |  11th grade           \n",
      "    12.0-12.9       |  12th grade           \n",
      "    13.0 and above  |  College or higher    \n",
      "\n",
      "The SPACHE readability score is 8.43.\n",
      "This corresponds to a grade level of 8.\n"
     ]
    }
   ],
   "source": [
    "s = r.spache()\n",
    "print(\"SPACHE Index Score |     Grade Levels     \")\n",
    "print(\"--------------------|----------------------\")\n",
    "print(\"     0-4.9          |  4th grade and below  \")\n",
    "print(\"     5.0-5.9        |  5th grade            \")\n",
    "print(\"     6.0-6.9        |  6th grade            \")\n",
    "print(\"     7.0-7.9        |  7th grade            \")\n",
    "print(\"     8.0-8.9        |  8th grade            \")\n",
    "print(\"     9.0-9.9        |  9th grade            \")\n",
    "print(\"    10.0-10.9       |  10th grade           \")\n",
    "print(\"    11.0-11.9       |  11th grade           \")\n",
    "print(\"    12.0-12.9       |  12th grade           \")\n",
    "print(\"    13.0 and above  |  College or higher    \")\n",
    "print()\n",
    "\n",
    "spache_score = s.score\n",
    "spache_grade = s.grade_level\n",
    "print(f\"The SPACHE readability score is {spache_score:.2f}.\")\n",
    "print(f\"This corresponds to a grade level of {spache_grade}.\")\n"
   ]
  },
  {
   "attachments": {},
   "cell_type": "markdown",
   "metadata": {},
   "source": [
    "# Linsear Write"
   ]
  },
  {
   "attachments": {},
   "cell_type": "markdown",
   "metadata": {},
   "source": [
    "Linsear Write is a readability metric for English text, purportedly developed for the United States Air Force to help them calculate the readability of their technical manuals."
   ]
  },
  {
   "cell_type": "code",
   "execution_count": null,
   "metadata": {},
   "outputs": [
    {
     "name": "stdout",
     "output_type": "stream",
     "text": [
      "16.636363636363637\n",
      "17\n"
     ]
    }
   ],
   "source": [
    "lw = r.linsear_write()\n",
    "print(lw.score)\n",
    "print(lw.grade_level)"
   ]
  }
 ],
 "metadata": {
  "kernelspec": {
   "display_name": "Python 3",
   "language": "python",
   "name": "python3"
  },
  "language_info": {
   "codemirror_mode": {
    "name": "ipython",
    "version": 3
   },
   "file_extension": ".py",
   "mimetype": "text/x-python",
   "name": "python",
   "nbconvert_exporter": "python",
   "pygments_lexer": "ipython3",
   "version": "3.10.6"
  },
  "orig_nbformat": 4
 },
 "nbformat": 4,
 "nbformat_minor": 2
}
