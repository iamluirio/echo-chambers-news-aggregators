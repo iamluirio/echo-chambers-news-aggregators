{
 "cells": [
  {
   "attachments": {},
   "cell_type": "markdown",
   "metadata": {},
   "source": [
    "NewsAPI to retrieve the top headlines from various news sources based on a user's email address.\n",
    "\n",
    "This program uses the NewsAPI to search for news headlines related to the username portion of the user's email address (e.g. \"john.doe\" in \"john.doe@example.com\") from three news sources (BBC News, CNN, and Fox News). You will need to replace \"YOUR_API_KEY_HERE\" with your own NewsAPI key to run this program.\n",
    "\n",
    "The program prints the top headlines related to the user's email address along with their URLs. You can modify the program to retrieve additional information from the NewsAPI or use a different news aggregator's API depending on your needs."
   ]
  },
  {
   "cell_type": "code",
   "execution_count": null,
   "metadata": {},
   "outputs": [],
   "source": [
    "import requests\n",
    "\n",
    "def get_news(email):\n",
    "\n",
    "    # Define the NewsAPI endpoint and parameters\n",
    "    url = \"https://newsapi.org/v2/top-headlines\"\n",
    "    params = {\n",
    "        \"apiKey\": \"YOUR_API_KEY_HERE\",\n",
    "        \"sources\": \"bbc-news,cnn,fox-news\",\n",
    "        \"q\": email.split('@')[0], # Search the email username in news headlines\n",
    "        \"sortBy\": \"popularity\"\n",
    "    }\n",
    "    \n",
    "    # Make a request to the NewsAPI\n",
    "    response = requests.get(url, params=params)\n",
    "    \n",
    "    # Check if the request was successful\n",
    "    if response.status_code == 200:\n",
    "        # Parse the JSON response and extract the article titles and URLs\n",
    "        articles = response.json()[\"articles\"]\n",
    "        titles = [article[\"title\"] for article in articles]\n",
    "        urls = [article[\"url\"] for article in articles]\n",
    "        \n",
    "        # Print the results\n",
    "        print(\"Here are some top headlines related to\", email, \":\")\n",
    "        for i in range(len(titles)):\n",
    "            print(i+1, \"-\", titles[i], \"(\", urls[i], \")\")\n",
    "    else:\n",
    "        print(\"An error occurred while fetching the news:\", response.text)\n",
    "\n",
    "# Example usage\n",
    "get_news(\"john.doe@example.com\")\n"
   ]
  },
  {
   "attachments": {},
   "cell_type": "markdown",
   "metadata": {},
   "source": [
    "Apple News API to retrieve the latest headlines from various news sources based on a user's email address.\n",
    "\n",
    "This program uses the Apple News API to retrieve the latest headlines for a user's email address from the Apple News app. You will need to replace \"YOUR_API_KEY_HERE\" with your own Apple News API key to run this program.\n",
    "\n",
    "The program prints the latest headlines related to the user's email address along with their URLs. You can modify the program to retrieve additional information from the Apple News API or use a different news aggregator's API depending on your needs."
   ]
  },
  {
   "cell_type": "code",
   "execution_count": null,
   "metadata": {},
   "outputs": [],
   "source": [
    "import requests\n",
    "import json\n",
    "\n",
    "def get_news(email):\n",
    "    # Define the Apple News API endpoint and parameters\n",
    "    url = \"https://news-api.apple.com/channels/collection\"\n",
    "    params = {\n",
    "        \"includeTopStories\": \"true\",\n",
    "        \"includeImages\": \"true\",\n",
    "        \"includeVideos\": \"false\",\n",
    "        \"limit\": \"10\",\n",
    "        \"id\": \"bundleId:com.apple.news\",\n",
    "        \"userId\": email,\n",
    "    }\n",
    "    headers = {\n",
    "        \"Authorization\": \"Bearer YOUR_API_KEY_HERE\",\n",
    "        \"Content-Type\": \"application/json\",\n",
    "    }\n",
    "    \n",
    "    # Make a request to the Apple News API\n",
    "    response = requests.get(url, params=params, headers=headers)\n",
    "    \n",
    "    # Check if the request was successful\n",
    "    if response.status_code == 200:\n",
    "        # Parse the JSON response and extract the article titles and URLs\n",
    "        articles = response.json()[\"data\"][0][\"articles\"]\n",
    "        titles = [article[\"title\"] for article in articles]\n",
    "        urls = [article[\"links\"][0][\"url\"] for article in articles]\n",
    "        \n",
    "        # Print the results\n",
    "        print(\"Here are some latest headlines for\", email, \":\")\n",
    "        for i in range(len(titles)):\n",
    "            print(i+1, \"-\", titles[i], \"(\", urls[i], \")\")\n",
    "    else:\n",
    "        print(\"An error occurred while fetching the news:\", response.text)\n",
    "\n",
    "# Example usage\n",
    "get_news(\"john.doe@example.com\")\n"
   ]
  }
 ],
 "metadata": {
  "kernelspec": {
   "display_name": "Python 3",
   "language": "python",
   "name": "python3"
  },
  "language_info": {
   "name": "python",
   "version": "3.10.6"
  },
  "orig_nbformat": 4
 },
 "nbformat": 4,
 "nbformat_minor": 2
}
