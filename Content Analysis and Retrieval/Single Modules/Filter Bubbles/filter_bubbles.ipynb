{
 "cells": [
  {
   "cell_type": "markdown",
   "metadata": {},
   "source": [
    "# Filter Bubbles"
   ]
  },
  {
   "cell_type": "markdown",
   "metadata": {},
   "source": [
    "Filter Bubbles refer to the phenomenon wherein individuals are increasingly\n",
    "exposed to information and perspectives that align with their existing beliefs,\n",
    "preferences, and interests, while being shielded from contradictory or diverse\n",
    "viewpoints. In the context of news media aggregators, such as online plat-\n",
    "forms and social media networks, algorithms curate and prioritize content\n",
    "based on user-specific data, including past behaviors, interactions, and de-\n",
    "mographic information. As a result, users are presented with a personalized\n",
    "stream of news and information that reinforces their preconceptions, limits\n",
    "exposure to alternative viewpoints, and may contribute to the polarization\n",
    "of societal discourse."
   ]
  },
  {
   "cell_type": "markdown",
   "metadata": {},
   "source": [
    "For this experiment, we take into account one day of analysis.\n",
    "For that particular day,\n",
    "and for each user from both the USA and India, we log into their user section, and take note of how many news about a particular topic Google News\n",
    "returned to that particular user."
   ]
  },
  {
   "cell_type": "code",
   "execution_count": 1,
   "metadata": {},
   "outputs": [],
   "source": [
    "import numpy as np\n",
    "import matplotlib.pyplot as plt\n",
    "import math\n",
    "import csv"
   ]
  },
  {
   "cell_type": "markdown",
   "metadata": {},
   "source": [
    "To do this, we build two matrices: the first\n",
    "m1 x n1 matrix, with m1 rows as many as the topics of users from the USA,\n",
    "and n1 columns as many as the users from USA plus a column dedicated to\n",
    "the Home section (the usefulness of the additional column will be explained\n",
    "in the next rows), and a second matrix m2 x n2 , with m2 rows as many as the\n",
    "topics of users from India, and n2 columns as many as there are users from\n",
    "India plus a column dedicated to the Home section."
   ]
  },
  {
   "cell_type": "code",
   "execution_count": 18,
   "metadata": {},
   "outputs": [],
   "source": [
    "americanNews_matrix = np.array([[1, 2, 1, 0, 0, 0, 0, 0, 0],\n",
    "                                [2, 1, 3, 1, 0, 0, 0, 0, 4],\n",
    "                                [0, 0, 2, 3, 0, 0, 0, 0, 2],\n",
    "                                [0, 0, 0, 0, 6, 0, 0, 0, 0],\n",
    "                                [0, 0, 0, 0, 0, 8, 0, 0, 0],\n",
    "                                [0, 0, 0, 0, 0, 1, 8, 0, 0],\n",
    "                                [0, 0, 0, 0, 0, 0, 0, 3, 0],\n",
    "                                [0, 0, 0, 0, 0, 0, 0, 5, 0],\n",
    "                                [7, 0, 0, 0, 0, 0, 0, 0, 0],\n",
    "                                [0, 7, 0, 0, 0, 0, 0, 0, 0],\n",
    "                                [0, 0, 4, 2, 0, 1, 0, 2, 0],\n",
    "                                [0, 0, 0, 4, 0, 0, 0, 0, 0],\n",
    "                                [0, 0, 0, 0, 4, 0, 0, 0, 0],\n",
    "                                [0, 0, 0, 0, 0, 0, 2, 0, 0],\n",
    "                                [0, 0, 0, 0, 0, 0, 0, 0, 2]])"
   ]
  },
  {
   "cell_type": "code",
   "execution_count": 19,
   "metadata": {},
   "outputs": [],
   "source": [
    "indianNews_matrix = np.array([[3, 3, 1, 0, 2, 3, 3, 0, 0, 0, 1],\n",
    "                              [1, 2, 4, 4, 1, 0, 0, 0, 0, 0, 4],\n",
    "                              [2, 1, 1, 0, 2, 5, 3, 0, 0, 0, 2],\n",
    "                              [4, 0, 4, 0, 4, 0, 4, 0, 0, 0, 0],\n",
    "                              [0, 4, 0, 6, 1, 0, 0, 10, 0, 0, 0],\n",
    "                              [0, 0, 0, 0, 0, 2, 0, 0, 0, 2, 3],\n",
    "                              [0, 0, 0, 0, 0, 0, 0, 0, 10, 2, 0],\n",
    "                              [0, 0, 0, 0, 0, 0, 0, 0, 0, 6, 0]])"
   ]
  },
  {
   "cell_type": "markdown",
   "metadata": {},
   "source": [
    "The sum of each column is equal to 10: for each user, we take note of how many news articles up to a maximum of 10 were presented by Google News to the users. In this way, we can define the numbers in the cell as the number of news articles presented to user i (with i ranging from Ui to Um ) belonging to topic j (with j ranging from T1 to Tn )."
   ]
  },
  {
   "cell_type": "markdown",
   "metadata": {},
   "source": [
    "The first three topics of matrix 1 are, respectively, Republican Party, Democratic Party and Neutral Party. The first three topics of\n",
    "matrix 2 are, respectively, pro-Government Party, pro-Opposition Party and\n",
    "Neutral Party."
   ]
  },
  {
   "cell_type": "markdown",
   "metadata": {},
   "source": [
    "### Click-through Rate (CTR)"
   ]
  },
  {
   "cell_type": "markdown",
   "metadata": {},
   "source": [
    "CTR (Click-Through Rate) is a metric that measures **the percentage of clicks on recommended articles compared to the total number of recommended articles**."
   ]
  },
  {
   "cell_type": "markdown",
   "metadata": {},
   "source": [
    "- Original CTR: In the original paper, the CTR (Click-Through Rate) is calculated as **the fraction of recommended articles (N) that the user clicks on (ri = 1)**. **The sum of clicks on recommended items is divided by the total number of recommended items (N items)**."
   ]
  },
  {
   "cell_type": "markdown",
   "metadata": {},
   "source": [
    "- Our CTR: *calculate_custom_CTR* calculates a CTR-like metric based on the matrix. The metric represents **the fraction of views in the \"Home\" column compared to total views**. This metric takes into account article views on the homepage."
   ]
  },
  {
   "cell_type": "markdown",
   "metadata": {},
   "source": [
    "In the original paper, CTR is defined as the fraction of recommended articles that the user clicks on, which represents specific user behavior towards recommended content.\n",
    "\n",
    "In our case, we are trying to similarly evaluate how much users view content from a certain topic on the homepage, but without considering actual clicks. So, while the approach is similar in that they both seek to measure user interaction with recommended content, there are key differences in defining the metrics."
   ]
  },
  {
   "cell_type": "code",
   "execution_count": 4,
   "metadata": {},
   "outputs": [
    {
     "name": "stdout",
     "output_type": "stream",
     "text": [
      "Click-Through Rate (CTR): 0.09090909090909091\n"
     ]
    }
   ],
   "source": [
    "# Definisci una funzione per calcolare il CTR\n",
    "def calculate_CTR(matrix):\n",
    "    # Calcola la somma delle visualizzazioni nella matrice\n",
    "    total_views = np.sum(matrix)\n",
    "    \n",
    "    # Calcola la somma delle visualizzazioni nella colonna \"Home\" (ultima colonna)\n",
    "    home_views = np.sum(matrix[:, -1])\n",
    "    \n",
    "    # Calcola la metrica come la frazione di visualizzazioni nella colonna \"Home\"\n",
    "    CTR = home_views / total_views\n",
    "    \n",
    "    return CTR\n",
    "\n",
    "# Calcola il CTR\n",
    "ctr = calculate_CTR(matrix)\n",
    "print(\"Click-Through Rate (CTR):\", ctr)"
   ]
  },
  {
   "cell_type": "markdown",
   "metadata": {},
   "source": [
    "Our Click-Through Rate (CTR) result is 0.09090909090909091, which represents the percentage of homepage article views compared to total views. In other words, approximately 8.33% of homepage views had a click or similar interaction."
   ]
  },
  {
   "cell_type": "markdown",
   "metadata": {},
   "source": [
    "## Average News Document Stance "
   ]
  },
  {
   "cell_type": "markdown",
   "metadata": {},
   "source": [
    "This index represents the average position of the news viewed by users based on the various topics considered. This index is calculated for each user and for each topic of interest. It’s calculated for each user as a weighted average of the scores relating to the various topics."
   ]
  },
  {
   "cell_type": "code",
   "execution_count": 20,
   "metadata": {},
   "outputs": [],
   "source": [
    "def calculate_american_scores(matrix):\n",
    "    # Estrai le prime tre righe (republican, democratic, neutral)\n",
    "    topics = matrix[:3]\n",
    "\n",
    "    # Inizializza una lista per gli utenti\n",
    "    users = []\n",
    "\n",
    "    # Calcola i punteggi per ciascun utente\n",
    "    for user_index in range(matrix.shape[1]):\n",
    "        user = {}\n",
    "        user['User'] = user_index + 1  # Per l'utente n, inizia da 1\n",
    "        for topic_index, topic in enumerate(topics):\n",
    "            topic_name = ''\n",
    "            if topic_index == 0:\n",
    "                topic_name = 'rep'\n",
    "            elif topic_index == 1:\n",
    "                topic_name = 'dem'\n",
    "            else:\n",
    "                topic_name = 'neu'\n",
    "            \n",
    "            user[f'{topic_name} score'] = topic[user_index] / sum(topic)\n",
    "        \n",
    "        users.append(user)\n",
    "\n",
    "    return users"
   ]
  },
  {
   "cell_type": "code",
   "execution_count": 21,
   "metadata": {},
   "outputs": [
    {
     "name": "stdout",
     "output_type": "stream",
     "text": [
      "U1:\n",
      "rep score: 0.25\n",
      "dem score: 0.18\n",
      "neu score: 0.00\n",
      "U2:\n",
      "rep score: 0.50\n",
      "dem score: 0.09\n",
      "neu score: 0.00\n",
      "U3:\n",
      "rep score: 0.25\n",
      "dem score: 0.27\n",
      "neu score: 0.29\n",
      "U4:\n",
      "rep score: 0.00\n",
      "dem score: 0.09\n",
      "neu score: 0.43\n",
      "U5:\n",
      "rep score: 0.00\n",
      "dem score: 0.00\n",
      "neu score: 0.00\n",
      "U6:\n",
      "rep score: 0.00\n",
      "dem score: 0.00\n",
      "neu score: 0.00\n",
      "U7:\n",
      "rep score: 0.00\n",
      "dem score: 0.00\n",
      "neu score: 0.00\n",
      "U8:\n",
      "rep score: 0.00\n",
      "dem score: 0.00\n",
      "neu score: 0.00\n",
      "U9:\n",
      "rep score: 0.00\n",
      "dem score: 0.36\n",
      "neu score: 0.29\n"
     ]
    }
   ],
   "source": [
    "americanUser_scores = calculate_american_scores(americanNews_matrix)\n",
    "\n",
    "# Stampa i risultati\n",
    "for user in americanUser_scores:\n",
    "    print(f\"U{user['User']}:\")\n",
    "    for topic in ['rep', 'dem', 'neu']:\n",
    "        print(f\"{topic} score: {user[f'{topic} score']:.2f}\")"
   ]
  },
  {
   "cell_type": "code",
   "execution_count": 22,
   "metadata": {},
   "outputs": [],
   "source": [
    "def calculate_indian_scores(matrix):\n",
    "    # Estrai le prime tre righe (republican, democratic, neutral)\n",
    "    topics = matrix[:3]\n",
    "\n",
    "    # Inizializza una lista per gli utenti\n",
    "    users = []\n",
    "\n",
    "    # Calcola i punteggi per ciascun utente\n",
    "    for user_index in range(matrix.shape[1]):\n",
    "        user = {}\n",
    "        user['User'] = user_index + 1  # Per l'utente n, inizia da 1\n",
    "        for topic_index, topic in enumerate(topics):\n",
    "            topic_name = ''\n",
    "            if topic_index == 0:\n",
    "                topic_name = 'gov'\n",
    "            elif topic_index == 1:\n",
    "                topic_name = 'opp'\n",
    "            else:\n",
    "                topic_name = 'neu'\n",
    "            \n",
    "            user[f'{topic_name} score'] = topic[user_index] / sum(topic)\n",
    "        \n",
    "        users.append(user)\n",
    "\n",
    "    return users"
   ]
  },
  {
   "cell_type": "code",
   "execution_count": 23,
   "metadata": {},
   "outputs": [
    {
     "name": "stdout",
     "output_type": "stream",
     "text": [
      "I11:\n",
      "gov score: 0.19\n",
      "opp score: 0.06\n",
      "neu score: 0.12\n",
      "I12:\n",
      "gov score: 0.19\n",
      "opp score: 0.12\n",
      "neu score: 0.06\n",
      "I13:\n",
      "gov score: 0.06\n",
      "opp score: 0.25\n",
      "neu score: 0.06\n",
      "I14:\n",
      "gov score: 0.00\n",
      "opp score: 0.25\n",
      "neu score: 0.00\n",
      "I15:\n",
      "gov score: 0.12\n",
      "opp score: 0.06\n",
      "neu score: 0.12\n",
      "I16:\n",
      "gov score: 0.19\n",
      "opp score: 0.00\n",
      "neu score: 0.31\n",
      "I17:\n",
      "gov score: 0.19\n",
      "opp score: 0.00\n",
      "neu score: 0.19\n",
      "I18:\n",
      "gov score: 0.00\n",
      "opp score: 0.00\n",
      "neu score: 0.00\n",
      "I19:\n",
      "gov score: 0.00\n",
      "opp score: 0.00\n",
      "neu score: 0.00\n",
      "I20:\n",
      "gov score: 0.00\n",
      "opp score: 0.00\n",
      "neu score: 0.00\n",
      "I21:\n",
      "gov score: 0.06\n",
      "opp score: 0.25\n",
      "neu score: 0.12\n"
     ]
    }
   ],
   "source": [
    "indianUser_scores = calculate_indian_scores(indianNews_matrix)\n",
    "\n",
    "# Stampa i risultati con nomi utente personalizzati\n",
    "for user_index, user in enumerate(indianUser_scores, start=11):\n",
    "    user_name = f\"I{user_index}\"\n",
    "    print(f\"{user_name}:\")\n",
    "    for topic in ['gov', 'opp', 'neu']:\n",
    "        print(f\"{topic} score: {user[f'{topic} score']:.2f}\")\n"
   ]
  },
  {
   "cell_type": "markdown",
   "metadata": {},
   "source": [
    "## Entropy User Score"
   ]
  },
  {
   "cell_type": "markdown",
   "metadata": {},
   "source": [
    "The calculation\n",
    "of user entropy (entropy user scores) evaluate the diversity of that particular\n",
    "user’s preferences with respect to the various topics considered in the context\n",
    "to of the news aggregator. Entropy measures the uncertainty or variability\n",
    "of user preferences across different topics."
   ]
  },
  {
   "cell_type": "markdown",
   "metadata": {},
   "source": [
    "To calculate this index, we scroll\n",
    "through the columns of the matrix (representing the users), and for each user\n",
    "we calculate the fractions relating to the number of news articles associated\n",
    "with each topic compared to the total news viewed by the user, and the\n",
    "entropy variations are calculated for each topic, using the Shannon Entropy\n",
    "formula:"
   ]
  },
  {
   "attachments": {
    "image.png": {
     "image/png": "[encoded data removed]"
    }
   },
   "cell_type": "markdown",
   "metadata": {},
   "source": [
    "![image.png](attachment:image.png)"
   ]
  },
  {
   "cell_type": "markdown",
   "metadata": {},
   "source": [
    "where P (xi ) represents the probability that the user sees news related to a\n",
    "given topic. If a user does not view any news on a particular topic, the relative\n",
    "entropy change is considered as 0. Finally, the entropy changes relating to all\n",
    "topics are added to obtain the total entropy of the user."
   ]
  },
  {
   "cell_type": "code",
   "execution_count": 9,
   "metadata": {},
   "outputs": [],
   "source": [
    "def calculate_american_user_entropy(matrix):\n",
    "    users = []\n",
    "\n",
    "    # iterate through columns\n",
    "    for user_index in range(matrix.shape[1]):\n",
    "        user = {}\n",
    "        user['User'] = user_index + 1  \n",
    "\n",
    "        # extracts value in row 0, 1 and 2 of user_index column\n",
    "        rep = matrix[0, user_index]\n",
    "        dem = matrix[1, user_index]\n",
    "        neu = matrix[2, user_index]\n",
    "\n",
    "        total = rep + dem + neu\n",
    "        if total == 0:\n",
    "            entropy = 0  # avoid division by zero\n",
    "        else:\n",
    "            rep_frac = rep / total\n",
    "            dem_frac = dem / total\n",
    "            neu_frac = neu / total\n",
    "\n",
    "            if(rep_frac != 0):\n",
    "                rep_var = -rep_frac * np.log(rep_frac)\n",
    "            else:\n",
    "                rep_var = 0\n",
    "            if(dem_frac != 0): \n",
    "                dem_var = - dem_frac * np.log(dem_frac)\n",
    "            else:\n",
    "                dem_var = 0\n",
    "            if(neu_frac != 0):  \n",
    "                neu_var = - neu_frac * np.log(neu_frac)\n",
    "            else:\n",
    "                neu_var = 0\n",
    "                \n",
    "            if(not(math.isnan(rep_var)) and not(math.isnan(dem_var)) and not(math.isnan(neu_var))):\n",
    "                entropy = rep_var + dem_var + neu_var\n",
    "\n",
    "        user['rep'] = rep_var\n",
    "        user['dem'] = dem_var\n",
    "        user['neu'] = neu_var\n",
    "        users.append(user)\n",
    "\n",
    "    return users"
   ]
  },
  {
   "cell_type": "code",
   "execution_count": 10,
   "metadata": {},
   "outputs": [
    {
     "name": "stdout",
     "output_type": "stream",
     "text": [
      "Rep for User U1: 0.37\n",
      "Dem for User U1: 0.27\n",
      "Neu for User U1: 0.00\n",
      "==========================================\n",
      "Rep for User U2: 0.27\n",
      "Dem for User U2: 0.37\n",
      "Neu for User U2: 0.00\n",
      "==========================================\n",
      "Rep for User U3: 0.30\n",
      "Dem for User U3: 0.35\n",
      "Neu for User U3: 0.37\n",
      "==========================================\n",
      "Rep for User U4: 0.00\n",
      "Dem for User U4: 0.35\n",
      "Neu for User U4: 0.22\n",
      "==========================================\n",
      "Rep for User U5: 0.00\n",
      "Dem for User U5: 0.35\n",
      "Neu for User U5: 0.22\n",
      "==========================================\n",
      "Rep for User U6: 0.00\n",
      "Dem for User U6: 0.35\n",
      "Neu for User U6: 0.22\n",
      "==========================================\n",
      "Rep for User U7: 0.00\n",
      "Dem for User U7: 0.35\n",
      "Neu for User U7: 0.22\n",
      "==========================================\n",
      "Rep for User U8: 0.00\n",
      "Dem for User U8: 0.35\n",
      "Neu for User U8: 0.22\n",
      "==========================================\n",
      "Rep for User U9: 0.00\n",
      "Dem for User U9: 0.27\n",
      "Neu for User U9: 0.37\n",
      "==========================================\n"
     ]
    }
   ],
   "source": [
    "american_user_entropies = calculate_american_user_entropy(americanNews_matrix)\n",
    "\n",
    "for user in american_user_entropies:\n",
    "    print(f\"Rep for User U{user['User']}: {user['rep']:.2f}\")\n",
    "    print(f\"Dem for User U{user['User']}: {user['dem']:.2f}\")\n",
    "    print(f\"Neu for User U{user['User']}: {user['neu']:.2f}\")\n",
    "    print(\"==========================================\")"
   ]
  },
  {
   "cell_type": "code",
   "execution_count": 11,
   "metadata": {},
   "outputs": [],
   "source": [
    "def calculate_indian_user_entropy(matrix):\n",
    "    users = []\n",
    "\n",
    "    # iterate through columns\n",
    "    for user_index in range(matrix.shape[1]):\n",
    "        user = {}\n",
    "        user['User'] = user_index + 1  \n",
    "\n",
    "        # extracts value in row 0, 1 and 2 of user_index column\n",
    "        gov = matrix[0, user_index]\n",
    "        opp = matrix[1, user_index]\n",
    "        neu = matrix[2, user_index]\n",
    "\n",
    "        total = gov + opp + neu\n",
    "        if total == 0:\n",
    "            entropy = 0  # avoid division by zero\n",
    "        else:\n",
    "            gov_frac = gov / total\n",
    "            opp_frac = opp / total\n",
    "            neu_frac = neu / total\n",
    "\n",
    "            if(gov_frac != 0):\n",
    "                gov_var = -gov_frac * np.log(gov_frac)\n",
    "            else:\n",
    "                gov_var = 0\n",
    "            if(opp_frac != 0): \n",
    "                opp_var = - opp_frac * np.log(opp_frac)\n",
    "            else:\n",
    "                opp_var = 0\n",
    "            if(neu_frac != 0):  \n",
    "                neu_var = - neu_frac * np.log(neu_frac)\n",
    "            else:\n",
    "                neu_var = 0\n",
    "                \n",
    "            if(not(math.isnan(gov_var)) and not(math.isnan(opp_var)) and not(math.isnan(neu_var))):\n",
    "                entropy = gov_var + opp_var + neu_var\n",
    "\n",
    "        user['gov'] = gov_var\n",
    "        user['opp'] = opp_var\n",
    "        user['neu'] = neu_var\n",
    "        users.append(user)\n",
    "\n",
    "    return users"
   ]
  },
  {
   "cell_type": "code",
   "execution_count": 12,
   "metadata": {},
   "outputs": [
    {
     "name": "stdout",
     "output_type": "stream",
     "text": [
      "Gov for User I11: 0.35\n",
      "Opp for User I11: 0.30\n",
      "Neu for User I11: 0.37\n",
      "==========================================\n",
      "Gov for User I12: 0.35\n",
      "Opp for User I12: 0.37\n",
      "Neu for User I12: 0.30\n",
      "==========================================\n",
      "Gov for User I13: 0.30\n",
      "Opp for User I13: 0.27\n",
      "Neu for User I13: 0.30\n",
      "==========================================\n",
      "Gov for User I14: 0.00\n",
      "Opp for User I14: -0.00\n",
      "Neu for User I14: 0.00\n",
      "==========================================\n",
      "Gov for User I15: 0.37\n",
      "Opp for User I15: 0.32\n",
      "Neu for User I15: 0.37\n",
      "==========================================\n",
      "Gov for User I16: 0.37\n",
      "Opp for User I16: 0.00\n",
      "Neu for User I16: 0.29\n",
      "==========================================\n",
      "Gov for User I17: 0.35\n",
      "Opp for User I17: 0.00\n",
      "Neu for User I17: 0.35\n",
      "==========================================\n",
      "Gov for User I18: 0.35\n",
      "Opp for User I18: 0.00\n",
      "Neu for User I18: 0.35\n",
      "==========================================\n",
      "Gov for User I19: 0.35\n",
      "Opp for User I19: 0.00\n",
      "Neu for User I19: 0.35\n",
      "==========================================\n",
      "Gov for User I20: 0.35\n",
      "Opp for User I20: 0.00\n",
      "Neu for User I20: 0.35\n",
      "==========================================\n",
      "Gov for User I21: 0.28\n",
      "Opp for User I21: 0.32\n",
      "Neu for User I21: 0.36\n",
      "==========================================\n"
     ]
    }
   ],
   "source": [
    "indian_user_entropies = calculate_indian_user_entropy(indianNews_matrix)\n",
    "\n",
    "# Stampa i risultati con nomi utente personalizzati\n",
    "for user_index, user in enumerate(indian_user_entropies, start=11):\n",
    "    user_name = f\"I{user_index}\"\n",
    "    print(f\"Gov for User {user_name}: {user['gov']:.2f}\")\n",
    "    print(f\"Opp for User {user_name}: {user['opp']:.2f}\")\n",
    "    print(f\"Neu for User {user_name}: {user['neu']:.2f}\")\n",
    "    print(\"==========================================\")\n"
   ]
  }
 ],
 "metadata": {
  "kernelspec": {
   "display_name": "Python 3",
   "language": "python",
   "name": "python3"
  },
  "language_info": {
   "codemirror_mode": {
    "name": "ipython",
    "version": 3
   },
   "file_extension": ".py",
   "mimetype": "text/x-python",
   "name": "python",
   "nbconvert_exporter": "python",
   "pygments_lexer": "ipython3",
   "version": "3.10.12"
  },
  "orig_nbformat": 4
 },
 "nbformat": 4,
 "nbformat_minor": 2
}
