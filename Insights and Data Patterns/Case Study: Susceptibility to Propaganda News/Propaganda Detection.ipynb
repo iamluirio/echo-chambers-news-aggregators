{
 "cells": [
  {
   "cell_type": "code",
   "execution_count": 1,
   "id": "7c0cf2bc-3af0-4393-aded-627a511d0268",
   "metadata": {},
   "outputs": [
    {
     "name": "stderr",
     "output_type": "stream",
     "text": [
      "c:\\users\\anany\\appdata\\local\\programs\\python\\python39\\lib\\site-packages\\numpy\\_distributor_init.py:30: UserWarning: loaded more than 1 DLL from .libs:\n",
      "c:\\users\\anany\\appdata\\local\\programs\\python\\python39\\lib\\site-packages\\numpy\\.libs\\libopenblas.FB5AE2TYXYH2IJRDKGDGQ3XBKLKTF43H.gfortran-win_amd64.dll\n",
      "c:\\users\\anany\\appdata\\local\\programs\\python\\python39\\lib\\site-packages\\numpy\\.libs\\libopenblas.XWYDX2IKJW2NMTWSFYNGFUWKQU3LYTCZ.gfortran-win_amd64.dll\n",
      "  warnings.warn(\"loaded more than 1 DLL from .libs:\"\n",
      "c:\\users\\anany\\appdata\\local\\programs\\python\\python39\\lib\\site-packages\\requests\\__init__.py:102: RequestsDependencyWarning: urllib3 (1.26.9) or chardet (5.1.0)/charset_normalizer (2.0.12) doesn't match a supported version!\n",
      "  warnings.warn(\"urllib3 ({}) or chardet ({})/charset_normalizer ({}) doesn't match a supported \"\n"
     ]
    }
   ],
   "source": [
    "import pandas as pd\n",
    "import numpy as np\n",
    "import requests\n",
    "from bs4 import BeautifulSoup\n",
    "import re"
   ]
  },
  {
   "cell_type": "markdown",
   "id": "fb56e4bf-746e-475d-9a0a-8cb30db76c07",
   "metadata": {
    "jp-MarkdownHeadingCollapsed": true,
    "tags": []
   },
   "source": [
    "#### Reading the URLs for every User"
   ]
  },
  {
   "cell_type": "code",
   "execution_count": 2,
   "id": "18cd7e92-7e44-47bd-a786-f5518c1b3fea",
   "metadata": {},
   "outputs": [],
   "source": [
    "def save_article_text(url):\n",
    "    # Set headers to mimic a web browser\n",
    "    headers = {\n",
    "        'User-Agent': 'Mozilla/5.0 (Windows NT 10.0; Win64; x64) AppleWebKit/537.36 (KHTML, like Gecko) Chrome/58.0.3029.110 Safari/537.3'\n",
    "    }\n",
    "\n",
    "    # Send a GET request to the URL with headers\n",
    "    response = requests.get(url, headers=headers)\n",
    "    response.raise_for_status()\n",
    "\n",
    "    # Parse the HTML content using BeautifulSoup\n",
    "    soup = BeautifulSoup(response.content, 'html.parser')\n",
    "\n",
    "    # Extract the title, subtitle, description, and main text\n",
    "    title_element = soup.find('title')\n",
    "    title = title_element.text.strip() if title_element else \"\"\n",
    "\n",
    "    subtitle_element = soup.find('meta', attrs={'name': 'description'})\n",
    "    subtitle = subtitle_element['content'].strip() if subtitle_element and 'content' in subtitle_element.attrs else \"\"\n",
    "\n",
    "    description_element = soup.find('meta', attrs={'name': 'og:description'})\n",
    "    description = description_element['content'].strip() if description_element and 'content' in description_element.attrs else \"\"\n",
    "\n",
    "    # Find and exclude unwanted elements by class names or content patterns\n",
    "    unwanted_elements = soup.find_all(['script', 'style', 'a', 'div', 'span'], class_=['follow-us', 'newsletter', 'advertisement'])\n",
    "    patterns_to_exclude = ['next article', 'read next', 'correlated']\n",
    "    for element in unwanted_elements:\n",
    "        if any(pattern in str(element).lower() for pattern in patterns_to_exclude):\n",
    "            element.extract()\n",
    "\n",
    "    # Find and exclude footer container and \"All rights reserved\" text\n",
    "    footer_elements = soup.find_all(['footer', 'div'], class_=['footer', 'bottom-footer'])\n",
    "    for element in footer_elements:\n",
    "        element.extract()\n",
    "    all_rights_reserved_elements = soup.find_all(text=re.compile(r'\\bAll rights reserved\\b', re.IGNORECASE))\n",
    "    for element in all_rights_reserved_elements:\n",
    "        element.extract()\n",
    "\n",
    "    # Find the main text element(s) based on the HTML structure of the page\n",
    "    main_text_elements = soup.find_all('p')\n",
    "    main_text = \"\\n\\n\".join([element.text.strip() for element in main_text_elements if element.text.strip()])\n",
    "\n",
    "    # Set the subtitle to the description if it is empty\n",
    "    if not subtitle:\n",
    "        subtitle = description.strip()\n",
    "\n",
    "    # Concatenate the extracted strings\n",
    "    article_text = f\"{title}\\n\\n{subtitle}\\n\\n{main_text}\"\n",
    "\n",
    "    return article_text"
   ]
  },
  {
   "cell_type": "code",
   "execution_count": 3,
   "id": "afce818e-0e91-48f5-9933-2f17a528a462",
   "metadata": {},
   "outputs": [],
   "source": [
    "import pandas as pd\n",
    "import nltk\n",
    "from nltk.tokenize import sent_tokenize"
   ]
  },
  {
   "cell_type": "code",
   "execution_count": 189,
   "id": "e55df06b-c8e7-4bc9-842d-ee734313fcde",
   "metadata": {},
   "outputs": [],
   "source": [
    "excel_file = pd.read_excel('Day 3 - 9th Nov/User10.xlsx')\n",
    "\n",
    "dfs = []\n",
    "for url in excel_file.iloc[:, 0]:  # Assuming the URLs are in the first column\n",
    "    article_text = save_article_text(url)\n",
    "    sentences = sent_tokenize(article_text)\n",
    "    df = pd.DataFrame(sentences, columns=['sent'])\n",
    "    dfs.append(df)"
   ]
  },
  {
   "cell_type": "code",
   "execution_count": 190,
   "id": "9d043299-f396-4f2b-9ac4-2e539b35f891",
   "metadata": {},
   "outputs": [
    {
     "data": {
      "text/html": [
       "<div>\n",
       "<style scoped>\n",
       "    .dataframe tbody tr th:only-of-type {\n",
       "        vertical-align: middle;\n",
       "    }\n",
       "\n",
       "    .dataframe tbody tr th {\n",
       "        vertical-align: top;\n",
       "    }\n",
       "\n",
       "    .dataframe thead th {\n",
       "        text-align: right;\n",
       "    }\n",
       "</style>\n",
       "<table border=\"1\" class=\"dataframe\">\n",
       "  <thead>\n",
       "    <tr style=\"text-align: right;\">\n",
       "      <th></th>\n",
       "      <th>sent</th>\n",
       "    </tr>\n",
       "  </thead>\n",
       "  <tbody>\n",
       "    <tr>\n",
       "      <th>47</th>\n",
       "      <td>Remove some to bookmark this image.</td>\n",
       "    </tr>\n",
       "    <tr>\n",
       "      <th>48</th>\n",
       "      <td>Your session has expired, please login again.</td>\n",
       "    </tr>\n",
       "    <tr>\n",
       "      <th>49</th>\n",
       "      <td>You are now subscribed to our newsletters.</td>\n",
       "    </tr>\n",
       "    <tr>\n",
       "      <th>50</th>\n",
       "      <td>In case you can’t find any email from our side...</td>\n",
       "    </tr>\n",
       "    <tr>\n",
       "      <th>51</th>\n",
       "      <td>This is a subscriber only feature Subscribe No...</td>\n",
       "    </tr>\n",
       "  </tbody>\n",
       "</table>\n",
       "</div>"
      ],
      "text/plain": [
       "                                                 sent\n",
       "47                Remove some to bookmark this image.\n",
       "48      Your session has expired, please login again.\n",
       "49         You are now subscribed to our newsletters.\n",
       "50  In case you can’t find any email from our side...\n",
       "51  This is a subscriber only feature Subscribe No..."
      ]
     },
     "execution_count": 190,
     "metadata": {},
     "output_type": "execute_result"
    }
   ],
   "source": [
    "dfs[1].tail()"
   ]
  },
  {
   "cell_type": "markdown",
   "id": "abbb0224-922d-4664-bd3c-18e38cebc9fd",
   "metadata": {
    "jp-MarkdownHeadingCollapsed": true,
    "tags": []
   },
   "source": [
    "#### Training the Model"
   ]
  },
  {
   "cell_type": "code",
   "execution_count": 2,
   "id": "4902953b-11b4-4e60-bdf0-f8ff57dd11a5",
   "metadata": {},
   "outputs": [],
   "source": [
    "data = pd.read_csv('output.csv')"
   ]
  },
  {
   "cell_type": "code",
   "execution_count": 3,
   "id": "7604e08a-c452-404e-ae6c-9f1c96b0ad76",
   "metadata": {},
   "outputs": [
    {
     "data": {
      "text/html": [
       "<div>\n",
       "<style scoped>\n",
       "    .dataframe tbody tr th:only-of-type {\n",
       "        vertical-align: middle;\n",
       "    }\n",
       "\n",
       "    .dataframe tbody tr th {\n",
       "        vertical-align: top;\n",
       "    }\n",
       "\n",
       "    .dataframe thead th {\n",
       "        text-align: right;\n",
       "    }\n",
       "</style>\n",
       "<table border=\"1\" class=\"dataframe\">\n",
       "  <thead>\n",
       "    <tr style=\"text-align: right;\">\n",
       "      <th></th>\n",
       "      <th>embedding</th>\n",
       "      <th>label</th>\n",
       "      <th>labels</th>\n",
       "    </tr>\n",
       "  </thead>\n",
       "  <tbody>\n",
       "    <tr>\n",
       "      <th>0</th>\n",
       "      <td>Former Apostolic Nuncio to the United States A...</td>\n",
       "      <td>0</td>\n",
       "      <td>0</td>\n",
       "    </tr>\n",
       "    <tr>\n",
       "      <th>1</th>\n",
       "      <td>In this tragic moment for the Church in variou...</td>\n",
       "      <td>1</td>\n",
       "      <td>1</td>\n",
       "    </tr>\n",
       "    <tr>\n",
       "      <th>2</th>\n",
       "      <td>— bishops have a very grave responsibility</td>\n",
       "      <td>1</td>\n",
       "      <td>1</td>\n",
       "    </tr>\n",
       "    <tr>\n",
       "      <th>3</th>\n",
       "      <td>I am thinking in particular of the United Stat...</td>\n",
       "      <td>0</td>\n",
       "      <td>0</td>\n",
       "    </tr>\n",
       "    <tr>\n",
       "      <th>4</th>\n",
       "      <td>The Bishops of the United States are called , ...</td>\n",
       "      <td>0</td>\n",
       "      <td>0</td>\n",
       "    </tr>\n",
       "  </tbody>\n",
       "</table>\n",
       "</div>"
      ],
      "text/plain": [
       "                                           embedding  label  labels\n",
       "0  Former Apostolic Nuncio to the United States A...      0       0\n",
       "1  In this tragic moment for the Church in variou...      1       1\n",
       "2        — bishops have a very grave responsibility       1       1\n",
       "3  I am thinking in particular of the United Stat...      0       0\n",
       "4  The Bishops of the United States are called , ...      0       0"
      ]
     },
     "execution_count": 3,
     "metadata": {},
     "output_type": "execute_result"
    }
   ],
   "source": [
    "'''\n",
    "Encoding Labels - transform labels into numbers\n",
    "'''\n",
    "from sklearn.preprocessing import LabelEncoder\n",
    "LE = LabelEncoder()\n",
    "data['labels'] = LE.fit_transform(data['label'])\n",
    "data.head()"
   ]
  },
  {
   "cell_type": "code",
   "execution_count": 4,
   "id": "81b1964e-2384-460d-8615-91783d9367d9",
   "metadata": {},
   "outputs": [],
   "source": [
    "from sklearn.model_selection import train_test_split\n",
    "\n",
    "X, y = data['embedding'], data['label']\n",
    "X_train, X_test, y_train, y_test = train_test_split(X, y, test_size=0.2, random_state=42)"
   ]
  },
  {
   "cell_type": "code",
   "execution_count": 8,
   "id": "8365fcea-4a0d-49a8-9855-f94332e352be",
   "metadata": {},
   "outputs": [
    {
     "name": "stderr",
     "output_type": "stream",
     "text": [
      "Some weights of the model checkpoint at distilbert-base-uncased were not used when initializing DistilBertModel: ['vocab_projector.bias', 'vocab_layer_norm.weight', 'vocab_transform.weight', 'vocab_projector.weight', 'vocab_layer_norm.bias', 'vocab_transform.bias']\n",
      "- This IS expected if you are initializing DistilBertModel from the checkpoint of a model trained on another task or with another architecture (e.g. initializing a BertForSequenceClassification model from a BertForPreTraining model).\n",
      "- This IS NOT expected if you are initializing DistilBertModel from the checkpoint of a model that you expect to be exactly identical (initializing a BertForSequenceClassification model from a BertForSequenceClassification model).\n"
     ]
    }
   ],
   "source": [
    "import torch\n",
    "from transformers import AutoTokenizer, AutoModel\n",
    "\n",
    "device = torch.device('cuda' if torch.cuda.is_available() else 'cpu')\n",
    "tokenizer = AutoTokenizer.from_pretrained(\"distilbert-base-uncased\")\n",
    "model = AutoModel.from_pretrained(\"distilbert-base-uncased\").to(device)"
   ]
  },
  {
   "cell_type": "code",
   "execution_count": 6,
   "id": "0fa2d7be-f1a5-46c6-bca2-d8d0cc590507",
   "metadata": {},
   "outputs": [
    {
     "name": "stderr",
     "output_type": "stream",
     "text": [
      "C:\\Users\\anany\\AppData\\Local\\Temp\\ipykernel_14376\\3674843027.py:23: UserWarning: To copy construct from a tensor, it is recommended to use sourceTensor.clone().detach() or sourceTensor.clone().detach().requires_grad_(True), rather than torch.tensor(sourceTensor).\n",
      "  tokenized_batch = {k: torch.tensor(v).to(device) for k, v in tokenized_batch.items()}\n"
     ]
    }
   ],
   "source": [
    "# generating the embeddings for the training dataset in one go\n",
    "from sklearn.metrics import accuracy_score, f1_score, precision_recall_fscore_support\n",
    "from sklearn.ensemble import RandomForestClassifier\n",
    "import torch\n",
    "\n",
    "final_model = RandomForestClassifier()\n",
    "\n",
    "embedding_list = []\n",
    "label_list = []\n",
    "\n",
    "batch_size = 32\n",
    "total_samples = len(X_train)\n",
    "\n",
    "start_idx = 0\n",
    "end_idx = batch_size\n",
    "\n",
    "while start_idx < total_samples:\n",
    "    # select batches\n",
    "    train_batch = X_train.values.tolist()[start_idx:end_idx]\n",
    "\n",
    "    # tokenize the batches\n",
    "    tokenized_batch = tokenizer(train_batch, padding=True, truncation=True, return_tensors=\"pt\")\n",
    "    tokenized_batch = {k: torch.tensor(v).to(device) for k, v in tokenized_batch.items()}\n",
    "\n",
    "    # generate embeddings\n",
    "    with torch.no_grad():\n",
    "        hidden_batch = model(**tokenized_batch)\n",
    "    cls_batch = hidden_batch.last_hidden_state[:, 0, :]\n",
    "\n",
    "    # labels for the selected batch\n",
    "    labels_batch = y_train.values[start_idx:end_idx]\n",
    "    \n",
    "    # extending the embeddings and labels list\n",
    "    embedding_list.extend(cls_batch.cpu().numpy().tolist())\n",
    "    label_list.extend(labels_batch)\n",
    "\n",
    "    start_idx = end_idx\n",
    "    end_idx = min(end_idx + batch_size, total_samples)\n",
    "\n"
   ]
  },
  {
   "cell_type": "code",
   "execution_count": 7,
   "id": "1aaf3ba0-b6e9-401c-b1ca-528d88752130",
   "metadata": {},
   "outputs": [],
   "source": [
    "# file with embeddings\n",
    "data = pd.DataFrame({'embeddings': embedding_list, 'labels': label_list})\n",
    "data.to_csv('Data/embeddings_and_labels.csv', index=False)"
   ]
  },
  {
   "cell_type": "code",
   "execution_count": 8,
   "id": "585fd067-3045-4734-a521-516b4683c212",
   "metadata": {},
   "outputs": [
    {
     "name": "stderr",
     "output_type": "stream",
     "text": [
      "C:\\Users\\anany\\AppData\\Local\\Temp\\ipykernel_14376\\1299656439.py:15: UserWarning: To copy construct from a tensor, it is recommended to use sourceTensor.clone().detach() or sourceTensor.clone().detach().requires_grad_(True), rather than torch.tensor(sourceTensor).\n",
      "  tokenized_batch = {k: torch.tensor(v).to(device) for k, v in tokenized_batch.items()}\n"
     ]
    }
   ],
   "source": [
    "# generating embeddings for the testing dataset\n",
    "embedding_list = []\n",
    "label_list = []\n",
    "\n",
    "batch_size = 32\n",
    "total_samples = len(X_test)\n",
    "\n",
    "start_idx = 0\n",
    "end_idx = batch_size\n",
    "\n",
    "while start_idx < total_samples:\n",
    "    test_batch = X_test.values.tolist()[start_idx:end_idx]\n",
    "\n",
    "    tokenized_batch = tokenizer(test_batch, padding=True, truncation=True, return_tensors=\"pt\")\n",
    "    tokenized_batch = {k: torch.tensor(v).to(device) for k, v in tokenized_batch.items()}\n",
    "\n",
    "    with torch.no_grad():\n",
    "        hidden_batch = model(**tokenized_batch)\n",
    "    cls_batch = hidden_batch.last_hidden_state[:, 0, :]\n",
    "\n",
    "    labels_batch = y_test.values[start_idx:end_idx]\n",
    "\n",
    "    embedding_list.extend(cls_batch.cpu().numpy().tolist())\n",
    "    label_list.extend(labels_batch)\n",
    "\n",
    "    start_idx = end_idx\n",
    "    end_idx = min(end_idx + batch_size, total_samples)\n",
    "\n",
    "data_test = pd.DataFrame({'embeddings': embedding_list, 'labels': label_list})\n",
    "data_test.to_csv('Data/test_embeddings_and_labels.csv', index=False)"
   ]
  },
  {
   "cell_type": "code",
   "execution_count": 9,
   "id": "ee25579f-523d-44c5-bc28-1c885715cd72",
   "metadata": {},
   "outputs": [],
   "source": [
    "data_test = pd.read_csv('Data/test_embeddings_and_labels.csv')\n",
    "data_train = pd.read_csv('Data/embeddings_and_labels.csv')"
   ]
  },
  {
   "cell_type": "code",
   "execution_count": 10,
   "id": "d5d75d73-0cac-4103-a058-8d0262081060",
   "metadata": {},
   "outputs": [
    {
     "data": {
      "text/html": [
       "<style>#sk-container-id-1 {color: black;background-color: white;}#sk-container-id-1 pre{padding: 0;}#sk-container-id-1 div.sk-toggleable {background-color: white;}#sk-container-id-1 label.sk-toggleable__label {cursor: pointer;display: block;width: 100%;margin-bottom: 0;padding: 0.3em;box-sizing: border-box;text-align: center;}#sk-container-id-1 label.sk-toggleable__label-arrow:before {content: \"▸\";float: left;margin-right: 0.25em;color: #696969;}#sk-container-id-1 label.sk-toggleable__label-arrow:hover:before {color: black;}#sk-container-id-1 div.sk-estimator:hover label.sk-toggleable__label-arrow:before {color: black;}#sk-container-id-1 div.sk-toggleable__content {max-height: 0;max-width: 0;overflow: hidden;text-align: left;background-color: #f0f8ff;}#sk-container-id-1 div.sk-toggleable__content pre {margin: 0.2em;color: black;border-radius: 0.25em;background-color: #f0f8ff;}#sk-container-id-1 input.sk-toggleable__control:checked~div.sk-toggleable__content {max-height: 200px;max-width: 100%;overflow: auto;}#sk-container-id-1 input.sk-toggleable__control:checked~label.sk-toggleable__label-arrow:before {content: \"▾\";}#sk-container-id-1 div.sk-estimator input.sk-toggleable__control:checked~label.sk-toggleable__label {background-color: #d4ebff;}#sk-container-id-1 div.sk-label input.sk-toggleable__control:checked~label.sk-toggleable__label {background-color: #d4ebff;}#sk-container-id-1 input.sk-hidden--visually {border: 0;clip: rect(1px 1px 1px 1px);clip: rect(1px, 1px, 1px, 1px);height: 1px;margin: -1px;overflow: hidden;padding: 0;position: absolute;width: 1px;}#sk-container-id-1 div.sk-estimator {font-family: monospace;background-color: #f0f8ff;border: 1px dotted black;border-radius: 0.25em;box-sizing: border-box;margin-bottom: 0.5em;}#sk-container-id-1 div.sk-estimator:hover {background-color: #d4ebff;}#sk-container-id-1 div.sk-parallel-item::after {content: \"\";width: 100%;border-bottom: 1px solid gray;flex-grow: 1;}#sk-container-id-1 div.sk-label:hover label.sk-toggleable__label {background-color: #d4ebff;}#sk-container-id-1 div.sk-serial::before {content: \"\";position: absolute;border-left: 1px solid gray;box-sizing: border-box;top: 0;bottom: 0;left: 50%;z-index: 0;}#sk-container-id-1 div.sk-serial {display: flex;flex-direction: column;align-items: center;background-color: white;padding-right: 0.2em;padding-left: 0.2em;position: relative;}#sk-container-id-1 div.sk-item {position: relative;z-index: 1;}#sk-container-id-1 div.sk-parallel {display: flex;align-items: stretch;justify-content: center;background-color: white;position: relative;}#sk-container-id-1 div.sk-item::before, #sk-container-id-1 div.sk-parallel-item::before {content: \"\";position: absolute;border-left: 1px solid gray;box-sizing: border-box;top: 0;bottom: 0;left: 50%;z-index: -1;}#sk-container-id-1 div.sk-parallel-item {display: flex;flex-direction: column;z-index: 1;position: relative;background-color: white;}#sk-container-id-1 div.sk-parallel-item:first-child::after {align-self: flex-end;width: 50%;}#sk-container-id-1 div.sk-parallel-item:last-child::after {align-self: flex-start;width: 50%;}#sk-container-id-1 div.sk-parallel-item:only-child::after {width: 0;}#sk-container-id-1 div.sk-dashed-wrapped {border: 1px dashed gray;margin: 0 0.4em 0.5em 0.4em;box-sizing: border-box;padding-bottom: 0.4em;background-color: white;}#sk-container-id-1 div.sk-label label {font-family: monospace;font-weight: bold;display: inline-block;line-height: 1.2em;}#sk-container-id-1 div.sk-label-container {text-align: center;}#sk-container-id-1 div.sk-container {/* jupyter's `normalize.less` sets `[hidden] { display: none; }` but bootstrap.min.css set `[hidden] { display: none !important; }` so we also need the `!important` here to be able to override the default hidden behavior on the sphinx rendered scikit-learn.org. See: https://github.com/scikit-learn/scikit-learn/issues/21755 */display: inline-block !important;position: relative;}#sk-container-id-1 div.sk-text-repr-fallback {display: none;}</style><div id=\"sk-container-id-1\" class=\"sk-top-container\"><div class=\"sk-text-repr-fallback\"><pre>RandomForestClassifier()</pre><b>In a Jupyter environment, please rerun this cell to show the HTML representation or trust the notebook. <br />On GitHub, the HTML representation is unable to render, please try loading this page with nbviewer.org.</b></div><div class=\"sk-container\" hidden><div class=\"sk-item\"><div class=\"sk-estimator sk-toggleable\"><input class=\"sk-toggleable__control sk-hidden--visually\" id=\"sk-estimator-id-1\" type=\"checkbox\" checked><label for=\"sk-estimator-id-1\" class=\"sk-toggleable__label sk-toggleable__label-arrow\">RandomForestClassifier</label><div class=\"sk-toggleable__content\"><pre>RandomForestClassifier()</pre></div></div></div></div></div>"
      ],
      "text/plain": [
       "RandomForestClassifier()"
      ]
     },
     "execution_count": 10,
     "metadata": {},
     "output_type": "execute_result"
    }
   ],
   "source": [
    "import ast\n",
    "\n",
    "data_train['embeddings'] = data_train['embeddings'].apply(lambda x: ast.literal_eval(x))\n",
    "\n",
    "X = data_train['embeddings'].to_list()\n",
    "y = data_train['labels'].to_list()\n",
    "\n",
    "# Now, X should contain numerical arrays or lists that can be used to fit the model\n",
    "final_model.fit(X, y)"
   ]
  },
  {
   "cell_type": "code",
   "execution_count": 11,
   "id": "f75ad00c-98ce-48ac-90a3-d43fd0e70cce",
   "metadata": {},
   "outputs": [],
   "source": [
    "data_test['embeddings'] = data_test['embeddings'].apply(lambda x: ast.literal_eval(x))\n",
    "\n",
    "X_test = data_test['embeddings'].to_list()\n",
    "y_test = data_test['labels'].to_list()"
   ]
  },
  {
   "cell_type": "code",
   "execution_count": 12,
   "id": "03b418b4-22fb-4350-8d8a-0aea805a1119",
   "metadata": {},
   "outputs": [],
   "source": [
    "y_pred = final_model.predict(X_test)"
   ]
  },
  {
   "cell_type": "code",
   "execution_count": 13,
   "id": "e95e3559-bcda-44d7-8dd7-e2d95bd7d940",
   "metadata": {},
   "outputs": [
    {
     "name": "stdout",
     "output_type": "stream",
     "text": [
      "Accuracy: 0.7614471452798192\n",
      "F1 Score: 0.7199243090481391\n",
      "Micro F1 Score: 0.7614471452798192\n",
      "Macro F1 Score: 0.6023236735563605\n"
     ]
    }
   ],
   "source": [
    "accuracy = accuracy_score(y_test, y_pred)\n",
    "f1 = f1_score(y_test, y_pred, average='weighted')\n",
    "micro_f1 = f1_score(y_test, y_pred, average='micro')\n",
    "macro_f1 = f1_score(y_test, y_pred, average='macro')\n",
    "\n",
    "print(\"Accuracy:\", accuracy)\n",
    "print(\"F1 Score:\", f1)\n",
    "print(\"Micro F1 Score:\", micro_f1)\n",
    "print(\"Macro F1 Score:\", macro_f1)"
   ]
  },
  {
   "cell_type": "code",
   "execution_count": 15,
   "id": "86460445-8254-46c2-b51c-f13af9db6821",
   "metadata": {},
   "outputs": [],
   "source": [
    "import pickle\n",
    "\n",
    "#with open('model.pkl', 'wb') as file:\n",
    "#    pickle.dump(final_model, file)\n",
    "\n",
    "with open('model.pkl', 'rb') as file:\n",
    "    final_model = pickle.load(file)\n",
    "file.close()\n"
   ]
  },
  {
   "cell_type": "markdown",
   "id": "fd673566-cefb-4ae3-beff-1fc49ea29d0a",
   "metadata": {
    "jp-MarkdownHeadingCollapsed": true,
    "tags": []
   },
   "source": [
    "#### Generating Embeddings for the dfs"
   ]
  },
  {
   "cell_type": "code",
   "execution_count": 191,
   "id": "56ade0ef-69b6-437e-8a1c-ddae6c3b8169",
   "metadata": {},
   "outputs": [
    {
     "name": "stderr",
     "output_type": "stream",
     "text": [
      "C:\\Users\\anany\\AppData\\Local\\Temp\\ipykernel_27328\\3104918035.py:5: UserWarning: To copy construct from a tensor, it is recommended to use sourceTensor.clone().detach() or sourceTensor.clone().detach().requires_grad_(True), rather than torch.tensor(sourceTensor).\n",
      "  tokenized_data = {k:torch.tensor(v).to(device) for k,v in tokenized_data.items()}\n",
      "C:\\Users\\anany\\AppData\\Local\\Temp\\ipykernel_27328\\3104918035.py:5: UserWarning: To copy construct from a tensor, it is recommended to use sourceTensor.clone().detach() or sourceTensor.clone().detach().requires_grad_(True), rather than torch.tensor(sourceTensor).\n",
      "  tokenized_data = {k:torch.tensor(v).to(device) for k,v in tokenized_data.items()}\n",
      "C:\\Users\\anany\\AppData\\Local\\Temp\\ipykernel_27328\\3104918035.py:5: UserWarning: To copy construct from a tensor, it is recommended to use sourceTensor.clone().detach() or sourceTensor.clone().detach().requires_grad_(True), rather than torch.tensor(sourceTensor).\n",
      "  tokenized_data = {k:torch.tensor(v).to(device) for k,v in tokenized_data.items()}\n",
      "C:\\Users\\anany\\AppData\\Local\\Temp\\ipykernel_27328\\3104918035.py:5: UserWarning: To copy construct from a tensor, it is recommended to use sourceTensor.clone().detach() or sourceTensor.clone().detach().requires_grad_(True), rather than torch.tensor(sourceTensor).\n",
      "  tokenized_data = {k:torch.tensor(v).to(device) for k,v in tokenized_data.items()}\n",
      "C:\\Users\\anany\\AppData\\Local\\Temp\\ipykernel_27328\\3104918035.py:5: UserWarning: To copy construct from a tensor, it is recommended to use sourceTensor.clone().detach() or sourceTensor.clone().detach().requires_grad_(True), rather than torch.tensor(sourceTensor).\n",
      "  tokenized_data = {k:torch.tensor(v).to(device) for k,v in tokenized_data.items()}\n"
     ]
    }
   ],
   "source": [
    "for dataset in dfs:\n",
    "    tokenized_data = tokenizer(dataset[\"sent\"].values.tolist(), padding = True, truncation = True, return_tensors=\"pt\")\n",
    "\n",
    "    #move on device (GPU)\n",
    "    tokenized_data = {k:torch.tensor(v).to(device) for k,v in tokenized_data.items()}\n",
    "    \n",
    "    with torch.no_grad():\n",
    "        hidden_data = model(**tokenized_data) #dim : [batch_size(nr_sentences), tokens, emb_dim]\n",
    "\n",
    "    #get only the [CLS] hidden states\n",
    "    cls_data = hidden_data.last_hidden_state[:,0,:]\n",
    "    x_data = cls_data.to(\"cpu\")\n",
    "    #dataset['embedding'] = cls_data.cpu().numpy().tolist()\n",
    "    y_data = final_model.predict(x_data)\n",
    "    dataset['labels'] = y_data"
   ]
  },
  {
   "cell_type": "code",
   "execution_count": 192,
   "id": "bab46ebd-a9ec-421f-b519-e477a0819bf0",
   "metadata": {},
   "outputs": [
    {
     "data": {
      "text/html": [
       "<div>\n",
       "<style scoped>\n",
       "    .dataframe tbody tr th:only-of-type {\n",
       "        vertical-align: middle;\n",
       "    }\n",
       "\n",
       "    .dataframe tbody tr th {\n",
       "        vertical-align: top;\n",
       "    }\n",
       "\n",
       "    .dataframe thead th {\n",
       "        text-align: right;\n",
       "    }\n",
       "</style>\n",
       "<table border=\"1\" class=\"dataframe\">\n",
       "  <thead>\n",
       "    <tr style=\"text-align: right;\">\n",
       "      <th></th>\n",
       "      <th>sent</th>\n",
       "      <th>labels</th>\n",
       "    </tr>\n",
       "  </thead>\n",
       "  <tbody>\n",
       "    <tr>\n",
       "      <th>18</th>\n",
       "      <td>Remove some to bookmark this image.</td>\n",
       "      <td>0</td>\n",
       "    </tr>\n",
       "    <tr>\n",
       "      <th>19</th>\n",
       "      <td>Your session has expired, please login again.</td>\n",
       "      <td>0</td>\n",
       "    </tr>\n",
       "    <tr>\n",
       "      <th>20</th>\n",
       "      <td>You are now subscribed to our newsletters.</td>\n",
       "      <td>0</td>\n",
       "    </tr>\n",
       "    <tr>\n",
       "      <th>21</th>\n",
       "      <td>In case you can’t find any email from our side...</td>\n",
       "      <td>0</td>\n",
       "    </tr>\n",
       "    <tr>\n",
       "      <th>22</th>\n",
       "      <td>This is a subscriber only feature Subscribe No...</td>\n",
       "      <td>0</td>\n",
       "    </tr>\n",
       "  </tbody>\n",
       "</table>\n",
       "</div>"
      ],
      "text/plain": [
       "                                                 sent  labels\n",
       "18                Remove some to bookmark this image.       0\n",
       "19      Your session has expired, please login again.       0\n",
       "20         You are now subscribed to our newsletters.       0\n",
       "21  In case you can’t find any email from our side...       0\n",
       "22  This is a subscriber only feature Subscribe No...       0"
      ]
     },
     "execution_count": 192,
     "metadata": {},
     "output_type": "execute_result"
    }
   ],
   "source": [
    "dfs[4].tail()"
   ]
  },
  {
   "cell_type": "code",
   "execution_count": 193,
   "id": "d32eceb7-449e-4e1e-aa47-fbb81c64caff",
   "metadata": {},
   "outputs": [],
   "source": [
    "user_info = []\n",
    "for df in dfs:\n",
    "    num_positive_sentences = df['labels'].sum()\n",
    "    total_sentences = len(df)\n",
    "\n",
    "    user_info.append({'Num_Positive_Sentences': num_positive_sentences, 'Total_Sentences': total_sentences})\n",
    "# Convert the list of dictionaries to a DataFrame\n",
    "user_info_df = pd.DataFrame(user_info)"
   ]
  },
  {
   "cell_type": "code",
   "execution_count": 194,
   "id": "1ef78a25-45c9-46d9-8f06-97dafbfef33f",
   "metadata": {},
   "outputs": [
    {
     "data": {
      "text/plain": [
       "[{'Num_Positive_Sentences': 0, 'Total_Sentences': 26},\n",
       " {'Num_Positive_Sentences': 1, 'Total_Sentences': 52},\n",
       " {'Num_Positive_Sentences': 0, 'Total_Sentences': 15},\n",
       " {'Num_Positive_Sentences': 0, 'Total_Sentences': 42},\n",
       " {'Num_Positive_Sentences': 0, 'Total_Sentences': 23}]"
      ]
     },
     "execution_count": 194,
     "metadata": {},
     "output_type": "execute_result"
    }
   ],
   "source": [
    "user_info"
   ]
  },
  {
   "cell_type": "code",
   "execution_count": 195,
   "id": "47cdd4ba-dea0-4028-b83e-f52de991ec18",
   "metadata": {},
   "outputs": [],
   "source": [
    "excel_file['output'] = user_info"
   ]
  },
  {
   "cell_type": "code",
   "execution_count": 196,
   "id": "7c1d3e63-f655-4877-ad82-b7928a5d25ff",
   "metadata": {},
   "outputs": [],
   "source": [
    "excel_file.to_csv('Day 3 - 9th Nov/Output10.csv')"
   ]
  },
  {
   "cell_type": "code",
   "execution_count": 47,
   "id": "c564ca9c-e75a-4014-9262-c770027f9f6d",
   "metadata": {},
   "outputs": [],
   "source": [
    "# user 1 - 3 propaganda\n",
    "# user 2 - 2 propaganda\n",
    "# user 3 - 2 propaganda\n",
    "# user 4 - 4 propaganda\n",
    "# user 5 - 2 propaganda\n",
    "# user 7 - 1 propaganda\n",
    "# user 8 - 2 propaganda\n",
    "# user 9 - 0 propaganda"
   ]
  },
  {
   "cell_type": "code",
   "execution_count": null,
   "id": "c49266bf-3424-429a-8870-972bedd18c4c",
   "metadata": {},
   "outputs": [],
   "source": [
    "#3 days - 10 users - plots - x-axis (users) - 1 day 1 graph\n",
    "------------------------\n",
    "#paper name + summary"
   ]
  },
  {
   "cell_type": "markdown",
   "id": "c626f2b2-d962-4746-b168-59702c9dbf18",
   "metadata": {},
   "source": [
    "#### Output"
   ]
  },
  {
   "cell_type": "code",
   "execution_count": 2,
   "id": "c6c0f07b-29e0-4c00-8e4c-7ccb62b1c9ef",
   "metadata": {},
   "outputs": [],
   "source": [
    "l7 = [3, 2, 2, 2, 3, 1, 0, 1, 2, 1]\n",
    "l8 = [2, 2, 3, 2, 1, 1, 1, 1, 1, 0]\n",
    "l9 = [3, 3, 4, 2, 3, 2, 2, 1, 1, 1]"
   ]
  },
  {
   "cell_type": "code",
   "execution_count": 3,
   "id": "2f1b00e9-a901-47f5-a6aa-0df4dcc375e3",
   "metadata": {},
   "outputs": [
    {
     "data": {
      "image/png": "[encoded data removed]",
      "text/plain": [
       "<Figure size 720x432 with 1 Axes>"
      ]
     },
     "metadata": {
      "needs_background": "light"
     },
     "output_type": "display_data"
    }
   ],
   "source": [
    "import matplotlib.pyplot as plt\n",
    "\n",
    "# Data\n",
    "l7 = [3, 2, 2, 2, 3, 1, 0, 1, 2, 1]\n",
    "\n",
    "# X-axis labels\n",
    "users = [f\"I{i}\" for i in range(1, 11)]\n",
    "\n",
    "# Plotting line plot for l7\n",
    "plt.figure(figsize=(10, 6))\n",
    "\n",
    "plt.plot(users, l7, marker='o', linestyle='-', color='blue', label='User7')\n",
    "\n",
    "plt.title('No. of Propagandist Articles on 7th Nov')\n",
    "plt.xlabel('Users')\n",
    "plt.ylabel('Propaganda Score')\n",
    "\n",
    "plt.savefig('Nov7.png')\n",
    "plt.show()\n"
   ]
  },
  {
   "cell_type": "code",
   "execution_count": 209,
   "id": "6a5e26e3-0e46-42bc-9501-1ad1d5da4ecb",
   "metadata": {},
   "outputs": [
    {
     "data": {
      "image/png": "[encoded data removed]",
      "text/plain": [
       "<Figure size 720x432 with 1 Axes>"
      ]
     },
     "metadata": {
      "needs_background": "light"
     },
     "output_type": "display_data"
    }
   ],
   "source": [
    "# Plotting line plot for l7\n",
    "plt.figure(figsize=(10, 6))\n",
    "plt.plot(users, l8, marker='o', linestyle='-', color='blue', label='User7')\n",
    "\n",
    "plt.title('No. of Propagandist Articles on 8th Nov')\n",
    "plt.xlabel('Users')\n",
    "plt.ylabel('Frequency')\n",
    "\n",
    "plt.savefig('Nov8.png')\n",
    "plt.show()\n"
   ]
  },
  {
   "cell_type": "code",
   "execution_count": 208,
   "id": "1a012b46-d1ae-4941-9d01-64d6065c2c2c",
   "metadata": {},
   "outputs": [
    {
     "data": {
      "image/png": "[encoded data removed]",
      "text/plain": [
       "<Figure size 720x432 with 1 Axes>"
      ]
     },
     "metadata": {
      "needs_background": "light"
     },
     "output_type": "display_data"
    }
   ],
   "source": [
    "# Plotting line plot for l7\n",
    "plt.figure(figsize=(10, 6))\n",
    "plt.plot(users, l9, marker='o', linestyle='-', color='blue', label='User7')\n",
    "\n",
    "plt.title('No. of Propagandist Articles on 9th Nov')\n",
    "plt.xlabel('Users')\n",
    "plt.ylabel('Frequency')\n",
    "\n",
    "plt.savefig('Nov9.png')\n",
    "plt.show()\n"
   ]
  },
  {
   "cell_type": "code",
   "execution_count": 16,
   "id": "b62e2beb-3fc8-414f-923b-37a1a39c28d6",
   "metadata": {},
   "outputs": [
    {
     "name": "stderr",
     "output_type": "stream",
     "text": [
      "The PostScript backend does not support transparency; partially transparent artists will be rendered opaque.\n",
      "The PostScript backend does not support transparency; partially transparent artists will be rendered opaque.\n"
     ]
    },
    {
     "data": {
      "image/png": "[encoded data removed]",
      "text/plain": [
       "<Figure size 432x288 with 1 Axes>"
      ]
     },
     "metadata": {
      "needs_background": "light"
     },
     "output_type": "display_data"
    }
   ],
   "source": [
    "import matplotlib.pyplot as plt\n",
    "import numpy as np\n",
    "\n",
    "# User labels\n",
    "users = ['I1', 'I2', 'I3', 'I4', 'I5', 'I6', 'I7', 'I8', 'I9', 'I10']\n",
    "\n",
    "# Data\n",
    "l7 = [3, 2, 2, 2, 3, 1, 0, 1, 2, 1]\n",
    "l8 = [2, 2, 3, 2, 1, 1, 1, 1, 1, 0]\n",
    "l9 = [3, 3, 4, 2, 3, 2, 2, 1, 1, 1]\n",
    "\n",
    "# X-axis positions\n",
    "x = np.arange(len(users))\n",
    "\n",
    "# Bar width\n",
    "width = 0.2\n",
    "\n",
    "# Light pastel colors with full opacity\n",
    "light_pastel_red = '#fdc921'  # Light Red\n",
    "light_pastel_orange = '#6798c0'  # Moccasin\n",
    "light_pastel_blue = '#B0E0E6'  # Powder Blue\n",
    "\n",
    "# Plotting the bar plots with light pastel colors\n",
    "plt.bar(x - width, l7, width, label='7 Nov', color=light_pastel_red)\n",
    "plt.bar(x, l8, width, label='8 Nov', color=light_pastel_orange)\n",
    "plt.bar(x + width, l9, width, label='9 Nov', color=light_pastel_blue)\n",
    "\n",
    "# Adding labels and title\n",
    "plt.xlabel('Users')\n",
    "plt.ylabel('Propaganda Scores')\n",
    "plt.xticks(x, users)\n",
    "plt.legend()\n",
    "\n",
    "plt.savefig('bar_plot_lighter.png', format='png', bbox_inches='tight')\n",
    "plt.savefig('bar_plot_lighter.eps', format='eps', bbox_inches='tight')\n",
    "\n",
    "# Show the plot\n",
    "plt.show()\n"
   ]
  },
  {
   "cell_type": "code",
   "execution_count": 1,
   "id": "bc24d02d",
   "metadata": {},
   "outputs": [
    {
     "name": "stderr",
     "output_type": "stream",
     "text": [
      "The PostScript backend does not support transparency; partially transparent artists will be rendered opaque.\n"
     ]
    },
    {
     "data": {
      "image/png": "[encoded data removed]",
      "text/plain": [
       "<Figure size 640x480 with 1 Axes>"
      ]
     },
     "metadata": {},
     "output_type": "display_data"
    }
   ],
   "source": [
    "import matplotlib.pyplot as plt\n",
    "import numpy as np\n",
    "\n",
    "# User labels\n",
    "users = ['I1', 'I2', 'I3', 'I4', 'I5', 'I6', 'I7', 'I8', 'I9', 'I10']\n",
    "\n",
    "# Data\n",
    "l7 = [3, 2, 2, 2, 3, 1, 0, 1, 2, 1]\n",
    "l8 = [2, 2, 3, 2, 1, 1, 1, 1, 1, 0]\n",
    "l9 = [3, 3, 4, 2, 3, 2, 2, 1, 1, 1]\n",
    "\n",
    "# X-axis positions\n",
    "x = np.arange(len(users))\n",
    "\n",
    "# Bar width\n",
    "width = 0.2\n",
    "\n",
    "# Light pastel colors with full opacity\n",
    "light_pastel_red = '#fdc921'  # Light Red\n",
    "light_pastel_orange = '#6798c0'  # Moccasin\n",
    "light_pastel_blue = '#B0E0E6'  # Powder Blue\n",
    "\n",
    "# Plotting the bar plots with light pastel colors\n",
    "plt.bar(x - width, l7, width, label='7 Nov', color=light_pastel_red)\n",
    "plt.bar(x, l8, width, label='8 Nov', color=light_pastel_orange)\n",
    "plt.bar(x + width, l9, width, label='9 Nov', color=light_pastel_blue)\n",
    "\n",
    "# Adding labels and title\n",
    "plt.xlabel('Users')\n",
    "plt.ylabel('Propaganda Scores')\n",
    "plt.xticks(x, users)\n",
    "plt.legend()\n",
    "\n",
    "# Set y-axis ticks to integers\n",
    "plt.yticks(np.arange(max(max(l7), max(l8), max(l9)) + 1))\n",
    "\n",
    "plt.savefig('bar_plot_lighter.png', format='png', bbox_inches='tight')\n",
    "plt.savefig('bar_plot_lighter.eps', format='eps', bbox_inches='tight')\n",
    "\n",
    "# Show the plot\n",
    "plt.show()\n"
   ]
  },
  {
   "cell_type": "code",
   "execution_count": null,
   "id": "69ccb332-1cdf-4c27-8f70-27254eefe104",
   "metadata": {},
   "outputs": [],
   "source": []
  }
 ],
 "metadata": {
  "kernelspec": {
   "display_name": "Python 3 (ipykernel)",
   "language": "python",
   "name": "python3"
  },
  "language_info": {
   "codemirror_mode": {
    "name": "ipython",
    "version": 3
   },
   "file_extension": ".py",
   "mimetype": "text/x-python",
   "name": "python",
   "nbconvert_exporter": "python",
   "pygments_lexer": "ipython3",
   "version": "3.11.8"
  }
 },
 "nbformat": 4,
 "nbformat_minor": 5
}
